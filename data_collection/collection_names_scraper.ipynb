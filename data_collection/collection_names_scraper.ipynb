{
 "cells": [
  {
   "cell_type": "code",
   "execution_count": 1,
   "metadata": {},
   "outputs": [],
   "source": [
    "import glob\n",
    "import pickle\n",
    "import pandas as pd\n",
    "import json"
   ]
  },
  {
   "cell_type": "markdown",
   "metadata": {},
   "source": [
    "# Step 1 - Grabbing Collection Names"
   ]
  },
  {
   "cell_type": "code",
   "execution_count": 2,
   "metadata": {},
   "outputs": [],
   "source": [
    "# Make sure the sales data is in the sales_records folder at the same location as this notebook\n",
    "file_names = glob.glob('sales_records/*')\n",
    "# Creating the collection_names file, overwriting if already exists\n",
    "file = open('collection_names.txt', \"w\")\n",
    "# List just for printing after, so you don't need to open the file just for a quick check\n",
    "collection_names = []\n",
    "for name in file_names:\n",
    "    # CHECK: make sure no collection names include a comma.\n",
    "    # If one does, we will need to write \\n to the list instead of a comma.\n",
    "    if ',' in name:\n",
    "        raise ValueError(\"Comma detected in {}\".format(name))\n",
    "    clean_name = name.split('sales_records/')[1].split(' - Historical Sales')[0].strip()\n",
    "    file.write(clean_name)\n",
    "    file.write(',')\n",
    "    collection_names.append(clean_name)\n",
    "file.close()"
   ]
  },
  {
   "cell_type": "code",
   "execution_count": 3,
   "metadata": {},
   "outputs": [],
   "source": [
    "assert collection_names[-5:] == ['Sorare', 'Winter Bears', 'Tronwars', 'Genesisapostle', 'Nanopass'], 'Make sure you are using the most updated list of collection names.'"
   ]
  },
  {
   "cell_type": "code",
   "execution_count": 4,
   "metadata": {},
   "outputs": [
    {
     "data": {
      "text/plain": [
       "532"
      ]
     },
     "execution_count": 4,
     "metadata": {},
     "output_type": "execute_result"
    }
   ],
   "source": [
    "# For each collection name, create another record with \" NFT\" at the end.\n",
    "# Doubling the number of collection names\n",
    "collections = []\n",
    "for name in collection_names:\n",
    "    name = name.strip()\n",
    "    collections.append(name)\n",
    "    collections.append(name + \" NFT\")\n",
    "len(collections)"
   ]
  },
  {
   "cell_type": "code",
   "execution_count": 5,
   "metadata": {},
   "outputs": [],
   "source": [
    "# Saving this output to a new, trends-only file\n",
    "f = open('trends/data/collection_names_plus_nft.txt', \"w\")\n",
    "for name in collections:\n",
    "    if name != collections[-1]:\n",
    "        f.write(name+'\\n')\n",
    "    else:\n",
    "        f.write(name)\n",
    "f.close()"
   ]
  },
  {
   "cell_type": "markdown",
   "metadata": {},
   "source": [
    "# Step 2 - Creating Minting Date Dictionary"
   ]
  },
  {
   "cell_type": "markdown",
   "metadata": {},
   "source": [
    "#### Initial Formatting\n",
    "- Collecting minting date for each collection\n",
    "- Storing in a dictionary, `mint_dict`\n",
    " - key is the collection name, value is the minting date (format: 'YYYY-MM-DD')"
   ]
  },
  {
   "cell_type": "code",
   "execution_count": 6,
   "metadata": {},
   "outputs": [],
   "source": [
    "# Input: individual file path (\"../sales_records/3Landers - Historical Sales.csv\")\n",
    "# Output: string of earliest transaction date, which we will assume is the minting date\n",
    "# Example output: '2021-09-26'\n",
    "def grab_mint_date(file_name):\n",
    "    temp_df = pd.read_csv(file_name)\n",
    "    # Converting to DateTime format to simplify and standardize finding the earliest date\n",
    "    temp_df['DateTime'] = pd.to_datetime(temp_df['DateTime'])\n",
    "    minting_date = temp_df['DateTime'].min()\n",
    "    return(minting_date)"
   ]
  },
  {
   "cell_type": "code",
   "execution_count": 7,
   "metadata": {},
   "outputs": [],
   "source": [
    "# Apply grab_mint_date to each sales records file\n",
    "file_names = glob.glob('sales_records/*')\n",
    "mint_dict = {}\n",
    "for name in file_names:\n",
    "    clean_name = name.split('sales_records/')[1].split(' - Historical Sales')[0].strip()\n",
    "    mint_dict[clean_name] = grab_mint_date(name)\n",
    "    mint_dict[clean_name+\" NFT\"] = grab_mint_date(name)"
   ]
  },
  {
   "cell_type": "code",
   "execution_count": 15,
   "metadata": {},
   "outputs": [],
   "source": [
    "# Prep for json\n",
    "mint_dict_j = {}\n",
    "for item in mint_dict.items():\n",
    "    mint_dict_j[item[0]] = str(item[1].date())\n",
    "    \n",
    "mint_json = json.dumps(mint_dict_j)\n",
    "with open('trends/data/mint_json.json', 'w') as f:\n",
    "    json.dump(mint_json, f)"
   ]
  },
  {
   "cell_type": "code",
   "execution_count": 8,
   "metadata": {},
   "outputs": [],
   "source": [
    "# Saving the dictionary\n",
    "with open('trends/data/mint_dict.pkl', 'wb') as f:\n",
    "    pickle.dump(mint_dict, f)"
   ]
  },
  {
   "cell_type": "code",
   "execution_count": 9,
   "metadata": {},
   "outputs": [],
   "source": [
    "# # To load the dictionary:\n",
    "# with open('trends/data/mint_dict.pkl', 'rb') as f:\n",
    "#     mint_dict = pickle.load(f)"
   ]
  }
 ],
 "metadata": {
  "kernelspec": {
   "display_name": "Python 3",
   "language": "python",
   "name": "python3"
  },
  "language_info": {
   "codemirror_mode": {
    "name": "ipython",
    "version": 3
   },
   "file_extension": ".py",
   "mimetype": "text/x-python",
   "name": "python",
   "nbconvert_exporter": "python",
   "pygments_lexer": "ipython3",
   "version": "3.8.5"
  }
 },
 "nbformat": 4,
 "nbformat_minor": 4
}
