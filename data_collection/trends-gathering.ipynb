{
 "cells": [
  {
   "cell_type": "markdown",
   "metadata": {},
   "source": [
    "# Trend Search from Collection Names"
   ]
  },
  {
   "cell_type": "markdown",
   "metadata": {},
   "source": [
    "Requirements:\n",
    "- Packages\n",
    " - pytrends, `pip install pytrends`\n",
    " - pandas\n",
    " - numpy\n",
    " - time (for sleep)\n",
    " - random (for sleep)\n",
    "- Files\n",
    " - `data/collection_names.txt`"
   ]
  },
  {
   "cell_type": "markdown",
   "metadata": {},
   "source": [
    "## 1. Gather Collection Names from Sales data"
   ]
  },
  {
   "cell_type": "markdown",
   "metadata": {},
   "source": [
    "Requirements:\n",
    "- `data/collection_names.txt`\n",
    " - this is generated using `collection_names_scraper.ipynb`\n",
    " - updated as of 03-21-2022"
   ]
  },
  {
   "cell_type": "code",
   "execution_count": 6,
   "metadata": {},
   "outputs": [],
   "source": [
    "import pandas as pd\n",
    "import numpy as np\n",
    "import warnings\n",
    "warnings.filterwarnings('ignore')"
   ]
  },
  {
   "cell_type": "code",
   "execution_count": 7,
   "metadata": {},
   "outputs": [
    {
     "data": {
      "text/plain": [
       "266"
      ]
     },
     "execution_count": 7,
     "metadata": {},
     "output_type": "execute_result"
    }
   ],
   "source": [
    "f = open('../collection_names.txt')\n",
    "init_collections = f.read()\n",
    "f.close()\n",
    "# not including the last comma from the file\n",
    "init_collections = init_collections.split(\",\")[:-1]\n",
    "len(init_collections)"
   ]
  },
  {
   "cell_type": "code",
   "execution_count": 8,
   "metadata": {},
   "outputs": [],
   "source": [
    "assert init_collections[-5:] == ['Sorare', 'Winter Bears', 'Tronwars', 'Genesisapostle', 'Nanopass'], 'Make sure you are using the most updated list of collection names.'"
   ]
  },
  {
   "cell_type": "code",
   "execution_count": 9,
   "metadata": {},
   "outputs": [
    {
     "data": {
      "text/plain": [
       "532"
      ]
     },
     "execution_count": 9,
     "metadata": {},
     "output_type": "execute_result"
    }
   ],
   "source": [
    "# For each collection name, create another record with \" NFT\" at the end.\n",
    "# Doubling the number of collection names\n",
    "collections = []\n",
    "for name in init_collections:\n",
    "    name = name.strip()\n",
    "    collections.append(name)\n",
    "    collections.append(name + \" NFT\")\n",
    "len(collections)"
   ]
  },
  {
   "cell_type": "code",
   "execution_count": 10,
   "metadata": {},
   "outputs": [],
   "source": [
    "# Saving this output to a new, trends-only file\n",
    "f = open('data/collection_names_plus_nft.txt', \"w\")\n",
    "for name in collections:\n",
    "    if name != collections[-1]:\n",
    "        f.write(name+'\\n')\n",
    "    else:\n",
    "        f.write(name)\n",
    "f.close()"
   ]
  },
  {
   "cell_type": "markdown",
   "metadata": {},
   "source": [
    "## 2. Google Trends - Interest_Over_Time"
   ]
  },
  {
   "cell_type": "markdown",
   "metadata": {},
   "source": [
    "Description:\n",
    "- For each collection, grab the search frequency over time starting at the minting date.\n",
    "- Returns large dataframe with every collection name, ranging from X time before minting date"
   ]
  },
  {
   "cell_type": "code",
   "execution_count": 11,
   "metadata": {},
   "outputs": [],
   "source": [
    "# Imports\n",
    "import glob\n",
    "import time\n",
    "from time import sleep\n",
    "from random import randint"
   ]
  },
  {
   "cell_type": "markdown",
   "metadata": {},
   "source": [
    "#### Initial Formatting\n",
    "- Collecting minting date for each collection\n",
    "- Storing in a dictionary, `mint_dict`\n",
    " - key is the collection name, value is the minting date (format: 'YYYY-MM-DD')"
   ]
  },
  {
   "cell_type": "code",
   "execution_count": 12,
   "metadata": {},
   "outputs": [],
   "source": [
    "# Input: individual file path (\"../sales_records/3Landers - Historical Sales.csv\")\n",
    "# Output: string of earliest transaction date, which we will assume is the minting date\n",
    "# Example output: '2021-09-26'\n",
    "def grab_mint_date(file_name):\n",
    "    temp_df = pd.read_csv(file_name)\n",
    "    # Converting to DateTime format to simplify and standardize finding the earliest date\n",
    "    temp_df['DateTime'] = pd.to_datetime(temp_df['DateTime'])\n",
    "    minting_date = temp_df['DateTime'].min()\n",
    "    return(minting_date)"
   ]
  },
  {
   "cell_type": "code",
   "execution_count": 13,
   "metadata": {},
   "outputs": [],
   "source": [
    "# Apply grab_mint_date to each sales records file\n",
    "file_names = glob.glob('../sales_records/*')\n",
    "mint_dict = {}\n",
    "for name in file_names:\n",
    "    clean_name = name.split('sales_records/')[1].split(' - Historical Sales')[0].strip()\n",
    "    mint_dict[clean_name] = grab_mint_date(name)\n",
    "    mint_dict[clean_name+\" NFT\"] = grab_mint_date(name)"
   ]
  },
  {
   "cell_type": "code",
   "execution_count": null,
   "metadata": {},
   "outputs": [],
   "source": [
    "# Saving the dictionary\n",
    "with open('mint_dict.pkl', 'wb') as f:\n",
    "    pickle.dump(mint_dict, f)"
   ]
  },
  {
   "cell_type": "code",
   "execution_count": null,
   "metadata": {},
   "outputs": [],
   "source": [
    "# Loading the dictionary\n",
    "with open('mint_dict.pkl', 'rb') as f:\n",
    "    mint_dict = pickle.load(f)"
   ]
  },
  {
   "cell_type": "markdown",
   "metadata": {},
   "source": [
    "## Interest_Over_Time"
   ]
  },
  {
   "cell_type": "code",
   "execution_count": 14,
   "metadata": {},
   "outputs": [],
   "source": [
    "import pytrends\n",
    "from pytrends.request import TrendReq\n",
    "from datetime import datetime, timedelta"
   ]
  },
  {
   "cell_type": "code",
   "execution_count": 15,
   "metadata": {},
   "outputs": [],
   "source": [
    "def create_relative_dates(date_series, minting_date):\n",
    "    col_names = []\n",
    "    num_weeks = 0\n",
    "    for i in range(len(date_series)):\n",
    "        if (date_series[i] < minting_date):\n",
    "            num_weeks += 2\n",
    "            col_names.append(\"{}_before\".format(52-i))\n",
    "        elif (date_series[i-1] < minting_date) and (date_series[i+1] > minting_date):\n",
    "            num_weeks = 0\n",
    "            col_names.append(\"minting_week\")\n",
    "        else:\n",
    "            num_weeks += 1\n",
    "            col_names.append(\"{}_after\".format(num_weeks))\n",
    "    return(col_names)"
   ]
  },
  {
   "cell_type": "code",
   "execution_count": 16,
   "metadata": {},
   "outputs": [],
   "source": [
    "collection_info = list(mint_dict.items())\n",
    "# Build the initial dataframe\n",
    "init_search = collection_info[0]\n",
    "minting_date = init_search[1]\n",
    "one_year_pre = (init_search[1] - timedelta(days=365)).date().strftime('%Y-%m-%d')\n",
    "seventy_days_post = (init_search[1] + timedelta(days=70)).date().strftime('%Y-%m-%d')\n",
    "\n",
    "# Trends work\n",
    "pytrend = TrendReq()\n",
    "pytrend.build_payload(kw_list=[init_search[0]], timeframe=(one_year_pre + ' ' + seventy_days_post))\n",
    "iot = pytrend.interest_over_time()\n",
    "\n",
    "# Crazy formatting\n",
    "iot = iot.drop(columns=['isPartial'])\n",
    "# reset index so date is its own column\n",
    "iot = iot.reset_index()\n",
    "# set relative_dates col equal to output of create_relative_dates\n",
    "# see png below for demonstration\n",
    "iot['relative_dates'] = create_relative_dates(list(iot['date']), minting_date)\n",
    "# make relative dates the new index\n",
    "iot = iot.set_index('relative_dates')\n",
    "# rename the original date column to keep it safe, just in case we need it later\n",
    "iot = iot.rename(columns={'date':'{}_date'.format(init_search[0])})"
   ]
  },
  {
   "cell_type": "code",
   "execution_count": 17,
   "metadata": {},
   "outputs": [
    {
     "data": {
      "text/html": [
       "<div>\n",
       "<style scoped>\n",
       "    .dataframe tbody tr th:only-of-type {\n",
       "        vertical-align: middle;\n",
       "    }\n",
       "\n",
       "    .dataframe tbody tr th {\n",
       "        vertical-align: top;\n",
       "    }\n",
       "\n",
       "    .dataframe thead th {\n",
       "        text-align: right;\n",
       "    }\n",
       "</style>\n",
       "<table border=\"1\" class=\"dataframe\">\n",
       "  <thead>\n",
       "    <tr style=\"text-align: right;\">\n",
       "      <th></th>\n",
       "      <th>Anonymice_date</th>\n",
       "      <th>Anonymice</th>\n",
       "    </tr>\n",
       "    <tr>\n",
       "      <th>relative_dates</th>\n",
       "      <th></th>\n",
       "      <th></th>\n",
       "    </tr>\n",
       "  </thead>\n",
       "  <tbody>\n",
       "    <tr>\n",
       "      <th>52_before</th>\n",
       "      <td>2020-09-20</td>\n",
       "      <td>0</td>\n",
       "    </tr>\n",
       "    <tr>\n",
       "      <th>51_before</th>\n",
       "      <td>2020-09-27</td>\n",
       "      <td>0</td>\n",
       "    </tr>\n",
       "    <tr>\n",
       "      <th>50_before</th>\n",
       "      <td>2020-10-04</td>\n",
       "      <td>0</td>\n",
       "    </tr>\n",
       "    <tr>\n",
       "      <th>49_before</th>\n",
       "      <td>2020-10-11</td>\n",
       "      <td>0</td>\n",
       "    </tr>\n",
       "    <tr>\n",
       "      <th>48_before</th>\n",
       "      <td>2020-10-18</td>\n",
       "      <td>0</td>\n",
       "    </tr>\n",
       "  </tbody>\n",
       "</table>\n",
       "</div>"
      ],
      "text/plain": [
       "               Anonymice_date  Anonymice\n",
       "relative_dates                          \n",
       "52_before          2020-09-20          0\n",
       "51_before          2020-09-27          0\n",
       "50_before          2020-10-04          0\n",
       "49_before          2020-10-11          0\n",
       "48_before          2020-10-18          0"
      ]
     },
     "execution_count": 17,
     "metadata": {},
     "output_type": "execute_result"
    }
   ],
   "source": [
    "iot.head()"
   ]
  },
  {
   "cell_type": "code",
   "execution_count": 18,
   "metadata": {},
   "outputs": [
    {
     "data": {
      "text/html": [
       "<div>\n",
       "<style scoped>\n",
       "    .dataframe tbody tr th:only-of-type {\n",
       "        vertical-align: middle;\n",
       "    }\n",
       "\n",
       "    .dataframe tbody tr th {\n",
       "        vertical-align: top;\n",
       "    }\n",
       "\n",
       "    .dataframe thead th {\n",
       "        text-align: right;\n",
       "    }\n",
       "</style>\n",
       "<table border=\"1\" class=\"dataframe\">\n",
       "  <thead>\n",
       "    <tr style=\"text-align: right;\">\n",
       "      <th></th>\n",
       "      <th>Anonymice_date</th>\n",
       "      <th>Anonymice</th>\n",
       "    </tr>\n",
       "    <tr>\n",
       "      <th>relative_dates</th>\n",
       "      <th></th>\n",
       "      <th></th>\n",
       "    </tr>\n",
       "  </thead>\n",
       "  <tbody>\n",
       "    <tr>\n",
       "      <th>3_after</th>\n",
       "      <td>2021-10-10</td>\n",
       "      <td>94</td>\n",
       "    </tr>\n",
       "    <tr>\n",
       "      <th>4_after</th>\n",
       "      <td>2021-10-17</td>\n",
       "      <td>69</td>\n",
       "    </tr>\n",
       "    <tr>\n",
       "      <th>5_after</th>\n",
       "      <td>2021-10-24</td>\n",
       "      <td>15</td>\n",
       "    </tr>\n",
       "    <tr>\n",
       "      <th>6_after</th>\n",
       "      <td>2021-10-31</td>\n",
       "      <td>39</td>\n",
       "    </tr>\n",
       "    <tr>\n",
       "      <th>7_after</th>\n",
       "      <td>2021-11-07</td>\n",
       "      <td>8</td>\n",
       "    </tr>\n",
       "    <tr>\n",
       "      <th>8_after</th>\n",
       "      <td>2021-11-14</td>\n",
       "      <td>30</td>\n",
       "    </tr>\n",
       "    <tr>\n",
       "      <th>9_after</th>\n",
       "      <td>2021-11-21</td>\n",
       "      <td>38</td>\n",
       "    </tr>\n",
       "  </tbody>\n",
       "</table>\n",
       "</div>"
      ],
      "text/plain": [
       "               Anonymice_date  Anonymice\n",
       "relative_dates                          \n",
       "3_after            2021-10-10         94\n",
       "4_after            2021-10-17         69\n",
       "5_after            2021-10-24         15\n",
       "6_after            2021-10-31         39\n",
       "7_after            2021-11-07          8\n",
       "8_after            2021-11-14         30\n",
       "9_after            2021-11-21         38"
      ]
     },
     "execution_count": 18,
     "metadata": {},
     "output_type": "execute_result"
    }
   ],
   "source": [
    "iot.tail(7)"
   ]
  },
  {
   "cell_type": "code",
   "execution_count": null,
   "metadata": {},
   "outputs": [],
   "source": [
    "start_time = time.time()\n",
    "\n",
    "for search in collection_info[1:]:\n",
    "    minting_date = search[1]\n",
    "    one_year_pre = (search[1] - timedelta(days=365)).date().strftime('%Y-%m-%d')\n",
    "    seventy_days_post = (search[1] + timedelta(days=70)).date().strftime('%Y-%m-%d')\n",
    "\n",
    "    # Trends work\n",
    "    pytrend = TrendReq()\n",
    "    pytrend.build_payload(kw_list=[search[0]], timeframe=(one_year_pre + ' ' + seventy_days_post))\n",
    "    temp_iot = pytrend.interest_over_time()\n",
    "\n",
    "    # Crazy formatting\n",
    "    try:\n",
    "        temp_iot = temp_iot.drop(columns=['isPartial'])\n",
    "        # reset index so date is its own column\n",
    "        temp_iot = temp_iot.reset_index()\n",
    "        # set relative_dates col equal to output of create_relative_dates\n",
    "        # see png below for demonstration\n",
    "        temp_iot['relative_dates'] = create_relative_dates(list(temp_iot['date']), minting_date)\n",
    "        # make relative dates the new index\n",
    "        temp_iot = temp_iot.set_index('relative_dates')\n",
    "        # rename the original date column to keep it safe, just in case we need it later\n",
    "        temp_iot = temp_iot.rename(columns={'date':'{}_date'.format(search[0])})\n",
    "\n",
    "        # Add to the iot df\n",
    "        for col in temp_iot.columns:\n",
    "            iot[col] = temp_iot[col]\n",
    "            \n",
    "        sleep(randint(3, 9))\n",
    "    \n",
    "    # KeyError would happen if the query returned None\n",
    "    except KeyError as err:\n",
    "        pass\n",
    "\n",
    "print('This took', time.time() - start_time, \"to run\")"
   ]
  },
  {
   "cell_type": "code",
   "execution_count": null,
   "metadata": {},
   "outputs": [],
   "source": [
    "len(collection_info)"
   ]
  },
  {
   "cell_type": "code",
   "execution_count": null,
   "metadata": {},
   "outputs": [],
   "source": [
    "iot.shape"
   ]
  },
  {
   "cell_type": "code",
   "execution_count": null,
   "metadata": {},
   "outputs": [],
   "source": [
    "iot.to_csv('data/monthly_interest_over_time.csv')"
   ]
  },
  {
   "cell_type": "markdown",
   "metadata": {},
   "source": [
    "# Hourly Interest - HOLD"
   ]
  },
  {
   "cell_type": "markdown",
   "metadata": {},
   "source": [
    "NOTE\n",
    "- Holding off on this until we have minting dates for each NFT\n",
    "- This would be super cool to run the month before and the month after the minting date for each NFT"
   ]
  },
  {
   "cell_type": "code",
   "execution_count": 436,
   "metadata": {},
   "outputs": [],
   "source": [
    "collection_info = list(mint_dict.items())\n",
    "# Build the initial dataframe\n",
    "init_search = collection_info[0]\n",
    "minting_date = init_search[1]\n",
    "\n",
    "one_week_pre_date = (init_search[1] - timedelta(days=7)).date().strftime('%Y-%m-%d').split('-')\n",
    "pre_year = int(one_week_pre_date[0])\n",
    "pre_month = int(one_week_pre_date[1])\n",
    "pre_day = int(one_week_pre_date[2])\n",
    "\n",
    "\n",
    "one_week_post = (init_search[1] + timedelta(days=7)).date().strftime('%Y-%m-%d').split('-')\n",
    "post_year = int(one_week_post[0])\n",
    "post_month = int(one_week_post[1])\n",
    "post_day = int(one_week_post[2])\n",
    "\n",
    "\n",
    "# # Trends work\n",
    "pytrend = TrendReq()\n",
    "pytrend.build_payload(kw_list=[init_search[0]])\n",
    "hours = pytrend.get_historical_interest(keywords=[init_search[0]], year_start=pre_year, month_start=pre_month,\n",
    "                                       day_start=pre_day, hour_start=0,\n",
    "                                       year_end=post_year, month_end=post_month, day_end=post_day, hour_end=0,\n",
    "                                       cat=0, geo='', gprop='', sleep=0)\n",
    "\n",
    "hours = hours.drop(columns=['isPartial'])\n",
    "hours = hours.reset_index()\n",
    "hours['{}_time'.format(init_search[0])] = hours['date'].apply(lambda x: x.time())\n",
    "hours['{}_date'.format(init_search[0])] = hours['date'].apply(lambda x: x.date())\n",
    "hours = hours.drop(columns=['date'])"
   ]
  },
  {
   "cell_type": "code",
   "execution_count": 438,
   "metadata": {},
   "outputs": [
    {
     "data": {
      "text/html": [
       "<div>\n",
       "<style scoped>\n",
       "    .dataframe tbody tr th:only-of-type {\n",
       "        vertical-align: middle;\n",
       "    }\n",
       "\n",
       "    .dataframe tbody tr th {\n",
       "        vertical-align: top;\n",
       "    }\n",
       "\n",
       "    .dataframe thead th {\n",
       "        text-align: right;\n",
       "    }\n",
       "</style>\n",
       "<table border=\"1\" class=\"dataframe\">\n",
       "  <thead>\n",
       "    <tr style=\"text-align: right;\">\n",
       "      <th></th>\n",
       "      <th>Anonymice</th>\n",
       "      <th>Anonymice_time</th>\n",
       "      <th>Anonymice_date</th>\n",
       "    </tr>\n",
       "  </thead>\n",
       "  <tbody>\n",
       "    <tr>\n",
       "      <th>0</th>\n",
       "      <td>0</td>\n",
       "      <td>00:00:00</td>\n",
       "      <td>2021-09-16</td>\n",
       "    </tr>\n",
       "    <tr>\n",
       "      <th>1</th>\n",
       "      <td>0</td>\n",
       "      <td>01:00:00</td>\n",
       "      <td>2021-09-16</td>\n",
       "    </tr>\n",
       "    <tr>\n",
       "      <th>2</th>\n",
       "      <td>0</td>\n",
       "      <td>02:00:00</td>\n",
       "      <td>2021-09-16</td>\n",
       "    </tr>\n",
       "    <tr>\n",
       "      <th>3</th>\n",
       "      <td>0</td>\n",
       "      <td>03:00:00</td>\n",
       "      <td>2021-09-16</td>\n",
       "    </tr>\n",
       "    <tr>\n",
       "      <th>4</th>\n",
       "      <td>0</td>\n",
       "      <td>04:00:00</td>\n",
       "      <td>2021-09-16</td>\n",
       "    </tr>\n",
       "  </tbody>\n",
       "</table>\n",
       "</div>"
      ],
      "text/plain": [
       "   Anonymice Anonymice_time Anonymice_date\n",
       "0          0       00:00:00     2021-09-16\n",
       "1          0       01:00:00     2021-09-16\n",
       "2          0       02:00:00     2021-09-16\n",
       "3          0       03:00:00     2021-09-16\n",
       "4          0       04:00:00     2021-09-16"
      ]
     },
     "execution_count": 438,
     "metadata": {},
     "output_type": "execute_result"
    }
   ],
   "source": [
    "hours.head()"
   ]
  },
  {
   "cell_type": "code",
   "execution_count": 441,
   "metadata": {},
   "outputs": [
    {
     "name": "stderr",
     "output_type": "stream",
     "text": [
      "<ipython-input-441-8b41e8a33bac>:35: PerformanceWarning: DataFrame is highly fragmented.  This is usually the result of calling `frame.insert` many times, which has poor performance.  Consider joining all columns at once using pd.concat(axis=1) instead.  To get a de-fragmented frame, use `newframe = frame.copy()`\n",
      "  hours[col] = temp_hours[col]\n"
     ]
    },
    {
     "name": "stdout",
     "output_type": "stream",
     "text": [
      "The request failed: Google returned a response with code 429.\n",
      "The request failed: Google returned a response with code 429.\n"
     ]
    },
    {
     "ename": "ResponseError",
     "evalue": "The request failed: Google returned a response with code 429.",
     "output_type": "error",
     "traceback": [
      "\u001b[0;31m---------------------------------------------------------------------------\u001b[0m",
      "\u001b[0;31mResponseError\u001b[0m                             Traceback (most recent call last)",
      "\u001b[0;32m<ipython-input-441-8b41e8a33bac>\u001b[0m in \u001b[0;36m<module>\u001b[0;34m\u001b[0m\n\u001b[1;32m     19\u001b[0m         \u001b[0;31m# # Trends work\u001b[0m\u001b[0;34m\u001b[0m\u001b[0;34m\u001b[0m\u001b[0;34m\u001b[0m\u001b[0m\n\u001b[1;32m     20\u001b[0m         \u001b[0mpytrend\u001b[0m \u001b[0;34m=\u001b[0m \u001b[0mTrendReq\u001b[0m\u001b[0;34m(\u001b[0m\u001b[0;34m)\u001b[0m\u001b[0;34m\u001b[0m\u001b[0;34m\u001b[0m\u001b[0m\n\u001b[0;32m---> 21\u001b[0;31m         \u001b[0mpytrend\u001b[0m\u001b[0;34m.\u001b[0m\u001b[0mbuild_payload\u001b[0m\u001b[0;34m(\u001b[0m\u001b[0mkw_list\u001b[0m\u001b[0;34m=\u001b[0m\u001b[0;34m[\u001b[0m\u001b[0mname\u001b[0m\u001b[0;34m]\u001b[0m\u001b[0;34m)\u001b[0m\u001b[0;34m\u001b[0m\u001b[0;34m\u001b[0m\u001b[0m\n\u001b[0m\u001b[1;32m     22\u001b[0m         temp_hours = pytrend.get_historical_interest(keywords=[name], year_start=pre_year, month_start=pre_month,\n\u001b[1;32m     23\u001b[0m                                                \u001b[0mday_start\u001b[0m\u001b[0;34m=\u001b[0m\u001b[0mpre_day\u001b[0m\u001b[0;34m,\u001b[0m \u001b[0mhour_start\u001b[0m\u001b[0;34m=\u001b[0m\u001b[0;36m0\u001b[0m\u001b[0;34m,\u001b[0m\u001b[0;34m\u001b[0m\u001b[0;34m\u001b[0m\u001b[0m\n",
      "\u001b[0;32m~/opt/anaconda3/lib/python3.8/site-packages/pytrends/request.py\u001b[0m in \u001b[0;36mbuild_payload\u001b[0;34m(self, kw_list, cat, timeframe, geo, gprop)\u001b[0m\n\u001b[1;32m    167\u001b[0m         \u001b[0mself\u001b[0m\u001b[0;34m.\u001b[0m\u001b[0mtoken_payload\u001b[0m\u001b[0;34m[\u001b[0m\u001b[0;34m'req'\u001b[0m\u001b[0;34m]\u001b[0m \u001b[0;34m=\u001b[0m \u001b[0mjson\u001b[0m\u001b[0;34m.\u001b[0m\u001b[0mdumps\u001b[0m\u001b[0;34m(\u001b[0m\u001b[0mself\u001b[0m\u001b[0;34m.\u001b[0m\u001b[0mtoken_payload\u001b[0m\u001b[0;34m[\u001b[0m\u001b[0;34m'req'\u001b[0m\u001b[0;34m]\u001b[0m\u001b[0;34m)\u001b[0m\u001b[0;34m\u001b[0m\u001b[0;34m\u001b[0m\u001b[0m\n\u001b[1;32m    168\u001b[0m         \u001b[0;31m# get tokens\u001b[0m\u001b[0;34m\u001b[0m\u001b[0;34m\u001b[0m\u001b[0;34m\u001b[0m\u001b[0m\n\u001b[0;32m--> 169\u001b[0;31m         \u001b[0mself\u001b[0m\u001b[0;34m.\u001b[0m\u001b[0m_tokens\u001b[0m\u001b[0;34m(\u001b[0m\u001b[0;34m)\u001b[0m\u001b[0;34m\u001b[0m\u001b[0;34m\u001b[0m\u001b[0m\n\u001b[0m\u001b[1;32m    170\u001b[0m         \u001b[0;32mreturn\u001b[0m\u001b[0;34m\u001b[0m\u001b[0;34m\u001b[0m\u001b[0m\n\u001b[1;32m    171\u001b[0m \u001b[0;34m\u001b[0m\u001b[0m\n",
      "\u001b[0;32m~/opt/anaconda3/lib/python3.8/site-packages/pytrends/request.py\u001b[0m in \u001b[0;36m_tokens\u001b[0;34m(self)\u001b[0m\n\u001b[1;32m    173\u001b[0m         \u001b[0;34m\"\"\"Makes request to Google to get API tokens for interest over time, interest by region and related queries\"\"\"\u001b[0m\u001b[0;34m\u001b[0m\u001b[0;34m\u001b[0m\u001b[0m\n\u001b[1;32m    174\u001b[0m         \u001b[0;31m# make the request and parse the returned json\u001b[0m\u001b[0;34m\u001b[0m\u001b[0;34m\u001b[0m\u001b[0;34m\u001b[0m\u001b[0m\n\u001b[0;32m--> 175\u001b[0;31m         widget_dict = self._get_data(\n\u001b[0m\u001b[1;32m    176\u001b[0m             \u001b[0murl\u001b[0m\u001b[0;34m=\u001b[0m\u001b[0mTrendReq\u001b[0m\u001b[0;34m.\u001b[0m\u001b[0mGENERAL_URL\u001b[0m\u001b[0;34m,\u001b[0m\u001b[0;34m\u001b[0m\u001b[0;34m\u001b[0m\u001b[0m\n\u001b[1;32m    177\u001b[0m             \u001b[0mmethod\u001b[0m\u001b[0;34m=\u001b[0m\u001b[0mTrendReq\u001b[0m\u001b[0;34m.\u001b[0m\u001b[0mGET_METHOD\u001b[0m\u001b[0;34m,\u001b[0m\u001b[0;34m\u001b[0m\u001b[0;34m\u001b[0m\u001b[0m\n",
      "\u001b[0;32m~/opt/anaconda3/lib/python3.8/site-packages/pytrends/request.py\u001b[0m in \u001b[0;36m_get_data\u001b[0;34m(self, url, method, trim_chars, **kwargs)\u001b[0m\n\u001b[1;32m    143\u001b[0m         \u001b[0;32melse\u001b[0m\u001b[0;34m:\u001b[0m\u001b[0;34m\u001b[0m\u001b[0;34m\u001b[0m\u001b[0m\n\u001b[1;32m    144\u001b[0m             \u001b[0;31m# error\u001b[0m\u001b[0;34m\u001b[0m\u001b[0;34m\u001b[0m\u001b[0;34m\u001b[0m\u001b[0m\n\u001b[0;32m--> 145\u001b[0;31m             raise exceptions.ResponseError(\n\u001b[0m\u001b[1;32m    146\u001b[0m                 \u001b[0;34m'The request failed: Google returned a '\u001b[0m\u001b[0;34m\u001b[0m\u001b[0;34m\u001b[0m\u001b[0m\n\u001b[1;32m    147\u001b[0m                 \u001b[0;34m'response with code {0}.'\u001b[0m\u001b[0;34m.\u001b[0m\u001b[0mformat\u001b[0m\u001b[0;34m(\u001b[0m\u001b[0mresponse\u001b[0m\u001b[0;34m.\u001b[0m\u001b[0mstatus_code\u001b[0m\u001b[0;34m)\u001b[0m\u001b[0;34m,\u001b[0m\u001b[0;34m\u001b[0m\u001b[0;34m\u001b[0m\u001b[0m\n",
      "\u001b[0;31mResponseError\u001b[0m: The request failed: Google returned a response with code 429."
     ]
    }
   ],
   "source": [
    "start_time = time.time()\n",
    "\n",
    "\n",
    "# Do it for the rest of them\n",
    "for search in collection_info[1:]:\n",
    "    try:\n",
    "        name = search[0]\n",
    "        minting_date = search[1]\n",
    "\n",
    "        one_week_pre_date = (minting_date - timedelta(days=7)).date().strftime('%Y-%m-%d').split('-')\n",
    "        pre_year = int(one_week_pre_date[0])\n",
    "        pre_month = int(one_week_pre_date[1])\n",
    "        pre_day = int(one_week_pre_date[2])\n",
    "\n",
    "\n",
    "        one_week_post = (minting_date + timedelta(days=7)).date().strftime('%Y-%m-%d').split('-')\n",
    "        post_year = int(one_week_post[0])\n",
    "        post_month = int(one_week_post[1])\n",
    "        post_day = int(one_week_post[2])\n",
    "\n",
    "\n",
    "        # # Trends work\n",
    "        pytrend = TrendReq()\n",
    "        pytrend.build_payload(kw_list=[name])\n",
    "        temp_hours = pytrend.get_historical_interest(keywords=[name], year_start=pre_year, month_start=pre_month,\n",
    "                                               day_start=pre_day, hour_start=0,\n",
    "                                               year_end=post_year, month_end=post_month, day_end=post_day, hour_end=0,\n",
    "                                               cat=0, geo='', gprop='', sleep=0)\n",
    "\n",
    "        temp_hours = temp_hours.drop(columns=['isPartial'])\n",
    "        temp_hours = temp_hours.reset_index()\n",
    "        temp_hours['{}_time'.format(name)] = temp_hours['date'].apply(lambda x: x.time())\n",
    "        temp_hours['{}_date'.format(name)] = temp_hours['date'].apply(lambda x: x.date())\n",
    "        temp_hours = temp_hours.drop(columns=['date'])\n",
    "        \n",
    "        # Add to the hours df\n",
    "        for col in temp_hours.columns:\n",
    "            hours[col] = temp_hours[col]\n",
    "        \n",
    "        sleep(randint(5, 25))\n",
    "        \n",
    "    except KeyError as err:\n",
    "        pass\n",
    "    \n",
    "    \n",
    "print('This took', time.time() - start_time, \"to run\")"
   ]
  },
  {
   "cell_type": "code",
   "execution_count": null,
   "metadata": {},
   "outputs": [],
   "source": [
    "hours.head()"
   ]
  },
  {
   "cell_type": "code",
   "execution_count": null,
   "metadata": {},
   "outputs": [],
   "source": [
    "hours.tail()"
   ]
  },
  {
   "cell_type": "code",
   "execution_count": 444,
   "metadata": {},
   "outputs": [
    {
     "data": {
      "text/plain": [
       "(170, 105)"
      ]
     },
     "execution_count": 444,
     "metadata": {},
     "output_type": "execute_result"
    }
   ],
   "source": [
    "hours.shape"
   ]
  },
  {
   "cell_type": "code",
   "execution_count": null,
   "metadata": {},
   "outputs": [],
   "source": [
    "hours.to_csv('data/hourly-data.csv', index=False)"
   ]
  }
 ],
 "metadata": {
  "kernelspec": {
   "display_name": "Python 3",
   "language": "python",
   "name": "python3"
  },
  "language_info": {
   "codemirror_mode": {
    "name": "ipython",
    "version": 3
   },
   "file_extension": ".py",
   "mimetype": "text/x-python",
   "name": "python",
   "nbconvert_exporter": "python",
   "pygments_lexer": "ipython3",
   "version": "3.8.5"
  }
 },
 "nbformat": 4,
 "nbformat_minor": 4
}
