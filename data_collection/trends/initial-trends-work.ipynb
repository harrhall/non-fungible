{
 "cells": [
  {
   "cell_type": "markdown",
   "metadata": {},
   "source": [
    "# Trend Search from Collection Names"
   ]
  },
  {
   "cell_type": "markdown",
   "metadata": {},
   "source": [
    "Requirements:\n",
    "- Packages\n",
    " - pytrends, `pip install pytrends`\n",
    " - pandas\n",
    " - numpy\n",
    " - time (for sleep)\n",
    " - random (for sleep)\n",
    "- Files\n",
    " - output from opensea-get-collections.ipynb\n",
    "   - currently named 'initial_opensea_get_collections.csv"
   ]
  },
  {
   "cell_type": "markdown",
   "metadata": {},
   "source": [
    "## Gather Collection Names"
   ]
  },
  {
   "cell_type": "code",
   "execution_count": 133,
   "metadata": {},
   "outputs": [],
   "source": [
    "import pandas as pd\n",
    "import numpy as np"
   ]
  },
  {
   "cell_type": "code",
   "execution_count": 134,
   "metadata": {},
   "outputs": [],
   "source": [
    "# Loading the output from get_collections\n",
    "# Only need the collection name\n",
    "init_many_collections = pd.read_csv('../opensea/data/opensea_get_many_collections.csv', usecols=['collection_name']).dropna()\n",
    "init_many_collections = list(pd.unique(init_many_collections['collection_name']))\n"
   ]
  },
  {
   "cell_type": "code",
   "execution_count": 135,
   "metadata": {},
   "outputs": [],
   "source": [
    "collections = []\n",
    "for name in init_many_collections:\n",
    "    collections.append(name)\n",
    "    collections.append(name + \" NFT\")"
   ]
  },
  {
   "cell_type": "code",
   "execution_count": 136,
   "metadata": {},
   "outputs": [],
   "source": [
    "manual_collections = ['Meebits','dotdotdots','CyberBrokersV','VeeFriends','CloneX','BoredApeYachtClub',\n",
    "                  'MutantApeYachtClub','Azuki','InvisibleFriends','CryptoPunks','Landers','NFTWorlds',\n",
    "                  'World of Women']"
   ]
  },
  {
   "cell_type": "code",
   "execution_count": 137,
   "metadata": {},
   "outputs": [],
   "source": [
    "# Add \"NFT\" to the end of each collection name, as another item in the collections list\n",
    "for name in manual_collections:\n",
    "    name = name.strip()\n",
    "    if name not in collections:\n",
    "        collections.append(name)\n",
    "    if (name + \" NFT\") not in collections:\n",
    "        collections.append(name + \" NFT\")"
   ]
  },
  {
   "cell_type": "code",
   "execution_count": 138,
   "metadata": {},
   "outputs": [
    {
     "data": {
      "text/plain": [
       "1408"
      ]
     },
     "execution_count": 138,
     "metadata": {},
     "output_type": "execute_result"
    }
   ],
   "source": [
    "len(collections)"
   ]
  },
  {
   "cell_type": "code",
   "execution_count": 139,
   "metadata": {},
   "outputs": [],
   "source": [
    "f = open('data/collection_names_only.txt', \"w\")\n",
    "for name in collections:\n",
    "    f.write(name+'\\n')\n",
    "f.close()"
   ]
  },
  {
   "cell_type": "code",
   "execution_count": 140,
   "metadata": {},
   "outputs": [],
   "source": [
    "# Validate that extracting the collections worked\n",
    "assert isinstance(collections, list)\n",
    "assert type(collections[0])==str"
   ]
  },
  {
   "cell_type": "markdown",
   "metadata": {},
   "source": [
    "# Google Trends"
   ]
  },
  {
   "cell_type": "code",
   "execution_count": 85,
   "metadata": {},
   "outputs": [],
   "source": [
    "import time\n",
    "from time import sleep\n",
    "from random import randint"
   ]
  },
  {
   "cell_type": "markdown",
   "metadata": {},
   "source": [
    "## Keyword Expansion"
   ]
  },
  {
   "cell_type": "markdown",
   "metadata": {},
   "source": [
    "- Summary: This is not a useful method and we should not use it.\n",
    "- Explanation:\n",
    " - There are few to no relevant search terms from a small sample (n=9)\n",
    " - Relevant terms are actually not relevant"
   ]
  },
  {
   "cell_type": "markdown",
   "metadata": {},
   "source": [
    "Resources:\n",
    "- https://github.com/GeneralMills/pytrends\n",
    "- https://pypi.org/project/pytrends/\n",
    "- https://towardsdatascience.com/google-trends-api-for-python-a84bc25db88f"
   ]
  },
  {
   "cell_type": "code",
   "execution_count": 86,
   "metadata": {},
   "outputs": [],
   "source": [
    "# pip install pytrends\n",
    "import pytrends\n",
    "from pytrends.request import TrendReq\n",
    "pytrend = TrendReq()"
   ]
  },
  {
   "cell_type": "code",
   "execution_count": 87,
   "metadata": {},
   "outputs": [],
   "source": [
    "# Initializing the base DF, just with \"NFT\" queries\n",
    "keywords = pytrend.suggestions(keyword='NFT')\n",
    "keyexp_df = pd.DataFrame(keywords)\n",
    "keyexp_df['search_term'] = 'NFT'"
   ]
  },
  {
   "cell_type": "code",
   "execution_count": 88,
   "metadata": {},
   "outputs": [
    {
     "name": "stdout",
     "output_type": "stream",
     "text": [
      "This took 105.59816908836365 to run\n"
     ]
    }
   ],
   "source": [
    "# Start time\n",
    "# SOURCE: https://stackoverflow.com/questions/12444004/how-long-does-my-python-application-take-to-run\n",
    "start_time = time.time()\n",
    "\n",
    "# Searching the collection names\n",
    "# Appending to keyexp_df \n",
    "# NOTE: Many of these will be empty DFs\n",
    "# This is because most people don't search the names of collections?\n",
    "for collection_name in collections:\n",
    "    keywords = pytrend.suggestions(keyword=collection_name)\n",
    "    temp_search_df = pd.DataFrame(keywords)\n",
    "    temp_search_df['search_term'] = collection_name\n",
    "    keyexp_df = keyexp_df.append(temp_search_df)\n",
    "    sleep(randint(2, 6))\n",
    "\n",
    "print('This took', time.time() - start_time, \"to run\")"
   ]
  },
  {
   "cell_type": "code",
   "execution_count": 90,
   "metadata": {},
   "outputs": [
    {
     "data": {
      "text/plain": [
       "array(['nftables', 'Niagara Frontier Transportation Authority', 'NFT',\n",
       "       'Network For Teaching Entrepreneurship',\n",
       "       'National Film & Television School (NFTS)', 'Clonex Rooting Gel',\n",
       "       'Clonex Mist', 'CLONEX Print Experience', 'Azuki-chan',\n",
       "       'Azukiarai', 'Adzuki bean', 'Azuki Moeno', 'Yashiro Azuki',\n",
       "       'CryptoPunks', 'Landers', 'David L. Lander', 'Audrey Landers',\n",
       "       'Paul Landers', 'SSG Landers', 'The Great Lie',\n",
       "       'White Chrysanthemum', 'Women of the World',\n",
       "       'Inseparable: A Never-Before-Published Novel'], dtype=object)"
      ]
     },
     "execution_count": 90,
     "metadata": {},
     "output_type": "execute_result"
    }
   ],
   "source": [
    "keywords_expanded = keyexp_df['title'].unique()\n",
    "keywords_expanded"
   ]
  },
  {
   "cell_type": "markdown",
   "metadata": {},
   "source": [
    "### Output"
   ]
  },
  {
   "cell_type": "code",
   "execution_count": 91,
   "metadata": {},
   "outputs": [],
   "source": [
    "keyexp_df.to_csv('data/trends_expanded_keywords.csv', index=False)"
   ]
  },
  {
   "cell_type": "markdown",
   "metadata": {},
   "source": [
    "## Top 25 Related Queries"
   ]
  },
  {
   "cell_type": "markdown",
   "metadata": {},
   "source": [
    "Notes:\n",
    "- Can only query 5 words at a time\n",
    "- Be careful about rate limits. TBD on what those are."
   ]
  },
  {
   "cell_type": "markdown",
   "metadata": {},
   "source": [
    "### Initial Formatting"
   ]
  },
  {
   "cell_type": "code",
   "execution_count": 92,
   "metadata": {},
   "outputs": [],
   "source": [
    "# Group the collection names into sets of 5\n",
    "grouped_collections = [collections[i:i + 5] for i in range(0, len(collections), 5)]"
   ]
  },
  {
   "cell_type": "markdown",
   "metadata": {},
   "source": [
    "### API Calls"
   ]
  },
  {
   "cell_type": "markdown",
   "metadata": {},
   "source": [
    "#### Initial DF - Default Keyword = \"NFT\""
   ]
  },
  {
   "cell_type": "code",
   "execution_count": 94,
   "metadata": {},
   "outputs": [],
   "source": [
    "pytrend = TrendReq()\n",
    "pytrend.build_payload(kw_list=['NFT'])\n",
    "\n",
    "# .related_queries() Returns a dictionary of dataframes\n",
    "related_queries = pytrend.related_queries()\n",
    "\n",
    "# Formatting into intended DF\n",
    "top_queries = related_queries['NFT']['top']\n",
    "top_queries['init_query'] = 'NFT'\n",
    "\n",
    "rising_queries = related_queries['NFT']['rising']\n",
    "rising_queries['init_query'] = 'NFT'"
   ]
  },
  {
   "cell_type": "markdown",
   "metadata": {},
   "source": [
    "#### Search the rest of the collection names"
   ]
  },
  {
   "cell_type": "code",
   "execution_count": 98,
   "metadata": {},
   "outputs": [
    {
     "name": "stdout",
     "output_type": "stream",
     "text": [
      "This took 72.75786876678467 to run\n"
     ]
    }
   ],
   "source": [
    "start_time = time.time()\n",
    "\n",
    "for set_5 in grouped_collections:\n",
    "    pytrend = TrendReq()\n",
    "    # Call the API.\n",
    "    pytrend.build_payload(kw_list=set_5)\n",
    "    # .related_queries() Returns a dictionary of dataframes\n",
    "    related_queries = pytrend.related_queries()\n",
    "    \n",
    "    for key in list(related_queries.keys()):\n",
    "        try:\n",
    "            temp_top_queries = related_queries[key]['top']\n",
    "            temp_top_queries['init_query'] = key\n",
    "\n",
    "            temp_rising_queries = related_queries[key]['rising']\n",
    "            temp_rising_queries['init_query'] = key\n",
    "\n",
    "            top_queries = top_queries.append(temp_top_queries)\n",
    "            rising_queries = rising_queries.append(temp_rising_queries)\n",
    "        except:\n",
    "            pass\n",
    "    sleep(randint(5, 15))\n",
    "    \n",
    "print('This took', time.time() - start_time, \"to run\")"
   ]
  },
  {
   "cell_type": "markdown",
   "metadata": {},
   "source": [
    "### Output"
   ]
  },
  {
   "cell_type": "code",
   "execution_count": 104,
   "metadata": {},
   "outputs": [],
   "source": [
    "rising_queries.to_csv('data/trends_rising_queries.csv', index=False)\n",
    "top_queries.to_csv('data/trends_top_queries.csv', index=False)"
   ]
  },
  {
   "cell_type": "markdown",
   "metadata": {},
   "source": [
    "## Interest_Over_Time"
   ]
  },
  {
   "cell_type": "code",
   "execution_count": 105,
   "metadata": {},
   "outputs": [],
   "source": [
    "# Build the initial dataframe\n",
    "pytrend = TrendReq()\n",
    "pytrend.build_payload(kw_list=grouped_collections[0])\n",
    "iot = pytrend.interest_over_time()\n",
    "iot = iot.drop(columns=['isPartial'])"
   ]
  },
  {
   "cell_type": "code",
   "execution_count": 106,
   "metadata": {},
   "outputs": [
    {
     "name": "stdout",
     "output_type": "stream",
     "text": [
      "This took 55.31574010848999 to run\n"
     ]
    }
   ],
   "source": [
    "start_time = time.time()\n",
    "\n",
    "for set_5 in grouped_collections[1:]:\n",
    "    pytrend = TrendReq()\n",
    "    # Call the API.\n",
    "    pytrend.build_payload(kw_list=set_5)\n",
    "    # .related_queries() Returns a dictionary of dataframes\n",
    "    temp_iot = pytrend.interest_over_time()\n",
    "    temp_iot = temp_iot.drop(columns=['isPartial'])\n",
    "    iot = pd.merge(iot, temp_iot, left_index=True, right_index=True, how='outer')\n",
    "\n",
    "    sleep(randint(5, 15))\n",
    "    \n",
    "print('This took', time.time() - start_time, \"to run\")"
   ]
  },
  {
   "cell_type": "code",
   "execution_count": 107,
   "metadata": {},
   "outputs": [
    {
     "data": {
      "text/plain": [
       "(261, 26)"
      ]
     },
     "execution_count": 107,
     "metadata": {},
     "output_type": "execute_result"
    }
   ],
   "source": [
    "iot.shape"
   ]
  },
  {
   "cell_type": "code",
   "execution_count": 108,
   "metadata": {},
   "outputs": [
    {
     "data": {
      "text/html": [
       "<div>\n",
       "<style scoped>\n",
       "    .dataframe tbody tr th:only-of-type {\n",
       "        vertical-align: middle;\n",
       "    }\n",
       "\n",
       "    .dataframe tbody tr th {\n",
       "        vertical-align: top;\n",
       "    }\n",
       "\n",
       "    .dataframe thead th {\n",
       "        text-align: right;\n",
       "    }\n",
       "</style>\n",
       "<table border=\"1\" class=\"dataframe\">\n",
       "  <thead>\n",
       "    <tr style=\"text-align: right;\">\n",
       "      <th></th>\n",
       "      <th>Meebits</th>\n",
       "      <th>Meebits NFT</th>\n",
       "      <th>dotdotdots</th>\n",
       "      <th>dotdotdots NFT</th>\n",
       "      <th>CyberBrokersV</th>\n",
       "      <th>CyberBrokersV NFT</th>\n",
       "      <th>VeeFriends</th>\n",
       "      <th>VeeFriends NFT</th>\n",
       "      <th>CloneX</th>\n",
       "      <th>CloneX NFT</th>\n",
       "      <th>...</th>\n",
       "      <th>InvisibleFriends</th>\n",
       "      <th>InvisibleFriends NFT</th>\n",
       "      <th>CryptoPunks</th>\n",
       "      <th>CryptoPunks NFT</th>\n",
       "      <th>Landers</th>\n",
       "      <th>Landers NFT</th>\n",
       "      <th>NFTWorlds</th>\n",
       "      <th>NFTWorlds NFT</th>\n",
       "      <th>World of Women</th>\n",
       "      <th>World of Women NFT</th>\n",
       "    </tr>\n",
       "    <tr>\n",
       "      <th>date</th>\n",
       "      <th></th>\n",
       "      <th></th>\n",
       "      <th></th>\n",
       "      <th></th>\n",
       "      <th></th>\n",
       "      <th></th>\n",
       "      <th></th>\n",
       "      <th></th>\n",
       "      <th></th>\n",
       "      <th></th>\n",
       "      <th></th>\n",
       "      <th></th>\n",
       "      <th></th>\n",
       "      <th></th>\n",
       "      <th></th>\n",
       "      <th></th>\n",
       "      <th></th>\n",
       "      <th></th>\n",
       "      <th></th>\n",
       "      <th></th>\n",
       "      <th></th>\n",
       "    </tr>\n",
       "  </thead>\n",
       "  <tbody>\n",
       "    <tr>\n",
       "      <th>2017-03-12</th>\n",
       "      <td>0</td>\n",
       "      <td>0</td>\n",
       "      <td>0</td>\n",
       "      <td>0</td>\n",
       "      <td>0</td>\n",
       "      <td>0</td>\n",
       "      <td>0</td>\n",
       "      <td>0</td>\n",
       "      <td>22</td>\n",
       "      <td>0</td>\n",
       "      <td>...</td>\n",
       "      <td>0</td>\n",
       "      <td>0</td>\n",
       "      <td>0</td>\n",
       "      <td>0</td>\n",
       "      <td>46</td>\n",
       "      <td>0</td>\n",
       "      <td>0</td>\n",
       "      <td>0</td>\n",
       "      <td>30</td>\n",
       "      <td>0</td>\n",
       "    </tr>\n",
       "    <tr>\n",
       "      <th>2017-03-19</th>\n",
       "      <td>0</td>\n",
       "      <td>0</td>\n",
       "      <td>0</td>\n",
       "      <td>0</td>\n",
       "      <td>0</td>\n",
       "      <td>0</td>\n",
       "      <td>0</td>\n",
       "      <td>0</td>\n",
       "      <td>24</td>\n",
       "      <td>0</td>\n",
       "      <td>...</td>\n",
       "      <td>0</td>\n",
       "      <td>0</td>\n",
       "      <td>0</td>\n",
       "      <td>0</td>\n",
       "      <td>44</td>\n",
       "      <td>0</td>\n",
       "      <td>0</td>\n",
       "      <td>0</td>\n",
       "      <td>31</td>\n",
       "      <td>0</td>\n",
       "    </tr>\n",
       "    <tr>\n",
       "      <th>2017-03-26</th>\n",
       "      <td>0</td>\n",
       "      <td>0</td>\n",
       "      <td>0</td>\n",
       "      <td>0</td>\n",
       "      <td>0</td>\n",
       "      <td>0</td>\n",
       "      <td>0</td>\n",
       "      <td>0</td>\n",
       "      <td>18</td>\n",
       "      <td>0</td>\n",
       "      <td>...</td>\n",
       "      <td>0</td>\n",
       "      <td>0</td>\n",
       "      <td>0</td>\n",
       "      <td>0</td>\n",
       "      <td>44</td>\n",
       "      <td>0</td>\n",
       "      <td>0</td>\n",
       "      <td>0</td>\n",
       "      <td>30</td>\n",
       "      <td>0</td>\n",
       "    </tr>\n",
       "    <tr>\n",
       "      <th>2017-04-02</th>\n",
       "      <td>0</td>\n",
       "      <td>0</td>\n",
       "      <td>0</td>\n",
       "      <td>0</td>\n",
       "      <td>0</td>\n",
       "      <td>0</td>\n",
       "      <td>0</td>\n",
       "      <td>0</td>\n",
       "      <td>24</td>\n",
       "      <td>0</td>\n",
       "      <td>...</td>\n",
       "      <td>0</td>\n",
       "      <td>0</td>\n",
       "      <td>0</td>\n",
       "      <td>0</td>\n",
       "      <td>57</td>\n",
       "      <td>0</td>\n",
       "      <td>0</td>\n",
       "      <td>0</td>\n",
       "      <td>31</td>\n",
       "      <td>0</td>\n",
       "    </tr>\n",
       "    <tr>\n",
       "      <th>2017-04-09</th>\n",
       "      <td>0</td>\n",
       "      <td>0</td>\n",
       "      <td>0</td>\n",
       "      <td>0</td>\n",
       "      <td>0</td>\n",
       "      <td>0</td>\n",
       "      <td>0</td>\n",
       "      <td>0</td>\n",
       "      <td>25</td>\n",
       "      <td>0</td>\n",
       "      <td>...</td>\n",
       "      <td>0</td>\n",
       "      <td>0</td>\n",
       "      <td>0</td>\n",
       "      <td>0</td>\n",
       "      <td>47</td>\n",
       "      <td>0</td>\n",
       "      <td>0</td>\n",
       "      <td>0</td>\n",
       "      <td>29</td>\n",
       "      <td>0</td>\n",
       "    </tr>\n",
       "    <tr>\n",
       "      <th>...</th>\n",
       "      <td>...</td>\n",
       "      <td>...</td>\n",
       "      <td>...</td>\n",
       "      <td>...</td>\n",
       "      <td>...</td>\n",
       "      <td>...</td>\n",
       "      <td>...</td>\n",
       "      <td>...</td>\n",
       "      <td>...</td>\n",
       "      <td>...</td>\n",
       "      <td>...</td>\n",
       "      <td>...</td>\n",
       "      <td>...</td>\n",
       "      <td>...</td>\n",
       "      <td>...</td>\n",
       "      <td>...</td>\n",
       "      <td>...</td>\n",
       "      <td>...</td>\n",
       "      <td>...</td>\n",
       "      <td>...</td>\n",
       "      <td>...</td>\n",
       "    </tr>\n",
       "    <tr>\n",
       "      <th>2022-02-06</th>\n",
       "      <td>13</td>\n",
       "      <td>2</td>\n",
       "      <td>1</td>\n",
       "      <td>1</td>\n",
       "      <td>0</td>\n",
       "      <td>0</td>\n",
       "      <td>20</td>\n",
       "      <td>8</td>\n",
       "      <td>44</td>\n",
       "      <td>13</td>\n",
       "      <td>...</td>\n",
       "      <td>2</td>\n",
       "      <td>1</td>\n",
       "      <td>44</td>\n",
       "      <td>8</td>\n",
       "      <td>41</td>\n",
       "      <td>0</td>\n",
       "      <td>1</td>\n",
       "      <td>0</td>\n",
       "      <td>34</td>\n",
       "      <td>34</td>\n",
       "    </tr>\n",
       "    <tr>\n",
       "      <th>2022-02-13</th>\n",
       "      <td>8</td>\n",
       "      <td>1</td>\n",
       "      <td>1</td>\n",
       "      <td>1</td>\n",
       "      <td>0</td>\n",
       "      <td>0</td>\n",
       "      <td>8</td>\n",
       "      <td>4</td>\n",
       "      <td>36</td>\n",
       "      <td>5</td>\n",
       "      <td>...</td>\n",
       "      <td>0</td>\n",
       "      <td>0</td>\n",
       "      <td>47</td>\n",
       "      <td>15</td>\n",
       "      <td>47</td>\n",
       "      <td>0</td>\n",
       "      <td>1</td>\n",
       "      <td>0</td>\n",
       "      <td>30</td>\n",
       "      <td>28</td>\n",
       "    </tr>\n",
       "    <tr>\n",
       "      <th>2022-02-20</th>\n",
       "      <td>6</td>\n",
       "      <td>4</td>\n",
       "      <td>0</td>\n",
       "      <td>0</td>\n",
       "      <td>0</td>\n",
       "      <td>0</td>\n",
       "      <td>14</td>\n",
       "      <td>6</td>\n",
       "      <td>33</td>\n",
       "      <td>5</td>\n",
       "      <td>...</td>\n",
       "      <td>3</td>\n",
       "      <td>0</td>\n",
       "      <td>27</td>\n",
       "      <td>6</td>\n",
       "      <td>43</td>\n",
       "      <td>0</td>\n",
       "      <td>1</td>\n",
       "      <td>0</td>\n",
       "      <td>32</td>\n",
       "      <td>12</td>\n",
       "    </tr>\n",
       "    <tr>\n",
       "      <th>2022-02-27</th>\n",
       "      <td>8</td>\n",
       "      <td>2</td>\n",
       "      <td>2</td>\n",
       "      <td>0</td>\n",
       "      <td>0</td>\n",
       "      <td>0</td>\n",
       "      <td>10</td>\n",
       "      <td>2</td>\n",
       "      <td>31</td>\n",
       "      <td>4</td>\n",
       "      <td>...</td>\n",
       "      <td>1</td>\n",
       "      <td>0</td>\n",
       "      <td>18</td>\n",
       "      <td>6</td>\n",
       "      <td>44</td>\n",
       "      <td>0</td>\n",
       "      <td>1</td>\n",
       "      <td>0</td>\n",
       "      <td>39</td>\n",
       "      <td>27</td>\n",
       "    </tr>\n",
       "    <tr>\n",
       "      <th>2022-03-06</th>\n",
       "      <td>0</td>\n",
       "      <td>0</td>\n",
       "      <td>0</td>\n",
       "      <td>0</td>\n",
       "      <td>0</td>\n",
       "      <td>0</td>\n",
       "      <td>11</td>\n",
       "      <td>0</td>\n",
       "      <td>37</td>\n",
       "      <td>0</td>\n",
       "      <td>...</td>\n",
       "      <td>0</td>\n",
       "      <td>0</td>\n",
       "      <td>10</td>\n",
       "      <td>0</td>\n",
       "      <td>44</td>\n",
       "      <td>0</td>\n",
       "      <td>0</td>\n",
       "      <td>0</td>\n",
       "      <td>46</td>\n",
       "      <td>0</td>\n",
       "    </tr>\n",
       "  </tbody>\n",
       "</table>\n",
       "<p>261 rows × 26 columns</p>\n",
       "</div>"
      ],
      "text/plain": [
       "            Meebits  Meebits NFT  dotdotdots  dotdotdots NFT  CyberBrokersV  \\\n",
       "date                                                                          \n",
       "2017-03-12        0            0           0               0              0   \n",
       "2017-03-19        0            0           0               0              0   \n",
       "2017-03-26        0            0           0               0              0   \n",
       "2017-04-02        0            0           0               0              0   \n",
       "2017-04-09        0            0           0               0              0   \n",
       "...             ...          ...         ...             ...            ...   \n",
       "2022-02-06       13            2           1               1              0   \n",
       "2022-02-13        8            1           1               1              0   \n",
       "2022-02-20        6            4           0               0              0   \n",
       "2022-02-27        8            2           2               0              0   \n",
       "2022-03-06        0            0           0               0              0   \n",
       "\n",
       "            CyberBrokersV NFT  VeeFriends  VeeFriends NFT  CloneX  CloneX NFT  \\\n",
       "date                                                                            \n",
       "2017-03-12                  0           0               0      22           0   \n",
       "2017-03-19                  0           0               0      24           0   \n",
       "2017-03-26                  0           0               0      18           0   \n",
       "2017-04-02                  0           0               0      24           0   \n",
       "2017-04-09                  0           0               0      25           0   \n",
       "...                       ...         ...             ...     ...         ...   \n",
       "2022-02-06                  0          20               8      44          13   \n",
       "2022-02-13                  0           8               4      36           5   \n",
       "2022-02-20                  0          14               6      33           5   \n",
       "2022-02-27                  0          10               2      31           4   \n",
       "2022-03-06                  0          11               0      37           0   \n",
       "\n",
       "            ...  InvisibleFriends  InvisibleFriends NFT  CryptoPunks  \\\n",
       "date        ...                                                        \n",
       "2017-03-12  ...                 0                     0            0   \n",
       "2017-03-19  ...                 0                     0            0   \n",
       "2017-03-26  ...                 0                     0            0   \n",
       "2017-04-02  ...                 0                     0            0   \n",
       "2017-04-09  ...                 0                     0            0   \n",
       "...         ...               ...                   ...          ...   \n",
       "2022-02-06  ...                 2                     1           44   \n",
       "2022-02-13  ...                 0                     0           47   \n",
       "2022-02-20  ...                 3                     0           27   \n",
       "2022-02-27  ...                 1                     0           18   \n",
       "2022-03-06  ...                 0                     0           10   \n",
       "\n",
       "            CryptoPunks NFT  Landers  Landers NFT  NFTWorlds  NFTWorlds NFT  \\\n",
       "date                                                                          \n",
       "2017-03-12                0       46            0          0              0   \n",
       "2017-03-19                0       44            0          0              0   \n",
       "2017-03-26                0       44            0          0              0   \n",
       "2017-04-02                0       57            0          0              0   \n",
       "2017-04-09                0       47            0          0              0   \n",
       "...                     ...      ...          ...        ...            ...   \n",
       "2022-02-06                8       41            0          1              0   \n",
       "2022-02-13               15       47            0          1              0   \n",
       "2022-02-20                6       43            0          1              0   \n",
       "2022-02-27                6       44            0          1              0   \n",
       "2022-03-06                0       44            0          0              0   \n",
       "\n",
       "            World of Women  World of Women NFT  \n",
       "date                                            \n",
       "2017-03-12              30                   0  \n",
       "2017-03-19              31                   0  \n",
       "2017-03-26              30                   0  \n",
       "2017-04-02              31                   0  \n",
       "2017-04-09              29                   0  \n",
       "...                    ...                 ...  \n",
       "2022-02-06              34                  34  \n",
       "2022-02-13              30                  28  \n",
       "2022-02-20              32                  12  \n",
       "2022-02-27              39                  27  \n",
       "2022-03-06              46                   0  \n",
       "\n",
       "[261 rows x 26 columns]"
      ]
     },
     "execution_count": 108,
     "metadata": {},
     "output_type": "execute_result"
    }
   ],
   "source": [
    "iot"
   ]
  },
  {
   "cell_type": "code",
   "execution_count": 116,
   "metadata": {},
   "outputs": [],
   "source": [
    "iot.to_csv('data/interest_over_time.csv', index=False)"
   ]
  },
  {
   "cell_type": "markdown",
   "metadata": {},
   "source": [
    "# Hourly Interest - HOLD"
   ]
  },
  {
   "cell_type": "markdown",
   "metadata": {},
   "source": [
    "NOTE\n",
    "- Holding off on this until we have minting dates for each NFT\n",
    "- This would be super cool to run the month before and the month after the minting date for each NFT"
   ]
  },
  {
   "cell_type": "code",
   "execution_count": null,
   "metadata": {},
   "outputs": [],
   "source": [
    "# hours = pytrend.get_historical_interest(['CryptoPunks', 'Bored Ape Yacht Club'], year_start=2022, month_start=1, day_start=1, hour_start=0, year_end=2022, month_end=2, day_end=1, hour_end=0, cat=0, geo='', gprop='', sleep=0)\n",
    "# hours = hours.drop(columns=['isPartial'])"
   ]
  }
 ],
 "metadata": {
  "kernelspec": {
   "display_name": "Python 3",
   "language": "python",
   "name": "python3"
  },
  "language_info": {
   "codemirror_mode": {
    "name": "ipython",
    "version": 3
   },
   "file_extension": ".py",
   "mimetype": "text/x-python",
   "name": "python",
   "nbconvert_exporter": "python",
   "pygments_lexer": "ipython3",
   "version": "3.8.5"
  }
 },
 "nbformat": 4,
 "nbformat_minor": 4
}
