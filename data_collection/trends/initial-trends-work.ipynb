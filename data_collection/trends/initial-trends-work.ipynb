{
 "cells": [
  {
   "cell_type": "markdown",
   "metadata": {},
   "source": [
    "# Trend Search from Collection Names"
   ]
  },
  {
   "cell_type": "markdown",
   "metadata": {},
   "source": [
    "Requirements:\n",
    "- Packages\n",
    " - pytrends, `pip install pytrends`\n",
    " - pandas\n",
    " - numpy\n",
    " - time (for sleep)\n",
    " - random (for sleep)\n",
    "- Files\n",
    " - output from opensea-get-collections.ipynb\n",
    "   - currently named 'initial_opensea_get_collections.csv"
   ]
  },
  {
   "cell_type": "markdown",
   "metadata": {},
   "source": [
    "## Gather Collection Names"
   ]
  },
  {
   "cell_type": "code",
   "execution_count": 1,
   "metadata": {},
   "outputs": [],
   "source": [
    "import pandas as pd\n",
    "import numpy as np"
   ]
  },
  {
   "cell_type": "code",
   "execution_count": 3,
   "metadata": {},
   "outputs": [],
   "source": [
    "# Loading the output from get_collections\n",
    "# Only need the collection name\n",
    "collections = pd.read_csv('../opensea/initial_opensea_get_collections.csv', usecols=['collection_name'])\n",
    "collections = list(pd.unique(collections['collection_name']))"
   ]
  },
  {
   "cell_type": "code",
   "execution_count": 3,
   "metadata": {},
   "outputs": [],
   "source": [
    "# Validate that extracting the collections worked\n",
    "assert isinstance(collections, list)\n",
    "assert type(collections[0])==str"
   ]
  },
  {
   "cell_type": "code",
   "execution_count": 4,
   "metadata": {
    "scrolled": true
   },
   "outputs": [
    {
     "data": {
      "text/plain": [
       "['Genesis Bloodshed Bears',\n",
       " '3Landers',\n",
       " 'Shadow Quest',\n",
       " 'Spotlight by Joshua Bagley',\n",
       " 'Notorious Alien Space Agents',\n",
       " 'T-O-S The Other Side',\n",
       " 'Viral Mfers',\n",
       " 'DegenWaifus',\n",
       " 'Drippies']"
      ]
     },
     "execution_count": 4,
     "metadata": {},
     "output_type": "execute_result"
    }
   ],
   "source": [
    "collections"
   ]
  },
  {
   "cell_type": "markdown",
   "metadata": {},
   "source": [
    "# Google Trends"
   ]
  },
  {
   "cell_type": "code",
   "execution_count": 5,
   "metadata": {},
   "outputs": [],
   "source": [
    "from time import sleep\n",
    "from random import randint"
   ]
  },
  {
   "cell_type": "markdown",
   "metadata": {},
   "source": [
    "## Keyword Expansion"
   ]
  },
  {
   "cell_type": "markdown",
   "metadata": {},
   "source": [
    "- Summary: This is not a useful method and we should not use it.\n",
    "- Explanation:\n",
    " - There are few to no relevant search terms from a small sample (n=9)\n",
    " - Relevant terms are actually not relevant"
   ]
  },
  {
   "cell_type": "markdown",
   "metadata": {},
   "source": [
    "Resources:\n",
    "- https://github.com/GeneralMills/pytrends\n",
    "- https://pypi.org/project/pytrends/\n",
    "- https://towardsdatascience.com/google-trends-api-for-python-a84bc25db88f"
   ]
  },
  {
   "cell_type": "code",
   "execution_count": 6,
   "metadata": {},
   "outputs": [],
   "source": [
    "# pip install pytrends\n",
    "import pytrends\n",
    "from pytrends.request import TrendReq\n",
    "pytrend = TrendReq()"
   ]
  },
  {
   "cell_type": "code",
   "execution_count": 7,
   "metadata": {},
   "outputs": [],
   "source": [
    "# Initializing the base DF, just with \"NFT\" queries\n",
    "keywords = pytrend.suggestions(keyword='NFT')\n",
    "keyexp_df = pd.DataFrame(keywords)\n",
    "keyexp_df['search_term'] = 'NFT'"
   ]
  },
  {
   "cell_type": "code",
   "execution_count": 8,
   "metadata": {},
   "outputs": [],
   "source": [
    "# Searching the collection names\n",
    "# Appending to keyexp_df \n",
    "# NOTE: Many of these will be empty DFs\n",
    "# This is because most people don't search the names of collections?\n",
    "for collection_name in collections:\n",
    "    keywords = pytrend.suggestions(keyword=collection_name)\n",
    "    temp_search_df = pd.DataFrame(keywords)\n",
    "    temp_search_df['search_term'] = collection_name\n",
    "    keyexp_df = keyexp_df.append(temp_search_df)\n",
    "    sleep(randint(3, 10))"
   ]
  },
  {
   "cell_type": "code",
   "execution_count": 9,
   "metadata": {},
   "outputs": [
    {
     "data": {
      "text/html": [
       "<div>\n",
       "<style scoped>\n",
       "    .dataframe tbody tr th:only-of-type {\n",
       "        vertical-align: middle;\n",
       "    }\n",
       "\n",
       "    .dataframe tbody tr th {\n",
       "        vertical-align: top;\n",
       "    }\n",
       "\n",
       "    .dataframe thead th {\n",
       "        text-align: right;\n",
       "    }\n",
       "</style>\n",
       "<table border=\"1\" class=\"dataframe\">\n",
       "  <thead>\n",
       "    <tr style=\"text-align: right;\">\n",
       "      <th></th>\n",
       "      <th>mid</th>\n",
       "      <th>title</th>\n",
       "      <th>type</th>\n",
       "      <th>search_term</th>\n",
       "    </tr>\n",
       "  </thead>\n",
       "  <tbody>\n",
       "    <tr>\n",
       "      <th>0</th>\n",
       "      <td>/g/11g0g4sbp3</td>\n",
       "      <td>Non-fungible token</td>\n",
       "      <td>Topic</td>\n",
       "      <td>NFT</td>\n",
       "    </tr>\n",
       "    <tr>\n",
       "      <th>1</th>\n",
       "      <td>/m/06w57ds</td>\n",
       "      <td>nftables</td>\n",
       "      <td>Topic</td>\n",
       "      <td>NFT</td>\n",
       "    </tr>\n",
       "    <tr>\n",
       "      <th>2</th>\n",
       "      <td>/m/031d4k</td>\n",
       "      <td>Niagara Frontier Transportation Authority</td>\n",
       "      <td>Corporation</td>\n",
       "      <td>NFT</td>\n",
       "    </tr>\n",
       "    <tr>\n",
       "      <th>3</th>\n",
       "      <td>/m/02n0qb</td>\n",
       "      <td>NFTY</td>\n",
       "      <td>Youth organization</td>\n",
       "      <td>NFT</td>\n",
       "    </tr>\n",
       "    <tr>\n",
       "      <th>4</th>\n",
       "      <td>/g/1v9l8jyb</td>\n",
       "      <td>NFT</td>\n",
       "      <td>Topic</td>\n",
       "      <td>NFT</td>\n",
       "    </tr>\n",
       "    <tr>\n",
       "      <th>0</th>\n",
       "      <td>/g/11j67yd6rl</td>\n",
       "      <td>The Shadow of the Gods</td>\n",
       "      <td>Topic</td>\n",
       "      <td>Shadow Quest</td>\n",
       "    </tr>\n",
       "    <tr>\n",
       "      <th>1</th>\n",
       "      <td>/m/06fjvt4</td>\n",
       "      <td>The Law and The Promise</td>\n",
       "      <td>Topic</td>\n",
       "      <td>Shadow Quest</td>\n",
       "    </tr>\n",
       "    <tr>\n",
       "      <th>2</th>\n",
       "      <td>/m/0c1x527</td>\n",
       "      <td>The Yosemite</td>\n",
       "      <td>Book by John Muir</td>\n",
       "      <td>Shadow Quest</td>\n",
       "    </tr>\n",
       "    <tr>\n",
       "      <th>0</th>\n",
       "      <td>/m/03j5j</td>\n",
       "      <td>Heart of Darkness</td>\n",
       "      <td>Novella by Joseph Conrad</td>\n",
       "      <td>Notorious Alien Space Agents</td>\n",
       "    </tr>\n",
       "    <tr>\n",
       "      <th>0</th>\n",
       "      <td>/m/0n073</td>\n",
       "      <td>Common cold</td>\n",
       "      <td>Disease</td>\n",
       "      <td>T-O-S The Other Side</td>\n",
       "    </tr>\n",
       "    <tr>\n",
       "      <th>1</th>\n",
       "      <td>/m/01fsq_</td>\n",
       "      <td>Strange Case of Dr Jekyll and Mr Hyde</td>\n",
       "      <td>Novella by Robert Louis Stevenson</td>\n",
       "      <td>T-O-S The Other Side</td>\n",
       "    </tr>\n",
       "    <tr>\n",
       "      <th>2</th>\n",
       "      <td>/m/02gnpl</td>\n",
       "      <td>Holi</td>\n",
       "      <td>Festivity</td>\n",
       "      <td>T-O-S The Other Side</td>\n",
       "    </tr>\n",
       "  </tbody>\n",
       "</table>\n",
       "</div>"
      ],
      "text/plain": [
       "             mid                                      title  \\\n",
       "0  /g/11g0g4sbp3                         Non-fungible token   \n",
       "1     /m/06w57ds                                   nftables   \n",
       "2      /m/031d4k  Niagara Frontier Transportation Authority   \n",
       "3      /m/02n0qb                                       NFTY   \n",
       "4    /g/1v9l8jyb                                        NFT   \n",
       "0  /g/11j67yd6rl                     The Shadow of the Gods   \n",
       "1     /m/06fjvt4                    The Law and The Promise   \n",
       "2     /m/0c1x527                               The Yosemite   \n",
       "0       /m/03j5j                          Heart of Darkness   \n",
       "0       /m/0n073                                Common cold   \n",
       "1      /m/01fsq_      Strange Case of Dr Jekyll and Mr Hyde   \n",
       "2      /m/02gnpl                                       Holi   \n",
       "\n",
       "                                type                   search_term  \n",
       "0                              Topic                           NFT  \n",
       "1                              Topic                           NFT  \n",
       "2                        Corporation                           NFT  \n",
       "3                 Youth organization                           NFT  \n",
       "4                              Topic                           NFT  \n",
       "0                              Topic                  Shadow Quest  \n",
       "1                              Topic                  Shadow Quest  \n",
       "2                  Book by John Muir                  Shadow Quest  \n",
       "0           Novella by Joseph Conrad  Notorious Alien Space Agents  \n",
       "0                            Disease          T-O-S The Other Side  \n",
       "1  Novella by Robert Louis Stevenson          T-O-S The Other Side  \n",
       "2                          Festivity          T-O-S The Other Side  "
      ]
     },
     "execution_count": 9,
     "metadata": {},
     "output_type": "execute_result"
    }
   ],
   "source": [
    "keyexp_df"
   ]
  },
  {
   "cell_type": "code",
   "execution_count": 10,
   "metadata": {},
   "outputs": [
    {
     "data": {
      "text/plain": [
       "array(['Non-fungible token', 'nftables',\n",
       "       'Niagara Frontier Transportation Authority', 'NFTY', 'NFT',\n",
       "       'The Shadow of the Gods', 'The Law and The Promise',\n",
       "       'The Yosemite', 'Heart of Darkness', 'Common cold',\n",
       "       'Strange Case of Dr Jekyll and Mr Hyde', 'Holi'], dtype=object)"
      ]
     },
     "execution_count": 10,
     "metadata": {},
     "output_type": "execute_result"
    }
   ],
   "source": [
    "keywords_expanded = keyexp_df['title'].unique()\n",
    "keywords_expanded"
   ]
  },
  {
   "cell_type": "markdown",
   "metadata": {},
   "source": [
    "### Output"
   ]
  },
  {
   "cell_type": "code",
   "execution_count": 11,
   "metadata": {},
   "outputs": [],
   "source": [
    "keyexp_df.to_csv('data/trends_expanded_keywords.csv', index=False)"
   ]
  },
  {
   "cell_type": "markdown",
   "metadata": {},
   "source": [
    "## Top 25 Related Queries"
   ]
  },
  {
   "cell_type": "markdown",
   "metadata": {},
   "source": [
    "Notes:\n",
    "- Can only query 5 words at a time\n",
    "- Be careful about rate limits. TBD on what those are."
   ]
  },
  {
   "cell_type": "markdown",
   "metadata": {},
   "source": [
    "### Initial Formatting"
   ]
  },
  {
   "cell_type": "code",
   "execution_count": 12,
   "metadata": {},
   "outputs": [
    {
     "data": {
      "text/plain": [
       "['Genesis Bloodshed Bears',\n",
       " '3Landers',\n",
       " 'Shadow Quest',\n",
       " 'Spotlight by Joshua Bagley',\n",
       " 'Notorious Alien Space Agents',\n",
       " 'T-O-S The Other Side',\n",
       " 'Viral Mfers',\n",
       " 'DegenWaifus',\n",
       " 'Drippies']"
      ]
     },
     "execution_count": 12,
     "metadata": {},
     "output_type": "execute_result"
    }
   ],
   "source": [
    "# The initial list of collection names\n",
    "collections"
   ]
  },
  {
   "cell_type": "code",
   "execution_count": 13,
   "metadata": {},
   "outputs": [],
   "source": [
    "# Group the collection names into sets of 5\n",
    "grouped_collections = [collections[i:i + 5] for i in range(0, len(collections), 5)]"
   ]
  },
  {
   "cell_type": "code",
   "execution_count": 14,
   "metadata": {},
   "outputs": [
    {
     "name": "stdout",
     "output_type": "stream",
     "text": [
      "['Genesis Bloodshed Bears', '3Landers', 'Shadow Quest', 'Spotlight by Joshua Bagley', 'Notorious Alien Space Agents']\n",
      "2\n"
     ]
    }
   ],
   "source": [
    "print(grouped_collections[0])\n",
    "print(len(grouped_collections))"
   ]
  },
  {
   "cell_type": "markdown",
   "metadata": {},
   "source": [
    "### API Calls"
   ]
  },
  {
   "cell_type": "markdown",
   "metadata": {},
   "source": [
    "#### Initial DF - Default Keyword = \"NFT\""
   ]
  },
  {
   "cell_type": "code",
   "execution_count": 15,
   "metadata": {},
   "outputs": [],
   "source": [
    "pytrend = TrendReq()\n",
    "pytrend.build_payload(kw_list=['NFT'])\n",
    "\n",
    "# .related_queries() Returns a dictionary of dataframes\n",
    "related_queries = pytrend.related_queries()\n",
    "\n",
    "# Formatting into intended DF\n",
    "top_queries = related_queries['NFT']['top']\n",
    "top_queries['init_query'] = 'NFT'\n",
    "\n",
    "rising_queries = related_queries['NFT']['rising']\n",
    "rising_queries['init_query'] = 'NFT'"
   ]
  },
  {
   "cell_type": "code",
   "execution_count": 16,
   "metadata": {},
   "outputs": [
    {
     "name": "stdout",
     "output_type": "stream",
     "text": [
      "(25, 3)\n",
      "(25, 3)\n"
     ]
    }
   ],
   "source": [
    "print(top_queries.shape)\n",
    "print(rising_queries.shape)"
   ]
  },
  {
   "cell_type": "code",
   "execution_count": 17,
   "metadata": {},
   "outputs": [
    {
     "data": {
      "text/html": [
       "<div>\n",
       "<style scoped>\n",
       "    .dataframe tbody tr th:only-of-type {\n",
       "        vertical-align: middle;\n",
       "    }\n",
       "\n",
       "    .dataframe tbody tr th {\n",
       "        vertical-align: top;\n",
       "    }\n",
       "\n",
       "    .dataframe thead th {\n",
       "        text-align: right;\n",
       "    }\n",
       "</style>\n",
       "<table border=\"1\" class=\"dataframe\">\n",
       "  <thead>\n",
       "    <tr style=\"text-align: right;\">\n",
       "      <th></th>\n",
       "      <th>query</th>\n",
       "      <th>value</th>\n",
       "      <th>init_query</th>\n",
       "    </tr>\n",
       "  </thead>\n",
       "  <tbody>\n",
       "    <tr>\n",
       "      <th>0</th>\n",
       "      <td>nft meaning</td>\n",
       "      <td>100</td>\n",
       "      <td>NFT</td>\n",
       "    </tr>\n",
       "    <tr>\n",
       "      <th>1</th>\n",
       "      <td>what is nft</td>\n",
       "      <td>85</td>\n",
       "      <td>NFT</td>\n",
       "    </tr>\n",
       "    <tr>\n",
       "      <th>2</th>\n",
       "      <td>nft art</td>\n",
       "      <td>75</td>\n",
       "      <td>NFT</td>\n",
       "    </tr>\n",
       "    <tr>\n",
       "      <th>3</th>\n",
       "      <td>nft crypto</td>\n",
       "      <td>57</td>\n",
       "      <td>NFT</td>\n",
       "    </tr>\n",
       "    <tr>\n",
       "      <th>4</th>\n",
       "      <td>crypto</td>\n",
       "      <td>57</td>\n",
       "      <td>NFT</td>\n",
       "    </tr>\n",
       "  </tbody>\n",
       "</table>\n",
       "</div>"
      ],
      "text/plain": [
       "         query  value init_query\n",
       "0  nft meaning    100        NFT\n",
       "1  what is nft     85        NFT\n",
       "2      nft art     75        NFT\n",
       "3   nft crypto     57        NFT\n",
       "4       crypto     57        NFT"
      ]
     },
     "execution_count": 17,
     "metadata": {},
     "output_type": "execute_result"
    }
   ],
   "source": [
    "top_queries.head()"
   ]
  },
  {
   "cell_type": "code",
   "execution_count": 18,
   "metadata": {},
   "outputs": [
    {
     "data": {
      "text/html": [
       "<div>\n",
       "<style scoped>\n",
       "    .dataframe tbody tr th:only-of-type {\n",
       "        vertical-align: middle;\n",
       "    }\n",
       "\n",
       "    .dataframe tbody tr th {\n",
       "        vertical-align: top;\n",
       "    }\n",
       "\n",
       "    .dataframe thead th {\n",
       "        text-align: right;\n",
       "    }\n",
       "</style>\n",
       "<table border=\"1\" class=\"dataframe\">\n",
       "  <thead>\n",
       "    <tr style=\"text-align: right;\">\n",
       "      <th></th>\n",
       "      <th>query</th>\n",
       "      <th>value</th>\n",
       "      <th>init_query</th>\n",
       "    </tr>\n",
       "  </thead>\n",
       "  <tbody>\n",
       "    <tr>\n",
       "      <th>0</th>\n",
       "      <td>opensea</td>\n",
       "      <td>453350</td>\n",
       "      <td>NFT</td>\n",
       "    </tr>\n",
       "    <tr>\n",
       "      <th>1</th>\n",
       "      <td>opensea nft</td>\n",
       "      <td>453350</td>\n",
       "      <td>NFT</td>\n",
       "    </tr>\n",
       "    <tr>\n",
       "      <th>2</th>\n",
       "      <td>nft marketplace</td>\n",
       "      <td>344400</td>\n",
       "      <td>NFT</td>\n",
       "    </tr>\n",
       "    <tr>\n",
       "      <th>3</th>\n",
       "      <td>binance nft</td>\n",
       "      <td>170250</td>\n",
       "      <td>NFT</td>\n",
       "    </tr>\n",
       "    <tr>\n",
       "      <th>4</th>\n",
       "      <td>binance</td>\n",
       "      <td>170250</td>\n",
       "      <td>NFT</td>\n",
       "    </tr>\n",
       "  </tbody>\n",
       "</table>\n",
       "</div>"
      ],
      "text/plain": [
       "             query   value init_query\n",
       "0          opensea  453350        NFT\n",
       "1      opensea nft  453350        NFT\n",
       "2  nft marketplace  344400        NFT\n",
       "3      binance nft  170250        NFT\n",
       "4          binance  170250        NFT"
      ]
     },
     "execution_count": 18,
     "metadata": {},
     "output_type": "execute_result"
    }
   ],
   "source": [
    "rising_queries.head()"
   ]
  },
  {
   "cell_type": "markdown",
   "metadata": {},
   "source": [
    "#### Search the rest of the collection names"
   ]
  },
  {
   "cell_type": "code",
   "execution_count": 19,
   "metadata": {},
   "outputs": [],
   "source": [
    "for set_5 in grouped_collections:\n",
    "    pytrend = TrendReq()\n",
    "    # Call the API.\n",
    "    pytrend.build_payload(kw_list=set_5)\n",
    "    # .related_queries() Returns a dictionary of dataframes\n",
    "    related_queries = pytrend.related_queries()\n",
    "    \n",
    "    for key in list(related_queries.keys()):\n",
    "        try:\n",
    "            temp_top_queries = related_queries[key]['top']\n",
    "            temp_top_queries['init_query'] = key\n",
    "\n",
    "            temp_rising_queries = related_queries[key]['rising']\n",
    "            temp_rising_queries['init_query'] = key\n",
    "\n",
    "            top_queries = top_queries.append(temp_top_queries)\n",
    "            rising_queries = rising_queries.append(temp_rising_queries)\n",
    "        except:\n",
    "            pass\n",
    "    sleep(randint(5, 15))"
   ]
  },
  {
   "cell_type": "code",
   "execution_count": 20,
   "metadata": {},
   "outputs": [
    {
     "name": "stdout",
     "output_type": "stream",
     "text": [
      "(51, 3)\n",
      "(51, 3)\n"
     ]
    }
   ],
   "source": [
    "print(top_queries.shape)\n",
    "print(rising_queries.shape)"
   ]
  },
  {
   "cell_type": "code",
   "execution_count": 21,
   "metadata": {},
   "outputs": [
    {
     "data": {
      "text/html": [
       "<div>\n",
       "<style scoped>\n",
       "    .dataframe tbody tr th:only-of-type {\n",
       "        vertical-align: middle;\n",
       "    }\n",
       "\n",
       "    .dataframe tbody tr th {\n",
       "        vertical-align: top;\n",
       "    }\n",
       "\n",
       "    .dataframe thead th {\n",
       "        text-align: right;\n",
       "    }\n",
       "</style>\n",
       "<table border=\"1\" class=\"dataframe\">\n",
       "  <thead>\n",
       "    <tr style=\"text-align: right;\">\n",
       "      <th></th>\n",
       "      <th>query</th>\n",
       "      <th>value</th>\n",
       "      <th>init_query</th>\n",
       "    </tr>\n",
       "  </thead>\n",
       "  <tbody>\n",
       "    <tr>\n",
       "      <th>0</th>\n",
       "      <td>nft meaning</td>\n",
       "      <td>100</td>\n",
       "      <td>NFT</td>\n",
       "    </tr>\n",
       "    <tr>\n",
       "      <th>1</th>\n",
       "      <td>what is nft</td>\n",
       "      <td>85</td>\n",
       "      <td>NFT</td>\n",
       "    </tr>\n",
       "    <tr>\n",
       "      <th>2</th>\n",
       "      <td>nft art</td>\n",
       "      <td>75</td>\n",
       "      <td>NFT</td>\n",
       "    </tr>\n",
       "    <tr>\n",
       "      <th>3</th>\n",
       "      <td>nft crypto</td>\n",
       "      <td>57</td>\n",
       "      <td>NFT</td>\n",
       "    </tr>\n",
       "    <tr>\n",
       "      <th>4</th>\n",
       "      <td>crypto</td>\n",
       "      <td>57</td>\n",
       "      <td>NFT</td>\n",
       "    </tr>\n",
       "  </tbody>\n",
       "</table>\n",
       "</div>"
      ],
      "text/plain": [
       "         query  value init_query\n",
       "0  nft meaning    100        NFT\n",
       "1  what is nft     85        NFT\n",
       "2      nft art     75        NFT\n",
       "3   nft crypto     57        NFT\n",
       "4       crypto     57        NFT"
      ]
     },
     "execution_count": 21,
     "metadata": {},
     "output_type": "execute_result"
    }
   ],
   "source": [
    "top_queries.head()"
   ]
  },
  {
   "cell_type": "code",
   "execution_count": 22,
   "metadata": {},
   "outputs": [
    {
     "data": {
      "text/html": [
       "<div>\n",
       "<style scoped>\n",
       "    .dataframe tbody tr th:only-of-type {\n",
       "        vertical-align: middle;\n",
       "    }\n",
       "\n",
       "    .dataframe tbody tr th {\n",
       "        vertical-align: top;\n",
       "    }\n",
       "\n",
       "    .dataframe thead th {\n",
       "        text-align: right;\n",
       "    }\n",
       "</style>\n",
       "<table border=\"1\" class=\"dataframe\">\n",
       "  <thead>\n",
       "    <tr style=\"text-align: right;\">\n",
       "      <th></th>\n",
       "      <th>query</th>\n",
       "      <th>value</th>\n",
       "      <th>init_query</th>\n",
       "    </tr>\n",
       "  </thead>\n",
       "  <tbody>\n",
       "    <tr>\n",
       "      <th>21</th>\n",
       "      <td>shadow vr</td>\n",
       "      <td>3</td>\n",
       "      <td>Shadow Quest</td>\n",
       "    </tr>\n",
       "    <tr>\n",
       "      <th>22</th>\n",
       "      <td>shadow of the tomb raider</td>\n",
       "      <td>3</td>\n",
       "      <td>Shadow Quest</td>\n",
       "    </tr>\n",
       "    <tr>\n",
       "      <th>23</th>\n",
       "      <td>side quest</td>\n",
       "      <td>3</td>\n",
       "      <td>Shadow Quest</td>\n",
       "    </tr>\n",
       "    <tr>\n",
       "      <th>24</th>\n",
       "      <td>oculus quest 2</td>\n",
       "      <td>3</td>\n",
       "      <td>Shadow Quest</td>\n",
       "    </tr>\n",
       "    <tr>\n",
       "      <th>0</th>\n",
       "      <td>drippies nft</td>\n",
       "      <td>100</td>\n",
       "      <td>Drippies</td>\n",
       "    </tr>\n",
       "  </tbody>\n",
       "</table>\n",
       "</div>"
      ],
      "text/plain": [
       "                        query  value    init_query\n",
       "21                  shadow vr      3  Shadow Quest\n",
       "22  shadow of the tomb raider      3  Shadow Quest\n",
       "23                 side quest      3  Shadow Quest\n",
       "24             oculus quest 2      3  Shadow Quest\n",
       "0                drippies nft    100      Drippies"
      ]
     },
     "execution_count": 22,
     "metadata": {},
     "output_type": "execute_result"
    }
   ],
   "source": [
    "top_queries.tail()"
   ]
  },
  {
   "cell_type": "code",
   "execution_count": 23,
   "metadata": {},
   "outputs": [
    {
     "data": {
      "text/html": [
       "<div>\n",
       "<style scoped>\n",
       "    .dataframe tbody tr th:only-of-type {\n",
       "        vertical-align: middle;\n",
       "    }\n",
       "\n",
       "    .dataframe tbody tr th {\n",
       "        vertical-align: top;\n",
       "    }\n",
       "\n",
       "    .dataframe thead th {\n",
       "        text-align: right;\n",
       "    }\n",
       "</style>\n",
       "<table border=\"1\" class=\"dataframe\">\n",
       "  <thead>\n",
       "    <tr style=\"text-align: right;\">\n",
       "      <th></th>\n",
       "      <th>query</th>\n",
       "      <th>value</th>\n",
       "      <th>init_query</th>\n",
       "    </tr>\n",
       "  </thead>\n",
       "  <tbody>\n",
       "    <tr>\n",
       "      <th>0</th>\n",
       "      <td>opensea</td>\n",
       "      <td>453350</td>\n",
       "      <td>NFT</td>\n",
       "    </tr>\n",
       "    <tr>\n",
       "      <th>1</th>\n",
       "      <td>opensea nft</td>\n",
       "      <td>453350</td>\n",
       "      <td>NFT</td>\n",
       "    </tr>\n",
       "    <tr>\n",
       "      <th>2</th>\n",
       "      <td>nft marketplace</td>\n",
       "      <td>344400</td>\n",
       "      <td>NFT</td>\n",
       "    </tr>\n",
       "    <tr>\n",
       "      <th>3</th>\n",
       "      <td>binance nft</td>\n",
       "      <td>170250</td>\n",
       "      <td>NFT</td>\n",
       "    </tr>\n",
       "    <tr>\n",
       "      <th>4</th>\n",
       "      <td>binance</td>\n",
       "      <td>170250</td>\n",
       "      <td>NFT</td>\n",
       "    </tr>\n",
       "  </tbody>\n",
       "</table>\n",
       "</div>"
      ],
      "text/plain": [
       "             query   value init_query\n",
       "0          opensea  453350        NFT\n",
       "1      opensea nft  453350        NFT\n",
       "2  nft marketplace  344400        NFT\n",
       "3      binance nft  170250        NFT\n",
       "4          binance  170250        NFT"
      ]
     },
     "execution_count": 23,
     "metadata": {},
     "output_type": "execute_result"
    }
   ],
   "source": [
    "rising_queries.head()"
   ]
  },
  {
   "cell_type": "code",
   "execution_count": 24,
   "metadata": {},
   "outputs": [
    {
     "data": {
      "text/html": [
       "<div>\n",
       "<style scoped>\n",
       "    .dataframe tbody tr th:only-of-type {\n",
       "        vertical-align: middle;\n",
       "    }\n",
       "\n",
       "    .dataframe tbody tr th {\n",
       "        vertical-align: top;\n",
       "    }\n",
       "\n",
       "    .dataframe thead th {\n",
       "        text-align: right;\n",
       "    }\n",
       "</style>\n",
       "<table border=\"1\" class=\"dataframe\">\n",
       "  <thead>\n",
       "    <tr style=\"text-align: right;\">\n",
       "      <th></th>\n",
       "      <th>query</th>\n",
       "      <th>value</th>\n",
       "      <th>init_query</th>\n",
       "    </tr>\n",
       "  </thead>\n",
       "  <tbody>\n",
       "    <tr>\n",
       "      <th>21</th>\n",
       "      <td>the looming shadow</td>\n",
       "      <td>61950</td>\n",
       "      <td>Shadow Quest</td>\n",
       "    </tr>\n",
       "    <tr>\n",
       "      <th>22</th>\n",
       "      <td>war of light and shadow</td>\n",
       "      <td>61250</td>\n",
       "      <td>Shadow Quest</td>\n",
       "    </tr>\n",
       "    <tr>\n",
       "      <th>23</th>\n",
       "      <td>shadow of war bruz quest</td>\n",
       "      <td>59450</td>\n",
       "      <td>Shadow Quest</td>\n",
       "    </tr>\n",
       "    <tr>\n",
       "      <th>24</th>\n",
       "      <td>shadow of war the bright lord quest</td>\n",
       "      <td>59400</td>\n",
       "      <td>Shadow Quest</td>\n",
       "    </tr>\n",
       "    <tr>\n",
       "      <th>0</th>\n",
       "      <td>drippies nft</td>\n",
       "      <td>3333250</td>\n",
       "      <td>Drippies</td>\n",
       "    </tr>\n",
       "  </tbody>\n",
       "</table>\n",
       "</div>"
      ],
      "text/plain": [
       "                                  query    value    init_query\n",
       "21                   the looming shadow    61950  Shadow Quest\n",
       "22              war of light and shadow    61250  Shadow Quest\n",
       "23             shadow of war bruz quest    59450  Shadow Quest\n",
       "24  shadow of war the bright lord quest    59400  Shadow Quest\n",
       "0                          drippies nft  3333250      Drippies"
      ]
     },
     "execution_count": 24,
     "metadata": {},
     "output_type": "execute_result"
    }
   ],
   "source": [
    "rising_queries.tail()"
   ]
  },
  {
   "cell_type": "markdown",
   "metadata": {},
   "source": [
    "# Output"
   ]
  },
  {
   "cell_type": "code",
   "execution_count": 25,
   "metadata": {},
   "outputs": [],
   "source": [
    "rising_queries.to_csv('data/trends_rising_queries.csv', index=False)\n",
    "top_queries.to_csv('data/trends_top_queries.csv', index=False)"
   ]
  },
  {
   "cell_type": "markdown",
   "metadata": {},
   "source": [
    "## Historical Hourly Interest\n",
    "- TO DO"
   ]
  },
  {
   "cell_type": "code",
   "execution_count": 26,
   "metadata": {},
   "outputs": [],
   "source": [
    "# pytrends.get_historical_interest(kw_list, year_start=2018, month_start=1, day_start=1, hour_start=0, year_end=2018, month_end=2, day_end=1, hour_end=0, cat=0, geo='', gprop='', sleep=0)"
   ]
  },
  {
   "cell_type": "code",
   "execution_count": null,
   "metadata": {},
   "outputs": [],
   "source": []
  }
 ],
 "metadata": {
  "kernelspec": {
   "display_name": "Python 3",
   "language": "python",
   "name": "python3"
  },
  "language_info": {
   "codemirror_mode": {
    "name": "ipython",
    "version": 3
   },
   "file_extension": ".py",
   "mimetype": "text/x-python",
   "name": "python",
   "nbconvert_exporter": "python",
   "pygments_lexer": "ipython3",
   "version": "3.8.5"
  }
 },
 "nbformat": 4,
 "nbformat_minor": 4
}
