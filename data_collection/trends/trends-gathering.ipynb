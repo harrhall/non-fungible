{
 "cells": [
  {
   "cell_type": "markdown",
   "metadata": {},
   "source": [
    "# Trend Search from Collection Names"
   ]
  },
  {
   "cell_type": "markdown",
   "metadata": {},
   "source": [
    "Requirements:\n",
    "- Packages\n",
    " - pytrends, `pip install pytrends`\n",
    " - pandas\n",
    " - numpy\n",
    " - time (for sleep)\n",
    " - random (for sleep)\n",
    "- Files\n",
    " - `data/collection_names.txt`"
   ]
  },
  {
   "cell_type": "markdown",
   "metadata": {},
   "source": [
    "## 1. Import Data"
   ]
  },
  {
   "cell_type": "code",
   "execution_count": 1,
   "metadata": {},
   "outputs": [],
   "source": [
    "# Basics\n",
    "import pandas as pd\n",
    "import numpy as np\n",
    "import warnings\n",
    "warnings.filterwarnings('ignore')\n",
    "import json\n",
    "from tqdm.notebook import tqdm_notebook\n",
    "\n",
    "# !pip install pytrends\n",
    "import pytrends\n",
    "from pytrends.request import TrendReq\n",
    "from datetime import date, datetime, timedelta"
   ]
  },
  {
   "cell_type": "code",
   "execution_count": 2,
   "metadata": {},
   "outputs": [],
   "source": [
    "# Loading the dictionary\n",
    "with open('data/mint_json.json', 'rb') as f:\n",
    "    init_mint_dict = json.load(f)\n",
    "init_mint_dict = json.loads(init_mint_dict)"
   ]
  },
  {
   "cell_type": "code",
   "execution_count": 4,
   "metadata": {},
   "outputs": [],
   "source": [
    "# Getting rid of those pesky \" NFT\" items\n",
    "# Also converting to datetime\n",
    "mint_dict = {}\n",
    "mint_dict_nft = {}\n",
    "for key in init_mint_dict.keys():\n",
    "    if key[-4:] !=' NFT':\n",
    "        mint_dict[key] = pd.to_datetime(init_mint_dict[key])\n",
    "    else:\n",
    "        mint_dict_nft[key] = pd.to_datetime(init_mint_dict[key])"
   ]
  },
  {
   "cell_type": "markdown",
   "metadata": {},
   "source": [
    "## 2. Google Trends - Interest_Over_Time"
   ]
  },
  {
   "cell_type": "markdown",
   "metadata": {},
   "source": [
    "Description:\n",
    "- For each collection, grab the search frequency over time.\n",
    "- Timeframe: 268 days after minting date, or today (April 10, 2022)\n",
    "- Returns large dataframe with 3 columns and many rows.\n",
    " - date col has duplicate values"
   ]
  },
  {
   "cell_type": "markdown",
   "metadata": {},
   "source": [
    "### Interest_Over_Time"
   ]
  },
  {
   "cell_type": "code",
   "execution_count": 6,
   "metadata": {},
   "outputs": [],
   "source": [
    "collection_info = list(mint_dict.items())\n",
    "# Build the initial dataframe\n",
    "init_search = collection_info[0]\n",
    "start_date = init_search[1].date()\n",
    "\n",
    "\n",
    "end_date = start_date + timedelta(days=268)\n",
    "if end_date > date.today():\n",
    "    end_date = date.today().strftime('%Y-%m-%d')\n",
    "else: \n",
    "    end_date = end_date.date().strftime('%Y-%m-%d')\n",
    "\n",
    "# # Trends work\n",
    "pytrend = TrendReq()\n",
    "\n",
    "tf = str(start_date) + \" \" + str(end_date)\n",
    "\n",
    "# The interest_over_time function gives daily data within a timeframe of 269 days.\n",
    "# 134 on each side of minting date\n",
    "pytrend.build_payload(kw_list=[init_search[0]], timeframe=tf)\n",
    "df = pytrend.interest_over_time()\n",
    "\n",
    "# Formatting\n",
    "df = df.drop(columns=['isPartial'])\n",
    "df = df.reset_index()\n",
    "df = df.rename(columns={init_search[0]:\"trends\"})\n",
    "# Adding collection_name as a column\n",
    "df['collection_name'] = init_search[0]"
   ]
  },
  {
   "cell_type": "code",
   "execution_count": 8,
   "metadata": {},
   "outputs": [
    {
     "data": {
      "application/vnd.jupyter.widget-view+json": {
       "model_id": "43cf9c155cca4611a0bb83d09b557176",
       "version_major": 2,
       "version_minor": 0
      },
      "text/plain": [
       "Progress gathering Trends:   0%|          | 0/265 [00:00<?, ?it/s]"
      ]
     },
     "metadata": {},
     "output_type": "display_data"
    }
   ],
   "source": [
    "# Do it for the rest of them\n",
    "for search_index in tqdm_notebook(range(len(collection_info[1:])), desc='Progress gathering Trends'):\n",
    "    try:\n",
    "        name = collection_info[search_index][0]\n",
    "        # Date formatting\n",
    "        start_date = collection_info[search_index][1].date()\n",
    "        end_date = start_date + timedelta(days=268)\n",
    "        \n",
    "        # If minting_date + 268 days is after today (April 10, 2022), then set end_date to today\n",
    "        if end_date > date.today():\n",
    "            end_date = date.today().strftime('%Y-%m-%d')\n",
    "        else: \n",
    "            end_date = end_date.strftime('%Y-%m-%d')\n",
    "\n",
    "        # Trends work\n",
    "        pytrend = TrendReq()\n",
    "        tf = str(start_date)+' '+str(end_date)\n",
    "        pytrend.build_payload(kw_list=[name], timeframe=tf)\n",
    "        temp_df = pytrend.interest_over_time()\n",
    "        \n",
    "        # Initial formatting\n",
    "        temp_df = temp_df.drop(columns=['isPartial'])\n",
    "        temp_df = temp_df.reset_index()\n",
    "        \n",
    "        # Adding collection_name as a column\n",
    "        temp_df['collection_name'] = name\n",
    "        \n",
    "        # Convert trend data to \"trends\" col name\n",
    "        temp_df = temp_df.rename(columns={name:\"trends\"})\n",
    "\n",
    "        # Add to the main df        \n",
    "        df = df.append(temp_df[['date', \"trends\", \"collection_name\"]])\n",
    "        \n",
    "    except KeyError as err:\n",
    "        pass"
   ]
  },
  {
   "cell_type": "code",
   "execution_count": 9,
   "metadata": {},
   "outputs": [],
   "source": [
    "# Scaling\n",
    "# All the trends data is already on a 0 to 100 scale;\n",
    "# Just dividing the values by 100\n",
    "df['trends'] = df['trends']/100"
   ]
  },
  {
   "cell_type": "code",
   "execution_count": 13,
   "metadata": {},
   "outputs": [],
   "source": [
    "df = df.reset_index(drop=True)"
   ]
  },
  {
   "cell_type": "code",
   "execution_count": 21,
   "metadata": {},
   "outputs": [],
   "source": [
    "df['trends_previous_day'] = df['trends'].shift(1)\n",
    "df['trends_two_days_prior'] = df['trends'].shift(2)"
   ]
  },
  {
   "cell_type": "code",
   "execution_count": 22,
   "metadata": {},
   "outputs": [
    {
     "data": {
      "text/html": [
       "<div>\n",
       "<style scoped>\n",
       "    .dataframe tbody tr th:only-of-type {\n",
       "        vertical-align: middle;\n",
       "    }\n",
       "\n",
       "    .dataframe tbody tr th {\n",
       "        vertical-align: top;\n",
       "    }\n",
       "\n",
       "    .dataframe thead th {\n",
       "        text-align: right;\n",
       "    }\n",
       "</style>\n",
       "<table border=\"1\" class=\"dataframe\">\n",
       "  <thead>\n",
       "    <tr style=\"text-align: right;\">\n",
       "      <th></th>\n",
       "      <th>date</th>\n",
       "      <th>trends</th>\n",
       "      <th>collection_name</th>\n",
       "      <th>trends_previous_day</th>\n",
       "      <th>trends_two_days_prior</th>\n",
       "    </tr>\n",
       "  </thead>\n",
       "  <tbody>\n",
       "    <tr>\n",
       "      <th>0</th>\n",
       "      <td>2021-09-16</td>\n",
       "      <td>0.34</td>\n",
       "      <td>Anonymice</td>\n",
       "      <td>NaN</td>\n",
       "      <td>NaN</td>\n",
       "    </tr>\n",
       "    <tr>\n",
       "      <th>1</th>\n",
       "      <td>2021-09-17</td>\n",
       "      <td>0.17</td>\n",
       "      <td>Anonymice</td>\n",
       "      <td>0.34</td>\n",
       "      <td>NaN</td>\n",
       "    </tr>\n",
       "    <tr>\n",
       "      <th>2</th>\n",
       "      <td>2021-09-18</td>\n",
       "      <td>0.38</td>\n",
       "      <td>Anonymice</td>\n",
       "      <td>0.17</td>\n",
       "      <td>0.34</td>\n",
       "    </tr>\n",
       "    <tr>\n",
       "      <th>3</th>\n",
       "      <td>2021-09-19</td>\n",
       "      <td>0.19</td>\n",
       "      <td>Anonymice</td>\n",
       "      <td>0.38</td>\n",
       "      <td>0.17</td>\n",
       "    </tr>\n",
       "    <tr>\n",
       "      <th>4</th>\n",
       "      <td>2021-09-20</td>\n",
       "      <td>0.66</td>\n",
       "      <td>Anonymice</td>\n",
       "      <td>0.19</td>\n",
       "      <td>0.38</td>\n",
       "    </tr>\n",
       "    <tr>\n",
       "      <th>...</th>\n",
       "      <td>...</td>\n",
       "      <td>...</td>\n",
       "      <td>...</td>\n",
       "      <td>...</td>\n",
       "      <td>...</td>\n",
       "    </tr>\n",
       "    <tr>\n",
       "      <th>47375</th>\n",
       "      <td>2022-04-06</td>\n",
       "      <td>0.00</td>\n",
       "      <td>Tronwars</td>\n",
       "      <td>0.00</td>\n",
       "      <td>0.00</td>\n",
       "    </tr>\n",
       "    <tr>\n",
       "      <th>47376</th>\n",
       "      <td>2022-04-07</td>\n",
       "      <td>0.10</td>\n",
       "      <td>Tronwars</td>\n",
       "      <td>0.00</td>\n",
       "      <td>0.00</td>\n",
       "    </tr>\n",
       "    <tr>\n",
       "      <th>47377</th>\n",
       "      <td>2022-04-08</td>\n",
       "      <td>0.00</td>\n",
       "      <td>Tronwars</td>\n",
       "      <td>0.10</td>\n",
       "      <td>0.00</td>\n",
       "    </tr>\n",
       "    <tr>\n",
       "      <th>47378</th>\n",
       "      <td>2022-04-09</td>\n",
       "      <td>0.00</td>\n",
       "      <td>Tronwars</td>\n",
       "      <td>0.00</td>\n",
       "      <td>0.10</td>\n",
       "    </tr>\n",
       "    <tr>\n",
       "      <th>47379</th>\n",
       "      <td>2022-04-10</td>\n",
       "      <td>0.00</td>\n",
       "      <td>Tronwars</td>\n",
       "      <td>0.00</td>\n",
       "      <td>0.00</td>\n",
       "    </tr>\n",
       "  </tbody>\n",
       "</table>\n",
       "<p>47380 rows × 5 columns</p>\n",
       "</div>"
      ],
      "text/plain": [
       "            date  trends collection_name  trends_previous_day  \\\n",
       "0     2021-09-16    0.34       Anonymice                  NaN   \n",
       "1     2021-09-17    0.17       Anonymice                 0.34   \n",
       "2     2021-09-18    0.38       Anonymice                 0.17   \n",
       "3     2021-09-19    0.19       Anonymice                 0.38   \n",
       "4     2021-09-20    0.66       Anonymice                 0.19   \n",
       "...          ...     ...             ...                  ...   \n",
       "47375 2022-04-06    0.00        Tronwars                 0.00   \n",
       "47376 2022-04-07    0.10        Tronwars                 0.00   \n",
       "47377 2022-04-08    0.00        Tronwars                 0.10   \n",
       "47378 2022-04-09    0.00        Tronwars                 0.00   \n",
       "47379 2022-04-10    0.00        Tronwars                 0.00   \n",
       "\n",
       "       trends_two_days_prior  \n",
       "0                        NaN  \n",
       "1                        NaN  \n",
       "2                       0.34  \n",
       "3                       0.17  \n",
       "4                       0.38  \n",
       "...                      ...  \n",
       "47375                   0.00  \n",
       "47376                   0.00  \n",
       "47377                   0.00  \n",
       "47378                   0.10  \n",
       "47379                   0.00  \n",
       "\n",
       "[47380 rows x 5 columns]"
      ]
     },
     "execution_count": 22,
     "metadata": {},
     "output_type": "execute_result"
    }
   ],
   "source": [
    "df"
   ]
  },
  {
   "cell_type": "code",
   "execution_count": 23,
   "metadata": {},
   "outputs": [],
   "source": [
    "df.to_csv('data/daily_interest.csv', index=False)"
   ]
  }
 ],
 "metadata": {
  "kernelspec": {
   "display_name": "Python 3",
   "language": "python",
   "name": "python3"
  },
  "language_info": {
   "codemirror_mode": {
    "name": "ipython",
    "version": 3
   },
   "file_extension": ".py",
   "mimetype": "text/x-python",
   "name": "python",
   "nbconvert_exporter": "python",
   "pygments_lexer": "ipython3",
   "version": "3.8.5"
  }
 },
 "nbformat": 4,
 "nbformat_minor": 4
}
