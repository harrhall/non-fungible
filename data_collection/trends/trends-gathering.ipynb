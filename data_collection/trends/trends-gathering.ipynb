{
 "cells": [
  {
   "cell_type": "markdown",
   "metadata": {},
   "source": [
    "# Trend Search from Collection Names"
   ]
  },
  {
   "cell_type": "markdown",
   "metadata": {},
   "source": [
    "Requirements:\n",
    "- Packages\n",
    " - pytrends, `pip install pytrends`\n",
    " - pandas\n",
    " - numpy\n",
    " - time (for sleep)\n",
    " - random (for sleep)\n",
    "- Files\n",
    " - `data/collection_names.txt`"
   ]
  },
  {
   "cell_type": "markdown",
   "metadata": {},
   "source": [
    "## 1. Import Data"
   ]
  },
  {
   "cell_type": "code",
   "execution_count": 1,
   "metadata": {},
   "outputs": [],
   "source": [
    "# Basics\n",
    "import pandas as pd\n",
    "import numpy as np\n",
    "import warnings\n",
    "warnings.filterwarnings('ignore')\n",
    "import json\n",
    "\n",
    "# PyTrends\n",
    "import pytrends\n",
    "from pytrends.request import TrendReq\n",
    "from datetime import datetime, timedelta\n",
    "\n",
    "# Sleeping\n",
    "import time\n",
    "from time import sleep\n",
    "from random import randint"
   ]
  },
  {
   "cell_type": "code",
   "execution_count": 2,
   "metadata": {},
   "outputs": [],
   "source": [
    "# Loading the dictionary\n",
    "with open('data/mint_json.json', 'rb') as f:\n",
    "    mint_dict = json.load(f)\n",
    "mint_dict = json.loads(mint_dict)"
   ]
  },
  {
   "cell_type": "code",
   "execution_count": 3,
   "metadata": {},
   "outputs": [],
   "source": [
    "# Convert back to datetimes\n",
    "for key in mint_dict.keys():\n",
    "    mint_dict[key] = pd.to_datetime(mint_dict[key])"
   ]
  },
  {
   "cell_type": "markdown",
   "metadata": {},
   "source": [
    "## 2. Google Trends - Interest_Over_Time"
   ]
  },
  {
   "cell_type": "markdown",
   "metadata": {},
   "source": [
    "Description:\n",
    "- For each collection, grab the search frequency over time.\n",
    "- Timeframe: 134 days before minting date, 134 days after minting date\n",
    "- Returns large dataframe with every collection name (and name+\" NFT\"), ranging from mint-134 days to mint+134 days"
   ]
  },
  {
   "cell_type": "markdown",
   "metadata": {},
   "source": [
    "### Interest_Over_Time"
   ]
  },
  {
   "cell_type": "code",
   "execution_count": 6,
   "metadata": {},
   "outputs": [],
   "source": [
    "# !pip install pytrends\n",
    "import pytrends\n",
    "from pytrends.request import TrendReq\n",
    "from datetime import datetime, timedelta"
   ]
  },
  {
   "cell_type": "code",
   "execution_count": 7,
   "metadata": {},
   "outputs": [],
   "source": [
    "collection_info = list(mint_dict.items())\n",
    "# Build the initial dataframe\n",
    "init_search = collection_info[0]\n",
    "minting_date = init_search[1]\n",
    "\n",
    "start_date = (minting_date - timedelta(days=134)).date().strftime('%Y-%m-%d')\n",
    "\n",
    "\n",
    "end_date = (minting_date + timedelta(days=134)).date().strftime('%Y-%m-%d')\n",
    "\n",
    "# # Trends work\n",
    "pytrend = TrendReq()\n",
    "\n",
    "tf = start_date+' '+end_date\n",
    "\n",
    "# The interest_over_time function gives daily data within a timeframe of 269 days.\n",
    "# 134 on each side of minting date\n",
    "pytrend.build_payload(kw_list=[init_search[0]], timeframe=tf)\n",
    "df = pytrend.interest_over_time()\n",
    "\n",
    "\n",
    "# Initial formatting\n",
    "df = df.drop(columns=['isPartial'])\n",
    "df = df.reset_index()\n",
    "df['{}_date'.format(init_search[0])] = df['date'].apply(lambda x: x.date())\n",
    "# Don't need date col anymore\n",
    "df = df.drop(columns=['date'])\n",
    "# creating relative index\n",
    "index_dates = []\n",
    "count = 135\n",
    "for val in df.index:\n",
    "    if val < 134:\n",
    "        count -= 1\n",
    "        index_dates.append('{}_before'.format(count))\n",
    "    elif val == 134:\n",
    "        index_dates.append('minting_date')\n",
    "        count = 0\n",
    "    else:\n",
    "        count += 1\n",
    "        index_dates.append('{}_after'.format(count))\n",
    "df.index = index_dates"
   ]
  },
  {
   "cell_type": "code",
   "execution_count": 9,
   "metadata": {},
   "outputs": [],
   "source": [
    "from tqdm.notebook import tqdm_notebook"
   ]
  },
  {
   "cell_type": "code",
   "execution_count": 10,
   "metadata": {},
   "outputs": [
    {
     "data": {
      "application/vnd.jupyter.widget-view+json": {
       "model_id": "08247e62b4a046d791a24d0b44983b0f",
       "version_major": 2,
       "version_minor": 0
      },
      "text/plain": [
       "Progress gathering Trends:   0%|          | 0/531 [00:00<?, ?it/s]"
      ]
     },
     "metadata": {},
     "output_type": "display_data"
    },
    {
     "name": "stdout",
     "output_type": "stream",
     "text": [
      "This took 2316.1361532211304 to run\n"
     ]
    }
   ],
   "source": [
    "# Do it for the rest of them\n",
    "for search_index in tqdm_notebook(range(len(collection_info[1:])), desc='Progress gathering Trends'):\n",
    "    try:\n",
    "        name = collection_info[search_index][0]\n",
    "        minting_date = collection_info[search_index][1]\n",
    "\n",
    "        start_date = (minting_date - timedelta(days=134)).date().strftime('%Y-%m-%d')\n",
    "        end_date = (minting_date + timedelta(days=134)).date().strftime('%Y-%m-%d')\n",
    "\n",
    "\n",
    "        # # Trends work\n",
    "        pytrend = TrendReq()\n",
    "        tf = start_date+' '+end_date\n",
    "        \n",
    "        # The interest_over_time function gives daily data within a timeframe of 269 days.\n",
    "        # 134 on each side of minting date\n",
    "        pytrend.build_payload(kw_list=[name], timeframe=tf)\n",
    "        temp_df = pytrend.interest_over_time()\n",
    "        \n",
    "        # Initial formatting\n",
    "        temp_df = temp_df.drop(columns=['isPartial'])\n",
    "        temp_df = temp_df.reset_index()\n",
    "        temp_df['{}_date'.format(name)] = temp_df['date'].apply(lambda x: x.date())\n",
    "        # Don't need date col anymore\n",
    "        temp_df = temp_df.drop(columns=['date'])\n",
    "        # creating relative index\n",
    "        index_dates = []\n",
    "        count = 135\n",
    "        for val in temp_df.index:\n",
    "            if val < 134:\n",
    "                count -= 1\n",
    "                index_dates.append('{}_before'.format(count))\n",
    "            elif val == 134:\n",
    "                index_dates.append('minting_date')\n",
    "                count = 0\n",
    "            else:\n",
    "                count += 1\n",
    "                index_dates.append('{}_after'.format(count))\n",
    "        temp_df.index = index_dates\n",
    "\n",
    "        # Add to the hours df\n",
    "        for col in temp_df.columns:\n",
    "            df[col] = temp_df[col]\n",
    "        df.to_csv('data/daily_interest.csv')\n",
    "        sleep(randint(2, 6))\n",
    "        \n",
    "    except KeyError as err:\n",
    "        pass"
   ]
  },
  {
   "cell_type": "code",
   "execution_count": 12,
   "metadata": {},
   "outputs": [],
   "source": [
    "df.to_csv('data/daily_interest.csv')"
   ]
  }
 ],
 "metadata": {
  "kernelspec": {
   "display_name": "Python 3",
   "language": "python",
   "name": "python3"
  },
  "language_info": {
   "codemirror_mode": {
    "name": "ipython",
    "version": 3
   },
   "file_extension": ".py",
   "mimetype": "text/x-python",
   "name": "python",
   "nbconvert_exporter": "python",
   "pygments_lexer": "ipython3",
   "version": "3.8.5"
  }
 },
 "nbformat": 4,
 "nbformat_minor": 4
}
