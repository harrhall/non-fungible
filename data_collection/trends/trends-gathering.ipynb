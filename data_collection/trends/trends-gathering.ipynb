{
 "cells": [
  {
   "cell_type": "markdown",
   "metadata": {},
   "source": [
    "# Trend Search from Collection Names"
   ]
  },
  {
   "cell_type": "markdown",
   "metadata": {},
   "source": [
    "Requirements:\n",
    "- Packages\n",
    " - pytrends, `pip install pytrends`\n",
    " - pandas\n",
    " - numpy\n",
    " - time (for sleep)\n",
    " - random (for sleep)\n",
    "- Files\n",
    " - `data/collection_names.txt`"
   ]
  },
  {
   "cell_type": "markdown",
   "metadata": {},
   "source": [
    "## 1. Import Data"
   ]
  },
  {
   "cell_type": "code",
   "execution_count": 1,
   "metadata": {},
   "outputs": [],
   "source": [
    "import pandas as pd\n",
    "import numpy as np\n",
    "import warnings\n",
    "warnings.filterwarnings('ignore')\n",
    "import pickle"
   ]
  },
  {
   "cell_type": "code",
   "execution_count": 2,
   "metadata": {},
   "outputs": [],
   "source": [
    "# Loading the dictionary\n",
    "with open('data/mint_dict.pkl', 'rb') as f:\n",
    "    mint_dict = pickle.load(f)"
   ]
  },
  {
   "cell_type": "markdown",
   "metadata": {},
   "source": [
    "## 2. Google Trends - Interest_Over_Time"
   ]
  },
  {
   "cell_type": "markdown",
   "metadata": {},
   "source": [
    "Description:\n",
    "- For each collection, grab the search frequency over time starting at the minting date.\n",
    "- Returns large dataframe with every collection name, ranging from X time before minting date"
   ]
  },
  {
   "cell_type": "code",
   "execution_count": 3,
   "metadata": {},
   "outputs": [],
   "source": [
    "# Imports\n",
    "import time\n",
    "from time import sleep\n",
    "from random import randint"
   ]
  },
  {
   "cell_type": "markdown",
   "metadata": {},
   "source": [
    "### Interest_Over_Time"
   ]
  },
  {
   "cell_type": "code",
   "execution_count": 4,
   "metadata": {},
   "outputs": [],
   "source": [
    "import pytrends\n",
    "from pytrends.request import TrendReq\n",
    "from datetime import datetime, timedelta"
   ]
  },
  {
   "cell_type": "code",
   "execution_count": 5,
   "metadata": {},
   "outputs": [],
   "source": [
    "def create_relative_dates(date_series, minting_date):\n",
    "    col_names = []\n",
    "    num_weeks = 0\n",
    "    for i in range(len(date_series)):\n",
    "        if (date_series[i] < minting_date):\n",
    "            num_weeks += 2\n",
    "            col_names.append(\"{}_before\".format(52-i))\n",
    "        elif (date_series[i-1] < minting_date) and (date_series[i+1] > minting_date):\n",
    "            num_weeks = 0\n",
    "            col_names.append(\"minting_week\")\n",
    "        else:\n",
    "            num_weeks += 1\n",
    "            col_names.append(\"{}_after\".format(num_weeks))\n",
    "    return(col_names)"
   ]
  },
  {
   "cell_type": "code",
   "execution_count": 6,
   "metadata": {},
   "outputs": [],
   "source": [
    "collection_info = list(mint_dict.items())\n",
    "# Build the initial dataframe\n",
    "init_search = collection_info[0]\n",
    "minting_date = init_search[1]\n",
    "one_year_pre = (init_search[1] - timedelta(days=365)).date().strftime('%Y-%m-%d')\n",
    "seventy_days_post = (init_search[1] + timedelta(days=70)).date().strftime('%Y-%m-%d')\n",
    "\n",
    "# Trends work\n",
    "pytrend = TrendReq()\n",
    "pytrend.build_payload(kw_list=[init_search[0]], timeframe=(one_year_pre + ' ' + seventy_days_post))\n",
    "iot = pytrend.interest_over_time()\n",
    "\n",
    "# Crazy formatting\n",
    "iot = iot.drop(columns=['isPartial'])\n",
    "# reset index so date is its own column\n",
    "iot = iot.reset_index()\n",
    "# set relative_dates col equal to output of create_relative_dates\n",
    "# see png below for demonstration\n",
    "iot['relative_dates'] = create_relative_dates(list(iot['date']), minting_date)\n",
    "# make relative dates the new index\n",
    "iot = iot.set_index('relative_dates')\n",
    "# rename the original date column to keep it safe, just in case we need it later\n",
    "iot = iot.rename(columns={'date':'{}_date'.format(init_search[0])})"
   ]
  },
  {
   "cell_type": "code",
   "execution_count": 7,
   "metadata": {},
   "outputs": [
    {
     "data": {
      "text/html": [
       "<div>\n",
       "<style scoped>\n",
       "    .dataframe tbody tr th:only-of-type {\n",
       "        vertical-align: middle;\n",
       "    }\n",
       "\n",
       "    .dataframe tbody tr th {\n",
       "        vertical-align: top;\n",
       "    }\n",
       "\n",
       "    .dataframe thead th {\n",
       "        text-align: right;\n",
       "    }\n",
       "</style>\n",
       "<table border=\"1\" class=\"dataframe\">\n",
       "  <thead>\n",
       "    <tr style=\"text-align: right;\">\n",
       "      <th></th>\n",
       "      <th>Anonymice_date</th>\n",
       "      <th>Anonymice</th>\n",
       "    </tr>\n",
       "    <tr>\n",
       "      <th>relative_dates</th>\n",
       "      <th></th>\n",
       "      <th></th>\n",
       "    </tr>\n",
       "  </thead>\n",
       "  <tbody>\n",
       "    <tr>\n",
       "      <th>52_before</th>\n",
       "      <td>2020-09-20</td>\n",
       "      <td>0</td>\n",
       "    </tr>\n",
       "    <tr>\n",
       "      <th>51_before</th>\n",
       "      <td>2020-09-27</td>\n",
       "      <td>0</td>\n",
       "    </tr>\n",
       "    <tr>\n",
       "      <th>50_before</th>\n",
       "      <td>2020-10-04</td>\n",
       "      <td>0</td>\n",
       "    </tr>\n",
       "    <tr>\n",
       "      <th>49_before</th>\n",
       "      <td>2020-10-11</td>\n",
       "      <td>0</td>\n",
       "    </tr>\n",
       "    <tr>\n",
       "      <th>48_before</th>\n",
       "      <td>2020-10-18</td>\n",
       "      <td>0</td>\n",
       "    </tr>\n",
       "  </tbody>\n",
       "</table>\n",
       "</div>"
      ],
      "text/plain": [
       "               Anonymice_date  Anonymice\n",
       "relative_dates                          \n",
       "52_before          2020-09-20          0\n",
       "51_before          2020-09-27          0\n",
       "50_before          2020-10-04          0\n",
       "49_before          2020-10-11          0\n",
       "48_before          2020-10-18          0"
      ]
     },
     "execution_count": 7,
     "metadata": {},
     "output_type": "execute_result"
    }
   ],
   "source": [
    "iot.head()"
   ]
  },
  {
   "cell_type": "code",
   "execution_count": 8,
   "metadata": {},
   "outputs": [
    {
     "data": {
      "text/html": [
       "<div>\n",
       "<style scoped>\n",
       "    .dataframe tbody tr th:only-of-type {\n",
       "        vertical-align: middle;\n",
       "    }\n",
       "\n",
       "    .dataframe tbody tr th {\n",
       "        vertical-align: top;\n",
       "    }\n",
       "\n",
       "    .dataframe thead th {\n",
       "        text-align: right;\n",
       "    }\n",
       "</style>\n",
       "<table border=\"1\" class=\"dataframe\">\n",
       "  <thead>\n",
       "    <tr style=\"text-align: right;\">\n",
       "      <th></th>\n",
       "      <th>Anonymice_date</th>\n",
       "      <th>Anonymice</th>\n",
       "    </tr>\n",
       "    <tr>\n",
       "      <th>relative_dates</th>\n",
       "      <th></th>\n",
       "      <th></th>\n",
       "    </tr>\n",
       "  </thead>\n",
       "  <tbody>\n",
       "    <tr>\n",
       "      <th>3_after</th>\n",
       "      <td>2021-10-10</td>\n",
       "      <td>94</td>\n",
       "    </tr>\n",
       "    <tr>\n",
       "      <th>4_after</th>\n",
       "      <td>2021-10-17</td>\n",
       "      <td>69</td>\n",
       "    </tr>\n",
       "    <tr>\n",
       "      <th>5_after</th>\n",
       "      <td>2021-10-24</td>\n",
       "      <td>15</td>\n",
       "    </tr>\n",
       "    <tr>\n",
       "      <th>6_after</th>\n",
       "      <td>2021-10-31</td>\n",
       "      <td>39</td>\n",
       "    </tr>\n",
       "    <tr>\n",
       "      <th>7_after</th>\n",
       "      <td>2021-11-07</td>\n",
       "      <td>8</td>\n",
       "    </tr>\n",
       "    <tr>\n",
       "      <th>8_after</th>\n",
       "      <td>2021-11-14</td>\n",
       "      <td>30</td>\n",
       "    </tr>\n",
       "    <tr>\n",
       "      <th>9_after</th>\n",
       "      <td>2021-11-21</td>\n",
       "      <td>38</td>\n",
       "    </tr>\n",
       "  </tbody>\n",
       "</table>\n",
       "</div>"
      ],
      "text/plain": [
       "               Anonymice_date  Anonymice\n",
       "relative_dates                          \n",
       "3_after            2021-10-10         94\n",
       "4_after            2021-10-17         69\n",
       "5_after            2021-10-24         15\n",
       "6_after            2021-10-31         39\n",
       "7_after            2021-11-07          8\n",
       "8_after            2021-11-14         30\n",
       "9_after            2021-11-21         38"
      ]
     },
     "execution_count": 8,
     "metadata": {},
     "output_type": "execute_result"
    }
   ],
   "source": [
    "iot.tail(7)"
   ]
  },
  {
   "cell_type": "code",
   "execution_count": 9,
   "metadata": {},
   "outputs": [
    {
     "name": "stdout",
     "output_type": "stream",
     "text": [
      "This took 2916.200697183609 to run\n"
     ]
    }
   ],
   "source": [
    "start_time = time.time()\n",
    "\n",
    "for search in collection_info[1:]:\n",
    "    minting_date = search[1]\n",
    "    one_year_pre = (search[1] - timedelta(days=365)).date().strftime('%Y-%m-%d')\n",
    "    seventy_days_post = (search[1] + timedelta(days=70)).date().strftime('%Y-%m-%d')\n",
    "\n",
    "    # Trends work\n",
    "    pytrend = TrendReq()\n",
    "    pytrend.build_payload(kw_list=[search[0]], timeframe=(one_year_pre + ' ' + seventy_days_post))\n",
    "    temp_iot = pytrend.interest_over_time()\n",
    "\n",
    "    # Crazy formatting\n",
    "    try:\n",
    "        temp_iot = temp_iot.drop(columns=['isPartial'])\n",
    "        # reset index so date is its own column\n",
    "        temp_iot = temp_iot.reset_index()\n",
    "        # set relative_dates col equal to output of create_relative_dates\n",
    "        # see png below for demonstration\n",
    "        temp_iot['relative_dates'] = create_relative_dates(list(temp_iot['date']), minting_date)\n",
    "        # make relative dates the new index\n",
    "        temp_iot = temp_iot.set_index('relative_dates')\n",
    "        # rename the original date column to keep it safe, just in case we need it later\n",
    "        temp_iot = temp_iot.rename(columns={'date':'{}_date'.format(search[0])})\n",
    "\n",
    "        # Add to the iot df\n",
    "        for col in temp_iot.columns:\n",
    "            iot[col] = temp_iot[col]\n",
    "            \n",
    "        sleep(randint(3, 9))\n",
    "    \n",
    "    # KeyError would happen if the query returned None\n",
    "    except KeyError as err:\n",
    "        pass\n",
    "\n",
    "print('This took', time.time() - start_time, \"to run\")"
   ]
  },
  {
   "cell_type": "code",
   "execution_count": 12,
   "metadata": {},
   "outputs": [
    {
     "data": {
      "text/plain": [
       "532"
      ]
     },
     "execution_count": 12,
     "metadata": {},
     "output_type": "execute_result"
    }
   ],
   "source": [
    "len(collection_info)"
   ]
  },
  {
   "cell_type": "code",
   "execution_count": 13,
   "metadata": {},
   "outputs": [
    {
     "data": {
      "text/plain": [
       "(62, 862)"
      ]
     },
     "execution_count": 13,
     "metadata": {},
     "output_type": "execute_result"
    }
   ],
   "source": [
    "iot.shape"
   ]
  },
  {
   "cell_type": "code",
   "execution_count": 14,
   "metadata": {},
   "outputs": [],
   "source": [
    "iot.to_csv('data/monthly_interest_over_time.csv')"
   ]
  },
  {
   "cell_type": "markdown",
   "metadata": {},
   "source": [
    "# Hourly Interest - HOLD"
   ]
  },
  {
   "cell_type": "markdown",
   "metadata": {},
   "source": [
    "NOTE\n",
    "- Holding off on this until we have minting dates for each NFT\n",
    "- This would be super cool to run the month before and the month after the minting date for each NFT"
   ]
  },
  {
   "cell_type": "code",
   "execution_count": null,
   "metadata": {},
   "outputs": [],
   "source": [
    "collection_info = list(mint_dict.items())\n",
    "# Build the initial dataframe\n",
    "init_search = collection_info[0]\n",
    "minting_date = init_search[1]\n",
    "\n",
    "one_week_pre_date = (init_search[1] - timedelta(days=7)).date().strftime('%Y-%m-%d').split('-')\n",
    "pre_year = int(one_week_pre_date[0])\n",
    "pre_month = int(one_week_pre_date[1])\n",
    "pre_day = int(one_week_pre_date[2])\n",
    "\n",
    "\n",
    "one_week_post = (init_search[1] + timedelta(days=7)).date().strftime('%Y-%m-%d').split('-')\n",
    "post_year = int(one_week_post[0])\n",
    "post_month = int(one_week_post[1])\n",
    "post_day = int(one_week_post[2])\n",
    "\n",
    "\n",
    "# # Trends work\n",
    "pytrend = TrendReq()\n",
    "pytrend.build_payload(kw_list=[init_search[0]])\n",
    "hours = pytrend.get_historical_interest(keywords=[init_search[0]], year_start=pre_year, month_start=pre_month,\n",
    "                                       day_start=pre_day, hour_start=0,\n",
    "                                       year_end=post_year, month_end=post_month, day_end=post_day, hour_end=0,\n",
    "                                       cat=0, geo='', gprop='', sleep=0)\n",
    "\n",
    "hours = hours.drop(columns=['isPartial'])\n",
    "hours = hours.reset_index()\n",
    "hours['{}_time'.format(init_search[0])] = hours['date'].apply(lambda x: x.time())\n",
    "hours['{}_date'.format(init_search[0])] = hours['date'].apply(lambda x: x.date())\n",
    "hours = hours.drop(columns=['date'])"
   ]
  },
  {
   "cell_type": "code",
   "execution_count": null,
   "metadata": {},
   "outputs": [],
   "source": [
    "hours.head()"
   ]
  },
  {
   "cell_type": "code",
   "execution_count": null,
   "metadata": {},
   "outputs": [],
   "source": [
    "start_time = time.time()\n",
    "\n",
    "\n",
    "# Do it for the rest of them\n",
    "for search in collection_info[1:]:\n",
    "    try:\n",
    "        name = search[0]\n",
    "        minting_date = search[1]\n",
    "\n",
    "        one_week_pre_date = (minting_date - timedelta(days=7)).date().strftime('%Y-%m-%d').split('-')\n",
    "        pre_year = int(one_week_pre_date[0])\n",
    "        pre_month = int(one_week_pre_date[1])\n",
    "        pre_day = int(one_week_pre_date[2])\n",
    "\n",
    "\n",
    "        one_week_post = (minting_date + timedelta(days=7)).date().strftime('%Y-%m-%d').split('-')\n",
    "        post_year = int(one_week_post[0])\n",
    "        post_month = int(one_week_post[1])\n",
    "        post_day = int(one_week_post[2])\n",
    "\n",
    "\n",
    "        # # Trends work\n",
    "        pytrend = TrendReq()\n",
    "        pytrend.build_payload(kw_list=[name])\n",
    "        temp_hours = pytrend.get_historical_interest(keywords=[name], year_start=pre_year, month_start=pre_month,\n",
    "                                               day_start=pre_day, hour_start=0,\n",
    "                                               year_end=post_year, month_end=post_month, day_end=post_day, hour_end=0,\n",
    "                                               cat=0, geo='', gprop='', sleep=0)\n",
    "\n",
    "        temp_hours = temp_hours.drop(columns=['isPartial'])\n",
    "        temp_hours = temp_hours.reset_index()\n",
    "        temp_hours['{}_time'.format(name)] = temp_hours['date'].apply(lambda x: x.time())\n",
    "        temp_hours['{}_date'.format(name)] = temp_hours['date'].apply(lambda x: x.date())\n",
    "        temp_hours = temp_hours.drop(columns=['date'])\n",
    "        \n",
    "        # Add to the hours df\n",
    "        for col in temp_hours.columns:\n",
    "            hours[col] = temp_hours[col]\n",
    "        \n",
    "        sleep(randint(5, 25))\n",
    "        \n",
    "    except KeyError as err:\n",
    "        pass\n",
    "    \n",
    "    \n",
    "print('This took', time.time() - start_time, \"to run\")"
   ]
  },
  {
   "cell_type": "code",
   "execution_count": null,
   "metadata": {},
   "outputs": [],
   "source": [
    "hours.head()"
   ]
  },
  {
   "cell_type": "code",
   "execution_count": null,
   "metadata": {},
   "outputs": [],
   "source": [
    "hours.tail()"
   ]
  },
  {
   "cell_type": "code",
   "execution_count": null,
   "metadata": {},
   "outputs": [],
   "source": [
    "hours.shape"
   ]
  },
  {
   "cell_type": "code",
   "execution_count": null,
   "metadata": {},
   "outputs": [],
   "source": [
    "hours.to_csv('data/hourly-data.csv', index=False)"
   ]
  }
 ],
 "metadata": {
  "kernelspec": {
   "display_name": "Python 3",
   "language": "python",
   "name": "python3"
  },
  "language_info": {
   "codemirror_mode": {
    "name": "ipython",
    "version": 3
   },
   "file_extension": ".py",
   "mimetype": "text/x-python",
   "name": "python",
   "nbconvert_exporter": "python",
   "pygments_lexer": "ipython3",
   "version": "3.8.5"
  }
 },
 "nbformat": 4,
 "nbformat_minor": 4
}
