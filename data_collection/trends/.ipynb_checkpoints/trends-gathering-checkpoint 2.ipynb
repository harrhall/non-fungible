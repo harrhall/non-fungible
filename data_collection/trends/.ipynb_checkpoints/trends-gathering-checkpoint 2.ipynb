{
 "cells": [
  {
   "cell_type": "markdown",
   "metadata": {},
   "source": [
    "# Trend Search from Collection Names"
   ]
  },
  {
   "cell_type": "markdown",
   "metadata": {},
   "source": [
    "Requirements:\n",
    "- Packages\n",
    " - pytrends, `pip install pytrends`\n",
    " - pandas\n",
    " - numpy\n",
    " - time (for sleep)\n",
    " - random (for sleep)\n",
    "- Files\n",
    " - `data/collection_names.txt`"
   ]
  },
  {
   "cell_type": "markdown",
   "metadata": {},
   "source": [
    "## 1. Import Data"
   ]
  },
  {
   "cell_type": "code",
   "execution_count": 1,
   "metadata": {},
   "outputs": [],
   "source": [
    "import pandas as pd\n",
    "import numpy as np\n",
    "import warnings\n",
    "warnings.filterwarnings('ignore')\n",
    "import json"
   ]
  },
  {
   "cell_type": "code",
   "execution_count": 2,
   "metadata": {},
   "outputs": [],
   "source": [
    "# Loading the dictionary\n",
    "with open('data/mint_json.json', 'rb') as f:\n",
    "    mint_dict = json.load(f)\n",
    "mint_dict = json.loads(mint_dict)"
   ]
  },
  {
   "cell_type": "code",
   "execution_count": 3,
   "metadata": {},
   "outputs": [],
   "source": [
    "# Convert back to datetimes\n",
    "for key in mint_dict.keys():\n",
    "    mint_dict[key] = pd.to_datetime(mint_dict[key])"
   ]
  },
  {
   "cell_type": "code",
   "execution_count": 4,
   "metadata": {},
   "outputs": [
    {
     "data": {
      "text/plain": [
       "[('CryptoPunks', Timestamp('2017-06-23 00:00:00')),\n",
       " ('CryptoPunks NFT', Timestamp('2017-06-23 00:00:00')),\n",
       " ('CryptoKitties', Timestamp('2017-11-23 00:00:00'))]"
      ]
     },
     "execution_count": 4,
     "metadata": {},
     "output_type": "execute_result"
    }
   ],
   "source": [
    "# The oldest NFT is from 2017-06-23\n",
    "# Let's make the trends gather data from 2017-01-01\n",
    "oldest = sorted(mint_dict.items(), key=lambda x: x[1], reverse=False)\n",
    "oldest[:3]"
   ]
  },
  {
   "cell_type": "markdown",
   "metadata": {},
   "source": [
    "## 2. Google Trends - Interest_Over_Time"
   ]
  },
  {
   "cell_type": "markdown",
   "metadata": {},
   "source": [
    "Description:\n",
    "- For each collection, grab the search frequency over time starting at the minting date.\n",
    "- Returns large dataframe with every collection name, ranging from X time before minting date"
   ]
  },
  {
   "cell_type": "code",
   "execution_count": 5,
   "metadata": {},
   "outputs": [],
   "source": [
    "# Imports\n",
    "import time\n",
    "from time import sleep\n",
    "from random import randint"
   ]
  },
  {
   "cell_type": "markdown",
   "metadata": {},
   "source": [
    "### Interest_Over_Time"
   ]
  },
  {
   "cell_type": "code",
   "execution_count": 6,
   "metadata": {},
   "outputs": [],
   "source": [
    "# !pip install pytrends\n",
    "import pytrends\n",
    "from pytrends.request import TrendReq\n",
    "from datetime import datetime, timedelta"
   ]
  },
  {
   "cell_type": "code",
   "execution_count": 7,
   "metadata": {},
   "outputs": [],
   "source": [
    "# Commenting this out because relative dates are causing too much headache\n",
    "# We should just stick to absolute dates\n",
    "\n",
    "# def create_relative_dates(date_series, minting_date):\n",
    "#     col_names = []\n",
    "#     num_weeks = 0\n",
    "#     for i in range(len(date_series)):\n",
    "#         if (date_series[i] < minting_date):\n",
    "#             num_weeks += 2\n",
    "#             col_names.append(\"{}_before\".format(52-i))\n",
    "#         elif (date_series[i-1] < minting_date) and (date_series[i+1] > minting_date):\n",
    "#             num_weeks = 0\n",
    "#             col_names.append(\"minting_week\")\n",
    "#         else:\n",
    "#             num_weeks += 1\n",
    "#             col_names.append(\"{}_after\".format(num_weeks))\n",
    "#     return(col_names)"
   ]
  },
  {
   "cell_type": "code",
   "execution_count": 8,
   "metadata": {},
   "outputs": [
    {
     "ename": "ResponseError",
     "evalue": "The request failed: Google returned a response with code 429.",
     "output_type": "error",
     "traceback": [
      "\u001b[0;31m---------------------------------------------------------------------------\u001b[0m",
      "\u001b[0;31mResponseError\u001b[0m                             Traceback (most recent call last)",
      "\u001b[0;32m<ipython-input-8-7e596c1a14b9>\u001b[0m in \u001b[0;36m<module>\u001b[0;34m\u001b[0m\n\u001b[1;32m      8\u001b[0m \u001b[0;31m# Trends work\u001b[0m\u001b[0;34m\u001b[0m\u001b[0;34m\u001b[0m\u001b[0;34m\u001b[0m\u001b[0m\n\u001b[1;32m      9\u001b[0m \u001b[0mpytrend\u001b[0m \u001b[0;34m=\u001b[0m \u001b[0mTrendReq\u001b[0m\u001b[0;34m(\u001b[0m\u001b[0;34m)\u001b[0m\u001b[0;34m\u001b[0m\u001b[0;34m\u001b[0m\u001b[0m\n\u001b[0;32m---> 10\u001b[0;31m \u001b[0mpytrend\u001b[0m\u001b[0;34m.\u001b[0m\u001b[0mbuild_payload\u001b[0m\u001b[0;34m(\u001b[0m\u001b[0mkw_list\u001b[0m\u001b[0;34m=\u001b[0m\u001b[0;34m[\u001b[0m\u001b[0minit_search\u001b[0m\u001b[0;34m[\u001b[0m\u001b[0;36m0\u001b[0m\u001b[0;34m]\u001b[0m\u001b[0;34m]\u001b[0m\u001b[0;34m,\u001b[0m \u001b[0mtimeframe\u001b[0m\u001b[0;34m=\u001b[0m\u001b[0;34m(\u001b[0m\u001b[0;34m'2017-01-01 2022-03-27'\u001b[0m\u001b[0;34m)\u001b[0m\u001b[0;34m)\u001b[0m\u001b[0;34m\u001b[0m\u001b[0;34m\u001b[0m\u001b[0m\n\u001b[0m\u001b[1;32m     11\u001b[0m \u001b[0miot\u001b[0m \u001b[0;34m=\u001b[0m \u001b[0mpytrend\u001b[0m\u001b[0;34m.\u001b[0m\u001b[0minterest_over_time\u001b[0m\u001b[0;34m(\u001b[0m\u001b[0;34m)\u001b[0m\u001b[0;34m\u001b[0m\u001b[0;34m\u001b[0m\u001b[0m\n\u001b[1;32m     12\u001b[0m \u001b[0miot\u001b[0m \u001b[0;34m=\u001b[0m \u001b[0miot\u001b[0m\u001b[0;34m.\u001b[0m\u001b[0mreset_index\u001b[0m\u001b[0;34m(\u001b[0m\u001b[0;34m)\u001b[0m\u001b[0;34m\u001b[0m\u001b[0;34m\u001b[0m\u001b[0m\n",
      "\u001b[0;32m~/opt/anaconda3/lib/python3.8/site-packages/pytrends/request.py\u001b[0m in \u001b[0;36mbuild_payload\u001b[0;34m(self, kw_list, cat, timeframe, geo, gprop)\u001b[0m\n\u001b[1;32m    167\u001b[0m         \u001b[0mself\u001b[0m\u001b[0;34m.\u001b[0m\u001b[0mtoken_payload\u001b[0m\u001b[0;34m[\u001b[0m\u001b[0;34m'req'\u001b[0m\u001b[0;34m]\u001b[0m \u001b[0;34m=\u001b[0m \u001b[0mjson\u001b[0m\u001b[0;34m.\u001b[0m\u001b[0mdumps\u001b[0m\u001b[0;34m(\u001b[0m\u001b[0mself\u001b[0m\u001b[0;34m.\u001b[0m\u001b[0mtoken_payload\u001b[0m\u001b[0;34m[\u001b[0m\u001b[0;34m'req'\u001b[0m\u001b[0;34m]\u001b[0m\u001b[0;34m)\u001b[0m\u001b[0;34m\u001b[0m\u001b[0;34m\u001b[0m\u001b[0m\n\u001b[1;32m    168\u001b[0m         \u001b[0;31m# get tokens\u001b[0m\u001b[0;34m\u001b[0m\u001b[0;34m\u001b[0m\u001b[0;34m\u001b[0m\u001b[0m\n\u001b[0;32m--> 169\u001b[0;31m         \u001b[0mself\u001b[0m\u001b[0;34m.\u001b[0m\u001b[0m_tokens\u001b[0m\u001b[0;34m(\u001b[0m\u001b[0;34m)\u001b[0m\u001b[0;34m\u001b[0m\u001b[0;34m\u001b[0m\u001b[0m\n\u001b[0m\u001b[1;32m    170\u001b[0m         \u001b[0;32mreturn\u001b[0m\u001b[0;34m\u001b[0m\u001b[0;34m\u001b[0m\u001b[0m\n\u001b[1;32m    171\u001b[0m \u001b[0;34m\u001b[0m\u001b[0m\n",
      "\u001b[0;32m~/opt/anaconda3/lib/python3.8/site-packages/pytrends/request.py\u001b[0m in \u001b[0;36m_tokens\u001b[0;34m(self)\u001b[0m\n\u001b[1;32m    173\u001b[0m         \u001b[0;34m\"\"\"Makes request to Google to get API tokens for interest over time, interest by region and related queries\"\"\"\u001b[0m\u001b[0;34m\u001b[0m\u001b[0;34m\u001b[0m\u001b[0m\n\u001b[1;32m    174\u001b[0m         \u001b[0;31m# make the request and parse the returned json\u001b[0m\u001b[0;34m\u001b[0m\u001b[0;34m\u001b[0m\u001b[0;34m\u001b[0m\u001b[0m\n\u001b[0;32m--> 175\u001b[0;31m         widget_dict = self._get_data(\n\u001b[0m\u001b[1;32m    176\u001b[0m             \u001b[0murl\u001b[0m\u001b[0;34m=\u001b[0m\u001b[0mTrendReq\u001b[0m\u001b[0;34m.\u001b[0m\u001b[0mGENERAL_URL\u001b[0m\u001b[0;34m,\u001b[0m\u001b[0;34m\u001b[0m\u001b[0;34m\u001b[0m\u001b[0m\n\u001b[1;32m    177\u001b[0m             \u001b[0mmethod\u001b[0m\u001b[0;34m=\u001b[0m\u001b[0mTrendReq\u001b[0m\u001b[0;34m.\u001b[0m\u001b[0mGET_METHOD\u001b[0m\u001b[0;34m,\u001b[0m\u001b[0;34m\u001b[0m\u001b[0;34m\u001b[0m\u001b[0m\n",
      "\u001b[0;32m~/opt/anaconda3/lib/python3.8/site-packages/pytrends/request.py\u001b[0m in \u001b[0;36m_get_data\u001b[0;34m(self, url, method, trim_chars, **kwargs)\u001b[0m\n\u001b[1;32m    143\u001b[0m         \u001b[0;32melse\u001b[0m\u001b[0;34m:\u001b[0m\u001b[0;34m\u001b[0m\u001b[0;34m\u001b[0m\u001b[0m\n\u001b[1;32m    144\u001b[0m             \u001b[0;31m# error\u001b[0m\u001b[0;34m\u001b[0m\u001b[0;34m\u001b[0m\u001b[0;34m\u001b[0m\u001b[0m\n\u001b[0;32m--> 145\u001b[0;31m             raise exceptions.ResponseError(\n\u001b[0m\u001b[1;32m    146\u001b[0m                 \u001b[0;34m'The request failed: Google returned a '\u001b[0m\u001b[0;34m\u001b[0m\u001b[0;34m\u001b[0m\u001b[0m\n\u001b[1;32m    147\u001b[0m                 \u001b[0;34m'response with code {0}.'\u001b[0m\u001b[0;34m.\u001b[0m\u001b[0mformat\u001b[0m\u001b[0;34m(\u001b[0m\u001b[0mresponse\u001b[0m\u001b[0;34m.\u001b[0m\u001b[0mstatus_code\u001b[0m\u001b[0;34m)\u001b[0m\u001b[0;34m,\u001b[0m\u001b[0;34m\u001b[0m\u001b[0;34m\u001b[0m\u001b[0m\n",
      "\u001b[0;31mResponseError\u001b[0m: The request failed: Google returned a response with code 429."
     ]
    }
   ],
   "source": [
    "collection_info = list(mint_dict.items())\n",
    "# Build the initial dataframe\n",
    "init_search = collection_info[0]\n",
    "# minting_date = init_search[1]\n",
    "# six_months_pre = (init_search[1] - timedelta(weeks=26)).date().strftime('%Y-%m-%d')\n",
    "# seventy_days_post = (init_search[1] + timedelta(days=70)).date().strftime('%Y-%m-%d')\n",
    "\n",
    "# Trends work\n",
    "pytrend = TrendReq()\n",
    "pytrend.build_payload(kw_list=[init_search[0]], timeframe=('2017-01-01 2022-03-27'))\n",
    "iot = pytrend.interest_over_time()\n",
    "iot = iot.reset_index()\n",
    "iot = iot.drop(columns=['isPartial'])"
   ]
  },
  {
   "cell_type": "code",
   "execution_count": null,
   "metadata": {},
   "outputs": [],
   "source": [
    "start_time = time.time()\n",
    "\n",
    "for search in collection_info:\n",
    "    minting_date = search[1]\n",
    "#     six_months_pre = (search[1] - timedelta(weeks=26)).date().strftime('%Y-%m-%d')\n",
    "\n",
    "    # Trends work\n",
    "    try:\n",
    "        pytrend = TrendReq()\n",
    "        pytrend.build_payload(kw_list=[search[0]], timeframe=('2017-01-01 2022-03-27'))\n",
    "        temp_iot = pytrend.interest_over_time()\n",
    "        temp_iot = temp_iot.reset_index()\n",
    "\n",
    "        temp_iot = temp_iot.drop(columns=['isPartial', 'date'])\n",
    "        iot = iot.merge(temp_iot, on='date')\n",
    "\n",
    "        sleep(randint(2, 8))\n",
    "\n",
    "    # KeyError would happen if the query returned None\n",
    "    except KeyError as e:\n",
    "        pass\n",
    "\n",
    "print('This took', time.time() - start_time, \"to run\")"
   ]
  },
  {
   "cell_type": "markdown",
   "metadata": {},
   "source": [
    "len(collection_info)"
   ]
  },
  {
   "cell_type": "code",
   "execution_count": null,
   "metadata": {},
   "outputs": [],
   "source": [
    "iot.shape"
   ]
  },
  {
   "cell_type": "code",
   "execution_count": null,
   "metadata": {},
   "outputs": [],
   "source": [
    "iot"
   ]
  },
  {
   "cell_type": "code",
   "execution_count": null,
   "metadata": {},
   "outputs": [],
   "source": [
    "iot.to_csv('data/monthly_interest_over_time.csv')"
   ]
  },
  {
   "cell_type": "markdown",
   "metadata": {},
   "source": [
    "# Hourly Interest - HOLD"
   ]
  },
  {
   "cell_type": "markdown",
   "metadata": {},
   "source": [
    "NOTE\n",
    "- Holding off on this until we have minting dates for each NFT\n",
    "- This would be super cool to run the month before and the month after the minting date for each NFT"
   ]
  },
  {
   "cell_type": "code",
   "execution_count": null,
   "metadata": {},
   "outputs": [],
   "source": [
    "collection_info = list(mint_dict.items())\n",
    "# Build the initial dataframe\n",
    "init_search = collection_info[0]\n",
    "minting_date = init_search[1]\n",
    "\n",
    "one_week_pre_date = (init_search[1] - timedelta(days=7)).date().strftime('%Y-%m-%d').split('-')\n",
    "pre_year = int(one_week_pre_date[0])\n",
    "pre_month = int(one_week_pre_date[1])\n",
    "pre_day = int(one_week_pre_date[2])\n",
    "\n",
    "\n",
    "one_week_post = (init_search[1] + timedelta(days=7)).date().strftime('%Y-%m-%d').split('-')\n",
    "post_year = int(one_week_post[0])\n",
    "post_month = int(one_week_post[1])\n",
    "post_day = int(one_week_post[2])\n",
    "\n",
    "\n",
    "# # Trends work\n",
    "pytrend = TrendReq()\n",
    "pytrend.build_payload(kw_list=[init_search[0]])\n",
    "hours = pytrend.get_historical_interest(keywords=[init_search[0]], year_start=pre_year, month_start=pre_month,\n",
    "                                       day_start=pre_day, hour_start=0,\n",
    "                                       year_end=post_year, month_end=post_month, day_end=post_day, hour_end=0,\n",
    "                                       cat=0, geo='', gprop='', sleep=0)\n",
    "\n",
    "hours = hours.drop(columns=['isPartial'])\n",
    "hours = hours.reset_index()\n",
    "hours['{}_time'.format(init_search[0])] = hours['date'].apply(lambda x: x.time())\n",
    "hours['{}_date'.format(init_search[0])] = hours['date'].apply(lambda x: x.date())\n",
    "hours = hours.drop(columns=['date'])"
   ]
  },
  {
   "cell_type": "code",
   "execution_count": null,
   "metadata": {},
   "outputs": [],
   "source": [
    "start_time = time.time()\n",
    "\n",
    "\n",
    "# Do it for the rest of them\n",
    "for search in collection_info[1:]:\n",
    "    try:\n",
    "        name = search[0]\n",
    "        minting_date = search[1]\n",
    "\n",
    "        one_week_pre_date = (minting_date - timedelta(days=7)).date().strftime('%Y-%m-%d').split('-')\n",
    "        pre_year = int(one_week_pre_date[0])\n",
    "        pre_month = int(one_week_pre_date[1])\n",
    "        pre_day = int(one_week_pre_date[2])\n",
    "\n",
    "\n",
    "        one_week_post = (minting_date + timedelta(days=7)).date().strftime('%Y-%m-%d').split('-')\n",
    "        post_year = int(one_week_post[0])\n",
    "        post_month = int(one_week_post[1])\n",
    "        post_day = int(one_week_post[2])\n",
    "\n",
    "\n",
    "        # # Trends work\n",
    "        pytrend = TrendReq()\n",
    "        pytrend.build_payload(kw_list=[name])\n",
    "        temp_hours = pytrend.get_historical_interest(keywords=[name], year_start=pre_year, month_start=pre_month,\n",
    "                                               day_start=pre_day, hour_start=0,\n",
    "                                               year_end=post_year, month_end=post_month, day_end=post_day, hour_end=0,\n",
    "                                               cat=0, geo='', gprop='', sleep=0)\n",
    "\n",
    "        temp_hours = temp_hours.drop(columns=['isPartial'])\n",
    "        temp_hours = temp_hours.reset_index()\n",
    "        temp_hours['{}_time'.format(name)] = temp_hours['date'].apply(lambda x: x.time())\n",
    "        temp_hours['{}_date'.format(name)] = temp_hours['date'].apply(lambda x: x.date())\n",
    "        temp_hours = temp_hours.drop(columns=['date'])\n",
    "        \n",
    "        # Add to the hours df\n",
    "        for col in temp_hours.columns:\n",
    "            hours[col] = temp_hours[col]\n",
    "        \n",
    "        sleep(randint(8, 25))\n",
    "        \n",
    "    except KeyError as err:\n",
    "        pass\n",
    "    \n",
    "    \n",
    "print('This took', time.time() - start_time, \"to run\")"
   ]
  },
  {
   "cell_type": "code",
   "execution_count": null,
   "metadata": {},
   "outputs": [],
   "source": [
    "hours.head()"
   ]
  },
  {
   "cell_type": "code",
   "execution_count": null,
   "metadata": {},
   "outputs": [],
   "source": [
    "hours.tail()"
   ]
  },
  {
   "cell_type": "code",
   "execution_count": null,
   "metadata": {},
   "outputs": [],
   "source": [
    "hours.shape"
   ]
  },
  {
   "cell_type": "code",
   "execution_count": null,
   "metadata": {},
   "outputs": [],
   "source": [
    "hours.to_csv('data/hourly-data.csv', index=False)"
   ]
  },
  {
   "cell_type": "code",
   "execution_count": null,
   "metadata": {},
   "outputs": [],
   "source": []
  }
 ],
 "metadata": {
  "kernelspec": {
   "display_name": "Python 3",
   "language": "python",
   "name": "python3"
  },
  "language_info": {
   "codemirror_mode": {
    "name": "ipython",
    "version": 3
   },
   "file_extension": ".py",
   "mimetype": "text/x-python",
   "name": "python",
   "nbconvert_exporter": "python",
   "pygments_lexer": "ipython3",
   "version": "3.8.5"
  }
 },
 "nbformat": 4,
 "nbformat_minor": 4
}
