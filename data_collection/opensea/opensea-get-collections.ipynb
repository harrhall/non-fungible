{
 "cells": [
  {
   "cell_type": "markdown",
   "metadata": {},
   "source": [
    "# Note\n",
    "\n",
    "This is basically the same as `opensea-get-collections.ipynb`, BUT this one repeats that script for each owner as defined in `init_wallet_d`. This happens lower down in the script. Until then, this is the exact same as opensea-get-`collections.ipynb`"
   ]
  },
  {
   "cell_type": "markdown",
   "metadata": {},
   "source": [
    "## Retrieving First Collection\n",
    "\n",
    "https://docs.opensea.io/reference/retrieving-collections\n"
   ]
  },
  {
   "cell_type": "markdown",
   "metadata": {},
   "source": [
    "### Initial data gathering request"
   ]
  },
  {
   "cell_type": "code",
   "execution_count": 1,
   "metadata": {},
   "outputs": [],
   "source": [
    "# Create initial search, manual for now\n",
    "# Only doing this because I'm not sure if we currently save this info\n",
    "username = 'ARTSNFT'\n",
    "owner_url = 'opensea.io/ARTSNFT'\n",
    "asset_owner_wallet_url = '0xf51e77f49c8a31174c96462dd6235cdc4df9fbc4'"
   ]
  },
  {
   "cell_type": "code",
   "execution_count": 2,
   "metadata": {},
   "outputs": [],
   "source": [
    "import requests\n",
    "\n",
    "url = \"https://api.opensea.io/api/v1/collections?asset_owner={}&offset=0&limit=300\".format(asset_owner_wallet_url)\n",
    "\n",
    "headers = {\"Accept\": \"application/json\"}\n",
    "\n",
    "response = requests.request(\"GET\", url, headers=headers)"
   ]
  },
  {
   "cell_type": "markdown",
   "metadata": {},
   "source": [
    "### Initial formatting"
   ]
  },
  {
   "cell_type": "code",
   "execution_count": 3,
   "metadata": {},
   "outputs": [],
   "source": [
    "import json\n",
    "import pandas as pd\n",
    "import numpy as np"
   ]
  },
  {
   "cell_type": "code",
   "execution_count": 4,
   "metadata": {},
   "outputs": [],
   "source": [
    "response_text = json.loads(response.text)\n",
    "df = pd.json_normalize(response_text)"
   ]
  },
  {
   "cell_type": "markdown",
   "metadata": {},
   "source": [
    "The dataframe looks good overall, but the 'primary_asset_contracts' column is messy. It is a column of lists with a length of 1. The only element within that list is a dictionary."
   ]
  },
  {
   "cell_type": "code",
   "execution_count": 5,
   "metadata": {},
   "outputs": [
    {
     "data": {
      "text/html": [
       "<div>\n",
       "<style scoped>\n",
       "    .dataframe tbody tr th:only-of-type {\n",
       "        vertical-align: middle;\n",
       "    }\n",
       "\n",
       "    .dataframe tbody tr th {\n",
       "        vertical-align: top;\n",
       "    }\n",
       "\n",
       "    .dataframe thead th {\n",
       "        text-align: right;\n",
       "    }\n",
       "</style>\n",
       "<table border=\"1\" class=\"dataframe\">\n",
       "  <thead>\n",
       "    <tr style=\"text-align: right;\">\n",
       "      <th></th>\n",
       "      <th>primary_asset_contracts</th>\n",
       "      <th>banner_image_url</th>\n",
       "      <th>chat_url</th>\n",
       "      <th>created_date</th>\n",
       "      <th>default_to_fiat</th>\n",
       "      <th>description</th>\n",
       "      <th>dev_buyer_fee_basis_points</th>\n",
       "      <th>dev_seller_fee_basis_points</th>\n",
       "      <th>discord_url</th>\n",
       "      <th>external_url</th>\n",
       "      <th>...</th>\n",
       "      <th>traits.Health.min</th>\n",
       "      <th>traits.Health.max</th>\n",
       "      <th>traits.Magic.min</th>\n",
       "      <th>traits.Magic.max</th>\n",
       "      <th>traits.Skill.min</th>\n",
       "      <th>traits.Skill.max</th>\n",
       "      <th>traits.Speed.min</th>\n",
       "      <th>traits.Speed.max</th>\n",
       "      <th>traits.Strength.min</th>\n",
       "      <th>traits.Strength.max</th>\n",
       "    </tr>\n",
       "  </thead>\n",
       "  <tbody>\n",
       "    <tr>\n",
       "      <th>0</th>\n",
       "      <td>[{'address': '0x9d8826881a2beab386a7858e59c228...</td>\n",
       "      <td>https://lh3.googleusercontent.com/agQelV58HJdf...</td>\n",
       "      <td>None</td>\n",
       "      <td>2022-02-21T15:37:33.224465</td>\n",
       "      <td>False</td>\n",
       "      <td>Gen 0 Bloodshed Bears are the first Bloodshed ...</td>\n",
       "      <td>0</td>\n",
       "      <td>750</td>\n",
       "      <td>None</td>\n",
       "      <td>https://bloodshedbears.com/</td>\n",
       "      <td>...</td>\n",
       "      <td>NaN</td>\n",
       "      <td>NaN</td>\n",
       "      <td>NaN</td>\n",
       "      <td>NaN</td>\n",
       "      <td>NaN</td>\n",
       "      <td>NaN</td>\n",
       "      <td>NaN</td>\n",
       "      <td>NaN</td>\n",
       "      <td>NaN</td>\n",
       "      <td>NaN</td>\n",
       "    </tr>\n",
       "    <tr>\n",
       "      <th>1</th>\n",
       "      <td>[{'address': '0xf026fb5be56ff63e19e9da3236035e...</td>\n",
       "      <td>https://lh3.googleusercontent.com/ksoOqRn6NWvX...</td>\n",
       "      <td>None</td>\n",
       "      <td>2022-02-18T20:18:06.263313</td>\n",
       "      <td>False</td>\n",
       "      <td>**Staking has started, true number of unique w...</td>\n",
       "      <td>0</td>\n",
       "      <td>750</td>\n",
       "      <td>https://discord.gg/shadowquest</td>\n",
       "      <td>https://www.shadowquest.games/</td>\n",
       "      <td>...</td>\n",
       "      <td>16.0</td>\n",
       "      <td>42.0</td>\n",
       "      <td>16.0</td>\n",
       "      <td>26.0</td>\n",
       "      <td>16.0</td>\n",
       "      <td>26.0</td>\n",
       "      <td>16.0</td>\n",
       "      <td>26.0</td>\n",
       "      <td>16.0</td>\n",
       "      <td>26.0</td>\n",
       "    </tr>\n",
       "  </tbody>\n",
       "</table>\n",
       "<p>2 rows × 63 columns</p>\n",
       "</div>"
      ],
      "text/plain": [
       "                             primary_asset_contracts  \\\n",
       "0  [{'address': '0x9d8826881a2beab386a7858e59c228...   \n",
       "1  [{'address': '0xf026fb5be56ff63e19e9da3236035e...   \n",
       "\n",
       "                                    banner_image_url chat_url  \\\n",
       "0  https://lh3.googleusercontent.com/agQelV58HJdf...     None   \n",
       "1  https://lh3.googleusercontent.com/ksoOqRn6NWvX...     None   \n",
       "\n",
       "                 created_date  default_to_fiat  \\\n",
       "0  2022-02-21T15:37:33.224465            False   \n",
       "1  2022-02-18T20:18:06.263313            False   \n",
       "\n",
       "                                         description  \\\n",
       "0  Gen 0 Bloodshed Bears are the first Bloodshed ...   \n",
       "1  **Staking has started, true number of unique w...   \n",
       "\n",
       "  dev_buyer_fee_basis_points dev_seller_fee_basis_points  \\\n",
       "0                          0                         750   \n",
       "1                          0                         750   \n",
       "\n",
       "                      discord_url                    external_url  ...  \\\n",
       "0                            None     https://bloodshedbears.com/  ...   \n",
       "1  https://discord.gg/shadowquest  https://www.shadowquest.games/  ...   \n",
       "\n",
       "   traits.Health.min traits.Health.max  traits.Magic.min traits.Magic.max  \\\n",
       "0                NaN               NaN               NaN              NaN   \n",
       "1               16.0              42.0              16.0             26.0   \n",
       "\n",
       "  traits.Skill.min  traits.Skill.max traits.Speed.min traits.Speed.max  \\\n",
       "0              NaN               NaN              NaN              NaN   \n",
       "1             16.0              26.0             16.0             26.0   \n",
       "\n",
       "  traits.Strength.min  traits.Strength.max  \n",
       "0                 NaN                  NaN  \n",
       "1                16.0                 26.0  \n",
       "\n",
       "[2 rows x 63 columns]"
      ]
     },
     "execution_count": 5,
     "metadata": {},
     "output_type": "execute_result"
    }
   ],
   "source": [
    "df.head(2)"
   ]
  },
  {
   "cell_type": "code",
   "execution_count": 6,
   "metadata": {},
   "outputs": [
    {
     "name": "stdout",
     "output_type": "stream",
     "text": [
      "Each element in the series is <class 'list'>\n",
      "Each of these lists has a length of 1\n",
      "The only element within these lists is of type <class 'dict'>\n"
     ]
    }
   ],
   "source": [
    "print(\"Each element in the series is\", type(df['primary_asset_contracts'][0]))\n",
    "print(\"Each of these lists has a length of\", len(df['primary_asset_contracts'][0]))\n",
    "print(\"The only element within these lists is of type\", type(df['primary_asset_contracts'][0][0]))"
   ]
  },
  {
   "cell_type": "markdown",
   "metadata": {},
   "source": [
    "The next step is to convert this column of dictionaries (each within their own list) into a set of columns, which will be re-combined with the original dataframe. The original column, \"primary_asset_contracts\", will be removed from the dataframe.\n",
    "\n",
    "The newly-created columns, which expand on the original column (\"primary_asset_contracts\") will all start with \"pac_\" before continuing their original names. The original names were the keys in the dictionaries."
   ]
  },
  {
   "cell_type": "code",
   "execution_count": 7,
   "metadata": {},
   "outputs": [],
   "source": [
    "# Create the initial dataframe from the first row\n",
    "pac_df = pd.DataFrame(df.iloc[0]['primary_asset_contracts'][0], index=[0])\n",
    "\n",
    "# Loop through the rest\n",
    "for pac in df['primary_asset_contracts'][1:]:\n",
    "    try:\n",
    "        temp_df = pd.DataFrame(pac[0], index=[0])\n",
    "# The IndexError comes from an empty list\n",
    "# Solution: append an empty df with same column names\n",
    "    except IndexError:\n",
    "        empty_d = {}\n",
    "        for col in pac_df.columns:\n",
    "            empty_d[col] = np.nan\n",
    "        temp_df = pd.DataFrame(empty_d, index=[0])\n",
    "    pac_df = pac_df.append(temp_df)\n",
    "    \n",
    "# Adding \"pac_\" to start of each column name to track them later\n",
    "pac_df.rename(columns=lambda x: \"pac_\"+x, inplace=True)\n",
    "# All rows currently have index of 0, dropping and replacing with standard range indexes\n",
    "pac_df = pac_df.reset_index(drop=True)"
   ]
  },
  {
   "cell_type": "code",
   "execution_count": 8,
   "metadata": {},
   "outputs": [],
   "source": [
    "# Recombine the dataframes\n",
    "df = df.join(pac_df)\n",
    "# Drop the original column\n",
    "df = df.drop(columns=['primary_asset_contracts'])"
   ]
  },
  {
   "cell_type": "code",
   "execution_count": 9,
   "metadata": {},
   "outputs": [
    {
     "data": {
      "text/plain": [
       "Index(['banner_image_url', 'chat_url', 'created_date', 'default_to_fiat',\n",
       "       'description', 'dev_buyer_fee_basis_points',\n",
       "       'dev_seller_fee_basis_points', 'discord_url', 'external_url',\n",
       "       'featured', 'featured_image_url', 'hidden', 'safelist_request_status',\n",
       "       'image_url', 'is_subject_to_whitelist', 'large_image_url',\n",
       "       'medium_username', 'name', 'only_proxied_transfers',\n",
       "       'opensea_buyer_fee_basis_points', 'opensea_seller_fee_basis_points',\n",
       "       'payout_address', 'require_email', 'short_description', 'slug',\n",
       "       'telegram_url', 'twitter_username', 'instagram_username', 'wiki_url',\n",
       "       'owned_asset_count', 'stats.one_day_volume', 'stats.one_day_change',\n",
       "       'stats.one_day_sales', 'stats.one_day_average_price',\n",
       "       'stats.seven_day_volume', 'stats.seven_day_change',\n",
       "       'stats.seven_day_sales', 'stats.seven_day_average_price',\n",
       "       'stats.thirty_day_volume', 'stats.thirty_day_change',\n",
       "       'stats.thirty_day_sales', 'stats.thirty_day_average_price',\n",
       "       'stats.total_volume', 'stats.total_sales', 'stats.total_supply',\n",
       "       'stats.count', 'stats.num_owners', 'stats.average_price',\n",
       "       'stats.num_reports', 'stats.market_cap', 'stats.floor_price',\n",
       "       'display_data.card_display_style', 'traits.Health.min',\n",
       "       'traits.Health.max', 'traits.Magic.min', 'traits.Magic.max',\n",
       "       'traits.Skill.min', 'traits.Skill.max', 'traits.Speed.min',\n",
       "       'traits.Speed.max', 'traits.Strength.min', 'traits.Strength.max',\n",
       "       'pac_address', 'pac_asset_contract_type', 'pac_created_date',\n",
       "       'pac_name', 'pac_nft_version', 'pac_opensea_version', 'pac_owner',\n",
       "       'pac_schema_name', 'pac_symbol', 'pac_total_supply', 'pac_description',\n",
       "       'pac_external_link', 'pac_image_url', 'pac_default_to_fiat',\n",
       "       'pac_dev_buyer_fee_basis_points', 'pac_dev_seller_fee_basis_points',\n",
       "       'pac_only_proxied_transfers', 'pac_opensea_buyer_fee_basis_points',\n",
       "       'pac_opensea_seller_fee_basis_points', 'pac_buyer_fee_basis_points',\n",
       "       'pac_seller_fee_basis_points', 'pac_payout_address'],\n",
       "      dtype='object')"
      ]
     },
     "execution_count": 9,
     "metadata": {},
     "output_type": "execute_result"
    }
   ],
   "source": [
    "# Showing the columns just because I can't see them all with df.head()\n",
    "df.columns"
   ]
  },
  {
   "cell_type": "markdown",
   "metadata": {},
   "source": [
    "## Adding contextual information"
   ]
  },
  {
   "cell_type": "code",
   "execution_count": 10,
   "metadata": {},
   "outputs": [],
   "source": [
    "df['owner_user'] = username\n",
    "df['owner_url'] = owner_url\n",
    "df['asset_owner_wallet_url'] = asset_owner_wallet_url"
   ]
  },
  {
   "cell_type": "code",
   "execution_count": 11,
   "metadata": {},
   "outputs": [
    {
     "data": {
      "text/plain": [
       "(7, 87)"
      ]
     },
     "execution_count": 11,
     "metadata": {},
     "output_type": "execute_result"
    }
   ],
   "source": [
    "# Verify the shape of the DF before adding a whole bunch more in\n",
    "df.shape"
   ]
  },
  {
   "cell_type": "markdown",
   "metadata": {},
   "source": [
    "# Do it again for all the manual entries"
   ]
  },
  {
   "cell_type": "markdown",
   "metadata": {},
   "source": [
    "Manually creating a list of wallet IDs and usernames, from a few owners of CryptoPunks, adidas Originals Into the Metaverse (top 3 in number of NFTs owned), invisible friends, and I think that's it!"
   ]
  },
  {
   "cell_type": "code",
   "execution_count": 12,
   "metadata": {},
   "outputs": [],
   "source": [
    "# For rate-limiting and whatnot\n",
    "from time import sleep\n",
    "from random import randint"
   ]
  },
  {
   "cell_type": "code",
   "execution_count": 13,
   "metadata": {},
   "outputs": [],
   "source": [
    "# FORMAT IS\n",
    "# { username : (owner_url, asset_owner_wallet_url) }\n",
    "\n",
    "init_wallet_d = {\n",
    "    'PUNKVault-NFTX': ('opensea.io/PUNKVault-NFTX', '0x269616d549d7e8eaa82dfb17028d0b212d11232a'),\n",
    "    'WuTangClan': ('opensea.io/WuTangClan', '0x9e67d018488ad636b538e4158e9e7577f2ecac12'),\n",
    "    'Unnamed': ('opensea.io/0x7b8961f67382c51c389726667ef7dd7cf95fefd3', '0x7b8961f67382c51c389726667ef7dd7cf95fefd3'),\n",
    "    '0xef764bac8a438e7e498c2e5fccf0f174c3e3f8db': ('https://opensea.io/0xef764bac8a438e7e498c2e5fccf0f174c3e3f8db', '0xef764bac8a438e7e498c2e5fccf0f174c3e3f8db'),\n",
    "    'peruggia-v.eth': ('opensea.io/0xf4b4a58974524e183c275f3c6ea895bc2368e738', '0xf4b4a58974524e183c275f3c6ea895bc2368e738'),\n",
    "    'Unnamed': ('opensea.io/0x1251122f1d77fa46e1e576c4fd6dd56ab17812ff', '0x1251122f1d77fa46e1e576c4fd6dd56ab17812ff'),\n",
    "    'Unnamed': ('opensea.io/0x87b1702a5a31f6b63820c99f2234a3323ac728c4', '0x87b1702a5a31f6b63820c99f2234a3323ac728c4'),\n",
    "    'cx': ('opensea.io/cx', '0x66c7a7348250f453a37cf86410a946f9668de386'),\n",
    "    'Unnamed': ('opensea.io/0xae33cc279f43f746f4771674cf3b8200477ce017', '0xae33cc279f43f746f4771674cf3b8200477ce017'),\n",
    "    'Unnamed': ('opensea.io/0x2754637ab168ff25412b74997c0e4f43c30bb323', '0x2754637ab168ff25412b74997c0e4f43c30bb323'),\n",
    "    'MitchWainer': ('opensea.io/MitchWainer', '0x066d0ba423756b72cc0d78e5f15fbddb58a1851a'),\n",
    "    'hipcityreg': ('opensea.io/hipcityreg', '0x06ac1f9f86520225b73efce4982c9d9505753251'),\n",
    "    'Larkaiinc': ('opensea.io/Larkaiinc', '0xe7c9c928f32946a034c3bd8ef7200ad81be41afa'),\n",
    "    'Unnamed': ('opensea.io/0xab62f4fb16318558b49a2b4dad45ed237438b79d', '0xab62f4fb16318558b49a2b4dad45ed237438b79d'),\n",
    "    'Lucaesti': ('opensea.io/Lucaesti', '0x534c8bc9781a8072b524b853147a69bc6bf2b552'),\n",
    "    'q': ('opensea.io/q', '0xa52899a1a8195c3eef30e0b08658705250e154ae'),\n",
    "    'ricky': ('opensea.io/ricky', '0x7d4823262bd2c6e4fa78872f2587dda2a65828ed'),\n",
    "    'Jake Paul': ('opensea.io/Jake-Paul', '0xd81e1713c99595ee29498e521b18491af9c60415'),\n",
    "    'Cozomo de Medici': ('opensea.io/Cozomo_de_Medici', '0xce90a7949bb78892f159f428d0dc23a8e3584d75'),\n",
    "    'Kushari': ('opensea.io/Kushari', '0x51a8ed1ac9f120bf8b69edc654dd6809ab5db41c'),\n",
    "    'LilMayo': ('opensea.io/LilMayo', '0xa582047f7e50acbc8667523e7f62c200709beaed'),\n",
    "    'Jordan Beflort': ('opensea.io/0xdbf2445e5049c04cda797dae60ac885e7d79df9d', '0xdbf2445e5049c04cda797dae60ac885e7d79df9d'),\n",
    "    'imnotscottysire': ('opensea.io/imnotscottysire', '0xd0a1454963fb17f427fe744a084facd0ed60a774'),\n",
    "    'BenPhillipsUK': ('opensea.io/BenPhillipsUK', '0x53295d7932767839df07eb175ef03a24dcf3c278'),\n",
    "    'LordTJVault': ('opensea.io/LordTJVault', '0x5c5954af429ea585badec7fb13790f0d7d1569e8'),\n",
    "    'MikeShinoda': ('opensea.io/MikeShinoda', '0xb55eb9bd32d6ab75d7555192e7a3a7ca0bcd5738'),\n",
    "    'Snipe_Snipe': ('opensea.io/Snipe_Snipe', '0xe033b12daf37e64d6e664ac5b8eb839ce5b749db')\n",
    "}"
   ]
  },
  {
   "cell_type": "code",
   "execution_count": 24,
   "metadata": {},
   "outputs": [
    {
     "data": {
      "text/plain": [
       "22"
      ]
     },
     "execution_count": 24,
     "metadata": {},
     "output_type": "execute_result"
    }
   ],
   "source": [
    "len(init_wallet_d.keys())"
   ]
  },
  {
   "cell_type": "code",
   "execution_count": 14,
   "metadata": {},
   "outputs": [],
   "source": [
    "for item in init_wallet_d.items():\n",
    "#     variable init\n",
    "    username = item[0]\n",
    "    owner_url = item[1][0]\n",
    "    asset_owner_wallet_url = item[1][1]\n",
    "    \n",
    "#     creating request url and headers\n",
    "    url = \"https://api.opensea.io/api/v1/collections?asset_owner={}&offset=0&limit=300\".format(asset_owner_wallet_url)\n",
    "    headers = {\"Accept\": \"application/json\"}\n",
    "    response = requests.request(\"GET\", url, headers=headers)\n",
    "    \n",
    "#     initial formatting\n",
    "\n",
    "    response_text = json.loads(response.text)\n",
    "    temp_df = pd.json_normalize(response_text)\n",
    "    \n",
    "    \n",
    "###     Clean that annoying primary_asset_contracts stuff\n",
    "    # Create the initial dataframe from the first row\n",
    "    try:\n",
    "        pac_df = pd.DataFrame(temp_df.iloc[0]['primary_asset_contracts'][0], index=[0])\n",
    "\n",
    "        # Loop through the rest\n",
    "        for pac in temp_df['primary_asset_contracts'][1:]:\n",
    "            try:\n",
    "                temp_df = pd.DataFrame(pac[0], index=[0])\n",
    "        # The IndexError comes from an empty list\n",
    "        # Solution: append an empty df with same column names\n",
    "            except IndexError:\n",
    "                empty_d = {}\n",
    "                for col in pac_df.columns:\n",
    "                    empty_d[col] = np.nan\n",
    "                temp_df = pd.DataFrame(empty_d, index=[0])\n",
    "            pac_df = pac_df.append(temp_df)\n",
    "\n",
    "        # Adding \"pac_\" to start of each column name to track them later\n",
    "        pac_df.rename(columns=lambda x: \"pac_\"+x, inplace=True)\n",
    "        # All rows currently have index of 0, dropping and replacing with standard range indexes\n",
    "        pac_df = pac_df.reset_index(drop=True)\n",
    "\n",
    "        # Recombine the dataframes\n",
    "        temp_df = temp_df.join(pac_df)\n",
    "        # Drop the original column\n",
    "        if 'primary_asset_contracts' in temp_df.columns:\n",
    "            temp_df = temp_df.drop(columns=['primary_asset_contracts'])\n",
    "    \n",
    "    except IndexError:\n",
    "        pass\n",
    "    \n",
    "# Adding contextual information\n",
    "    temp_df['owner_user'] = username\n",
    "    temp_df['owner_url'] = owner_url\n",
    "    temp_df['asset_owner_wallet_url'] = asset_owner_wallet_url\n",
    "    \n",
    "# Formatting and clarifying column names\n",
    "    temp_df = temp_df.rename(columns={'name':'collection_name'})\n",
    "    \n",
    "    \n",
    "# Add temp_df to the original, large main DF, called df\n",
    "    df = df.append(temp_df)\n",
    "    \n",
    "# Let's sleep for a random amount of time\n",
    "    sleep(randint(3, 10))"
   ]
  },
  {
   "cell_type": "markdown",
   "metadata": {},
   "source": [
    "## Check that it all looks good"
   ]
  },
  {
   "cell_type": "code",
   "execution_count": 15,
   "metadata": {
    "scrolled": true
   },
   "outputs": [
    {
     "name": "stdout",
     "output_type": "stream",
     "text": [
      "(775, 2331)\n"
     ]
    }
   ],
   "source": [
    "print(df.shape)"
   ]
  },
  {
   "cell_type": "markdown",
   "metadata": {},
   "source": [
    "There are a few columns with all empty values. I'm going to remove them"
   ]
  },
  {
   "cell_type": "code",
   "execution_count": 16,
   "metadata": {},
   "outputs": [
    {
     "name": "stdout",
     "output_type": "stream",
     "text": [
      "chat_url\n",
      "pac_opensea_version\n",
      "opensea_version\n"
     ]
    }
   ],
   "source": [
    "for col in df.columns:\n",
    "    if col not in df.dropna(axis=1, how='all').columns:\n",
    "        print(col)"
   ]
  },
  {
   "cell_type": "markdown",
   "metadata": {},
   "source": [
    "The code also grabs a whole bunch of \"traits\", which I believe are properties for a specific NFT. These may be useful in predicting price, so I'm going to save them in another dataframe, `traits_df` and remove them from this main one"
   ]
  },
  {
   "cell_type": "code",
   "execution_count": 17,
   "metadata": {},
   "outputs": [
    {
     "name": "stdout",
     "output_type": "stream",
     "text": [
      "the traits_df has a shape of (775, 2240)\n",
      "the main df has a shape of (775, 88)\n"
     ]
    }
   ],
   "source": [
    "# Create the traits_df\n",
    "traits_df = df[[col for col in df.columns if 'traits' in col]].copy()\n",
    "\n",
    "# Remove those columns from traits_df\n",
    "df = df[df.columns.drop(list(df.filter(regex='traits')))]\n",
    "\n",
    "# Some columns are totally empty. \n",
    "df = df.dropna(axis=1, how='all')\n",
    "\n",
    "# Currently, empty cols are \n",
    "\n",
    "print(\"the traits_df has a shape of\", traits_df.shape)\n",
    "print(\"the main df has a shape of\", df.shape)"
   ]
  },
  {
   "cell_type": "code",
   "execution_count": 18,
   "metadata": {},
   "outputs": [
    {
     "name": "stdout",
     "output_type": "stream",
     "text": [
      "(775, 88)\n"
     ]
    }
   ],
   "source": [
    "print(df.shape)"
   ]
  },
  {
   "cell_type": "markdown",
   "metadata": {},
   "source": [
    "## Export"
   ]
  },
  {
   "cell_type": "code",
   "execution_count": 19,
   "metadata": {},
   "outputs": [],
   "source": [
    "# Exporting to csv\n",
    "df.to_csv('data/opensea_get_many_collections.csv', index=False)\n",
    "\n",
    "# Exporting the traits df to csv because why not\n",
    "traits_df.to_csv('data/opensea_traits.csv', index=False)"
   ]
  },
  {
   "cell_type": "markdown",
   "metadata": {},
   "source": [
    "## Observing what data we have now"
   ]
  },
  {
   "cell_type": "code",
   "execution_count": 20,
   "metadata": {},
   "outputs": [
    {
     "data": {
      "text/html": [
       "<div>\n",
       "<style scoped>\n",
       "    .dataframe tbody tr th:only-of-type {\n",
       "        vertical-align: middle;\n",
       "    }\n",
       "\n",
       "    .dataframe tbody tr th {\n",
       "        vertical-align: top;\n",
       "    }\n",
       "\n",
       "    .dataframe thead th {\n",
       "        text-align: right;\n",
       "    }\n",
       "</style>\n",
       "<table border=\"1\" class=\"dataframe\">\n",
       "  <thead>\n",
       "    <tr style=\"text-align: right;\">\n",
       "      <th></th>\n",
       "      <th>banner_image_url</th>\n",
       "      <th>created_date</th>\n",
       "      <th>default_to_fiat</th>\n",
       "      <th>description</th>\n",
       "      <th>dev_buyer_fee_basis_points</th>\n",
       "      <th>dev_seller_fee_basis_points</th>\n",
       "      <th>discord_url</th>\n",
       "      <th>external_url</th>\n",
       "      <th>featured</th>\n",
       "      <th>featured_image_url</th>\n",
       "      <th>...</th>\n",
       "      <th>address</th>\n",
       "      <th>asset_contract_type</th>\n",
       "      <th>nft_version</th>\n",
       "      <th>owner</th>\n",
       "      <th>schema_name</th>\n",
       "      <th>symbol</th>\n",
       "      <th>total_supply</th>\n",
       "      <th>external_link</th>\n",
       "      <th>buyer_fee_basis_points</th>\n",
       "      <th>seller_fee_basis_points</th>\n",
       "    </tr>\n",
       "  </thead>\n",
       "  <tbody>\n",
       "    <tr>\n",
       "      <th>0</th>\n",
       "      <td>https://lh3.googleusercontent.com/agQelV58HJdf...</td>\n",
       "      <td>2022-02-21T15:37:33.224465</td>\n",
       "      <td>False</td>\n",
       "      <td>Gen 0 Bloodshed Bears are the first Bloodshed ...</td>\n",
       "      <td>0</td>\n",
       "      <td>750</td>\n",
       "      <td>None</td>\n",
       "      <td>https://bloodshedbears.com/</td>\n",
       "      <td>False</td>\n",
       "      <td>https://lh3.googleusercontent.com/-mtSJ6aFZGP_...</td>\n",
       "      <td>...</td>\n",
       "      <td>NaN</td>\n",
       "      <td>NaN</td>\n",
       "      <td>NaN</td>\n",
       "      <td>NaN</td>\n",
       "      <td>NaN</td>\n",
       "      <td>NaN</td>\n",
       "      <td>NaN</td>\n",
       "      <td>NaN</td>\n",
       "      <td>NaN</td>\n",
       "      <td>NaN</td>\n",
       "    </tr>\n",
       "    <tr>\n",
       "      <th>1</th>\n",
       "      <td>https://lh3.googleusercontent.com/ksoOqRn6NWvX...</td>\n",
       "      <td>2022-02-18T20:18:06.263313</td>\n",
       "      <td>False</td>\n",
       "      <td>**Staking has started, true number of unique w...</td>\n",
       "      <td>0</td>\n",
       "      <td>750</td>\n",
       "      <td>https://discord.gg/shadowquest</td>\n",
       "      <td>https://www.shadowquest.games/</td>\n",
       "      <td>False</td>\n",
       "      <td>https://lh3.googleusercontent.com/0V1m53ay3HEQ...</td>\n",
       "      <td>...</td>\n",
       "      <td>NaN</td>\n",
       "      <td>NaN</td>\n",
       "      <td>NaN</td>\n",
       "      <td>NaN</td>\n",
       "      <td>NaN</td>\n",
       "      <td>NaN</td>\n",
       "      <td>NaN</td>\n",
       "      <td>NaN</td>\n",
       "      <td>NaN</td>\n",
       "      <td>NaN</td>\n",
       "    </tr>\n",
       "    <tr>\n",
       "      <th>2</th>\n",
       "      <td>https://lh3.googleusercontent.com/SwWOvZt1NQeu...</td>\n",
       "      <td>2022-02-18T18:15:27.899604</td>\n",
       "      <td>False</td>\n",
       "      <td>8k invisible mfers vibin on metaverse,  #mfers...</td>\n",
       "      <td>0</td>\n",
       "      <td>250</td>\n",
       "      <td>https://discord.gg/AW9HhFGh</td>\n",
       "      <td>None</td>\n",
       "      <td>False</td>\n",
       "      <td>https://lh3.googleusercontent.com/dlczqb6Fk6Zj...</td>\n",
       "      <td>...</td>\n",
       "      <td>NaN</td>\n",
       "      <td>NaN</td>\n",
       "      <td>NaN</td>\n",
       "      <td>NaN</td>\n",
       "      <td>NaN</td>\n",
       "      <td>NaN</td>\n",
       "      <td>NaN</td>\n",
       "      <td>NaN</td>\n",
       "      <td>NaN</td>\n",
       "      <td>NaN</td>\n",
       "    </tr>\n",
       "    <tr>\n",
       "      <th>3</th>\n",
       "      <td>https://lh3.googleusercontent.com/Mr4UVY-aWCW-...</td>\n",
       "      <td>2022-02-15T19:15:33.655423</td>\n",
       "      <td>False</td>\n",
       "      <td>Welcome to the cute and pudgy world of CatBlox...</td>\n",
       "      <td>0</td>\n",
       "      <td>750</td>\n",
       "      <td>None</td>\n",
       "      <td>https://www.catblox.xyz</td>\n",
       "      <td>False</td>\n",
       "      <td>https://lh3.googleusercontent.com/lYfTzWEiXVN7...</td>\n",
       "      <td>...</td>\n",
       "      <td>NaN</td>\n",
       "      <td>NaN</td>\n",
       "      <td>NaN</td>\n",
       "      <td>NaN</td>\n",
       "      <td>NaN</td>\n",
       "      <td>NaN</td>\n",
       "      <td>NaN</td>\n",
       "      <td>NaN</td>\n",
       "      <td>NaN</td>\n",
       "      <td>NaN</td>\n",
       "    </tr>\n",
       "    <tr>\n",
       "      <th>4</th>\n",
       "      <td>https://lh3.googleusercontent.com/bDun3SlP1OI9...</td>\n",
       "      <td>2022-02-10T21:37:55.411948</td>\n",
       "      <td>False</td>\n",
       "      <td>NASA is a Play-to-Earn metaverse game\\nhttps:/...</td>\n",
       "      <td>0</td>\n",
       "      <td>750</td>\n",
       "      <td>https://discord.gg/notoriousaliens</td>\n",
       "      <td>http://notoriousaliens.com/</td>\n",
       "      <td>False</td>\n",
       "      <td>None</td>\n",
       "      <td>...</td>\n",
       "      <td>NaN</td>\n",
       "      <td>NaN</td>\n",
       "      <td>NaN</td>\n",
       "      <td>NaN</td>\n",
       "      <td>NaN</td>\n",
       "      <td>NaN</td>\n",
       "      <td>NaN</td>\n",
       "      <td>NaN</td>\n",
       "      <td>NaN</td>\n",
       "      <td>NaN</td>\n",
       "    </tr>\n",
       "  </tbody>\n",
       "</table>\n",
       "<p>5 rows × 88 columns</p>\n",
       "</div>"
      ],
      "text/plain": [
       "                                    banner_image_url  \\\n",
       "0  https://lh3.googleusercontent.com/agQelV58HJdf...   \n",
       "1  https://lh3.googleusercontent.com/ksoOqRn6NWvX...   \n",
       "2  https://lh3.googleusercontent.com/SwWOvZt1NQeu...   \n",
       "3  https://lh3.googleusercontent.com/Mr4UVY-aWCW-...   \n",
       "4  https://lh3.googleusercontent.com/bDun3SlP1OI9...   \n",
       "\n",
       "                 created_date default_to_fiat  \\\n",
       "0  2022-02-21T15:37:33.224465           False   \n",
       "1  2022-02-18T20:18:06.263313           False   \n",
       "2  2022-02-18T18:15:27.899604           False   \n",
       "3  2022-02-15T19:15:33.655423           False   \n",
       "4  2022-02-10T21:37:55.411948           False   \n",
       "\n",
       "                                         description  \\\n",
       "0  Gen 0 Bloodshed Bears are the first Bloodshed ...   \n",
       "1  **Staking has started, true number of unique w...   \n",
       "2  8k invisible mfers vibin on metaverse,  #mfers...   \n",
       "3  Welcome to the cute and pudgy world of CatBlox...   \n",
       "4  NASA is a Play-to-Earn metaverse game\\nhttps:/...   \n",
       "\n",
       "  dev_buyer_fee_basis_points dev_seller_fee_basis_points  \\\n",
       "0                          0                         750   \n",
       "1                          0                         750   \n",
       "2                          0                         250   \n",
       "3                          0                         750   \n",
       "4                          0                         750   \n",
       "\n",
       "                          discord_url                    external_url  \\\n",
       "0                                None     https://bloodshedbears.com/   \n",
       "1      https://discord.gg/shadowquest  https://www.shadowquest.games/   \n",
       "2         https://discord.gg/AW9HhFGh                            None   \n",
       "3                                None         https://www.catblox.xyz   \n",
       "4  https://discord.gg/notoriousaliens     http://notoriousaliens.com/   \n",
       "\n",
       "  featured                                 featured_image_url  ... address  \\\n",
       "0    False  https://lh3.googleusercontent.com/-mtSJ6aFZGP_...  ...     NaN   \n",
       "1    False  https://lh3.googleusercontent.com/0V1m53ay3HEQ...  ...     NaN   \n",
       "2    False  https://lh3.googleusercontent.com/dlczqb6Fk6Zj...  ...     NaN   \n",
       "3    False  https://lh3.googleusercontent.com/lYfTzWEiXVN7...  ...     NaN   \n",
       "4    False                                               None  ...     NaN   \n",
       "\n",
       "  asset_contract_type nft_version owner schema_name symbol total_supply  \\\n",
       "0                 NaN         NaN   NaN         NaN    NaN          NaN   \n",
       "1                 NaN         NaN   NaN         NaN    NaN          NaN   \n",
       "2                 NaN         NaN   NaN         NaN    NaN          NaN   \n",
       "3                 NaN         NaN   NaN         NaN    NaN          NaN   \n",
       "4                 NaN         NaN   NaN         NaN    NaN          NaN   \n",
       "\n",
       "  external_link buyer_fee_basis_points seller_fee_basis_points  \n",
       "0           NaN                    NaN                     NaN  \n",
       "1           NaN                    NaN                     NaN  \n",
       "2           NaN                    NaN                     NaN  \n",
       "3           NaN                    NaN                     NaN  \n",
       "4           NaN                    NaN                     NaN  \n",
       "\n",
       "[5 rows x 88 columns]"
      ]
     },
     "execution_count": 20,
     "metadata": {},
     "output_type": "execute_result"
    }
   ],
   "source": [
    "df.head()"
   ]
  },
  {
   "cell_type": "code",
   "execution_count": 21,
   "metadata": {},
   "outputs": [
    {
     "data": {
      "text/plain": [
       "Index(['banner_image_url', 'created_date', 'default_to_fiat', 'description',\n",
       "       'dev_buyer_fee_basis_points', 'dev_seller_fee_basis_points',\n",
       "       'discord_url', 'external_url', 'featured', 'featured_image_url',\n",
       "       'hidden', 'safelist_request_status', 'image_url',\n",
       "       'is_subject_to_whitelist', 'large_image_url', 'medium_username', 'name',\n",
       "       'only_proxied_transfers', 'opensea_buyer_fee_basis_points',\n",
       "       'opensea_seller_fee_basis_points', 'payout_address', 'require_email',\n",
       "       'short_description', 'slug', 'telegram_url', 'twitter_username',\n",
       "       'instagram_username', 'wiki_url', 'owned_asset_count',\n",
       "       'stats.one_day_volume', 'stats.one_day_change', 'stats.one_day_sales',\n",
       "       'stats.one_day_average_price', 'stats.seven_day_volume',\n",
       "       'stats.seven_day_change', 'stats.seven_day_sales',\n",
       "       'stats.seven_day_average_price', 'stats.thirty_day_volume',\n",
       "       'stats.thirty_day_change', 'stats.thirty_day_sales',\n",
       "       'stats.thirty_day_average_price', 'stats.total_volume',\n",
       "       'stats.total_sales', 'stats.total_supply', 'stats.count',\n",
       "       'stats.num_owners', 'stats.average_price', 'stats.num_reports',\n",
       "       'stats.market_cap', 'stats.floor_price',\n",
       "       'display_data.card_display_style', 'pac_address',\n",
       "       'pac_asset_contract_type', 'pac_created_date', 'pac_name',\n",
       "       'pac_nft_version', 'pac_owner', 'pac_schema_name', 'pac_symbol',\n",
       "       'pac_total_supply', 'pac_description', 'pac_external_link',\n",
       "       'pac_image_url', 'pac_default_to_fiat',\n",
       "       'pac_dev_buyer_fee_basis_points', 'pac_dev_seller_fee_basis_points',\n",
       "       'pac_only_proxied_transfers', 'pac_opensea_buyer_fee_basis_points',\n",
       "       'pac_opensea_seller_fee_basis_points', 'pac_buyer_fee_basis_points',\n",
       "       'pac_seller_fee_basis_points', 'pac_payout_address', 'owner_user',\n",
       "       'owner_url', 'asset_owner_wallet_url', 'primary_asset_contracts',\n",
       "       'collection_name', 'display_data.images', 'address',\n",
       "       'asset_contract_type', 'nft_version', 'owner', 'schema_name', 'symbol',\n",
       "       'total_supply', 'external_link', 'buyer_fee_basis_points',\n",
       "       'seller_fee_basis_points'],\n",
       "      dtype='object')"
      ]
     },
     "execution_count": 21,
     "metadata": {},
     "output_type": "execute_result"
    }
   ],
   "source": [
    "df.columns"
   ]
  },
  {
   "cell_type": "code",
   "execution_count": 22,
   "metadata": {},
   "outputs": [
    {
     "data": {
      "text/plain": [
       "695"
      ]
     },
     "execution_count": 22,
     "metadata": {},
     "output_type": "execute_result"
    }
   ],
   "source": [
    "len(df['collection_name'].unique())"
   ]
  },
  {
   "cell_type": "code",
   "execution_count": 23,
   "metadata": {},
   "outputs": [
    {
     "data": {
      "text/plain": [
       "(775, 88)"
      ]
     },
     "execution_count": 23,
     "metadata": {},
     "output_type": "execute_result"
    }
   ],
   "source": [
    "df.shape"
   ]
  }
 ],
 "metadata": {
  "kernelspec": {
   "display_name": "Python 3",
   "language": "python",
   "name": "python3"
  },
  "language_info": {
   "codemirror_mode": {
    "name": "ipython",
    "version": 3
   },
   "file_extension": ".py",
   "mimetype": "text/x-python",
   "name": "python",
   "nbconvert_exporter": "python",
   "pygments_lexer": "ipython3",
   "version": "3.8.5"
  }
 },
 "nbformat": 4,
 "nbformat_minor": 4
}
