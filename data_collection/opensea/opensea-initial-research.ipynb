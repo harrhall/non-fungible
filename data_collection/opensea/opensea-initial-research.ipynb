{
 "cells": [
  {
   "cell_type": "code",
   "execution_count": 1,
   "metadata": {
    "scrolled": true
   },
   "outputs": [
    {
     "name": "stdout",
     "output_type": "stream",
     "text": [
      "Collecting opensea\n",
      "  Downloading opensea-0.2.0-py3-none-any.whl (6.7 kB)\n",
      "Requirement already satisfied: requests in /Users/harrisonhall/opt/anaconda3/lib/python3.8/site-packages (from opensea) (2.24.0)\n",
      "Requirement already satisfied: urllib3!=1.25.0,!=1.25.1,<1.26,>=1.21.1 in /Users/harrisonhall/opt/anaconda3/lib/python3.8/site-packages (from requests->opensea) (1.25.11)\n",
      "Requirement already satisfied: certifi>=2017.4.17 in /Users/harrisonhall/opt/anaconda3/lib/python3.8/site-packages (from requests->opensea) (2021.10.8)\n",
      "Requirement already satisfied: idna<3,>=2.5 in /Users/harrisonhall/opt/anaconda3/lib/python3.8/site-packages (from requests->opensea) (2.10)\n",
      "Requirement already satisfied: chardet<4,>=3.0.2 in /Users/harrisonhall/opt/anaconda3/lib/python3.8/site-packages (from requests->opensea) (3.0.4)\n",
      "Installing collected packages: opensea\n",
      "Successfully installed opensea-0.2.0\n",
      "Note: you may need to restart the kernel to use updated packages.\n"
     ]
    }
   ],
   "source": [
    "# Install\n",
    "# pip install opensea"
   ]
  },
  {
   "cell_type": "markdown",
   "metadata": {},
   "source": [
    "## Get_Assets\n",
    "Currently does not work - need API key"
   ]
  },
  {
   "cell_type": "code",
   "execution_count": 63,
   "metadata": {},
   "outputs": [],
   "source": [
    "from opensea import get_assets\n",
    "\n",
    "# This will return a list of assets which you can iterate and get the needed data\n",
    "asset_list = get_assets(limit=10, verified_only=False)\n",
    "\n",
    "# asset = asset_list[0] # Get the first asset obejct from the list\n",
    "\n",
    "# print(asset.name)\n",
    "# print(asset.description)\n",
    "# print(asset.asset_url)\n",
    "# print(asset.get_floor_price()) # Floor price of the collection\n"
   ]
  },
  {
   "cell_type": "code",
   "execution_count": 4,
   "metadata": {},
   "outputs": [
    {
     "data": {
      "text/plain": [
       "<Response [403]>"
      ]
     },
     "execution_count": 4,
     "metadata": {},
     "output_type": "execute_result"
    }
   ],
   "source": [
    "asset_list"
   ]
  },
  {
   "cell_type": "markdown",
   "metadata": {},
   "source": [
    "## Get_Bundles\n",
    "Currently does not work - need to figure out parameters"
   ]
  },
  {
   "cell_type": "code",
   "execution_count": 48,
   "metadata": {},
   "outputs": [],
   "source": [
    "from opensea import get_bundles\n",
    "\n",
    "# This will return a list of assets which you can iterate and get the needed data\n",
    "bundles_list = get_bundles(limit=20, offset=1)\n",
    "\n",
    "# bundle = bundles_list[0] # Get the first asset obejct from the list\n",
    "\n",
    "# print(bundle.slug)\n",
    "# print(bundle.assets[0].name)\n"
   ]
  },
  {
   "cell_type": "code",
   "execution_count": 49,
   "metadata": {},
   "outputs": [
    {
     "data": {
      "text/plain": [
       "<Response [400]>"
      ]
     },
     "execution_count": 49,
     "metadata": {},
     "output_type": "execute_result"
    }
   ],
   "source": [
    "bundles_list"
   ]
  },
  {
   "cell_type": "code",
   "execution_count": 50,
   "metadata": {},
   "outputs": [],
   "source": [
    "args = inspect.getfullargspec(get_bundles)"
   ]
  },
  {
   "cell_type": "code",
   "execution_count": 51,
   "metadata": {},
   "outputs": [
    {
     "data": {
      "text/plain": [
       "FullArgSpec(args=['owner', 'limit', 'offset'], varargs=None, varkw=None, defaults=('', 10, 0), kwonlyargs=[], kwonlydefaults=None, annotations={'return': typing.Union[typing.List[opensea.models.bundle.Bundle], requests.models.Response], 'owner': <class 'str'>, 'limit': <class 'int'>, 'offset': <class 'int'>})"
      ]
     },
     "execution_count": 51,
     "metadata": {},
     "output_type": "execute_result"
    }
   ],
   "source": [
    "args"
   ]
  },
  {
   "cell_type": "markdown",
   "metadata": {},
   "source": [
    "## Get_Collection_Stats\n",
    "Does work! collection=\"[collection name, probably URL]\""
   ]
  },
  {
   "cell_type": "code",
   "execution_count": 65,
   "metadata": {},
   "outputs": [],
   "source": [
    "from opensea import get_collection_stats\n",
    "\n",
    "# This will return a CollectionStats Object\n",
    "stats = get_collection_stats(collection=\"doodles-official\")\n",
    "\n",
    "# print(stats.count)\n",
    "# print(stats.num_owners)\n",
    "# print(stats.floor_price)\n",
    "# print(type(stats))"
   ]
  },
  {
   "cell_type": "code",
   "execution_count": 66,
   "metadata": {},
   "outputs": [
    {
     "name": "stdout",
     "output_type": "stream",
     "text": [
      "{'average_price': 4.2534227867421786,\n",
      " 'count': 10000.0,\n",
      " 'floor_price': 10.99,\n",
      " 'num_owners': 6069,\n",
      " 'one_day_volume': 422.98699999999997,\n",
      " 'seven_day_volume': 2075.0585234268397,\n",
      " 'total_sales': 19435.0,\n",
      " 'total_supply': 10000.0,\n",
      " 'total_volume': 82665.27186033424}\n"
     ]
    }
   ],
   "source": [
    "# These are all the properties we can extract from the stats \n",
    "from pprint import pprint\n",
    "pprint(vars(stats))"
   ]
  },
  {
   "cell_type": "markdown",
   "metadata": {},
   "source": [
    "## Retrieving Collections\n",
    "\n",
    "https://docs.opensea.io/reference/retrieving-collections\n",
    "\n",
    "Harrison is investigating as of 2/23\n",
    "- see opensea-get-collections.ipynb"
   ]
  },
  {
   "cell_type": "code",
   "execution_count": 55,
   "metadata": {
    "scrolled": false
   },
   "outputs": [
    {
     "name": "stdout",
     "output_type": "stream",
     "text": [
      "[{\"primary_asset_contracts\":[{\"address\":\"0x9d8826881a2beab386a7858e59c228a85b3963e1\",\"asset_contract_type\":\"non-fungible\",\"created_date\":\"2022-02-21T15:30:17.301417\",\"name\":\"GenesisBloodshedBears\",\"nft_version\":\"3.0\",\"opensea_version\":null,\"owner\":175826025,\"schema_name\":\"ERC721\",\"symbol\":\"GBSB\",\"total_supply\":\"0\",\"description\":\"Gen 0 Bloodshed Bears are the first Bloodshed Bears collection. \\n\\nWelcome to the Bloodshed Bears NFT game deployed on the Ethereum Blockchain.\\n\\nThe BloodShed Bears game combines P2E, risk, upgradeable meta and regular faction wars into a unique game experience.\\n\\nEach Bloodshed Bear is randomly assigned one of two factions upon mint and has a 10% chance of being a 'Elite' which can steal $BLD or reinforcement mints from your rival faction.\",\"external_link\":\"https://bloodshedbears.com/\",\"image_url\":\"https://lh3.googleusercontent.com/KAdE9rsF6xyMBzeI-v15-MQjbnJwczn0Ds_CxXmR7_k0G_NiZuGxzAi6t1SVo72KPVJjjsljAE78DSJEW5Bs6tGTJM2IGQQBzigQXg=s120\",\"default_to_fiat\":false,\"dev_buyer_fee_basis_points\":0,\"dev_seller_fee_basis_points\":750,\"only_proxied_transfers\":false,\"opensea_buyer_fee_basis_points\":0,\"opensea_seller_fee_basis_points\":250,\"buyer_fee_basis_points\":0,\"seller_fee_basis_points\":1000,\"payout_address\":\"0x9823f36c34dba0a9d88215f8eb7e6618162ffbb8\"}],\"traits\":{},\"stats\":{\"one_day_volume\":435.10910641159455,\"one_day_change\":-0.12087778932510697,\"one_day_sales\":1391.0,\"one_day_average_price\":0.31280309591056404,\"seven_day_volume\":935.7701953038038,\"seven_day_change\":0.0,\"seven_day_sales\":3651.0,\"seven_day_average_price\":0.256305175377651,\"thirty_day_volume\":935.7701953038038,\"thirty_day_change\":0.0,\"thirty_day_sales\":3651.0,\"thirty_day_average_price\":0.256305175377651,\"total_volume\":935.7701953038053,\"total_sales\":3651.0,\"total_supply\":7000.0,\"count\":7000.0,\"num_owners\":2368,\"average_price\":0.2563051753776514,\"num_reports\":30,\"market_cap\":1794.136227643557,\"floor_price\":0},\"banner_image_url\":\"https://lh3.googleusercontent.com/-mtSJ6aFZGP_po261AI56Zh5D_fWkMtBLiGuuIfYPm8M1SSyXhPzD7Hcvi4WbMk0eLC7HKAn7y9jQMb_cXvS8u6rprdxpZ7NICS_zA=s2500\",\"chat_url\":null,\"created_date\":\"2022-02-21T15:37:33.224465\",\"default_to_fiat\":false,\"description\":\"Gen 0 Bloodshed Bears are the first Bloodshed Bears collection. \\n\\nWelcome to the Bloodshed Bears NFT game deployed on the Ethereum Blockchain.\\n\\nThe BloodShed Bears game combines P2E, risk, upgradeable meta and regular faction wars into a unique game experience.\\n\\nEach Bloodshed Bear is randomly assigned one of two factions upon mint and has a 10% chance of being a 'Elite' which can steal $BLD or reinforcement mints from your rival faction.\",\"dev_buyer_fee_basis_points\":\"0\",\"dev_seller_fee_basis_points\":\"750\",\"discord_url\":null,\"display_data\":{\"card_display_style\":\"contain\"},\"external_url\":\"https://bloodshedbears.com/\",\"featured\":false,\"featured_image_url\":\"https://lh3.googleusercontent.com/-mtSJ6aFZGP_po261AI56Zh5D_fWkMtBLiGuuIfYPm8M1SSyXhPzD7Hcvi4WbMk0eLC7HKAn7y9jQMb_cXvS8u6rprdxpZ7NICS_zA=s300\",\"hidden\":false,\"safelist_request_status\":\"not_requested\",\"image_url\":\"https://lh3.googleusercontent.com/KAdE9rsF6xyMBzeI-v15-MQjbnJwczn0Ds_CxXmR7_k0G_NiZuGxzAi6t1SVo72KPVJjjsljAE78DSJEW5Bs6tGTJM2IGQQBzigQXg=s120\",\"is_subject_to_whitelist\":false,\"large_image_url\":\"https://lh3.googleusercontent.com/-mtSJ6aFZGP_po261AI56Zh5D_fWkMtBLiGuuIfYPm8M1SSyXhPzD7Hcvi4WbMk0eLC7HKAn7y9jQMb_cXvS8u6rprdxpZ7NICS_zA=s300\",\"medium_username\":null,\"name\":\"Genesis Bloodshed Bears\",\"only_proxied_transfers\":false,\"opensea_buyer_fee_basis_points\":\"0\",\"opensea_seller_fee_basis_points\":\"250\",\"payout_address\":\"0x9823f36c34dba0a9d88215f8eb7e6618162ffbb8\",\"require_email\":false,\"short_description\":null,\"slug\":\"genesisbloodshedbears\",\"telegram_url\":null,\"twitter_username\":null,\"instagram_username\":null,\"wiki_url\":null,\"owned_asset_count\":1},{\"primary_asset_contracts\":[{\"address\":\"0xb4d06d46a8285f4ec79fd294f78a881799d8ced9\",\"asset_contract_type\":\"non-fungible\",\"created_date\":\"2022-02-18T12:09:46.761480\",\"name\":\"3Landers\",\"nft_version\":\"3.0\",\"opensea_version\":null,\"owner\":258506391,\"schema_name\":\"ERC721\",\"symbol\":\"3L\",\"total_supply\":\"0\",\"description\":\"3Landers is a collectible NFT project centered around community, adventure, and collaboration. Each 3Lander resides on the Ethereum blockchain as a unique, non-fungible token (NFT) made up out of a unique combination of traits and underlying “DNAs”. Holding a 3Landers NFT makes you a 3Lander – a member of a world and community that serves to build meaningful long-term connection through collaboration, adventure, building, creating, and dreaming!\",\"external_link\":\"https://3landersnft.com/\",\"image_url\":\"https://lh3.googleusercontent.com/jM8itRiSM3hI8RWokMkhR97JdoIzukU3DUEO-9MD3i6r6DnTBW6efbv1617zES0MfoiWzW4f3UaL9lgRr61vf3Cj4DDPIsk_XjNBXQ=s120\",\"default_to_fiat\":false,\"dev_buyer_fee_basis_points\":0,\"dev_seller_fee_basis_points\":650,\"only_proxied_transfers\":false,\"opensea_buyer_fee_basis_points\":0,\"opensea_seller_fee_basis_points\":250,\"buyer_fee_basis_points\":0,\"seller_fee_basis_points\":900,\"payout_address\":\"0xecb856931ffa8fbe5cd55401adf123cb3ae8ccc1\"}],\"traits\":{},\"stats\":{\"one_day_volume\":2204.8986710033323,\"one_day_change\":-0.5592315734963877,\"one_day_sales\":1122.0,\"one_day_average_price\":1.9651503306625064,\"seven_day_volume\":13202.396225220331,\"seven_day_change\":0.0,\"seven_day_sales\":9594.0,\"seven_day_average_price\":1.3761096753408726,\"thirty_day_volume\":13202.396225220331,\"thirty_day_change\":0.0,\"thirty_day_sales\":9594.0,\"thirty_day_average_price\":1.3761096753408726,\"total_volume\":13202.396225220418,\"total_sales\":9594.0,\"total_supply\":10000.0,\"count\":10000.0,\"num_owners\":5087,\"average_price\":1.3761096753408817,\"num_reports\":7,\"market_cap\":13761.096753408725,\"floor_price\":0},\"banner_image_url\":\"https://lh3.googleusercontent.com/nzpEHnEfOg65RF6LO9sGm-hbLa7rfR0Nu70rFYp9--AMKNbVckXs4QohYrUDABZefZkZ01JeZH7ANSvea8xKfMjRxgbyl8MQOfDw=s2500\",\"chat_url\":null,\"created_date\":\"2022-02-19T13:01:18.111966\",\"default_to_fiat\":false,\"description\":\"3Landers is a collectible NFT project centered around community, adventure, and collaboration. Each 3Lander resides on the Ethereum blockchain as a unique, non-fungible token (NFT) made up out of a unique combination of traits and underlying “DNAs”. Holding a 3Landers NFT makes you a 3Lander – a member of a world and community that serves to build meaningful long-term connection through collaboration, adventure, building, creating, and dreaming!\",\"dev_buyer_fee_basis_points\":\"0\",\"dev_seller_fee_basis_points\":\"650\",\"discord_url\":\"https://discord.gg/3landers\",\"display_data\":{\"card_display_style\":\"cover\"},\"external_url\":\"https://3landersnft.com/\",\"featured\":false,\"featured_image_url\":\"https://lh3.googleusercontent.com/M8LJ19coTTvQd3yLNF84CNucY9OEJI0O5OIDL6C8MK13CuFp0gdl7Vm91uC56bgh6nWun7mkRqrhOl3Nt9lZL80GRIecd_EiBXV4Uw=s300\",\"hidden\":false,\"safelist_request_status\":\"approved\",\"image_url\":\"https://lh3.googleusercontent.com/jM8itRiSM3hI8RWokMkhR97JdoIzukU3DUEO-9MD3i6r6DnTBW6efbv1617zES0MfoiWzW4f3UaL9lgRr61vf3Cj4DDPIsk_XjNBXQ=s120\",\"is_subject_to_whitelist\":false,\"large_image_url\":\"https://lh3.googleusercontent.com/M8LJ19coTTvQd3yLNF84CNucY9OEJI0O5OIDL6C8MK13CuFp0gdl7Vm91uC56bgh6nWun7mkRqrhOl3Nt9lZL80GRIecd_EiBXV4Uw=s300\",\"medium_username\":null,\"name\":\"3Landers\",\"only_proxied_transfers\":false,\"opensea_buyer_fee_basis_points\":\"0\",\"opensea_seller_fee_basis_points\":\"250\",\"payout_address\":\"0xecb856931ffa8fbe5cd55401adf123cb3ae8ccc1\",\"require_email\":false,\"short_description\":null,\"slug\":\"3landers\",\"telegram_url\":null,\"twitter_username\":null,\"instagram_username\":null,\"wiki_url\":null,\"owned_asset_count\":1},{\"primary_asset_contracts\":[{\"address\":\"0xf026fb5be56ff63e19e9da3236035e80e5780663\",\"asset_contract_type\":\"non-fungible\",\"created_date\":\"2022-02-18T19:38:39.424470\",\"name\":\"ShadowQuest\",\"nft_version\":\"3.0\",\"opensea_version\":null,\"owner\":257586778,\"schema_name\":\"ERC721\",\"symbol\":\"SQ\",\"total_supply\":\"0\",\"description\":\"Shadow Quest is a *3-in-1* NFT project: **Next-gen P2E game** + **Lore** + **Art**\\n\\n***Discord https://discord.gg/shadowquest***\\n\\n~_**① Next-gen P2E game:**_~\\n\\n✅Enter the ancient lands of Ashtaar and battle your warriors in different locations to earn $HONR coin. In this epic war, battles occur every hour and the amount of $HONR you earn depends on your warrior’s stats – so you’ll have to be strategic!\\n\\n✅There are 9,996 hand-drawn warriors, of which 999 are from the Dark Samsar nation who have mysterious powers that enable them to challenge warriors to unique fights and steal $HONR.\\n\\n✅All of this is built from scratch on an optimized ERC-721:SHADOW contract where gas is 1/3 of normal, with innovative off-chain links to reduce gas further for more enjoyable tactical gaming.\\n\\n~_**② Lore:**_~ Deep lore is intricately woven into the game and art, with over 50% has been submitted by the community.\\n\\n~_**③ Art:**_~ See the Sneak-peeks in Discord yourself!\",\"external_link\":\"https://www.shadowquest.games/\",\"image_url\":\"https://lh3.googleusercontent.com/kvY3UaSqpSmowbs5O_TBiooJ8af6k3KYJN-yMsgJxD-g5VGb8_e23yWIDdddY0e4fpbHrwWnaeuXYh_JFQYO5ks7rnHp4PCZgABy=s120\",\"default_to_fiat\":false,\"dev_buyer_fee_basis_points\":0,\"dev_seller_fee_basis_points\":750,\"only_proxied_transfers\":false,\"opensea_buyer_fee_basis_points\":0,\"opensea_seller_fee_basis_points\":250,\"buyer_fee_basis_points\":0,\"seller_fee_basis_points\":1000,\"payout_address\":\"0xba6ac77b0f093e8808022f063435ccbb16eb879b\"}],\"traits\":{},\"stats\":{\"one_day_volume\":29.01518699927999,\"one_day_change\":-0.5364670466465796,\"one_day_sales\":192.0,\"one_day_average_price\":0.15112076562124996,\"seven_day_volume\":306.7043630584118,\"seven_day_change\":0.0,\"seven_day_sales\":1658.0,\"seven_day_average_price\":0.1849845374296814,\"thirty_day_volume\":306.7043630584118,\"thirty_day_change\":0.0,\"thirty_day_sales\":1658.0,\"thirty_day_average_price\":0.1849845374296814,\"total_volume\":306.7043630584119,\"total_sales\":1658.0,\"total_supply\":7883.0,\"count\":7883.0,\"num_owners\":1726,\"average_price\":0.1849845374296815,\"num_reports\":1,\"market_cap\":1458.2331085581786,\"floor_price\":0},\"banner_image_url\":\"https://lh3.googleusercontent.com/ksoOqRn6NWvX-aiVPmMyhAU8RIP_ITti3ps6vtDEzyRRiAXRrhs-S8aT1EwSWYIm-XY3KovuBC5BaQys0mWkVgucBqseqqy6LlEN0bM=s2500\",\"chat_url\":null,\"created_date\":\"2022-02-18T20:18:06.263313\",\"default_to_fiat\":false,\"description\":\"Shadow Quest is a *3-in-1* NFT project: **Next-gen P2E game** + **Lore** + **Art**\\n\\n***Discord https://discord.gg/shadowquest***\\n\\n~_**① Next-gen P2E game:**_~\\n\\n✅Enter the ancient lands of Ashtaar and battle your warriors in different locations to earn $HONR coin. In this epic war, battles occur every hour and the amount of $HONR you earn depends on your warrior’s stats – so you’ll have to be strategic!\\n\\n✅There are 9,996 hand-drawn warriors, of which 999 are from the Dark Samsar nation who have mysterious powers that enable them to challenge warriors to unique fights and steal $HONR.\\n\\n✅All of this is built from scratch on an optimized ERC-721:SHADOW contract where gas is 1/3 of normal, with innovative off-chain links to reduce gas further for more enjoyable tactical gaming.\\n\\n~_**② Lore:**_~ Deep lore is intricately woven into the game and art, with over 50% has been submitted by the community.\\n\\n~_**③ Art:**_~ See the Sneak-peeks in Discord yourself!\",\"dev_buyer_fee_basis_points\":\"0\",\"dev_seller_fee_basis_points\":\"750\",\"discord_url\":\"https://discord.gg/shadowquest\",\"display_data\":{\"card_display_style\":\"contain\"},\"external_url\":\"https://www.shadowquest.games/\",\"featured\":false,\"featured_image_url\":\"https://lh3.googleusercontent.com/0V1m53ay3HEQyO007dVxs-qM20Nd_q2n5aXYf27lH4wdH0ifh81V0UZQe_dc0-xSMPWPySKgVOxCRZZYYYZTfmjWeqf60J6Glolamcs=s300\",\"hidden\":false,\"safelist_request_status\":\"approved\",\"image_url\":\"https://lh3.googleusercontent.com/kvY3UaSqpSmowbs5O_TBiooJ8af6k3KYJN-yMsgJxD-g5VGb8_e23yWIDdddY0e4fpbHrwWnaeuXYh_JFQYO5ks7rnHp4PCZgABy=s120\",\"is_subject_to_whitelist\":false,\"large_image_url\":\"https://lh3.googleusercontent.com/0V1m53ay3HEQyO007dVxs-qM20Nd_q2n5aXYf27lH4wdH0ifh81V0UZQe_dc0-xSMPWPySKgVOxCRZZYYYZTfmjWeqf60J6Glolamcs=s300\",\"medium_username\":\"shadowquestnft/\",\"name\":\"Shadow Quest\",\"only_proxied_transfers\":false,\"opensea_buyer_fee_basis_points\":\"0\",\"opensea_seller_fee_basis_points\":\"250\",\"payout_address\":\"0xba6ac77b0f093e8808022f063435ccbb16eb879b\",\"require_email\":false,\"short_description\":null,\"slug\":\"shadow-quest\",\"telegram_url\":null,\"twitter_username\":null,\"instagram_username\":null,\"wiki_url\":null,\"owned_asset_count\":2},{\"primary_asset_contracts\":[],\"traits\":{},\"stats\":{\"one_day_volume\":28.821699999999904,\"one_day_change\":-0.4535468458338046,\"one_day_sales\":117.0,\"one_day_average_price\":0.24633931623931543,\"seven_day_volume\":81.5649219582983,\"seven_day_change\":0.0,\"seven_day_sales\":254.0,\"seven_day_average_price\":0.3211217399933004,\"thirty_day_volume\":81.5649219582983,\"thirty_day_change\":0.0,\"thirty_day_sales\":254.0,\"thirty_day_average_price\":0.3211217399933004,\"total_volume\":81.56492195829833,\"total_sales\":254.0,\"total_supply\":625.0,\"count\":625.0,\"num_owners\":441,\"average_price\":0.3211217399933005,\"num_reports\":0,\"market_cap\":200.70108749581274,\"floor_price\":0},\"banner_image_url\":\"https://lh3.googleusercontent.com/5-KeOMqOlfC7D6etYVEcrEiPcRy_QB-KPS3uOeGu7hMsPorzvPNtJOVrQRb1rxjHFcFsyXEQmTdj7bvqlbAQD5foHQxbTEgb5GPaMLg=s2500\",\"chat_url\":null,\"created_date\":\"2022-02-11T19:15:39.837329\",\"default_to_fiat\":false,\"description\":\"Spotlight by Joshua Bagley - Art Blocks Playground\",\"dev_buyer_fee_basis_points\":\"0\",\"dev_seller_fee_basis_points\":\"750\",\"discord_url\":null,\"display_data\":{\"card_display_style\":\"contain\",\"images\":[]},\"external_url\":\"https://www.artblocks.io/project/256\",\"featured\":false,\"featured_image_url\":\"https://lh3.googleusercontent.com/XCLVimaWwgIoItHNbA03P-vFX1gasYPaTZAqA6Dh6o3YnAmWaiVnvTxuq9djogkcgQyXSr5OZQu46f0gojm-cVpTaCyolm6n389CK9g\",\"hidden\":false,\"safelist_request_status\":\"verified\",\"image_url\":\"https://lh3.googleusercontent.com/XCLVimaWwgIoItHNbA03P-vFX1gasYPaTZAqA6Dh6o3YnAmWaiVnvTxuq9djogkcgQyXSr5OZQu46f0gojm-cVpTaCyolm6n389CK9g\",\"is_subject_to_whitelist\":false,\"large_image_url\":null,\"medium_username\":null,\"name\":\"Spotlight by Joshua Bagley\",\"only_proxied_transfers\":false,\"opensea_buyer_fee_basis_points\":\"0\",\"opensea_seller_fee_basis_points\":\"250\",\"payout_address\":\"0x6c093fe8bc59e1e0cae2ec10f0b717d3d182056b\",\"require_email\":false,\"short_description\":null,\"slug\":\"spotlight-by-joshua-bagley\",\"telegram_url\":null,\"twitter_username\":null,\"instagram_username\":null,\"wiki_url\":null,\"owned_asset_count\":1},{\"primary_asset_contracts\":[{\"address\":\"0x7a1f56f9641d7bd8c57f0909959c894c97e39beb\",\"asset_contract_type\":\"non-fungible\",\"created_date\":\"2022-02-10T21:37:47.326001\",\"name\":\"Notorious Alien Space Agents\",\"nft_version\":\"3.0\",\"opensea_version\":null,\"owner\":143954829,\"schema_name\":\"ERC721\",\"symbol\":\"NASA\",\"total_supply\":\"5\",\"description\":\"NASA is a Play-to-Earn metaverse game\\nhttps://www.notoriousaliens.com\\n\\n74% of Aliens currently staked in the NASA vault (3500 unique owners as of Feb 22). Collect and stake Aliens to earn YOLLAR and mint future NFTs of the metaverse.\",\"external_link\":\"http://notoriousaliens.com/\",\"image_url\":\"https://lh3.googleusercontent.com/LgIUlHi_XkkVBFY_fQIxoTWvFwQQOK5RTqWKBne1IfiA2GqJITSjojCyy_Rkij5I_YArztAR-3pc2qvCZ79jIUmQxi77MTeDjx8PHA=s120\",\"default_to_fiat\":false,\"dev_buyer_fee_basis_points\":0,\"dev_seller_fee_basis_points\":750,\"only_proxied_transfers\":false,\"opensea_buyer_fee_basis_points\":0,\"opensea_seller_fee_basis_points\":250,\"buyer_fee_basis_points\":0,\"seller_fee_basis_points\":1000,\"payout_address\":\"0x00be67d45d1af004d949410dc87fad4717eb30a4\"}],\"traits\":{},\"stats\":{\"one_day_volume\":15.353900000000007,\"one_day_change\":-0.4382527696067668,\"one_day_sales\":63.0,\"one_day_average_price\":0.24371269841269852,\"seven_day_volume\":170.4792877999999,\"seven_day_change\":-0.8786559621742599,\"seven_day_sales\":455.0,\"seven_day_average_price\":0.37467975340659315,\"thirty_day_volume\":1575.4044151871578,\"thirty_day_change\":0.0,\"thirty_day_sales\":4801.0,\"thirty_day_average_price\":0.3281408904784749,\"total_volume\":1575.4044151871612,\"total_sales\":4801.0,\"total_supply\":5555.0,\"count\":5555.0,\"num_owners\":765,\"average_price\":0.32814089047847556,\"num_reports\":42,\"market_cap\":2081.346030173625,\"floor_price\":0},\"banner_image_url\":\"https://lh3.googleusercontent.com/bDun3SlP1OI9Ni_KkYZVNQ4rZ-n1Vihmor_zXKYPIsrQByhDqBbbYEAT0RpSq4DDkxuxQi-H7WdpPewaK7xCafCZOjxtPdHk5wAYL2A=s2500\",\"chat_url\":null,\"created_date\":\"2022-02-10T21:37:55.411948\",\"default_to_fiat\":false,\"description\":\"NASA is a Play-to-Earn metaverse game\\nhttps://www.notoriousaliens.com\\n\\n74% of Aliens currently staked in the NASA vault (3500 unique owners as of Feb 22). Collect and stake Aliens to earn YOLLAR and mint future NFTs of the metaverse.\",\"dev_buyer_fee_basis_points\":\"0\",\"dev_seller_fee_basis_points\":\"750\",\"discord_url\":\"https://discord.gg/notoriousaliens\",\"display_data\":{\"card_display_style\":\"contain\"},\"external_url\":\"http://notoriousaliens.com/\",\"featured\":false,\"featured_image_url\":null,\"hidden\":false,\"safelist_request_status\":\"approved\",\"image_url\":\"https://lh3.googleusercontent.com/LgIUlHi_XkkVBFY_fQIxoTWvFwQQOK5RTqWKBne1IfiA2GqJITSjojCyy_Rkij5I_YArztAR-3pc2qvCZ79jIUmQxi77MTeDjx8PHA=s120\",\"is_subject_to_whitelist\":false,\"large_image_url\":null,\"medium_username\":null,\"name\":\"Notorious Alien Space Agents\",\"only_proxied_transfers\":false,\"opensea_buyer_fee_basis_points\":\"0\",\"opensea_seller_fee_basis_points\":\"250\",\"payout_address\":\"0x00be67d45d1af004d949410dc87fad4717eb30a4\",\"require_email\":false,\"short_description\":null,\"slug\":\"notorious-alien-space-agents\",\"telegram_url\":null,\"twitter_username\":null,\"instagram_username\":null,\"wiki_url\":null,\"owned_asset_count\":1},{\"primary_asset_contracts\":[{\"address\":\"0xcb4307f1c3b5556256748ddf5b86e81258990b3c\",\"asset_contract_type\":\"non-fungible\",\"created_date\":\"2022-02-10T12:35:39.787077\",\"name\":\"The Other Side\",\"nft_version\":\"3.0\",\"opensea_version\":null,\"owner\":251976828,\"schema_name\":\"ERC721\",\"symbol\":\"TOS\",\"total_supply\":\"0\",\"description\":\"BREAKING: Moonwalkers have been discovered on The Other Side of the moon. Only 8,888 Moonwalkers will be minted on the Ethereum Blockchain. Each is randomly generated from over 300 mystical traits, comprising multiple layers to differentiate its rarity.\\r\\n\\r\\nAs if Moonwalkers aren’t ethereal enough, it appears 1,788 have been christened CELESTIAL (in other words, GENESIS).\",\"external_link\":\"http://t-o-s.io\",\"image_url\":\"https://lh3.googleusercontent.com/lNEDBQZjfSt5cklZbTNGyfPBD37sz7BbQua_5du3fV-1JHCsWNHHyt-JHzO3njkDclbQ9MunKZ_g2eZWrZyZP2iCwuyRjyess1_0wkw=s120\",\"default_to_fiat\":false,\"dev_buyer_fee_basis_points\":0,\"dev_seller_fee_basis_points\":700,\"only_proxied_transfers\":false,\"opensea_buyer_fee_basis_points\":0,\"opensea_seller_fee_basis_points\":250,\"buyer_fee_basis_points\":0,\"seller_fee_basis_points\":950,\"payout_address\":\"0xf93f255f49c3f619a7a4b00ab5c248595170d8d1\"}],\"traits\":{},\"stats\":{\"one_day_volume\":85.51845,\"one_day_change\":-0.2875050704635055,\"one_day_sales\":170.0,\"one_day_average_price\":0.503049705882353,\"seven_day_volume\":2437.7857104065865,\"seven_day_change\":-0.3982396998390157,\"seven_day_sales\":3864.0,\"seven_day_average_price\":0.6308969229830711,\"thirty_day_volume\":6488.876667643854,\"thirty_day_change\":0.0,\"thirty_day_sales\":10069.0,\"thirty_day_average_price\":0.6444410237008495,\"total_volume\":6488.876667643869,\"total_sales\":10069.0,\"total_supply\":8888.0,\"count\":8888.0,\"num_owners\":5809,\"average_price\":0.644441023700851,\"num_reports\":4,\"market_cap\":5607.4118514735355,\"floor_price\":0},\"banner_image_url\":\"https://lh3.googleusercontent.com/i_cYBg5S9dsZ26pLci7KiO0pSNkP-iDSRcBzC3yfXQJ_bM72xoFo4Ux8IorLyS8XR5wtdcyLJLcPVQYvOeurLzUWzEQxdiP8lpK_tg=s2500\",\"chat_url\":null,\"created_date\":\"2022-02-10T14:08:16.921067\",\"default_to_fiat\":false,\"description\":\"BREAKING: Moonwalkers have been discovered on The Other Side of the moon. Only 8,888 Moonwalkers will be minted on the Ethereum Blockchain. Each is randomly generated from over 300 mystical traits, comprising multiple layers to differentiate its rarity.\\r\\n\\r\\nAs if Moonwalkers aren’t ethereal enough, it appears 1,788 have been christened CELESTIAL (in other words, GENESIS).\",\"dev_buyer_fee_basis_points\":\"0\",\"dev_seller_fee_basis_points\":\"700\",\"discord_url\":\"https://discord.gg/theotherside\",\"display_data\":{\"card_display_style\":\"contain\"},\"external_url\":\"http://t-o-s.io\",\"featured\":false,\"featured_image_url\":\"https://lh3.googleusercontent.com/O16Wh-xMx2Pl3LxDXR78s95LV56ZeW6kE9cMe9VNuGiGFfMTZLKA5NIcXOk_t-4bpi4k86jQgnCx1f16nc0WnHI5jolr93IuylXh=s300\",\"hidden\":false,\"safelist_request_status\":\"approved\",\"image_url\":\"https://lh3.googleusercontent.com/lNEDBQZjfSt5cklZbTNGyfPBD37sz7BbQua_5du3fV-1JHCsWNHHyt-JHzO3njkDclbQ9MunKZ_g2eZWrZyZP2iCwuyRjyess1_0wkw=s120\",\"is_subject_to_whitelist\":false,\"large_image_url\":\"https://lh3.googleusercontent.com/O16Wh-xMx2Pl3LxDXR78s95LV56ZeW6kE9cMe9VNuGiGFfMTZLKA5NIcXOk_t-4bpi4k86jQgnCx1f16nc0WnHI5jolr93IuylXh=s300\",\"medium_username\":null,\"name\":\"T-O-S The Other Side\",\"only_proxied_transfers\":false,\"opensea_buyer_fee_basis_points\":\"0\",\"opensea_seller_fee_basis_points\":\"250\",\"payout_address\":\"0xf93f255f49c3f619a7a4b00ab5c248595170d8d1\",\"require_email\":false,\"short_description\":null,\"slug\":\"tos-theotherside\",\"telegram_url\":null,\"twitter_username\":null,\"instagram_username\":\"theotherside.nft\",\"wiki_url\":null,\"owned_asset_count\":1},{\"primary_asset_contracts\":[{\"address\":\"0x04c469b60980b50c395175cc34b133678d018456\",\"asset_contract_type\":\"non-fungible\",\"created_date\":\"2022-02-08T20:54:57.567264\",\"name\":\"Viral Mfers\",\"nft_version\":\"3.0\",\"opensea_version\":null,\"owner\":39366609,\"schema_name\":\"ERC721\",\"symbol\":\"VM\",\"total_supply\":\"0\",\"description\":\"Viral Mfers (not made in lab) is a collection of 10,000 randomly generated NFTs by [@donkey_brained](https://twitter.com/donkey_brained).\\n**Spread CC0 and !vibe**.\\n\\n[ Join [Unofficial Discord](https://discord.gg/hq6P9zMxJg) ]  [ Follow [@ViralMfersBot](https://twitter.com/ViralMfersBot) ]\",\"external_link\":\"https://viralmfers.wtf/\",\"image_url\":\"https://lh3.googleusercontent.com/GDZALTQ2AO2BH6LWLwxXm3jCe_wJUnSQBhSuTaQB-uX4g1p4_ITnJgZNwemrNI9IsZHoTTdfunFtXYBeTujHOfq4tUWJOm7WB1nT=s120\",\"default_to_fiat\":false,\"dev_buyer_fee_basis_points\":0,\"dev_seller_fee_basis_points\":1000,\"only_proxied_transfers\":false,\"opensea_buyer_fee_basis_points\":0,\"opensea_seller_fee_basis_points\":250,\"buyer_fee_basis_points\":0,\"seller_fee_basis_points\":1250,\"payout_address\":\"0x4b44f85d6bb71482995105962fd073742c94107e\"}],\"traits\":{},\"stats\":{\"one_day_volume\":0.0,\"one_day_change\":0.0,\"one_day_sales\":0.0,\"one_day_average_price\":0.0,\"seven_day_volume\":0.017750000000000002,\"seven_day_change\":-0.9937742235316813,\"seven_day_sales\":10.0,\"seven_day_average_price\":0.001775,\"thirty_day_volume\":2.868799999999997,\"thirty_day_change\":0.0,\"thirty_day_sales\":190.0,\"thirty_day_average_price\":0.015098947368421038,\"total_volume\":2.868799999999998,\"total_sales\":190.0,\"total_supply\":9998.0,\"count\":9998.0,\"num_owners\":930,\"average_price\":0.015098947368421042,\"num_reports\":0,\"market_cap\":17.746450000000003,\"floor_price\":0},\"banner_image_url\":\"https://lh3.googleusercontent.com/j1eJTHX9pzbUvhRHg-FA4ZaAOyESW3KTKcZIqPcWPjgu6_bRvmL2aCd-Py6HpGN40lBMvWIoyHFFUhnS9j_xbMjdZcoxCuW7MJ5a7A=s2500\",\"chat_url\":null,\"created_date\":\"2022-02-08T22:25:32.437553\",\"default_to_fiat\":false,\"description\":\"Viral Mfers (not made in lab) is a collection of 10,000 randomly generated NFTs by [@donkey_brained](https://twitter.com/donkey_brained).\\n**Spread CC0 and !vibe**.\\n\\n[ Join [Unofficial Discord](https://discord.gg/hq6P9zMxJg) ]  [ Follow [@ViralMfersBot](https://twitter.com/ViralMfersBot) ]\",\"dev_buyer_fee_basis_points\":\"0\",\"dev_seller_fee_basis_points\":\"1000\",\"discord_url\":\"https://discord.gg/hq6P9zMxJg\",\"display_data\":{\"card_display_style\":\"cover\"},\"external_url\":\"https://viralmfers.wtf/\",\"featured\":false,\"featured_image_url\":null,\"hidden\":false,\"safelist_request_status\":\"not_requested\",\"image_url\":\"https://lh3.googleusercontent.com/GDZALTQ2AO2BH6LWLwxXm3jCe_wJUnSQBhSuTaQB-uX4g1p4_ITnJgZNwemrNI9IsZHoTTdfunFtXYBeTujHOfq4tUWJOm7WB1nT=s120\",\"is_subject_to_whitelist\":false,\"large_image_url\":null,\"medium_username\":null,\"name\":\"Viral Mfers\",\"only_proxied_transfers\":false,\"opensea_buyer_fee_basis_points\":\"0\",\"opensea_seller_fee_basis_points\":\"250\",\"payout_address\":\"0x4b44f85d6bb71482995105962fd073742c94107e\",\"require_email\":false,\"short_description\":null,\"slug\":\"viral-mfers\",\"telegram_url\":null,\"twitter_username\":null,\"instagram_username\":null,\"wiki_url\":null,\"owned_asset_count\":5},{\"primary_asset_contracts\":[{\"address\":\"0xab3a40cb800f50bd547a973787bdf2b2f8cd048a\",\"asset_contract_type\":\"non-fungible\",\"created_date\":\"2022-01-16T10:55:30.230188\",\"name\":\"DegenWaifus\",\"nft_version\":\"3.0\",\"opensea_version\":null,\"owner\":82264506,\"schema_name\":\"ERC721\",\"symbol\":\"DW\",\"total_supply\":\"0\",\"description\":\"The most degenerated Waifus on the ethereum blockchain.\",\"external_link\":\"https://www.degenwaifus.net/\",\"image_url\":\"https://lh3.googleusercontent.com/jF6mm3Ytg38PjGOuY1iZY79AVzDpgjShNrnEMJjNw1-OQEWsD_gQ_sTrolhX9G_WNo655QjsQIGlKePSM4wNo9G4oOZorfpDmuuAmg=s120\",\"default_to_fiat\":false,\"dev_buyer_fee_basis_points\":0,\"dev_seller_fee_basis_points\":500,\"only_proxied_transfers\":false,\"opensea_buyer_fee_basis_points\":0,\"opensea_seller_fee_basis_points\":250,\"buyer_fee_basis_points\":0,\"seller_fee_basis_points\":750,\"payout_address\":\"0xeeee451963d5a81c9d94776c9519abb6b6342ad5\"}],\"traits\":{},\"stats\":{\"one_day_volume\":0.0,\"one_day_change\":0.0,\"one_day_sales\":0.0,\"one_day_average_price\":0.0,\"seven_day_volume\":0.0,\"seven_day_change\":0.0,\"seven_day_sales\":0.0,\"seven_day_average_price\":0.0,\"thirty_day_volume\":0.0675,\"thirty_day_change\":-0.9558043606364172,\"thirty_day_sales\":15.0,\"thirty_day_average_price\":0.0045,\"total_volume\":1.5947999999999976,\"total_sales\":112.0,\"total_supply\":2147.0,\"count\":2147.0,\"num_owners\":458,\"average_price\":0.014239285714285692,\"num_reports\":0,\"market_cap\":0.0,\"floor_price\":0},\"banner_image_url\":\"https://lh3.googleusercontent.com/-WBvSBYbALqumV8pTwwD9zC5EOUeX__E9vlrkyLHXJddCTkIoPdYZlNsWMIL--VQGV6LGfch97Ovq77KqS9HNaFufUvkdDtrLtJx=s2500\",\"chat_url\":null,\"created_date\":\"2022-01-16T12:03:37.130156\",\"default_to_fiat\":false,\"description\":\"The most degenerated Waifus on the ethereum blockchain.\",\"dev_buyer_fee_basis_points\":\"0\",\"dev_seller_fee_basis_points\":\"500\",\"discord_url\":\"https://discord.gg/5BWu5hCmVp\",\"display_data\":{\"card_display_style\":\"contain\"},\"external_url\":\"https://www.degenwaifus.net/\",\"featured\":false,\"featured_image_url\":\"https://lh3.googleusercontent.com/XGrdGBYicNz_JLlc2XGWeTSsa8jWd6gkbikHolRPLMj4PyC7Lefzvg9aatbcWlQ13bNvtr3LY3HftBgioZSP4Rm5DRB5pNGGeiLD=s300\",\"hidden\":false,\"safelist_request_status\":\"not_requested\",\"image_url\":\"https://lh3.googleusercontent.com/jF6mm3Ytg38PjGOuY1iZY79AVzDpgjShNrnEMJjNw1-OQEWsD_gQ_sTrolhX9G_WNo655QjsQIGlKePSM4wNo9G4oOZorfpDmuuAmg=s120\",\"is_subject_to_whitelist\":false,\"large_image_url\":\"https://lh3.googleusercontent.com/XGrdGBYicNz_JLlc2XGWeTSsa8jWd6gkbikHolRPLMj4PyC7Lefzvg9aatbcWlQ13bNvtr3LY3HftBgioZSP4Rm5DRB5pNGGeiLD=s300\",\"medium_username\":null,\"name\":\"DegenWaifus\",\"only_proxied_transfers\":false,\"opensea_buyer_fee_basis_points\":\"0\",\"opensea_seller_fee_basis_points\":\"250\",\"payout_address\":\"0xeeee451963d5a81c9d94776c9519abb6b6342ad5\",\"require_email\":false,\"short_description\":null,\"slug\":\"degeneratedwaifus\",\"telegram_url\":null,\"twitter_username\":null,\"instagram_username\":null,\"wiki_url\":null,\"owned_asset_count\":1},{\"primary_asset_contracts\":[{\"address\":\"0x34037a293ffb6e29057ea7f36a453a39dccd130a\",\"asset_contract_type\":\"semi-fungible\",\"created_date\":\"2021-02-21T19:45:34.911305\",\"name\":\"Drippies™\",\"nft_version\":null,\"opensea_version\":null,\"owner\":18492220,\"schema_name\":\"ERC1155\",\"symbol\":\"Drippies™\",\"total_supply\":null,\"description\":\"Vibey creatures on the blockchain. Drippin' straight into ur wallet since January 2021.\",\"external_link\":\"https://linktr.ee/drippieverse\",\"image_url\":\"https://lh3.googleusercontent.com/iuRFaSEpKMYegyEzWp9bSkTSO5BzOoa0uU57-LjKiZHqDrbPvbdo2U4Utdz4tu6h_WrWjAJ8EKqR5WejWKSUUUdP9BmohgbH6e1n=s120\",\"default_to_fiat\":false,\"dev_buyer_fee_basis_points\":0,\"dev_seller_fee_basis_points\":1000,\"only_proxied_transfers\":false,\"opensea_buyer_fee_basis_points\":0,\"opensea_seller_fee_basis_points\":250,\"buyer_fee_basis_points\":0,\"seller_fee_basis_points\":1250,\"payout_address\":\"0x0048d02963b97445a012ad6d44bd38a0239c5b88\"}],\"traits\":{},\"stats\":{\"one_day_volume\":0.0,\"one_day_change\":-1.0,\"one_day_sales\":0.0,\"one_day_average_price\":0.0,\"seven_day_volume\":1.1139999999999999,\"seven_day_change\":-0.15606060606060604,\"seven_day_sales\":11.0,\"seven_day_average_price\":0.10127272727272726,\"thirty_day_volume\":8.869625000000001,\"thirty_day_change\":5.3490515390121685,\"thirty_day_sales\":56.0,\"thirty_day_average_price\":0.15838616071428574,\"total_volume\":62.57098007952675,\"total_sales\":515.0,\"total_supply\":33.0,\"count\":33.0,\"num_owners\":426,\"average_price\":0.12149704869811019,\"num_reports\":5,\"market_cap\":3.3419999999999996,\"floor_price\":0},\"banner_image_url\":\"https://lh3.googleusercontent.com/oxeuuG45Ri7aEyoo-GHLQ1K8yhnv0vHkCuuNHLH2_l1evTt9Ms_PWsMJxMaO7u49i-4SXkw9jLZpFVM5kQUHUCB3PRvE-elJxq9A3A=s2500\",\"chat_url\":null,\"created_date\":\"2021-02-21T20:29:23.991482\",\"default_to_fiat\":false,\"description\":\"Vibey creatures on the blockchain. Drippin' straight into ur wallet since January 2021.\",\"dev_buyer_fee_basis_points\":\"0\",\"dev_seller_fee_basis_points\":\"1000\",\"discord_url\":null,\"display_data\":{\"card_display_style\":\"cover\"},\"external_url\":\"https://linktr.ee/drippieverse\",\"featured\":false,\"featured_image_url\":\"https://lh3.googleusercontent.com/7bfsOwWFQ-nDJDsjo9zRAzyJXEmrrT1coPh2x7oo9VGo4pdyVWa_5Dm_pM7dK_ol4Pj9YiGKA0r0hsSg1uoXPXDvhl4xH-dSro8iNQ=s300\",\"hidden\":false,\"safelist_request_status\":\"approved\",\"image_url\":\"https://lh3.googleusercontent.com/iuRFaSEpKMYegyEzWp9bSkTSO5BzOoa0uU57-LjKiZHqDrbPvbdo2U4Utdz4tu6h_WrWjAJ8EKqR5WejWKSUUUdP9BmohgbH6e1n=s120\",\"is_subject_to_whitelist\":false,\"large_image_url\":\"https://lh3.googleusercontent.com/7bfsOwWFQ-nDJDsjo9zRAzyJXEmrrT1coPh2x7oo9VGo4pdyVWa_5Dm_pM7dK_ol4Pj9YiGKA0r0hsSg1uoXPXDvhl4xH-dSro8iNQ=s300\",\"medium_username\":null,\"name\":\"Drippies\",\"only_proxied_transfers\":false,\"opensea_buyer_fee_basis_points\":\"0\",\"opensea_seller_fee_basis_points\":\"250\",\"payout_address\":\"0x0048d02963b97445a012ad6d44bd38a0239c5b88\",\"require_email\":false,\"short_description\":null,\"slug\":\"drippies\",\"telegram_url\":null,\"twitter_username\":\"drippieverse\",\"instagram_username\":\"drippieverse\",\"wiki_url\":null,\"owned_asset_count\":1}]\n"
     ]
    }
   ],
   "source": [
    "import requests\n",
    "\n",
    "url = \"https://api.opensea.io/api/v1/collections?asset_owner=0xf51e77f49c8a31174c96462dd6235cdc4df9fbc4&offset=0&limit=300\"\n",
    "\n",
    "headers = {\"Accept\": \"application/json\"}\n",
    "\n",
    "response = requests.request(\"GET\", url, headers=headers)\n",
    "\n",
    "print(response.text)\n"
   ]
  }
 ],
 "metadata": {
  "kernelspec": {
   "display_name": "Python 3",
   "language": "python",
   "name": "python3"
  },
  "language_info": {
   "codemirror_mode": {
    "name": "ipython",
    "version": 3
   },
   "file_extension": ".py",
   "mimetype": "text/x-python",
   "name": "python",
   "nbconvert_exporter": "python",
   "pygments_lexer": "ipython3",
   "version": "3.8.5"
  }
 },
 "nbformat": 4,
 "nbformat_minor": 4
}
