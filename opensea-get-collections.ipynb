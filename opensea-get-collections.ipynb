{
 "cells": [
  {
   "cell_type": "markdown",
   "metadata": {},
   "source": [
    "## Retrieving Collections\n",
    "\n",
    "https://docs.opensea.io/reference/retrieving-collections\n",
    "\n",
    "Harrison is investigating as of 2/23"
   ]
  },
  {
   "cell_type": "markdown",
   "metadata": {},
   "source": [
    "### Initial data gathering request"
   ]
  },
  {
   "cell_type": "markdown",
   "metadata": {},
   "source": [
    "Here is the link to the user we are testing this method with:\n",
    "https://opensea.io/ARTSNFT"
   ]
  },
  {
   "cell_type": "code",
   "execution_count": 1,
   "metadata": {},
   "outputs": [],
   "source": [
    "# Create initial search, manual for now\n",
    "# Only doing this because I'm not sure if we currently save this info\n",
    "username = 'ARTSNFT'\n",
    "owner_url = 'opensea.io/ARTSNFT'\n",
    "asset_owner_wallet_url = '0xf51e77f49c8a31174c96462dd6235cdc4df9fbc4'"
   ]
  },
  {
   "cell_type": "code",
   "execution_count": 2,
   "metadata": {},
   "outputs": [],
   "source": [
    "import requests\n",
    "\n",
    "url = \"https://api.opensea.io/api/v1/collections?asset_owner={}&offset=0&limit=300\".format(asset_owner_wallet_url)\n",
    "\n",
    "headers = {\"Accept\": \"application/json\"}\n",
    "\n",
    "response = requests.request(\"GET\", url, headers=headers)"
   ]
  },
  {
   "cell_type": "markdown",
   "metadata": {},
   "source": [
    "### Initial formatting"
   ]
  },
  {
   "cell_type": "code",
   "execution_count": 3,
   "metadata": {},
   "outputs": [],
   "source": [
    "import json\n",
    "import pandas as pd\n",
    "import numpy as np"
   ]
  },
  {
   "cell_type": "code",
   "execution_count": 4,
   "metadata": {},
   "outputs": [],
   "source": [
    "response_text = json.loads(response.text)\n",
    "df = pd.json_normalize(response_text)"
   ]
  },
  {
   "cell_type": "markdown",
   "metadata": {},
   "source": [
    "The dataframe looks good overall, but the 'primary_asset_contracts' column is messy. It is a column of lists with a length of 1. The only element within that list is a dictionary."
   ]
  },
  {
   "cell_type": "code",
   "execution_count": 5,
   "metadata": {},
   "outputs": [
    {
     "data": {
      "text/html": [
       "<div>\n",
       "<style scoped>\n",
       "    .dataframe tbody tr th:only-of-type {\n",
       "        vertical-align: middle;\n",
       "    }\n",
       "\n",
       "    .dataframe tbody tr th {\n",
       "        vertical-align: top;\n",
       "    }\n",
       "\n",
       "    .dataframe thead th {\n",
       "        text-align: right;\n",
       "    }\n",
       "</style>\n",
       "<table border=\"1\" class=\"dataframe\">\n",
       "  <thead>\n",
       "    <tr style=\"text-align: right;\">\n",
       "      <th></th>\n",
       "      <th>primary_asset_contracts</th>\n",
       "      <th>banner_image_url</th>\n",
       "      <th>chat_url</th>\n",
       "      <th>created_date</th>\n",
       "      <th>default_to_fiat</th>\n",
       "      <th>description</th>\n",
       "      <th>dev_buyer_fee_basis_points</th>\n",
       "      <th>dev_seller_fee_basis_points</th>\n",
       "      <th>discord_url</th>\n",
       "      <th>external_url</th>\n",
       "      <th>...</th>\n",
       "      <th>stats.total_sales</th>\n",
       "      <th>stats.total_supply</th>\n",
       "      <th>stats.count</th>\n",
       "      <th>stats.num_owners</th>\n",
       "      <th>stats.average_price</th>\n",
       "      <th>stats.num_reports</th>\n",
       "      <th>stats.market_cap</th>\n",
       "      <th>stats.floor_price</th>\n",
       "      <th>display_data.card_display_style</th>\n",
       "      <th>display_data.images</th>\n",
       "    </tr>\n",
       "  </thead>\n",
       "  <tbody>\n",
       "    <tr>\n",
       "      <th>0</th>\n",
       "      <td>[{'address': '0x9d8826881a2beab386a7858e59c228...</td>\n",
       "      <td>https://lh3.googleusercontent.com/-mtSJ6aFZGP_...</td>\n",
       "      <td>None</td>\n",
       "      <td>2022-02-21T15:37:33.224465</td>\n",
       "      <td>False</td>\n",
       "      <td>Gen 0 Bloodshed Bears are the first Bloodshed ...</td>\n",
       "      <td>0</td>\n",
       "      <td>750</td>\n",
       "      <td>None</td>\n",
       "      <td>https://bloodshedbears.com/</td>\n",
       "      <td>...</td>\n",
       "      <td>3751.0</td>\n",
       "      <td>7000.0</td>\n",
       "      <td>7000.0</td>\n",
       "      <td>2392</td>\n",
       "      <td>0.260240</td>\n",
       "      <td>30</td>\n",
       "      <td>1821.678312</td>\n",
       "      <td>0</td>\n",
       "      <td>contain</td>\n",
       "      <td>NaN</td>\n",
       "    </tr>\n",
       "    <tr>\n",
       "      <th>1</th>\n",
       "      <td>[{'address': '0xb4d06d46a8285f4ec79fd294f78a88...</td>\n",
       "      <td>https://lh3.googleusercontent.com/nzpEHnEfOg65...</td>\n",
       "      <td>None</td>\n",
       "      <td>2022-02-19T13:01:18.111966</td>\n",
       "      <td>False</td>\n",
       "      <td>3Landers is a collectible NFT project centered...</td>\n",
       "      <td>0</td>\n",
       "      <td>650</td>\n",
       "      <td>https://discord.gg/3landers</td>\n",
       "      <td>https://3landersnft.com/</td>\n",
       "      <td>...</td>\n",
       "      <td>9699.0</td>\n",
       "      <td>10000.0</td>\n",
       "      <td>10000.0</td>\n",
       "      <td>5102</td>\n",
       "      <td>1.383236</td>\n",
       "      <td>7</td>\n",
       "      <td>13832.359135</td>\n",
       "      <td>0</td>\n",
       "      <td>cover</td>\n",
       "      <td>NaN</td>\n",
       "    </tr>\n",
       "  </tbody>\n",
       "</table>\n",
       "<p>2 rows × 54 columns</p>\n",
       "</div>"
      ],
      "text/plain": [
       "                             primary_asset_contracts  \\\n",
       "0  [{'address': '0x9d8826881a2beab386a7858e59c228...   \n",
       "1  [{'address': '0xb4d06d46a8285f4ec79fd294f78a88...   \n",
       "\n",
       "                                    banner_image_url chat_url  \\\n",
       "0  https://lh3.googleusercontent.com/-mtSJ6aFZGP_...     None   \n",
       "1  https://lh3.googleusercontent.com/nzpEHnEfOg65...     None   \n",
       "\n",
       "                 created_date  default_to_fiat  \\\n",
       "0  2022-02-21T15:37:33.224465            False   \n",
       "1  2022-02-19T13:01:18.111966            False   \n",
       "\n",
       "                                         description  \\\n",
       "0  Gen 0 Bloodshed Bears are the first Bloodshed ...   \n",
       "1  3Landers is a collectible NFT project centered...   \n",
       "\n",
       "  dev_buyer_fee_basis_points dev_seller_fee_basis_points  \\\n",
       "0                          0                         750   \n",
       "1                          0                         650   \n",
       "\n",
       "                   discord_url                 external_url  ...  \\\n",
       "0                         None  https://bloodshedbears.com/  ...   \n",
       "1  https://discord.gg/3landers     https://3landersnft.com/  ...   \n",
       "\n",
       "   stats.total_sales stats.total_supply  stats.count stats.num_owners  \\\n",
       "0             3751.0             7000.0       7000.0             2392   \n",
       "1             9699.0            10000.0      10000.0             5102   \n",
       "\n",
       "  stats.average_price  stats.num_reports stats.market_cap stats.floor_price  \\\n",
       "0            0.260240                 30      1821.678312                 0   \n",
       "1            1.383236                  7     13832.359135                 0   \n",
       "\n",
       "  display_data.card_display_style  display_data.images  \n",
       "0                         contain                  NaN  \n",
       "1                           cover                  NaN  \n",
       "\n",
       "[2 rows x 54 columns]"
      ]
     },
     "execution_count": 5,
     "metadata": {},
     "output_type": "execute_result"
    }
   ],
   "source": [
    "df.head(2)"
   ]
  },
  {
   "cell_type": "code",
   "execution_count": 6,
   "metadata": {},
   "outputs": [
    {
     "name": "stdout",
     "output_type": "stream",
     "text": [
      "Each element in the series is <class 'list'>\n",
      "Each of these lists has a length of 1\n",
      "The only element within these lists is of type <class 'dict'>\n"
     ]
    }
   ],
   "source": [
    "print(\"Each element in the series is\", type(df['primary_asset_contracts'][0]))\n",
    "print(\"Each of these lists has a length of\", len(df['primary_asset_contracts'][0]))\n",
    "print(\"The only element within these lists is of type\", type(df['primary_asset_contracts'][0][0]))"
   ]
  },
  {
   "cell_type": "markdown",
   "metadata": {},
   "source": [
    "The next step is to convert this column of dictionaries (each within their own list) into a set of columns, which will be re-combined with the original dataframe. The original column, \"primary_asset_contracts\", will be removed from the dataframe.\n",
    "\n",
    "The newly-created columns, which expand on the original column (\"primary_asset_contracts\") will all start with \"pac_\" before continuing their original names. The original names were the keys in the dictionaries."
   ]
  },
  {
   "cell_type": "code",
   "execution_count": 7,
   "metadata": {},
   "outputs": [],
   "source": [
    "# Create the initial dataframe from the first row\n",
    "pac_df = pd.DataFrame(df.iloc[0]['primary_asset_contracts'][0], index=[0])\n",
    "\n",
    "# Loop through the rest\n",
    "for pac in df['primary_asset_contracts'][1:]:\n",
    "    try:\n",
    "        temp_df = pd.DataFrame(pac[0], index=[0])\n",
    "# The IndexError comes from an empty list\n",
    "# Solution: append an empty df with same column names\n",
    "    except IndexError:\n",
    "        empty_d = {}\n",
    "        for col in pac_df.columns:\n",
    "            empty_d[col] = np.nan\n",
    "        temp_df = pd.DataFrame(empty_d, index=[0])\n",
    "    pac_df = pac_df.append(temp_df)\n",
    "    \n",
    "# Adding \"pac_\" to start of each column name to track them later\n",
    "pac_df.rename(columns=lambda x: \"pac_\"+x, inplace=True)\n",
    "# All rows currently have index of 0, dropping and replacing with standard range indexes\n",
    "pac_df = pac_df.reset_index(drop=True)"
   ]
  },
  {
   "cell_type": "code",
   "execution_count": 8,
   "metadata": {},
   "outputs": [],
   "source": [
    "# Recombine the dataframes\n",
    "df = df.join(pac_df)\n",
    "# Drop the original column\n",
    "df = df.drop(columns=['primary_asset_contracts'])"
   ]
  },
  {
   "cell_type": "code",
   "execution_count": 9,
   "metadata": {},
   "outputs": [
    {
     "data": {
      "text/plain": [
       "Index(['banner_image_url', 'chat_url', 'created_date', 'default_to_fiat',\n",
       "       'description', 'dev_buyer_fee_basis_points',\n",
       "       'dev_seller_fee_basis_points', 'discord_url', 'external_url',\n",
       "       'featured', 'featured_image_url', 'hidden', 'safelist_request_status',\n",
       "       'image_url', 'is_subject_to_whitelist', 'large_image_url',\n",
       "       'medium_username', 'name', 'only_proxied_transfers',\n",
       "       'opensea_buyer_fee_basis_points', 'opensea_seller_fee_basis_points',\n",
       "       'payout_address', 'require_email', 'short_description', 'slug',\n",
       "       'telegram_url', 'twitter_username', 'instagram_username', 'wiki_url',\n",
       "       'owned_asset_count', 'stats.one_day_volume', 'stats.one_day_change',\n",
       "       'stats.one_day_sales', 'stats.one_day_average_price',\n",
       "       'stats.seven_day_volume', 'stats.seven_day_change',\n",
       "       'stats.seven_day_sales', 'stats.seven_day_average_price',\n",
       "       'stats.thirty_day_volume', 'stats.thirty_day_change',\n",
       "       'stats.thirty_day_sales', 'stats.thirty_day_average_price',\n",
       "       'stats.total_volume', 'stats.total_sales', 'stats.total_supply',\n",
       "       'stats.count', 'stats.num_owners', 'stats.average_price',\n",
       "       'stats.num_reports', 'stats.market_cap', 'stats.floor_price',\n",
       "       'display_data.card_display_style', 'display_data.images', 'pac_address',\n",
       "       'pac_asset_contract_type', 'pac_created_date', 'pac_name',\n",
       "       'pac_nft_version', 'pac_opensea_version', 'pac_owner',\n",
       "       'pac_schema_name', 'pac_symbol', 'pac_total_supply', 'pac_description',\n",
       "       'pac_external_link', 'pac_image_url', 'pac_default_to_fiat',\n",
       "       'pac_dev_buyer_fee_basis_points', 'pac_dev_seller_fee_basis_points',\n",
       "       'pac_only_proxied_transfers', 'pac_opensea_buyer_fee_basis_points',\n",
       "       'pac_opensea_seller_fee_basis_points', 'pac_buyer_fee_basis_points',\n",
       "       'pac_seller_fee_basis_points', 'pac_payout_address'],\n",
       "      dtype='object')"
      ]
     },
     "execution_count": 9,
     "metadata": {},
     "output_type": "execute_result"
    }
   ],
   "source": [
    "# Showing the columns just because I can't see them all with df.head()\n",
    "df.columns"
   ]
  },
  {
   "cell_type": "markdown",
   "metadata": {},
   "source": [
    "## Adding contextual information"
   ]
  },
  {
   "cell_type": "code",
   "execution_count": 10,
   "metadata": {},
   "outputs": [],
   "source": [
    "df['owner_user'] = username\n",
    "df['owner_url'] = owner_url\n",
    "df['asset_owner_wallet_url'] = asset_owner_wallet_url"
   ]
  },
  {
   "cell_type": "code",
   "execution_count": 11,
   "metadata": {},
   "outputs": [],
   "source": [
    "# Exporting to csv\n",
    "df.to_csv('initial_opensea_get_collections.csv')"
   ]
  }
 ],
 "metadata": {
  "kernelspec": {
   "display_name": "Python 3",
   "language": "python",
   "name": "python3"
  },
  "language_info": {
   "codemirror_mode": {
    "name": "ipython",
    "version": 3
   },
   "file_extension": ".py",
   "mimetype": "text/x-python",
   "name": "python",
   "nbconvert_exporter": "python",
   "pygments_lexer": "ipython3",
   "version": "3.8.5"
  }
 },
 "nbformat": 4,
 "nbformat_minor": 4
}
