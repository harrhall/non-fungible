{
 "cells": [
  {
   "cell_type": "code",
   "execution_count": 1,
   "metadata": {},
   "outputs": [],
   "source": [
    "import pandas as pd\n",
    "import numpy as np\n",
    "import seaborn as sns\n",
    "import matplotlib.pyplot as plt"
   ]
  },
  {
   "cell_type": "code",
   "execution_count": 2,
   "metadata": {},
   "outputs": [],
   "source": [
    "file = pd.read_csv('model_data.csv')"
   ]
  },
  {
   "cell_type": "code",
   "execution_count": 3,
   "metadata": {},
   "outputs": [],
   "source": [
    "file = file.fillna(0)"
   ]
  },
  {
   "cell_type": "markdown",
   "metadata": {},
   "source": [
    "### Preprocessing\n",
    "- Minor changes needed. \n",
    "- Convert 'created_at' to datetime\n",
    "- Convert 'collection_name' to ints"
   ]
  },
  {
   "cell_type": "code",
   "execution_count": 4,
   "metadata": {},
   "outputs": [],
   "source": [
    "# Manually convert collection_name into nums\n",
    "collections = {}\n",
    "count = 1\n",
    "for col in file['collection_name'].unique():\n",
    "    collections[col] = count\n",
    "    count += 1\n",
    "    \n",
    "file['collection_name'] = file['collection_name'].apply(lambda x: collections[x])"
   ]
  },
  {
   "cell_type": "code",
   "execution_count": 5,
   "metadata": {},
   "outputs": [],
   "source": [
    "# Convert to datetime\n",
    "file['created_at'] = file['created_at'].apply(lambda x: pd.to_datetime(x))\n",
    "file = file.set_index('created_at')"
   ]
  },
  {
   "cell_type": "code",
   "execution_count": 6,
   "metadata": {
    "scrolled": true
   },
   "outputs": [
    {
     "data": {
      "text/plain": [
       "final_vader_score         float64\n",
       "prices_scaled             float64\n",
       "previous_day_sentiment    float64\n",
       "trends                    float64\n",
       "trends_previous_day       float64\n",
       "trends_two_days_prior     float64\n",
       "num_tweets                  int64\n",
       "collection_name             int64\n",
       "dtype: object"
      ]
     },
     "execution_count": 6,
     "metadata": {},
     "output_type": "execute_result"
    }
   ],
   "source": [
    "file.dtypes"
   ]
  },
  {
   "cell_type": "markdown",
   "metadata": {},
   "source": [
    "# Let's do some MODELING"
   ]
  },
  {
   "cell_type": "markdown",
   "metadata": {},
   "source": [
    "## Create Train and Test data"
   ]
  },
  {
   "cell_type": "code",
   "execution_count": 8,
   "metadata": {},
   "outputs": [],
   "source": [
    "init_df = file[file['collection_name']==1].copy()"
   ]
  },
  {
   "cell_type": "code",
   "execution_count": 9,
   "metadata": {},
   "outputs": [],
   "source": [
    "(X, y) = (np.array(init_df.drop(columns=['prices_scaled'])), np.array(init_df['prices_scaled']))"
   ]
  },
  {
   "cell_type": "code",
   "execution_count": 10,
   "metadata": {},
   "outputs": [],
   "source": [
    "# from sklearn.model_selection import train_test_split\n",
    "\n",
    "# def split_data(data, test_size):\n",
    "#     (X_temp, y_temp) = (np.array(data.drop(columns=['prices_scaled'])), np.array(data['prices_scaled']))\n",
    "#     X_train_temp, X_test_temp, y_train_temp, y_test_temp = train_test_split(X_temp, y_temp, test_size=0.2, random_state=699)\n",
    "#     return(X_train_temp, X_test_temp, y_train_temp, y_test_temp)\n",
    "\n",
    "# Source: https://medium.com/keita-starts-data-science/time-series-split-with-scikit-learn-74f5be38489e\n",
    "def split_data(data, test_size):\n",
    "    X = data.drop(columns=['prices_scaled'])\n",
    "    y = data['prices_scaled']\n",
    "    X_train = X[:int(data.shape[0]*(test_size/100))]\n",
    "    X_test = X[int(data.shape[0]*(test_size/100)):]\n",
    "    y_train = y[:int(data.shape[0]*(test_size/100))]\n",
    "    y_test = y[int(data.shape[0]*(test_size/100)):]\n",
    "    return(X_train, X_test, y_train, y_test)"
   ]
  },
  {
   "cell_type": "code",
   "execution_count": 11,
   "metadata": {},
   "outputs": [],
   "source": [
    "def create_test_train(df, test_size):\n",
    "    collection_names = df['collection_name'].unique()\n",
    "    main_data = split_data(df[df['collection_name']==collection_names[0]], test_size)\n",
    "    X_train = main_data[0]\n",
    "    X_test = main_data[1]\n",
    "    y_train = main_data[2]\n",
    "    y_test = main_data[3]\n",
    "    \n",
    "    for collection_name in collection_names[1:]:\n",
    "        try:\n",
    "            new_data = split_data(df[df['collection_name']==collection_name], test_size)\n",
    "            X_train = X_train.append(new_data[0])\n",
    "            X_test = X_test.append(new_data[1])\n",
    "            y_train = y_train.append(new_data[2])\n",
    "            y_test = y_test.append(new_data[3])\n",
    "        except ValueError:\n",
    "            print(\"ERROR:\")\n",
    "            for item in collections.items():\n",
    "                if item[1]==collection_name:\n",
    "                    print(item)\n",
    "            pass\n",
    "#     X_train = np.array(X_train)\n",
    "#     X_test = np.array(X_test)\n",
    "#     y_train = np.array(y_train)\n",
    "#     y_test = np.array(y_test)\n",
    "    return(X_train, X_test, y_train, y_test)"
   ]
  },
  {
   "cell_type": "code",
   "execution_count": 12,
   "metadata": {},
   "outputs": [],
   "source": [
    "test = create_test_train(file, 80)"
   ]
  },
  {
   "cell_type": "code",
   "execution_count": 13,
   "metadata": {},
   "outputs": [],
   "source": [
    "X_train = test[0].reset_index(drop=True)\n",
    "X_test = test[1].reset_index(drop=True)\n",
    "y_train = test[2].reset_index(drop=True)\n",
    "y_test = test[3].reset_index(drop=True)"
   ]
  },
  {
   "cell_type": "code",
   "execution_count": 14,
   "metadata": {},
   "outputs": [],
   "source": [
    "# Creating a 20% sample to speed up initial model generation\n",
    "X_train_sample = X_train.sample(n=int((X_train.shape[0])*.2), random_state=699)\n",
    "y_train_sample = y_train.iloc[X_train_sample.index]"
   ]
  },
  {
   "cell_type": "markdown",
   "metadata": {},
   "source": [
    "## ARIMA\n",
    "\n",
    "Source: https://builtin.com/data-science/time-series-forecasting-python"
   ]
  },
  {
   "cell_type": "code",
   "execution_count": 108,
   "metadata": {},
   "outputs": [],
   "source": [
    "from sklearn.metrics import mean_squared_error"
   ]
  },
  {
   "cell_type": "code",
   "execution_count": 109,
   "metadata": {},
   "outputs": [],
   "source": [
    "import warnings\n",
    "warnings.filterwarnings(\"ignore\")"
   ]
  },
  {
   "cell_type": "code",
   "execution_count": 110,
   "metadata": {},
   "outputs": [],
   "source": [
    "# !pip install pmdarima\n",
    "from pmdarima.arima import auto_arima"
   ]
  },
  {
   "cell_type": "code",
   "execution_count": 111,
   "metadata": {},
   "outputs": [
    {
     "name": "stdout",
     "output_type": "stream",
     "text": [
      "Performing stepwise search to minimize aic\n",
      " ARIMA(0,1,0)(0,0,0)[0] intercept   : AIC=9157.901, Time=0.08 sec\n",
      " ARIMA(1,1,0)(0,0,0)[0] intercept   : AIC=8936.400, Time=0.17 sec\n",
      " ARIMA(0,1,1)(0,0,0)[0] intercept   : AIC=8736.483, Time=0.29 sec\n",
      " ARIMA(0,1,0)(0,0,0)[0]             : AIC=9155.907, Time=0.05 sec\n",
      " ARIMA(1,1,1)(0,0,0)[0] intercept   : AIC=inf, Time=2.44 sec\n",
      " ARIMA(0,1,2)(0,0,0)[0] intercept   : AIC=8570.003, Time=0.51 sec\n",
      " ARIMA(1,1,2)(0,0,0)[0] intercept   : AIC=inf, Time=3.17 sec\n",
      " ARIMA(0,1,3)(0,0,0)[0] intercept   : AIC=8518.860, Time=1.14 sec\n",
      " ARIMA(1,1,3)(0,0,0)[0] intercept   : AIC=inf, Time=3.07 sec\n",
      " ARIMA(0,1,4)(0,0,0)[0] intercept   : AIC=inf, Time=4.08 sec\n",
      " ARIMA(1,1,4)(0,0,0)[0] intercept   : AIC=8472.800, Time=4.21 sec\n",
      " ARIMA(2,1,4)(0,0,0)[0] intercept   : AIC=inf, Time=4.73 sec\n",
      " ARIMA(1,1,5)(0,0,0)[0] intercept   : AIC=inf, Time=4.84 sec\n",
      " ARIMA(0,1,5)(0,0,0)[0] intercept   : AIC=inf, Time=4.21 sec\n",
      " ARIMA(2,1,3)(0,0,0)[0] intercept   : AIC=inf, Time=3.57 sec\n",
      " ARIMA(2,1,5)(0,0,0)[0] intercept   : AIC=inf, Time=5.61 sec\n",
      " ARIMA(1,1,4)(0,0,0)[0]             : AIC=inf, Time=2.30 sec\n",
      "\n",
      "Best model:  ARIMA(1,1,4)(0,0,0)[0] intercept\n",
      "Total fit time: 44.507 seconds\n"
     ]
    }
   ],
   "source": [
    "# Source: https://towardsdatascience.com/time-series-forecasting-using-auto-arima-in-python-bb83e49210cd\n",
    "arima_model = auto_arima(y_train, start_p=0, d=1, start_q=0,\n",
    "                        max_p=5, max_d=5, max_q=5, start_P=0,\n",
    "                        D=1, start_Q=0, max_P=5, max_D=5,\n",
    "                        max_Q=5, m=12, seasonal=False, error_action='warn',\n",
    "                         trace=True, suppress_warnings=True, stepwise=True,\n",
    "                        random_state=699, n_fits=50)"
   ]
  },
  {
   "cell_type": "code",
   "execution_count": 252,
   "metadata": {},
   "outputs": [
    {
     "name": "stdout",
     "output_type": "stream",
     "text": [
      "RMSE:  0.9946951636068639\n"
     ]
    }
   ],
   "source": [
    "arima_preds = arima_model.predict(y_test.shape[0])\n",
    "\n",
    "arma_rmse = np.sqrt(mean_squared_error(y_test, arima_preds))\n",
    "print(\"RMSE: \",arma_rmse)"
   ]
  },
  {
   "cell_type": "markdown",
   "metadata": {},
   "source": [
    "Conclusion: ARIMA is not bad!"
   ]
  },
  {
   "cell_type": "markdown",
   "metadata": {},
   "source": [
    "## Linear Regression"
   ]
  },
  {
   "cell_type": "code",
   "execution_count": 21,
   "metadata": {},
   "outputs": [],
   "source": [
    "from sklearn.model_selection import GridSearchCV"
   ]
  },
  {
   "cell_type": "code",
   "execution_count": 22,
   "metadata": {},
   "outputs": [],
   "source": [
    "# Import\n",
    "from sklearn.linear_model import LinearRegression"
   ]
  },
  {
   "cell_type": "code",
   "execution_count": 23,
   "metadata": {},
   "outputs": [],
   "source": [
    "# Generate base model\n",
    "lin_model = LinearRegression().fit(X_train, y_train)"
   ]
  },
  {
   "cell_type": "markdown",
   "metadata": {},
   "source": [
    "Use GridSearchCV to find the best hyper-parameters"
   ]
  },
  {
   "cell_type": "code",
   "execution_count": 24,
   "metadata": {},
   "outputs": [],
   "source": [
    "parameter_options = {'fit_intercept':['True', 'False'],\n",
    "                     'copy_X':['True', 'False']}"
   ]
  },
  {
   "cell_type": "code",
   "execution_count": 25,
   "metadata": {},
   "outputs": [],
   "source": [
    "lin_grid = GridSearchCV(lin_model, parameter_options, cv = 3)"
   ]
  },
  {
   "cell_type": "code",
   "execution_count": 26,
   "metadata": {},
   "outputs": [
    {
     "data": {
      "text/plain": [
       "GridSearchCV(cv=3, estimator=LinearRegression(),\n",
       "             param_grid={'copy_X': ['True', 'False'],\n",
       "                         'fit_intercept': ['True', 'False']})"
      ]
     },
     "execution_count": 26,
     "metadata": {},
     "output_type": "execute_result"
    }
   ],
   "source": [
    "lin_grid.fit(X_train, y_train)"
   ]
  },
  {
   "cell_type": "code",
   "execution_count": 27,
   "metadata": {},
   "outputs": [
    {
     "name": "stdout",
     "output_type": "stream",
     "text": [
      "{'copy_X': 'True', 'fit_intercept': 'True'}\n"
     ]
    }
   ],
   "source": [
    "# print best parameters\n",
    "print(lin_grid.best_params_)"
   ]
  },
  {
   "cell_type": "code",
   "execution_count": 28,
   "metadata": {},
   "outputs": [
    {
     "data": {
      "text/plain": [
       "LinearRegression()"
      ]
     },
     "execution_count": 28,
     "metadata": {},
     "output_type": "execute_result"
    }
   ],
   "source": [
    "# Model generation with the best parameters\n",
    "lin_model = LinearRegression(copy_X=True, fit_intercept=True)\n",
    "lin_model.fit(X_train, y_train)"
   ]
  },
  {
   "cell_type": "code",
   "execution_count": 29,
   "metadata": {},
   "outputs": [],
   "source": [
    "# Prediction\n",
    "y_test_pred_lin = lin_model.predict(X_test)"
   ]
  },
  {
   "cell_type": "markdown",
   "metadata": {},
   "source": [
    "### SVM"
   ]
  },
  {
   "cell_type": "code",
   "execution_count": 114,
   "metadata": {},
   "outputs": [],
   "source": [
    "# Import\n",
    "from sklearn.svm import LinearSVR"
   ]
  },
  {
   "cell_type": "code",
   "execution_count": 115,
   "metadata": {},
   "outputs": [],
   "source": [
    "# Generate base model\n",
    "svm_model = LinearSVR().fit(X_train_sample, y_train_sample)"
   ]
  },
  {
   "cell_type": "markdown",
   "metadata": {},
   "source": [
    "GridSearchCV to find the best parameters"
   ]
  },
  {
   "cell_type": "code",
   "execution_count": 116,
   "metadata": {},
   "outputs": [],
   "source": [
    "parameter_options = {'epsilon':[0.0, 0.1, 0.25, 0.5],\n",
    "                     'loss':['epsilon_insensitive', 'squared_epsilon_insensitive'],\n",
    "                     'fit_intercept':['True', 'False']}"
   ]
  },
  {
   "cell_type": "code",
   "execution_count": 117,
   "metadata": {},
   "outputs": [],
   "source": [
    "svm_grid = GridSearchCV(svm_model, parameter_options, cv=5)"
   ]
  },
  {
   "cell_type": "code",
   "execution_count": 118,
   "metadata": {},
   "outputs": [
    {
     "data": {
      "text/plain": [
       "GridSearchCV(cv=5, estimator=LinearSVR(),\n",
       "             param_grid={'epsilon': [0.0, 0.1, 0.25, 0.5],\n",
       "                         'fit_intercept': ['True', 'False'],\n",
       "                         'loss': ['epsilon_insensitive',\n",
       "                                  'squared_epsilon_insensitive']})"
      ]
     },
     "execution_count": 118,
     "metadata": {},
     "output_type": "execute_result"
    }
   ],
   "source": [
    "svm_grid.fit(X_train, y_train)"
   ]
  },
  {
   "cell_type": "code",
   "execution_count": 119,
   "metadata": {},
   "outputs": [
    {
     "name": "stdout",
     "output_type": "stream",
     "text": [
      "{'epsilon': 0.5, 'fit_intercept': 'False', 'loss': 'squared_epsilon_insensitive'}\n"
     ]
    }
   ],
   "source": [
    "# print best parameters\n",
    "print(svm_grid.best_params_)"
   ]
  },
  {
   "cell_type": "markdown",
   "metadata": {},
   "source": [
    "Applying the best parameters to the new SVM"
   ]
  },
  {
   "cell_type": "code",
   "execution_count": 120,
   "metadata": {},
   "outputs": [
    {
     "data": {
      "text/plain": [
       "LinearSVR(epsilon=0.5, fit_intercept=False, loss='squared_epsilon_insensitive',\n",
       "          random_state=699)"
      ]
     },
     "execution_count": 120,
     "metadata": {},
     "output_type": "execute_result"
    }
   ],
   "source": [
    "# Best model for SVM\n",
    "svm_model = LinearSVR(epsilon=0.5, fit_intercept=False, loss='squared_epsilon_insensitive', random_state=699)\n",
    "svm_model.fit(X_train_sample, y_train_sample)"
   ]
  },
  {
   "cell_type": "code",
   "execution_count": 121,
   "metadata": {},
   "outputs": [],
   "source": [
    "y_test_pred_svm = svm_model.predict(X_test)"
   ]
  },
  {
   "cell_type": "markdown",
   "metadata": {},
   "source": [
    "### RandomForest Regressor"
   ]
  },
  {
   "cell_type": "code",
   "execution_count": 122,
   "metadata": {},
   "outputs": [],
   "source": [
    "# Import\n",
    "from sklearn.ensemble import RandomForestRegressor"
   ]
  },
  {
   "cell_type": "code",
   "execution_count": 123,
   "metadata": {},
   "outputs": [],
   "source": [
    "# Generate base model\n",
    "rf_model = RandomForestRegressor(random_state=699)"
   ]
  },
  {
   "cell_type": "markdown",
   "metadata": {},
   "source": [
    "GridSearchCV"
   ]
  },
  {
   "cell_type": "code",
   "execution_count": 131,
   "metadata": {},
   "outputs": [],
   "source": [
    "parameter_options = {'n_estimators':[10, 50, 100, 200],\n",
    "                     'min_samples_split':[0.5, 1, 1.5, 2, 3],\n",
    "                     'min_samples_leaf':[0.1, 0.5, 1, 2],\n",
    "                    'max_depth':[5, 10, 25, 50, 100],\n",
    "                    }"
   ]
  },
  {
   "cell_type": "code",
   "execution_count": 132,
   "metadata": {},
   "outputs": [],
   "source": [
    "rf_grid = GridSearchCV(rf_model, parameter_options, cv=5)"
   ]
  },
  {
   "cell_type": "code",
   "execution_count": 133,
   "metadata": {},
   "outputs": [
    {
     "data": {
      "text/plain": [
       "GridSearchCV(cv=5, estimator=RandomForestRegressor(random_state=699),\n",
       "             param_grid={'max_depth': [5, 10, 25, 50, 100],\n",
       "                         'min_samples_leaf': [0.1, 0.5, 1, 2],\n",
       "                         'min_samples_split': [0.5, 1, 1.5, 2, 3],\n",
       "                         'n_estimators': [10, 50, 100, 200]})"
      ]
     },
     "execution_count": 133,
     "metadata": {},
     "output_type": "execute_result"
    }
   ],
   "source": [
    "rf_grid.fit(X_train_sample, X_train_sample)"
   ]
  },
  {
   "cell_type": "code",
   "execution_count": 134,
   "metadata": {},
   "outputs": [
    {
     "name": "stdout",
     "output_type": "stream",
     "text": [
      "{'max_depth': 25, 'min_samples_leaf': 1, 'min_samples_split': 2, 'n_estimators': 50}\n"
     ]
    }
   ],
   "source": [
    "# print best parameters\n",
    "print(rf_grid.best_params_)"
   ]
  },
  {
   "cell_type": "code",
   "execution_count": 135,
   "metadata": {},
   "outputs": [],
   "source": [
    "# Using best paramters to create the model\n",
    "rf_model = RandomForestRegressor(max_depth=25, min_samples_leaf=1, min_samples_split=2,\n",
    "                                 n_estimators=50,random_state=699)"
   ]
  },
  {
   "cell_type": "code",
   "execution_count": 136,
   "metadata": {},
   "outputs": [
    {
     "data": {
      "text/plain": [
       "RandomForestRegressor(max_depth=25, n_estimators=50, random_state=699)"
      ]
     },
     "execution_count": 136,
     "metadata": {},
     "output_type": "execute_result"
    }
   ],
   "source": [
    "rf_model.fit(X_train, y_train)"
   ]
  },
  {
   "cell_type": "code",
   "execution_count": 137,
   "metadata": {},
   "outputs": [],
   "source": [
    "y_test_pred_rf = rf_model.predict(X_test)"
   ]
  },
  {
   "cell_type": "markdown",
   "metadata": {},
   "source": [
    "### SGDRegressor"
   ]
  },
  {
   "cell_type": "code",
   "execution_count": 138,
   "metadata": {},
   "outputs": [],
   "source": [
    "# Import\n",
    "from sklearn.linear_model import SGDRegressor"
   ]
  },
  {
   "cell_type": "code",
   "execution_count": 139,
   "metadata": {},
   "outputs": [],
   "source": [
    "# Generate base model\n",
    "sgdr_model = SGDRegressor(random_state=699)"
   ]
  },
  {
   "cell_type": "markdown",
   "metadata": {},
   "source": [
    "GridSearchCV"
   ]
  },
  {
   "cell_type": "code",
   "execution_count": 140,
   "metadata": {},
   "outputs": [],
   "source": [
    "parameters = {'alpha': [0.0001, 0.001, 0.01, 0.05, 0.1, 0.5, 0.99, 1],\n",
    "             'l1_ratio':[0.0001, 0.001, 0.01, 0.1, 0.25, 0.5, 0.75, 0.8, 0.9, 0.99, 1],\n",
    "             'penalty':['l1', 'l2', 'elasticnet'],\n",
    "             'epsilon':[0.001, 0.01, 0.1, 0, -0.1],\n",
    "             'learning_rate':['constant', 'optimal', 'invscaling', 'adaptive']}"
   ]
  },
  {
   "cell_type": "code",
   "execution_count": 141,
   "metadata": {},
   "outputs": [],
   "source": [
    "sgd_grid = GridSearchCV(sgdr_model, parameters)"
   ]
  },
  {
   "cell_type": "code",
   "execution_count": 142,
   "metadata": {},
   "outputs": [
    {
     "data": {
      "text/plain": [
       "GridSearchCV(estimator=SGDRegressor(random_state=699),\n",
       "             param_grid={'alpha': [0.0001, 0.001, 0.01, 0.05, 0.1, 0.5, 0.99,\n",
       "                                   1],\n",
       "                         'epsilon': [0.001, 0.01, 0.1, 0, -0.1],\n",
       "                         'l1_ratio': [0.0001, 0.001, 0.01, 0.1, 0.25, 0.5, 0.75,\n",
       "                                      0.8, 0.9, 0.99, 1],\n",
       "                         'learning_rate': ['constant', 'optimal', 'invscaling',\n",
       "                                           'adaptive'],\n",
       "                         'penalty': ['l1', 'l2', 'elasticnet']})"
      ]
     },
     "execution_count": 142,
     "metadata": {},
     "output_type": "execute_result"
    }
   ],
   "source": [
    "sgd_grid.fit(X_train, y_train)"
   ]
  },
  {
   "cell_type": "code",
   "execution_count": 143,
   "metadata": {},
   "outputs": [
    {
     "name": "stdout",
     "output_type": "stream",
     "text": [
      "{'alpha': 1, 'epsilon': 0.001, 'l1_ratio': 0.8, 'learning_rate': 'adaptive', 'penalty': 'elasticnet'}\n"
     ]
    }
   ],
   "source": [
    "# print best parameters\n",
    "print(sgd_grid.best_params_)"
   ]
  },
  {
   "cell_type": "code",
   "execution_count": 144,
   "metadata": {},
   "outputs": [
    {
     "data": {
      "text/plain": [
       "SGDRegressor(alpha=1, epsilon=0.001, l1_ratio=0.8, learning_rate='adaptive',\n",
       "             penalty='elasticnet', random_state=699)"
      ]
     },
     "execution_count": 144,
     "metadata": {},
     "output_type": "execute_result"
    }
   ],
   "source": [
    "# Implement the best hyper-parameters\n",
    "sgdr_model = SGDRegressor(random_state=699, alpha=1, epsilon=0.001, l1_ratio=0.8, learning_rate='adaptive',\n",
    "                          penalty='elasticnet')\n",
    "sgdr_model.fit(X_train, y_train)"
   ]
  },
  {
   "cell_type": "code",
   "execution_count": 145,
   "metadata": {},
   "outputs": [],
   "source": [
    "y_test_pred_sgdr = sgdr_model.predict(X_test)"
   ]
  },
  {
   "cell_type": "markdown",
   "metadata": {},
   "source": [
    "## KNN\n",
    "\n",
    "Source: https://www.analyticsvidhya.com/blog/2018/08/k-nearest-neighbor-introduction-regression-python/"
   ]
  },
  {
   "cell_type": "code",
   "execution_count": 146,
   "metadata": {},
   "outputs": [],
   "source": [
    "#import required packages\n",
    "from sklearn import neighbors\n",
    "from sklearn.metrics import mean_squared_error \n",
    "from math import sqrt\n",
    "import matplotlib.pyplot as plt\n",
    "%matplotlib inline"
   ]
  },
  {
   "cell_type": "code",
   "execution_count": 147,
   "metadata": {},
   "outputs": [],
   "source": [
    "rmse_val = [] #to store rmse values for different k\n",
    "ideal_k = 1\n",
    "K = 1\n",
    "knn_model = neighbors.KNeighborsRegressor(n_neighbors = K)\n",
    "knn_model.fit(X_train, y_train)\n",
    "pred=knn_model.predict(X_test) \n",
    "min_rmse = sqrt(mean_squared_error(y_test,pred))\n",
    "\n",
    "\n",
    "for K in range(2, 20):\n",
    "    knn_model = neighbors.KNeighborsRegressor(n_neighbors = K)\n",
    "    knn_model.fit(X_train, y_train)\n",
    "    pred=knn_model.predict(X_test)\n",
    "    error = sqrt(mean_squared_error(y_test,pred))\n",
    "    if error < min_rmse:\n",
    "        min_rmse = error\n",
    "        ideal_k = K   "
   ]
  },
  {
   "cell_type": "code",
   "execution_count": 148,
   "metadata": {},
   "outputs": [
    {
     "name": "stdout",
     "output_type": "stream",
     "text": [
      "19 0.8731537005321648\n"
     ]
    }
   ],
   "source": [
    "print(ideal_k, min_rmse)"
   ]
  },
  {
   "cell_type": "code",
   "execution_count": 149,
   "metadata": {},
   "outputs": [],
   "source": [
    "#predicting on the test set and creating submission file\n",
    "\n",
    "knn_model = neighbors.KNeighborsRegressor(n_neighbors = ideal_k)\n",
    "\n",
    "knn_model.fit(X_train, y_train)  #fit the model\n",
    "knn_y_pred=knn_model.predict(X_test) #make prediction on test set\n",
    "knn_rmse = sqrt(mean_squared_error(y_test,pred))\n",
    "\n",
    "# submission.to_csv('submit_file.csv',index=False)"
   ]
  },
  {
   "cell_type": "markdown",
   "metadata": {},
   "source": [
    "## XGBoost"
   ]
  },
  {
   "cell_type": "code",
   "execution_count": 153,
   "metadata": {},
   "outputs": [],
   "source": [
    "# pip install xgboost"
   ]
  },
  {
   "cell_type": "code",
   "execution_count": 154,
   "metadata": {},
   "outputs": [],
   "source": [
    "import xgboost as xgb"
   ]
  },
  {
   "cell_type": "code",
   "execution_count": 155,
   "metadata": {},
   "outputs": [
    {
     "data": {
      "text/plain": [
       "XGBRegressor(base_score=0.5, booster='gbtree', callbacks=None,\n",
       "             colsample_bylevel=1, colsample_bynode=1, colsample_bytree=1,\n",
       "             early_stopping_rounds=None, enable_categorical=False,\n",
       "             eval_metric=None, gamma=0, gpu_id=-1, grow_policy='depthwise',\n",
       "             importance_type=None, interaction_constraints='',\n",
       "             learning_rate=0.300000012, max_bin=256, max_cat_to_onehot=4,\n",
       "             max_delta_step=0, max_depth=6, max_leaves=0, min_child_weight=1,\n",
       "             missing=nan, monotone_constraints='()', n_estimators=100, n_jobs=0,\n",
       "             num_parallel_tree=1, predictor='auto', random_state=0, reg_alpha=0,\n",
       "             reg_lambda=1, ...)"
      ]
     },
     "execution_count": 155,
     "metadata": {},
     "output_type": "execute_result"
    }
   ],
   "source": [
    "xgb_model = xgb.XGBRegressor()\n",
    "xgb_model.fit(X_train, y_train)"
   ]
  },
  {
   "cell_type": "code",
   "execution_count": 156,
   "metadata": {},
   "outputs": [],
   "source": [
    "xgb_preds = xgb_model.predict(X_test)"
   ]
  },
  {
   "cell_type": "markdown",
   "metadata": {},
   "source": [
    "## MLP\n",
    "Source: https://www.kaggle.com/code/dimitreoliveira/deep-learning-for-time-series-forecasting/notebook"
   ]
  },
  {
   "cell_type": "code",
   "execution_count": 162,
   "metadata": {},
   "outputs": [],
   "source": [
    "from tensorflow import keras\n",
    "from keras import optimizers\n",
    "from keras.models import Sequential, Model\n",
    "from keras.layers import Dense, LSTM, RepeatVector, TimeDistributed, Flatten"
   ]
  },
  {
   "cell_type": "code",
   "execution_count": 164,
   "metadata": {},
   "outputs": [],
   "source": [
    "epochs = 40\n",
    "batch = 256\n",
    "lr = 0.0003\n",
    "adam = keras.optimizers.Adam(lr)"
   ]
  },
  {
   "cell_type": "code",
   "execution_count": 165,
   "metadata": {},
   "outputs": [],
   "source": [
    "model_mlp = Sequential()\n",
    "model_mlp.add(Dense(100, activation='relu', input_dim=X_train.shape[1]))\n",
    "model_mlp.add(Dense(1))\n",
    "model_mlp.compile(loss='mse', optimizer=adam)\n"
   ]
  },
  {
   "cell_type": "code",
   "execution_count": 166,
   "metadata": {
    "scrolled": true
   },
   "outputs": [
    {
     "name": "stdout",
     "output_type": "stream",
     "text": [
      "Epoch 1/40\n",
      "83/83 - 1s - loss: 99015.5625 - val_loss: 14063.4248 - 1s/epoch - 14ms/step\n",
      "Epoch 2/40\n",
      "83/83 - 0s - loss: 38633.1836 - val_loss: 7186.7822 - 99ms/epoch - 1ms/step\n",
      "Epoch 3/40\n",
      "83/83 - 0s - loss: 14339.7266 - val_loss: 1760.3177 - 92ms/epoch - 1ms/step\n",
      "Epoch 4/40\n",
      "83/83 - 0s - loss: 4928.2661 - val_loss: 861.6632 - 97ms/epoch - 1ms/step\n",
      "Epoch 5/40\n",
      "83/83 - 0s - loss: 1270.1305 - val_loss: 978.2702 - 91ms/epoch - 1ms/step\n",
      "Epoch 6/40\n",
      "83/83 - 0s - loss: 316.5521 - val_loss: 759.8698 - 105ms/epoch - 1ms/step\n",
      "Epoch 7/40\n",
      "83/83 - 0s - loss: 282.8712 - val_loss: 719.3157 - 99ms/epoch - 1ms/step\n",
      "Epoch 8/40\n",
      "83/83 - 0s - loss: 242.8035 - val_loss: 680.4196 - 97ms/epoch - 1ms/step\n",
      "Epoch 9/40\n",
      "83/83 - 0s - loss: 220.9642 - val_loss: 644.3497 - 100ms/epoch - 1ms/step\n",
      "Epoch 10/40\n",
      "83/83 - 0s - loss: 178.4832 - val_loss: 610.1302 - 98ms/epoch - 1ms/step\n",
      "Epoch 11/40\n",
      "83/83 - 0s - loss: 164.3673 - val_loss: 594.2090 - 100ms/epoch - 1ms/step\n",
      "Epoch 12/40\n",
      "83/83 - 0s - loss: 123.0013 - val_loss: 556.4749 - 97ms/epoch - 1ms/step\n",
      "Epoch 13/40\n",
      "83/83 - 0s - loss: 113.5286 - val_loss: 543.1442 - 95ms/epoch - 1ms/step\n",
      "Epoch 14/40\n",
      "83/83 - 0s - loss: 120.2478 - val_loss: 504.8766 - 96ms/epoch - 1ms/step\n",
      "Epoch 15/40\n",
      "83/83 - 0s - loss: 82.4465 - val_loss: 619.4557 - 96ms/epoch - 1ms/step\n",
      "Epoch 16/40\n",
      "83/83 - 0s - loss: 84.1313 - val_loss: 487.5547 - 105ms/epoch - 1ms/step\n",
      "Epoch 17/40\n",
      "83/83 - 0s - loss: 65.8514 - val_loss: 563.4647 - 102ms/epoch - 1ms/step\n",
      "Epoch 18/40\n",
      "83/83 - 0s - loss: 118.5609 - val_loss: 495.0974 - 95ms/epoch - 1ms/step\n",
      "Epoch 19/40\n",
      "83/83 - 0s - loss: 355.9504 - val_loss: 437.4247 - 103ms/epoch - 1ms/step\n",
      "Epoch 20/40\n",
      "83/83 - 0s - loss: 1003.7454 - val_loss: 492.3180 - 102ms/epoch - 1ms/step\n",
      "Epoch 21/40\n",
      "83/83 - 0s - loss: 2946.9321 - val_loss: 454.2815 - 99ms/epoch - 1ms/step\n",
      "Epoch 22/40\n",
      "83/83 - 0s - loss: 5128.2710 - val_loss: 531.6031 - 95ms/epoch - 1ms/step\n",
      "Epoch 23/40\n",
      "83/83 - 0s - loss: 2546.9465 - val_loss: 3367.5044 - 95ms/epoch - 1ms/step\n",
      "Epoch 24/40\n",
      "83/83 - 0s - loss: 12395.0859 - val_loss: 2936.5530 - 97ms/epoch - 1ms/step\n",
      "Epoch 25/40\n",
      "83/83 - 0s - loss: 15106.7432 - val_loss: 566.3046 - 105ms/epoch - 1ms/step\n",
      "Epoch 26/40\n",
      "83/83 - 0s - loss: 3797.0518 - val_loss: 975.0411 - 101ms/epoch - 1ms/step\n",
      "Epoch 27/40\n",
      "83/83 - 0s - loss: 912.3429 - val_loss: 770.1085 - 98ms/epoch - 1ms/step\n",
      "Epoch 28/40\n",
      "83/83 - 0s - loss: 1171.1379 - val_loss: 539.0195 - 95ms/epoch - 1ms/step\n",
      "Epoch 29/40\n",
      "83/83 - 0s - loss: 395.2831 - val_loss: 433.3934 - 102ms/epoch - 1ms/step\n",
      "Epoch 30/40\n",
      "83/83 - 0s - loss: 376.0710 - val_loss: 1921.9346 - 98ms/epoch - 1ms/step\n",
      "Epoch 31/40\n",
      "83/83 - 0s - loss: 877.1176 - val_loss: 680.3783 - 100ms/epoch - 1ms/step\n",
      "Epoch 32/40\n",
      "83/83 - 0s - loss: 343.5065 - val_loss: 622.1893 - 107ms/epoch - 1ms/step\n",
      "Epoch 33/40\n",
      "83/83 - 0s - loss: 346.8434 - val_loss: 699.5231 - 96ms/epoch - 1ms/step\n",
      "Epoch 34/40\n",
      "83/83 - 0s - loss: 668.5593 - val_loss: 1422.8976 - 94ms/epoch - 1ms/step\n",
      "Epoch 35/40\n",
      "83/83 - 0s - loss: 3400.3047 - val_loss: 370.4033 - 96ms/epoch - 1ms/step\n",
      "Epoch 36/40\n",
      "83/83 - 0s - loss: 6401.2334 - val_loss: 475.7083 - 97ms/epoch - 1ms/step\n",
      "Epoch 37/40\n",
      "83/83 - 0s - loss: 2137.3706 - val_loss: 385.1588 - 95ms/epoch - 1ms/step\n",
      "Epoch 38/40\n",
      "83/83 - 0s - loss: 3019.4465 - val_loss: 2625.8479 - 99ms/epoch - 1ms/step\n",
      "Epoch 39/40\n",
      "83/83 - 0s - loss: 3105.3662 - val_loss: 585.1543 - 99ms/epoch - 1ms/step\n",
      "Epoch 40/40\n",
      "83/83 - 0s - loss: 242.0614 - val_loss: 359.9248 - 96ms/epoch - 1ms/step\n"
     ]
    }
   ],
   "source": [
    "mlp = model_mlp.fit(X_train.values, y_train, validation_data=(X_test.values, y_test), epochs=epochs, verbose=2)"
   ]
  },
  {
   "cell_type": "code",
   "execution_count": 179,
   "metadata": {},
   "outputs": [
    {
     "name": "stdout",
     "output_type": "stream",
     "text": [
      "Train rmse: 11.703293009783431\n",
      "Validation rmse: 18.971673550860245\n"
     ]
    }
   ],
   "source": [
    "mlp_train_pred = model_mlp.predict(X_train.values)\n",
    "mlp_valid_pred = model_mlp.predict(X_test.values)\n",
    "print('Train rmse:', np.sqrt(mean_squared_error(y_train, mlp_train_pred)))\n",
    "print('Validation rmse:', np.sqrt(mean_squared_error(y_test, mlp_valid_pred)))"
   ]
  },
  {
   "cell_type": "markdown",
   "metadata": {},
   "source": [
    "## CNN\n",
    "Source: https://www.kaggle.com/code/dimitreoliveira/deep-learning-for-time-series-forecasting/notebook"
   ]
  },
  {
   "cell_type": "code",
   "execution_count": 170,
   "metadata": {},
   "outputs": [],
   "source": [
    "from keras.layers.convolutional import Conv1D, MaxPooling1D"
   ]
  },
  {
   "cell_type": "code",
   "execution_count": 171,
   "metadata": {},
   "outputs": [],
   "source": [
    "X_train_series = X_train.values.reshape((X_train.shape[0], X_train.shape[1], 1))\n",
    "X_test_series = X_test.values.reshape((X_test.shape[0], X_test.shape[1], 1))"
   ]
  },
  {
   "cell_type": "code",
   "execution_count": 172,
   "metadata": {},
   "outputs": [],
   "source": [
    "model_cnn = Sequential()\n",
    "model_cnn.add(Conv1D(filters=64, kernel_size=2, activation='relu', input_shape=(X_train_series.shape[1], X_train_series.shape[2])))\n",
    "model_cnn.add(MaxPooling1D(pool_size=2))\n",
    "model_cnn.add(Flatten())\n",
    "model_cnn.add(Dense(50, activation='relu'))\n",
    "model_cnn.add(Dense(1))\n",
    "model_cnn.compile(loss='mse', optimizer=adam)\n"
   ]
  },
  {
   "cell_type": "code",
   "execution_count": 174,
   "metadata": {},
   "outputs": [
    {
     "name": "stdout",
     "output_type": "stream",
     "text": [
      "Epoch 1/40\n",
      "83/83 - 1s - loss: 138169.4219 - val_loss: 13499.4238 - 776ms/epoch - 9ms/step\n",
      "Epoch 2/40\n",
      "83/83 - 0s - loss: 47332.4609 - val_loss: 15120.5967 - 120ms/epoch - 1ms/step\n",
      "Epoch 3/40\n",
      "83/83 - 0s - loss: 1358.6268 - val_loss: 733.9719 - 126ms/epoch - 2ms/step\n",
      "Epoch 4/40\n",
      "83/83 - 0s - loss: 1578.5469 - val_loss: 4147.3247 - 116ms/epoch - 1ms/step\n",
      "Epoch 5/40\n",
      "83/83 - 0s - loss: 1303.9462 - val_loss: 642.9113 - 121ms/epoch - 1ms/step\n",
      "Epoch 6/40\n",
      "83/83 - 0s - loss: 1330.2444 - val_loss: 2941.3616 - 119ms/epoch - 1ms/step\n",
      "Epoch 7/40\n",
      "83/83 - 0s - loss: 1148.0604 - val_loss: 533.9023 - 121ms/epoch - 1ms/step\n",
      "Epoch 8/40\n",
      "83/83 - 0s - loss: 1038.7222 - val_loss: 446.2885 - 120ms/epoch - 1ms/step\n",
      "Epoch 9/40\n",
      "83/83 - 0s - loss: 991.2563 - val_loss: 152.7168 - 121ms/epoch - 1ms/step\n",
      "Epoch 10/40\n",
      "83/83 - 0s - loss: 311.3253 - val_loss: 776.3647 - 119ms/epoch - 1ms/step\n",
      "Epoch 11/40\n",
      "83/83 - 0s - loss: 948.2783 - val_loss: 567.3169 - 121ms/epoch - 1ms/step\n",
      "Epoch 12/40\n",
      "83/83 - 0s - loss: 3061.3730 - val_loss: 442.2478 - 120ms/epoch - 1ms/step\n",
      "Epoch 13/40\n",
      "83/83 - 0s - loss: 2409.9126 - val_loss: 276.0369 - 119ms/epoch - 1ms/step\n",
      "Epoch 14/40\n",
      "83/83 - 0s - loss: 10127.9756 - val_loss: 11181.2471 - 120ms/epoch - 1ms/step\n",
      "Epoch 15/40\n",
      "83/83 - 0s - loss: 5739.7275 - val_loss: 9628.3281 - 117ms/epoch - 1ms/step\n",
      "Epoch 16/40\n",
      "83/83 - 0s - loss: 10479.7783 - val_loss: 10480.5986 - 117ms/epoch - 1ms/step\n",
      "Epoch 17/40\n",
      "83/83 - 0s - loss: 28770.6074 - val_loss: 944.0959 - 118ms/epoch - 1ms/step\n",
      "Epoch 18/40\n",
      "83/83 - 0s - loss: 15465.5654 - val_loss: 3833.5620 - 117ms/epoch - 1ms/step\n",
      "Epoch 19/40\n",
      "83/83 - 0s - loss: 688.3802 - val_loss: 211.2054 - 123ms/epoch - 1ms/step\n",
      "Epoch 20/40\n",
      "83/83 - 0s - loss: 411.7665 - val_loss: 356.0961 - 121ms/epoch - 1ms/step\n",
      "Epoch 21/40\n",
      "83/83 - 0s - loss: 286.9435 - val_loss: 68.9123 - 117ms/epoch - 1ms/step\n",
      "Epoch 22/40\n",
      "83/83 - 0s - loss: 187.6041 - val_loss: 445.6700 - 123ms/epoch - 1ms/step\n",
      "Epoch 23/40\n",
      "83/83 - 0s - loss: 94.2914 - val_loss: 125.4014 - 114ms/epoch - 1ms/step\n",
      "Epoch 24/40\n",
      "83/83 - 0s - loss: 145.9198 - val_loss: 338.0386 - 121ms/epoch - 1ms/step\n",
      "Epoch 25/40\n",
      "83/83 - 0s - loss: 216.2381 - val_loss: 164.7968 - 123ms/epoch - 1ms/step\n",
      "Epoch 26/40\n",
      "83/83 - 0s - loss: 158.9836 - val_loss: 41.2893 - 117ms/epoch - 1ms/step\n",
      "Epoch 27/40\n",
      "83/83 - 0s - loss: 50.1485 - val_loss: 51.2678 - 124ms/epoch - 1ms/step\n",
      "Epoch 28/40\n",
      "83/83 - 0s - loss: 57.2667 - val_loss: 181.5773 - 118ms/epoch - 1ms/step\n",
      "Epoch 29/40\n",
      "83/83 - 0s - loss: 65.1889 - val_loss: 51.8612 - 119ms/epoch - 1ms/step\n",
      "Epoch 30/40\n",
      "83/83 - 0s - loss: 88.1362 - val_loss: 16.9795 - 119ms/epoch - 1ms/step\n",
      "Epoch 31/40\n",
      "83/83 - 0s - loss: 76.8838 - val_loss: 94.1899 - 120ms/epoch - 1ms/step\n",
      "Epoch 32/40\n",
      "83/83 - 0s - loss: 48.0033 - val_loss: 30.6359 - 117ms/epoch - 1ms/step\n",
      "Epoch 33/40\n",
      "83/83 - 0s - loss: 54.7490 - val_loss: 10.5333 - 116ms/epoch - 1ms/step\n",
      "Epoch 34/40\n",
      "83/83 - 0s - loss: 67.1922 - val_loss: 221.7208 - 122ms/epoch - 1ms/step\n",
      "Epoch 35/40\n",
      "83/83 - 0s - loss: 215.2955 - val_loss: 27.3392 - 116ms/epoch - 1ms/step\n",
      "Epoch 36/40\n",
      "83/83 - 0s - loss: 72.6798 - val_loss: 522.6592 - 122ms/epoch - 1ms/step\n",
      "Epoch 37/40\n",
      "83/83 - 0s - loss: 833.3727 - val_loss: 101.3283 - 116ms/epoch - 1ms/step\n",
      "Epoch 38/40\n",
      "83/83 - 0s - loss: 7064.2261 - val_loss: 7132.9380 - 121ms/epoch - 1ms/step\n",
      "Epoch 39/40\n",
      "83/83 - 0s - loss: 12613.0127 - val_loss: 10076.1660 - 121ms/epoch - 1ms/step\n",
      "Epoch 40/40\n",
      "83/83 - 0s - loss: 21031.9551 - val_loss: 1383.8275 - 121ms/epoch - 1ms/step\n"
     ]
    }
   ],
   "source": [
    "cnn = model_cnn.fit(X_train_series, y_train, validation_data=(X_test_series, y_test), epochs=epochs, verbose=2)"
   ]
  },
  {
   "cell_type": "code",
   "execution_count": 178,
   "metadata": {},
   "outputs": [
    {
     "name": "stdout",
     "output_type": "stream",
     "text": [
      "Train rmse: 81.17915884309974\n",
      "Validation rmse: 37.19983335714089\n"
     ]
    }
   ],
   "source": [
    "cnn_train_pred = model_cnn.predict(X_train_series)\n",
    "cnn_valid_pred = model_cnn.predict(X_test_series)\n",
    "print('Train rmse:', np.sqrt(mean_squared_error(y_train, cnn_train_pred)))\n",
    "print('Validation rmse:', np.sqrt(mean_squared_error(y_test, cnn_valid_pred)))"
   ]
  },
  {
   "cell_type": "markdown",
   "metadata": {},
   "source": [
    "## LSTM\n",
    "Source: https://www.kaggle.com/code/dimitreoliveira/deep-learning-for-time-series-forecasting/notebook"
   ]
  },
  {
   "cell_type": "code",
   "execution_count": 175,
   "metadata": {},
   "outputs": [],
   "source": [
    "model_lstm = Sequential()\n",
    "model_lstm.add(LSTM(50, activation='relu', input_shape=(X_train_series.shape[1], X_train_series.shape[2])))\n",
    "model_lstm.add(Dense(1))\n",
    "model_lstm.compile(loss='mse', optimizer=adam)"
   ]
  },
  {
   "cell_type": "code",
   "execution_count": 176,
   "metadata": {},
   "outputs": [
    {
     "name": "stdout",
     "output_type": "stream",
     "text": [
      "Epoch 1/40\n",
      "83/83 - 1s - loss: 603.5184 - val_loss: 1061.0194 - 1s/epoch - 16ms/step\n",
      "Epoch 2/40\n",
      "83/83 - 0s - loss: 255.3672 - val_loss: 28.0798 - 310ms/epoch - 4ms/step\n",
      "Epoch 3/40\n",
      "83/83 - 0s - loss: 74.2767 - val_loss: 10.0006 - 271ms/epoch - 3ms/step\n",
      "Epoch 4/40\n",
      "83/83 - 0s - loss: 84.0127 - val_loss: 10.6552 - 266ms/epoch - 3ms/step\n",
      "Epoch 5/40\n",
      "83/83 - 0s - loss: 541.0098 - val_loss: 7.1137 - 302ms/epoch - 4ms/step\n",
      "Epoch 6/40\n",
      "83/83 - 0s - loss: 7.9078 - val_loss: 8.8533 - 275ms/epoch - 3ms/step\n",
      "Epoch 7/40\n",
      "83/83 - 0s - loss: 4.9430 - val_loss: 4.4840 - 268ms/epoch - 3ms/step\n",
      "Epoch 8/40\n",
      "83/83 - 0s - loss: 13.3523 - val_loss: 2.9583 - 269ms/epoch - 3ms/step\n",
      "Epoch 9/40\n",
      "83/83 - 0s - loss: 59.2596 - val_loss: 3.4202 - 304ms/epoch - 4ms/step\n",
      "Epoch 10/40\n",
      "83/83 - 0s - loss: 30.7511 - val_loss: 5.6408 - 310ms/epoch - 4ms/step\n",
      "Epoch 11/40\n",
      "83/83 - 0s - loss: 2.3903 - val_loss: 2.1487 - 279ms/epoch - 3ms/step\n",
      "Epoch 12/40\n",
      "83/83 - 0s - loss: 1.9805 - val_loss: 2.6806 - 303ms/epoch - 4ms/step\n",
      "Epoch 13/40\n",
      "83/83 - 0s - loss: 10.0962 - val_loss: 2.4168 - 272ms/epoch - 3ms/step\n",
      "Epoch 14/40\n",
      "83/83 - 0s - loss: 2.0435 - val_loss: 6.6190 - 268ms/epoch - 3ms/step\n",
      "Epoch 15/40\n",
      "83/83 - 0s - loss: 1.8803 - val_loss: 1.9960 - 306ms/epoch - 4ms/step\n",
      "Epoch 16/40\n",
      "83/83 - 0s - loss: 1.7795 - val_loss: 2.2677 - 274ms/epoch - 3ms/step\n",
      "Epoch 17/40\n",
      "83/83 - 0s - loss: 8.1320 - val_loss: 4.0962 - 264ms/epoch - 3ms/step\n",
      "Epoch 18/40\n",
      "83/83 - 0s - loss: 3.7145 - val_loss: 2.4417 - 267ms/epoch - 3ms/step\n",
      "Epoch 19/40\n",
      "83/83 - 0s - loss: 2.0238 - val_loss: 4.1981 - 303ms/epoch - 4ms/step\n",
      "Epoch 20/40\n",
      "83/83 - 0s - loss: 2.9910 - val_loss: 3.9477 - 275ms/epoch - 3ms/step\n",
      "Epoch 21/40\n",
      "83/83 - 0s - loss: 2.9522 - val_loss: 3.9180 - 269ms/epoch - 3ms/step\n",
      "Epoch 22/40\n",
      "83/83 - 0s - loss: 1.8090 - val_loss: 4.3484 - 267ms/epoch - 3ms/step\n",
      "Epoch 23/40\n",
      "83/83 - 0s - loss: 1.8041 - val_loss: 6.0457 - 302ms/epoch - 4ms/step\n",
      "Epoch 24/40\n",
      "83/83 - 0s - loss: 1.7236 - val_loss: 4.2355 - 276ms/epoch - 3ms/step\n",
      "Epoch 25/40\n",
      "83/83 - 0s - loss: 1.7068 - val_loss: 4.4942 - 268ms/epoch - 3ms/step\n",
      "Epoch 26/40\n",
      "83/83 - 0s - loss: 1.6995 - val_loss: 4.5241 - 267ms/epoch - 3ms/step\n",
      "Epoch 27/40\n",
      "83/83 - 0s - loss: 1.6874 - val_loss: 3.7533 - 303ms/epoch - 4ms/step\n",
      "Epoch 28/40\n",
      "83/83 - 0s - loss: 1.6833 - val_loss: 4.5576 - 272ms/epoch - 3ms/step\n",
      "Epoch 29/40\n",
      "83/83 - 0s - loss: 1.6720 - val_loss: 6.8141 - 268ms/epoch - 3ms/step\n",
      "Epoch 30/40\n",
      "83/83 - 0s - loss: 1.8912 - val_loss: 5.8926 - 301ms/epoch - 4ms/step\n",
      "Epoch 31/40\n",
      "83/83 - 0s - loss: 1.9476 - val_loss: 6.7106 - 308ms/epoch - 4ms/step\n",
      "Epoch 32/40\n",
      "83/83 - 0s - loss: 1.6704 - val_loss: 6.3697 - 275ms/epoch - 3ms/step\n",
      "Epoch 33/40\n",
      "83/83 - 0s - loss: 1.6529 - val_loss: 6.1803 - 302ms/epoch - 4ms/step\n",
      "Epoch 34/40\n",
      "83/83 - 0s - loss: 1.6401 - val_loss: 6.3824 - 310ms/epoch - 4ms/step\n",
      "Epoch 35/40\n",
      "83/83 - 0s - loss: 1.6847 - val_loss: 5.5164 - 308ms/epoch - 4ms/step\n",
      "Epoch 36/40\n",
      "83/83 - 0s - loss: 1.6993 - val_loss: 5.6582 - 307ms/epoch - 4ms/step\n",
      "Epoch 37/40\n",
      "83/83 - 0s - loss: 1.6401 - val_loss: 6.3133 - 274ms/epoch - 3ms/step\n",
      "Epoch 38/40\n",
      "83/83 - 0s - loss: 1.7387 - val_loss: 2.4243 - 302ms/epoch - 4ms/step\n",
      "Epoch 39/40\n",
      "83/83 - 0s - loss: 1.6696 - val_loss: 4.2656 - 277ms/epoch - 3ms/step\n",
      "Epoch 40/40\n",
      "83/83 - 0s - loss: 1.7144 - val_loss: 2.5431 - 267ms/epoch - 3ms/step\n"
     ]
    }
   ],
   "source": [
    "lstm = model_lstm.fit(X_train_series, y_train, validation_data=(X_test_series, y_test), epochs=epochs, verbose=2)"
   ]
  },
  {
   "cell_type": "code",
   "execution_count": 180,
   "metadata": {},
   "outputs": [
    {
     "name": "stdout",
     "output_type": "stream",
     "text": [
      "Train rmse: 1.264484360239188\n",
      "Validation rmse: 37.19983335714089\n"
     ]
    }
   ],
   "source": [
    "lstm_train_pred = model_lstm.predict(X_train_series)\n",
    "lstm_valid_pred = model_cnn.predict(X_test_series)\n",
    "print('Train rmse:', np.sqrt(mean_squared_error(y_train, lstm_train_pred)))\n",
    "print('Validation rmse:', np.sqrt(mean_squared_error(y_test, lstm_valid_pred)))"
   ]
  },
  {
   "cell_type": "markdown",
   "metadata": {},
   "source": [
    "## Model Evaluation and Comparison"
   ]
  },
  {
   "cell_type": "code",
   "execution_count": 181,
   "metadata": {},
   "outputs": [],
   "source": [
    "from sklearn import metrics"
   ]
  },
  {
   "cell_type": "markdown",
   "metadata": {},
   "source": [
    "List of models:\n",
    "- ARMAmodel, \n",
    "- lin_model, \n",
    "- svm_model, \n",
    "- rf_model,\n",
    "- sgdr_model, \n",
    "- knn_model"
   ]
  },
  {
   "cell_type": "code",
   "execution_count": 208,
   "metadata": {},
   "outputs": [
    {
     "name": "stdout",
     "output_type": "stream",
     "text": [
      "--- ARMA --- \n",
      "Mean Absolute Error (MAE): 0.7899392564021512\n",
      "Root MSE (rMSE): 0.9946951636068639\n",
      "\n",
      "\n",
      "--- Linear Regression --- \n",
      "Mean Absolute Error (MAE): 0.6114674844631139\n",
      "Root MSE (rMSE): 0.8927655204721314\n",
      "CV mean score: -10.401283926004549\n",
      "\n",
      "\n",
      "--- SVM ---\n",
      "Mean Absolute Error (MAE): 4.229375918239729\n",
      "Root MSE (rMSE): 38.989351079099784\n",
      "CV mean score: -11.336402216617893\n",
      "\n",
      "\n",
      "--- Random Forest Regression --- \n",
      "Mean Absolute Error (MAE): 0.4515909023334943\n",
      "Root MSE (rMSE): 0.8760709002240931\n",
      "CV mean score: -7.225861436911545\n",
      "\n",
      "\n",
      "--- SGD Regression --- \n",
      "Mean Absolute Error (MAE): 4342357018569.1743\n",
      "Root MSE (rMSE): 23056487044193.89\n",
      "CV mean score: -4.001615452537745e+22\n",
      "\n",
      "\n",
      "--- KNN --- \n",
      "Mean Absolute Error (MAE): 0.4775847934071947\n",
      "Root MSE (rMSE): 0.8731537005321648\n",
      "CV mean score: -3.6513975284865348\n",
      "\n",
      "\n",
      "--- XGBoost ---\n",
      "Mean Absolute Error (MAE): 0.4796630803240295\n",
      "Root MSE (rMSE): 0.9886368857968453\n",
      "CV mean score: -11.389117253124935\n",
      "\n",
      "\n",
      "--- MLP ---\n",
      "Train rmse: 11.703293009783431\n",
      "Test rmse: 18.971673550860245\n",
      "\n",
      "\n",
      "--- CNN ---\n",
      "Train rmse: 81.17915884309974\n",
      "Test rmse: 37.19983335714089\n",
      "\n",
      "\n",
      "-- LSTM -- \n",
      "Train rmse: 1.264484360239188\n",
      "Test rmse: 37.19983335714089\n"
     ]
    }
   ],
   "source": [
    "# Outputting all the results\n",
    "print('--- ARMA --- ')\n",
    "print('Mean Absolute Error (MAE): ' + str(metrics.mean_absolute_error(y_test, arima_preds)))\n",
    "# print('Mean Squared Error (MSE): ' + str(metrics.mean_squared_error(y_test, y_pred_out)))\n",
    "print('Root MSE (rMSE): ' + str(np.sqrt(metrics.mean_squared_error(y_test, arima_preds))))\n",
    "print('\\n')\n",
    "\n",
    "print('--- Linear Regression --- ')\n",
    "print('Mean Absolute Error (MAE): ' + str(metrics.mean_absolute_error(y_test, y_test_pred_lin)))\n",
    "# print('Mean Squared Error (MSE): ' + str(metrics.mean_squared_error(y_test, y_test_pred_lin)))\n",
    "print('Root MSE (rMSE): ' + str(np.sqrt(metrics.mean_squared_error(y_test, y_test_pred_lin))))\n",
    "print('CV mean score:', cross_val_score(lin_model, X, y, cv=10).mean())\n",
    "print('\\n')\n",
    "\n",
    "print('--- SVM ---')\n",
    "print('Mean Absolute Error (MAE): ' + str(metrics.mean_absolute_error(y_test, y_test_pred_svm)))\n",
    "# print('Mean Squared Error (MSE): ' + str(metrics.mean_squared_error(y_test, y_test_pred_svm)))\n",
    "print('Root MSE (rMSE): ' + str(np.sqrt(metrics.mean_squared_error(y_test, y_test_pred_svm))))\n",
    "print('CV mean score:', cross_val_score(svm_model, X, y, cv=10).mean())\n",
    "print('\\n')\n",
    "\n",
    "print('--- Random Forest Regression --- ')\n",
    "print('Mean Absolute Error (MAE): ' + str(metrics.mean_absolute_error(y_test, y_test_pred_rf)))\n",
    "# print('Mean Squared Error (MSE): ' + str(metrics.mean_squared_error(y_test, y_test_pred_rf)))\n",
    "print('Root MSE (rMSE): ' + str(np.sqrt(metrics.mean_squared_error(y_test, y_test_pred_rf))))\n",
    "print('CV mean score:', cross_val_score(rf_model, X, y, cv=10).mean())\n",
    "print('\\n')\n",
    "\n",
    "print('--- SGD Regression --- ')\n",
    "print('Mean Absolute Error (MAE): ' + str(metrics.mean_absolute_error(y_test, y_test_pred_sgdr)))\n",
    "# print('Mean Squared Error (MSE): ' + str(metrics.mean_squared_error(y_test, y_test_pred_sgdr)))\n",
    "print('Root MSE (rMSE): ' + str(np.sqrt(metrics.mean_squared_error(y_test, y_test_pred_sgdr))))\n",
    "print('CV mean score:', cross_val_score(sgdr_model, X, y, cv=10).mean())\n",
    "print('\\n')\n",
    "\n",
    "print('--- KNN --- ')\n",
    "print('Mean Absolute Error (MAE): ' + str(metrics.mean_absolute_error(y_test, knn_y_pred)))\n",
    "# print('Mean Squared Error (MSE): ' + str(metrics.mean_squared_error(y_test, knn_y_pred)))\n",
    "print('Root MSE (rMSE): ' + str(np.sqrt(metrics.mean_squared_error(y_test, knn_y_pred))))\n",
    "print('CV mean score:', cross_val_score(knn_model, X, y, cv=10).mean())\n",
    "print('\\n')\n",
    "\n",
    "print('--- XGBoost ---')\n",
    "print('Mean Absolute Error (MAE): ' + str(metrics.mean_absolute_error(y_test, xgb_preds)))\n",
    "# print('Mean Squared Error (MSE): ' + str(metrics.mean_squared_error(y_test, xgb_preds)))\n",
    "print('Root MSE (rMSE): ' + str(np.sqrt(metrics.mean_squared_error(y_test, xgb_preds))))\n",
    "print('CV mean score:', cross_val_score(xgb_model, X, y, cv=10).mean())\n",
    "print('\\n')\n",
    "\n",
    "print('--- MLP ---')\n",
    "print('Train rmse:', np.sqrt(mean_squared_error(y_train, mlp_train_pred)))\n",
    "print('Test rmse:', np.sqrt(mean_squared_error(y_test, mlp_valid_pred)))\n",
    "print('\\n')\n",
    "\n",
    "print('--- CNN ---')\n",
    "print('Train rmse:', np.sqrt(mean_squared_error(y_train, cnn_train_pred)))\n",
    "print('Test rmse:', np.sqrt(mean_squared_error(y_test, cnn_valid_pred)))\n",
    "print('\\n')\n",
    "\n",
    "print('-- LSTM -- ')\n",
    "print('Train rmse:', np.sqrt(mean_squared_error(y_train, lstm_train_pred)))\n",
    "print('Test rmse:', np.sqrt(mean_squared_error(y_test, lstm_valid_pred)))"
   ]
  },
  {
   "cell_type": "markdown",
   "metadata": {},
   "source": [
    "Interpretation: "
   ]
  },
  {
   "cell_type": "markdown",
   "metadata": {},
   "source": [
    "### Visualizing errors - X model"
   ]
  },
  {
   "cell_type": "code",
   "execution_count": null,
   "metadata": {},
   "outputs": [],
   "source": [
    "arima_preds\n",
    "y_test_pred_lin\n",
    "y_test_pred_svm\n",
    "y_test_pred_rf\n",
    "y_test_pred_sgdr\n",
    "knn_y_pred\n",
    "xgb_preds\n",
    "mlp_valid_pred\n",
    "cnn_valid_pred\n",
    "lstm_valid_pred"
   ]
  },
  {
   "cell_type": "code",
   "execution_count": 226,
   "metadata": {},
   "outputs": [],
   "source": [
    "from statsmodels.graphics.gofplots import qqplot"
   ]
  },
  {
   "cell_type": "code",
   "execution_count": 249,
   "metadata": {},
   "outputs": [
    {
     "data": {
      "image/png": "[encoded data removed]",
      "text/plain": [
       "<Figure size 864x576 with 9 Axes>"
      ]
     },
     "metadata": {
      "needs_background": "light"
     },
     "output_type": "display_data"
    }
   ],
   "source": [
    "fig, axs = plt.subplots(nrows=3, ncols=3, figsize=(12, 8))\n",
    "axs[0, 0].scatter(y_test, arima_preds)\n",
    "axs[0,0].title.set_text('Arma')\n",
    "\n",
    "axs[0, 1].scatter(y_test, y_test_pred_lin)\n",
    "axs[0,1].title.set_text('LinReg')\n",
    "\n",
    "axs[0, 2].scatter(y_test, y_test_pred_svm)\n",
    "axs[0,2].title.set_text('SVM')\n",
    "\n",
    "axs[1, 0].scatter(y_test, y_test_pred_rf)\n",
    "axs[1,0].title.set_text('RandomForest')\n",
    "\n",
    "axs[1, 1].scatter(y_test, y_test_pred_sgdr)\n",
    "axs[1,1].title.set_text('SGDR')\n",
    "\n",
    "axs[1, 2].scatter(y_test, knn_y_pred)\n",
    "axs[1,2].title.set_text('KNN')\n",
    "\n",
    "axs[2, 0].scatter(y_test, xgb_preds)\n",
    "axs[2,0].title.set_text('XGBoost')\n",
    "\n",
    "axs[2, 1].scatter(y_test, mlp_valid_pred)\n",
    "axs[2,1].title.set_text('MLP')\n",
    "\n",
    "axs[2, 2].scatter(y_test, cnn_valid_pred)\n",
    "axs[2,2].title.set_text('CNN')\n",
    "\n",
    "fig.tight_layout()\n",
    "fig.savefig('scatter-resids.png')"
   ]
  },
  {
   "cell_type": "code",
   "execution_count": 250,
   "metadata": {},
   "outputs": [
    {
     "data": {
      "image/png": "[encoded data removed]",
      "text/plain": [
       "<Figure size 864x576 with 9 Axes>"
      ]
     },
     "metadata": {
      "needs_background": "light"
     },
     "output_type": "display_data"
    }
   ],
   "source": [
    "fig, axs = plt.subplots(nrows=3, ncols=3, figsize=(12, 8))\n",
    "arima_resids = np.array([y_test[i]-arima_preds[i] for i in range(len(arima_preds))])\n",
    "qqplot(arima_resids, ax=axs[0,0])\n",
    "axs[0,0].title.set_text('ARMA')\n",
    "\n",
    "lin_resids = np.array([y_test[i]-y_test_pred_lin[i] for i in range(len(y_test_pred_lin))])\n",
    "qqplot(lin_resids, ax=axs[0,1])\n",
    "axs[0,1].title.set_text('LinReg')\n",
    "\n",
    "svm_resids = np.array([y_test[i]-y_test_pred_svm[i] for i in range(len(y_test_pred_svm))])\n",
    "qqplot(y_test_pred_svm, ax=axs[0,2])\n",
    "axs[0,2].title.set_text('SVM')\n",
    "\n",
    "rf_resids = np.array([y_test[i]-y_test_pred_rf[i] for i in range(len(y_test_pred_rf))])\n",
    "qqplot(rf_resids, ax=axs[1,0])\n",
    "axs[1,0].title.set_text('RandomForest')\n",
    "\n",
    "sgdr_resids = np.array([y_test[i]-y_test_pred_sgdr[i] for i in range(len(y_test_pred_sgdr))])\n",
    "qqplot(sgdr_resids, ax=axs[1,1])\n",
    "axs[1,1].title.set_text('SGDR')\n",
    "\n",
    "knn_resids = np.array([y_test[i]-knn_y_pred[i] for i in range(len(knn_y_pred))])\n",
    "qqplot(knn_resids, ax=axs[1,2])\n",
    "axs[1,2].title.set_text('KNN')\n",
    "\n",
    "xgb_resids = np.array([y_test[i]-xgb_preds[i] for i in range(len(xgb_preds))])\n",
    "qqplot(xgb_resids, ax=axs[2,0])\n",
    "axs[2,0].title.set_text('XGBoost')\n",
    "\n",
    "mlp_resids = np.array([y_test[i]-mlp_valid_pred[i] for i in range(len(mlp_valid_pred))])\n",
    "qqplot(mlp_resids, ax=axs[2,1])\n",
    "axs[2,1].title.set_text('MLP')\n",
    "\n",
    "cnn_resids = np.array([y_test[i]-cnn_valid_pred[i] for i in range(len(cnn_valid_pred))])\n",
    "qqplot(cnn_resids, ax=axs[2,2])\n",
    "axs[2,2].title.set_text('CNN')\n",
    "\n",
    "fig.tight_layout()\n",
    "fig.savefig('gg-resids.png')"
   ]
  }
 ],
 "metadata": {
  "kernelspec": {
   "display_name": "Python 3",
   "language": "python",
   "name": "python3"
  },
  "language_info": {
   "codemirror_mode": {
    "name": "ipython",
    "version": 3
   },
   "file_extension": ".py",
   "mimetype": "text/x-python",
   "name": "python",
   "nbconvert_exporter": "python",
   "pygments_lexer": "ipython3",
   "version": "3.8.8"
  }
 },
 "nbformat": 4,
 "nbformat_minor": 4
}
