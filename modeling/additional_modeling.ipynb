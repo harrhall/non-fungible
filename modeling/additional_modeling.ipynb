{
 "cells": [
  {
   "cell_type": "code",
   "execution_count": 21,
   "metadata": {},
   "outputs": [],
   "source": [
    "import pandas as pd\n",
    "import numpy as np\n",
    "import seaborn as sns\n",
    "import matplotlib.pyplot as plt"
   ]
  },
  {
   "cell_type": "code",
   "execution_count": 22,
   "metadata": {},
   "outputs": [],
   "source": [
    "file = pd.read_csv('../model_data.csv')"
   ]
  },
  {
   "cell_type": "code",
   "execution_count": 23,
   "metadata": {},
   "outputs": [],
   "source": [
    "file = file.fillna(0)"
   ]
  },
  {
   "cell_type": "code",
   "execution_count": 24,
   "metadata": {},
   "outputs": [],
   "source": [
    "file = file.drop(columns=['num_tweets'])"
   ]
  },
  {
   "cell_type": "markdown",
   "metadata": {},
   "source": [
    "### Preprocessing\n",
    "- Minor changes needed. \n",
    "- Convert 'created_at' to datetime\n",
    "- Convert 'collection_name' to ints"
   ]
  },
  {
   "cell_type": "code",
   "execution_count": 25,
   "metadata": {},
   "outputs": [],
   "source": [
    "# Manually convert collection_name into nums\n",
    "collections = {}\n",
    "count = 1\n",
    "for col in file['collection_name'].unique():\n",
    "    collections[col] = count\n",
    "    count += 1\n",
    "    \n",
    "file['collection_name'] = file['collection_name'].apply(lambda x: collections[x])"
   ]
  },
  {
   "cell_type": "code",
   "execution_count": 26,
   "metadata": {},
   "outputs": [],
   "source": [
    "# Convert to datetime\n",
    "file['created_at'] = file['created_at'].apply(lambda x: pd.to_datetime(x))\n",
    "file = file.set_index('created_at')"
   ]
  },
  {
   "cell_type": "code",
   "execution_count": 27,
   "metadata": {
    "scrolled": true
   },
   "outputs": [
    {
     "data": {
      "text/plain": [
       "final_vader_score         float64\n",
       "prices_scaled             float64\n",
       "previous_day_sentiment    float64\n",
       "trends                    float64\n",
       "trends_previous_day       float64\n",
       "trends_two_days_prior     float64\n",
       "collection_name             int64\n",
       "dtype: object"
      ]
     },
     "execution_count": 27,
     "metadata": {},
     "output_type": "execute_result"
    }
   ],
   "source": [
    "file.dtypes"
   ]
  },
  {
   "cell_type": "markdown",
   "metadata": {},
   "source": [
    "# Let's do some MODELING"
   ]
  },
  {
   "cell_type": "markdown",
   "metadata": {},
   "source": [
    "## Create Train and Test data"
   ]
  },
  {
   "cell_type": "code",
   "execution_count": 28,
   "metadata": {},
   "outputs": [],
   "source": [
    "init_df = file[file['collection_name']==1].copy()"
   ]
  },
  {
   "cell_type": "code",
   "execution_count": 29,
   "metadata": {},
   "outputs": [],
   "source": [
    "(X, y) = (np.array(init_df.drop(columns=['prices_scaled'])), np.array(init_df['prices_scaled']))"
   ]
  },
  {
   "cell_type": "code",
   "execution_count": 30,
   "metadata": {},
   "outputs": [],
   "source": [
    "# from sklearn.model_selection import train_test_split\n",
    "\n",
    "# def split_data(data, test_size):\n",
    "#     (X_temp, y_temp) = (np.array(data.drop(columns=['prices_scaled'])), np.array(data['prices_scaled']))\n",
    "#     X_train_temp, X_test_temp, y_train_temp, y_test_temp = train_test_split(X_temp, y_temp, test_size=0.2, random_state=699)\n",
    "#     return(X_train_temp, X_test_temp, y_train_temp, y_test_temp)\n",
    "\n",
    "# Source: https://medium.com/keita-starts-data-science/time-series-split-with-scikit-learn-74f5be38489e\n",
    "def split_data(data, test_size):\n",
    "    X = data.drop(columns=['prices_scaled'])\n",
    "    y = data['prices_scaled']\n",
    "    X_train = X[:int(data.shape[0]*(test_size/100))]\n",
    "    X_test = X[int(data.shape[0]*(test_size/100)):]\n",
    "    y_train = y[:int(data.shape[0]*(test_size/100))]\n",
    "    y_test = y[int(data.shape[0]*(test_size/100)):]\n",
    "    return(X_train, X_test, y_train, y_test)"
   ]
  },
  {
   "cell_type": "code",
   "execution_count": 31,
   "metadata": {},
   "outputs": [],
   "source": [
    "def create_test_train(df, test_size):\n",
    "    collection_names = df['collection_name'].unique()\n",
    "    main_data = split_data(df[df['collection_name']==collection_names[0]], test_size)\n",
    "    X_train = main_data[0]\n",
    "    X_test = main_data[1]\n",
    "    y_train = main_data[2]\n",
    "    y_test = main_data[3]\n",
    "    \n",
    "    for collection_name in collection_names[1:]:\n",
    "        try:\n",
    "            new_data = split_data(df[df['collection_name']==collection_name], test_size)\n",
    "            X_train = X_train.append(new_data[0])\n",
    "            X_test = X_test.append(new_data[1])\n",
    "            y_train = y_train.append(new_data[2])\n",
    "            y_test = y_test.append(new_data[3])\n",
    "        except ValueError:\n",
    "            print(\"ERROR:\")\n",
    "            for item in collections.items():\n",
    "                if item[1]==collection_name:\n",
    "                    print(item)\n",
    "            pass\n",
    "#     X_train = np.array(X_train)\n",
    "#     X_test = np.array(X_test)\n",
    "#     y_train = np.array(y_train)\n",
    "#     y_test = np.array(y_test)\n",
    "    return(X_train, X_test, y_train, y_test)"
   ]
  },
  {
   "cell_type": "code",
   "execution_count": 32,
   "metadata": {},
   "outputs": [],
   "source": [
    "test = create_test_train(file, 80)"
   ]
  },
  {
   "cell_type": "code",
   "execution_count": 33,
   "metadata": {},
   "outputs": [],
   "source": [
    "X_train = test[0].reset_index(drop=True)\n",
    "X_test = test[1].reset_index(drop=True)\n",
    "y_train = test[2].reset_index(drop=True)\n",
    "y_test = test[3].reset_index(drop=True)"
   ]
  },
  {
   "cell_type": "code",
   "execution_count": 34,
   "metadata": {},
   "outputs": [],
   "source": [
    "# Creating a 20% sample to speed up initial model generation\n",
    "X_train_sample = X_train.sample(n=int((X_train.shape[0])*.2), random_state=699)\n",
    "y_train_sample = y_train.iloc[X_train_sample.index]"
   ]
  },
  {
   "cell_type": "markdown",
   "metadata": {},
   "source": [
    "## ARIMA\n",
    "\n",
    "Source: https://builtin.com/data-science/time-series-forecasting-python"
   ]
  },
  {
   "cell_type": "code",
   "execution_count": 35,
   "metadata": {},
   "outputs": [],
   "source": [
    "from sklearn.metrics import mean_squared_error"
   ]
  },
  {
   "cell_type": "code",
   "execution_count": 36,
   "metadata": {},
   "outputs": [],
   "source": [
    "import warnings\n",
    "warnings.filterwarnings(\"ignore\")"
   ]
  },
  {
   "cell_type": "code",
   "execution_count": 37,
   "metadata": {},
   "outputs": [],
   "source": [
    "# !pip install pmdarima\n",
    "from pmdarima.arima import auto_arima"
   ]
  },
  {
   "cell_type": "code",
   "execution_count": 38,
   "metadata": {},
   "outputs": [
    {
     "name": "stdout",
     "output_type": "stream",
     "text": [
      "Performing stepwise search to minimize aic\n",
      " ARIMA(0,1,0)(0,0,0)[0] intercept   : AIC=9157.901, Time=0.06 sec\n",
      " ARIMA(1,1,0)(0,0,0)[0] intercept   : AIC=8936.400, Time=0.13 sec\n",
      " ARIMA(0,1,1)(0,0,0)[0] intercept   : AIC=8736.483, Time=0.22 sec\n",
      " ARIMA(0,1,0)(0,0,0)[0]             : AIC=9155.907, Time=0.05 sec\n",
      " ARIMA(1,1,1)(0,0,0)[0] intercept   : AIC=inf, Time=1.27 sec\n",
      " ARIMA(0,1,2)(0,0,0)[0] intercept   : AIC=8570.003, Time=0.37 sec\n",
      " ARIMA(1,1,2)(0,0,0)[0] intercept   : AIC=inf, Time=1.88 sec\n",
      " ARIMA(0,1,3)(0,0,0)[0] intercept   : AIC=8518.860, Time=0.79 sec\n",
      " ARIMA(1,1,3)(0,0,0)[0] intercept   : AIC=inf, Time=2.14 sec\n",
      " ARIMA(0,1,4)(0,0,0)[0] intercept   : AIC=inf, Time=2.34 sec\n",
      " ARIMA(1,1,4)(0,0,0)[0] intercept   : AIC=8467.689, Time=2.64 sec\n",
      " ARIMA(2,1,4)(0,0,0)[0] intercept   : AIC=inf, Time=3.04 sec\n",
      " ARIMA(1,1,5)(0,0,0)[0] intercept   : AIC=inf, Time=3.34 sec\n",
      " ARIMA(0,1,5)(0,0,0)[0] intercept   : AIC=inf, Time=2.88 sec\n",
      " ARIMA(2,1,3)(0,0,0)[0] intercept   : AIC=inf, Time=2.42 sec\n",
      " ARIMA(2,1,5)(0,0,0)[0] intercept   : AIC=inf, Time=5.11 sec\n",
      " ARIMA(1,1,4)(0,0,0)[0]             : AIC=inf, Time=1.48 sec\n",
      "\n",
      "Best model:  ARIMA(1,1,4)(0,0,0)[0] intercept\n",
      "Total fit time: 30.155 seconds\n"
     ]
    }
   ],
   "source": [
    "# Source: https://towardsdatascience.com/time-series-forecasting-using-auto-arima-in-python-bb83e49210cd\n",
    "arima_model = auto_arima(y_train, start_p=0, d=1, start_q=0,\n",
    "                        max_p=5, max_d=5, max_q=5, start_P=0,\n",
    "                        D=1, start_Q=0, max_P=5, max_D=5,\n",
    "                        max_Q=5, m=12, seasonal=False, error_action='warn',\n",
    "                         trace=True, suppress_warnings=True, stepwise=True,\n",
    "                        random_state=699, n_fits=50)"
   ]
  },
  {
   "cell_type": "code",
   "execution_count": 39,
   "metadata": {},
   "outputs": [
    {
     "name": "stdout",
     "output_type": "stream",
     "text": [
      "RMSE:  0.8486916351080254\n"
     ]
    }
   ],
   "source": [
    "arima_preds = arima_model.predict(y_test.shape[0])\n",
    "\n",
    "arma_rmse = np.sqrt(mean_squared_error(y_test, arima_preds))\n",
    "print(\"RMSE: \",arma_rmse)"
   ]
  },
  {
   "cell_type": "markdown",
   "metadata": {},
   "source": [
    "Conclusion: ARIMA is not bad!"
   ]
  },
  {
   "cell_type": "markdown",
   "metadata": {},
   "source": [
    "## Linear Regression"
   ]
  },
  {
   "cell_type": "code",
   "execution_count": 40,
   "metadata": {},
   "outputs": [],
   "source": [
    "from sklearn.model_selection import GridSearchCV"
   ]
  },
  {
   "cell_type": "code",
   "execution_count": 41,
   "metadata": {},
   "outputs": [],
   "source": [
    "# Import\n",
    "from sklearn.linear_model import LinearRegression"
   ]
  },
  {
   "cell_type": "code",
   "execution_count": 42,
   "metadata": {},
   "outputs": [],
   "source": [
    "# Generate base model\n",
    "lin_model = LinearRegression().fit(X_train, y_train)"
   ]
  },
  {
   "cell_type": "markdown",
   "metadata": {},
   "source": [
    "Use GridSearchCV to find the best hyper-parameters"
   ]
  },
  {
   "cell_type": "code",
   "execution_count": 43,
   "metadata": {},
   "outputs": [],
   "source": [
    "parameter_options = {'fit_intercept':['True', 'False'],\n",
    "                     'copy_X':['True', 'False']}"
   ]
  },
  {
   "cell_type": "code",
   "execution_count": 44,
   "metadata": {},
   "outputs": [],
   "source": [
    "lin_grid = GridSearchCV(lin_model, parameter_options, cv = 3)"
   ]
  },
  {
   "cell_type": "code",
   "execution_count": 45,
   "metadata": {},
   "outputs": [
    {
     "data": {
      "text/plain": [
       "GridSearchCV(cv=3, estimator=LinearRegression(),\n",
       "             param_grid={'copy_X': ['True', 'False'],\n",
       "                         'fit_intercept': ['True', 'False']})"
      ]
     },
     "execution_count": 45,
     "metadata": {},
     "output_type": "execute_result"
    }
   ],
   "source": [
    "lin_grid.fit(X_train, y_train)"
   ]
  },
  {
   "cell_type": "code",
   "execution_count": 46,
   "metadata": {},
   "outputs": [
    {
     "name": "stdout",
     "output_type": "stream",
     "text": [
      "{'copy_X': 'True', 'fit_intercept': 'True'}\n"
     ]
    }
   ],
   "source": [
    "# print best parameters\n",
    "print(lin_grid.best_params_)"
   ]
  },
  {
   "cell_type": "code",
   "execution_count": 47,
   "metadata": {},
   "outputs": [
    {
     "data": {
      "text/plain": [
       "LinearRegression()"
      ]
     },
     "execution_count": 47,
     "metadata": {},
     "output_type": "execute_result"
    }
   ],
   "source": [
    "# Model generation with the best parameters\n",
    "lin_model = LinearRegression(copy_X=True, fit_intercept=True)\n",
    "lin_model.fit(X_train, y_train)"
   ]
  },
  {
   "cell_type": "code",
   "execution_count": 48,
   "metadata": {},
   "outputs": [],
   "source": [
    "# Prediction\n",
    "y_test_pred_lin = lin_model.predict(X_test)"
   ]
  },
  {
   "cell_type": "markdown",
   "metadata": {},
   "source": [
    "### SVM"
   ]
  },
  {
   "cell_type": "code",
   "execution_count": 51,
   "metadata": {},
   "outputs": [],
   "source": [
    "# Import\n",
    "from sklearn.svm import LinearSVR"
   ]
  },
  {
   "cell_type": "code",
   "execution_count": 52,
   "metadata": {},
   "outputs": [],
   "source": [
    "# Generate base model\n",
    "svm_model = LinearSVR().fit(X_train_sample, y_train_sample)"
   ]
  },
  {
   "cell_type": "markdown",
   "metadata": {},
   "source": [
    "GridSearchCV to find the best parameters"
   ]
  },
  {
   "cell_type": "code",
   "execution_count": 61,
   "metadata": {},
   "outputs": [],
   "source": [
    "parameter_options = {'epsilon':[0.0, 0.1, 0.25, 0.5],\n",
    "                     'loss':['epsilon_insensitive', 'squared_epsilon_insensitive'],\n",
    "                     'fit_intercept':['True', 'False']}"
   ]
  },
  {
   "cell_type": "code",
   "execution_count": 62,
   "metadata": {},
   "outputs": [],
   "source": [
    "svm_grid = GridSearchCV(svm_model, parameter_options, cv=5)"
   ]
  },
  {
   "cell_type": "code",
   "execution_count": 63,
   "metadata": {},
   "outputs": [
    {
     "data": {
      "text/plain": [
       "GridSearchCV(cv=5, estimator=LinearSVR(),\n",
       "             param_grid={'epsilon': [0.0, 0.1, 0.25, 0.5],\n",
       "                         'fit_intercept': ['True', 'False'],\n",
       "                         'loss': ['epsilon_insensitive',\n",
       "                                  'squared_epsilon_insensitive']})"
      ]
     },
     "execution_count": 63,
     "metadata": {},
     "output_type": "execute_result"
    }
   ],
   "source": [
    "svm_grid.fit(X_train, y_train)"
   ]
  },
  {
   "cell_type": "code",
   "execution_count": 64,
   "metadata": {},
   "outputs": [
    {
     "name": "stdout",
     "output_type": "stream",
     "text": [
      "{'epsilon': 0.5, 'fit_intercept': 'True', 'loss': 'epsilon_insensitive'}\n"
     ]
    }
   ],
   "source": [
    "# print best parameters\n",
    "print(svm_grid.best_params_)"
   ]
  },
  {
   "cell_type": "markdown",
   "metadata": {},
   "source": [
    "Applying the best parameters to the new SVM"
   ]
  },
  {
   "cell_type": "code",
   "execution_count": 65,
   "metadata": {},
   "outputs": [
    {
     "data": {
      "text/plain": [
       "LinearSVR(epsilon=0.5, loss='squared_epsilon_insensitive', random_state=699)"
      ]
     },
     "execution_count": 65,
     "metadata": {},
     "output_type": "execute_result"
    }
   ],
   "source": [
    "# Best model for SVM\n",
    "svm_model = LinearSVR(epsilon=0.5, fit_intercept=True, loss='squared_epsilon_insensitive', random_state=699)\n",
    "svm_model.fit(X_train_sample, y_train_sample)"
   ]
  },
  {
   "cell_type": "code",
   "execution_count": 66,
   "metadata": {},
   "outputs": [],
   "source": [
    "y_test_pred_svm = svm_model.predict(X_test)"
   ]
  },
  {
   "cell_type": "markdown",
   "metadata": {},
   "source": [
    "### RandomForest Regressor"
   ]
  },
  {
   "cell_type": "code",
   "execution_count": 67,
   "metadata": {},
   "outputs": [],
   "source": [
    "# Import\n",
    "from sklearn.ensemble import RandomForestRegressor"
   ]
  },
  {
   "cell_type": "code",
   "execution_count": 68,
   "metadata": {},
   "outputs": [],
   "source": [
    "# Generate base model\n",
    "rf_model = RandomForestRegressor(random_state=699)"
   ]
  },
  {
   "cell_type": "markdown",
   "metadata": {},
   "source": [
    "GridSearchCV"
   ]
  },
  {
   "cell_type": "code",
   "execution_count": 76,
   "metadata": {},
   "outputs": [],
   "source": [
    "parameter_options = {'n_estimators':[10, 50, 100],\n",
    "                     'min_samples_split':[0.5, 1, 1.5, 2, 3],\n",
    "                     'min_samples_leaf':[0.1, 0.5, 1, 2]\n",
    "                    }"
   ]
  },
  {
   "cell_type": "code",
   "execution_count": 77,
   "metadata": {},
   "outputs": [],
   "source": [
    "rf_grid = GridSearchCV(rf_model, parameter_options, cv=5)"
   ]
  },
  {
   "cell_type": "code",
   "execution_count": 78,
   "metadata": {},
   "outputs": [
    {
     "data": {
      "text/plain": [
       "GridSearchCV(cv=5, estimator=RandomForestRegressor(random_state=699),\n",
       "             param_grid={'min_samples_leaf': [0.1, 0.5, 1, 2],\n",
       "                         'min_samples_split': [0.5, 1, 1.5, 2, 3],\n",
       "                         'n_estimators': [10, 50, 100]})"
      ]
     },
     "execution_count": 78,
     "metadata": {},
     "output_type": "execute_result"
    }
   ],
   "source": [
    "rf_grid.fit(X_train_sample, X_train_sample)"
   ]
  },
  {
   "cell_type": "code",
   "execution_count": 79,
   "metadata": {},
   "outputs": [
    {
     "name": "stdout",
     "output_type": "stream",
     "text": [
      "{'min_samples_leaf': 2, 'min_samples_split': 2, 'n_estimators': 10}\n"
     ]
    }
   ],
   "source": [
    "# print best parameters\n",
    "print(rf_grid.best_params_)"
   ]
  },
  {
   "cell_type": "code",
   "execution_count": 80,
   "metadata": {},
   "outputs": [],
   "source": [
    "# Using best paramters to create the model\n",
    "rf_model = RandomForestRegressor(n_estimators=10, min_samples_leaf=2, min_samples_split=2,\n",
    "                                 random_state=699)"
   ]
  },
  {
   "cell_type": "code",
   "execution_count": 81,
   "metadata": {},
   "outputs": [
    {
     "data": {
      "text/plain": [
       "RandomForestRegressor(min_samples_leaf=2, n_estimators=10, random_state=699)"
      ]
     },
     "execution_count": 81,
     "metadata": {},
     "output_type": "execute_result"
    }
   ],
   "source": [
    "rf_model.fit(X_train, y_train)"
   ]
  },
  {
   "cell_type": "code",
   "execution_count": 82,
   "metadata": {},
   "outputs": [],
   "source": [
    "y_test_pred_rf = rf_model.predict(X_test)"
   ]
  },
  {
   "cell_type": "markdown",
   "metadata": {},
   "source": [
    "### SGDRegressor"
   ]
  },
  {
   "cell_type": "code",
   "execution_count": 83,
   "metadata": {},
   "outputs": [],
   "source": [
    "# Import\n",
    "from sklearn.linear_model import SGDRegressor"
   ]
  },
  {
   "cell_type": "code",
   "execution_count": 84,
   "metadata": {},
   "outputs": [],
   "source": [
    "# Generate base model\n",
    "sgdr_model = SGDRegressor(random_state=699)"
   ]
  },
  {
   "cell_type": "markdown",
   "metadata": {},
   "source": [
    "GridSearchCV"
   ]
  },
  {
   "cell_type": "code",
   "execution_count": 85,
   "metadata": {},
   "outputs": [],
   "source": [
    "parameters = {'alpha': [0.0001, 0.001, 0.01, 0.1, 0.5, 0.99],\n",
    "             'l1_ratio':[0.0001, 0.001, 0.01, 0.1, 0.25, 0.5, 0.75, 0.9],\n",
    "             'penalty':['l1', 'l2', 'elasticnet'],\n",
    "             'epsilon':[0.001, 0.01, 0.1, 0, -0.1]}"
   ]
  },
  {
   "cell_type": "code",
   "execution_count": 86,
   "metadata": {},
   "outputs": [],
   "source": [
    "sgd_grid = GridSearchCV(sgdr_model, parameters)"
   ]
  },
  {
   "cell_type": "code",
   "execution_count": 87,
   "metadata": {},
   "outputs": [
    {
     "data": {
      "text/plain": [
       "GridSearchCV(estimator=SGDRegressor(random_state=699),\n",
       "             param_grid={'alpha': [0.0001, 0.001, 0.01, 0.1, 0.5, 0.99],\n",
       "                         'epsilon': [0.001, 0.01, 0.1, 0, -0.1],\n",
       "                         'l1_ratio': [0.0001, 0.001, 0.01, 0.1, 0.25, 0.5, 0.75,\n",
       "                                      0.9],\n",
       "                         'penalty': ['l1', 'l2', 'elasticnet']})"
      ]
     },
     "execution_count": 87,
     "metadata": {},
     "output_type": "execute_result"
    }
   ],
   "source": [
    "sgd_grid.fit(X_train, y_train)"
   ]
  },
  {
   "cell_type": "code",
   "execution_count": 88,
   "metadata": {},
   "outputs": [
    {
     "name": "stdout",
     "output_type": "stream",
     "text": [
      "{'alpha': 0.99, 'epsilon': 0.001, 'l1_ratio': 0.0001, 'penalty': 'l2'}\n"
     ]
    }
   ],
   "source": [
    "# print best parameters\n",
    "print(sgd_grid.best_params_)"
   ]
  },
  {
   "cell_type": "code",
   "execution_count": 89,
   "metadata": {},
   "outputs": [
    {
     "data": {
      "text/plain": [
       "SGDRegressor(alpha=0.99, epsilon=0.001, l1_ratio=0.0001, random_state=699)"
      ]
     },
     "execution_count": 89,
     "metadata": {},
     "output_type": "execute_result"
    }
   ],
   "source": [
    "# Implement the best hyper-parameters\n",
    "sgdr_model = SGDRegressor(random_state=699, alpha=0.99, epsilon=0.001, l1_ratio=0.0001,\n",
    "                          penalty='l2')\n",
    "sgdr_model.fit(X_train, y_train)"
   ]
  },
  {
   "cell_type": "code",
   "execution_count": 90,
   "metadata": {},
   "outputs": [],
   "source": [
    "y_test_pred_sgdr = sgdr_model.predict(X_test)"
   ]
  },
  {
   "cell_type": "markdown",
   "metadata": {},
   "source": [
    "## KNN\n",
    "\n",
    "Source: https://www.analyticsvidhya.com/blog/2018/08/k-nearest-neighbor-introduction-regression-python/"
   ]
  },
  {
   "cell_type": "code",
   "execution_count": 91,
   "metadata": {},
   "outputs": [],
   "source": [
    "#import required packages\n",
    "from sklearn import neighbors\n",
    "from sklearn.metrics import mean_squared_error \n",
    "from math import sqrt\n",
    "import matplotlib.pyplot as plt\n",
    "%matplotlib inline"
   ]
  },
  {
   "cell_type": "code",
   "execution_count": 92,
   "metadata": {},
   "outputs": [],
   "source": [
    "rmse_val = [] #to store rmse values for different k\n",
    "ideal_k = 1\n",
    "K = 1\n",
    "knn_model = neighbors.KNeighborsRegressor(n_neighbors = K)\n",
    "knn_model.fit(X_train, y_train)\n",
    "pred=knn_model.predict(X_test) \n",
    "min_rmse = sqrt(mean_squared_error(y_test,pred))\n",
    "\n",
    "\n",
    "for K in range(2, 20):\n",
    "    knn_model = neighbors.KNeighborsRegressor(n_neighbors = K)\n",
    "    knn_model.fit(X_train, y_train)\n",
    "    pred=knn_model.predict(X_test)\n",
    "    error = sqrt(mean_squared_error(y_test,pred))\n",
    "    if error < min_rmse:\n",
    "        min_rmse = error\n",
    "        ideal_k = K   "
   ]
  },
  {
   "cell_type": "code",
   "execution_count": 93,
   "metadata": {},
   "outputs": [
    {
     "name": "stdout",
     "output_type": "stream",
     "text": [
      "19 0.9090719555549138\n"
     ]
    }
   ],
   "source": [
    "print(ideal_k, min_rmse)"
   ]
  },
  {
   "cell_type": "code",
   "execution_count": 94,
   "metadata": {},
   "outputs": [],
   "source": [
    "#predicting on the test set and creating submission file\n",
    "\n",
    "knn_model = neighbors.KNeighborsRegressor(n_neighbors = ideal_k)\n",
    "\n",
    "knn_model.fit(X_train, y_train)  #fit the model\n",
    "knn_y_pred=knn_model.predict(X_test) #make prediction on test set\n",
    "knn_rmse = sqrt(mean_squared_error(y_test,pred))\n",
    "\n",
    "# submission.to_csv('submit_file.csv',index=False)"
   ]
  },
  {
   "cell_type": "markdown",
   "metadata": {},
   "source": [
    "## XGBoost"
   ]
  },
  {
   "cell_type": "code",
   "execution_count": 98,
   "metadata": {},
   "outputs": [],
   "source": [
    "# pip install xgboost"
   ]
  },
  {
   "cell_type": "code",
   "execution_count": 99,
   "metadata": {},
   "outputs": [],
   "source": [
    "import xgboost as xgb"
   ]
  },
  {
   "cell_type": "code",
   "execution_count": 100,
   "metadata": {},
   "outputs": [
    {
     "data": {
      "text/plain": [
       "XGBRegressor(base_score=0.5, booster='gbtree', callbacks=None,\n",
       "             colsample_bylevel=1, colsample_bynode=1, colsample_bytree=1,\n",
       "             early_stopping_rounds=None, enable_categorical=False,\n",
       "             eval_metric=None, gamma=0, gpu_id=-1, grow_policy='depthwise',\n",
       "             importance_type=None, interaction_constraints='',\n",
       "             learning_rate=0.300000012, max_bin=256, max_cat_to_onehot=4,\n",
       "             max_delta_step=0, max_depth=6, max_leaves=0, min_child_weight=1,\n",
       "             missing=nan, monotone_constraints='()', n_estimators=100, n_jobs=0,\n",
       "             num_parallel_tree=1, predictor='auto', random_state=0, reg_alpha=0,\n",
       "             reg_lambda=1, ...)"
      ]
     },
     "execution_count": 100,
     "metadata": {},
     "output_type": "execute_result"
    }
   ],
   "source": [
    "xgb_model = xgb.XGBRegressor()\n",
    "xgb_model.fit(X_train, y_train)"
   ]
  },
  {
   "cell_type": "code",
   "execution_count": 101,
   "metadata": {},
   "outputs": [],
   "source": [
    "xgb_preds = xgb_model.predict(X_test)"
   ]
  },
  {
   "cell_type": "markdown",
   "metadata": {},
   "source": [
    "## MLP\n",
    "Source: https://www.kaggle.com/code/dimitreoliveira/deep-learning-for-time-series-forecasting/notebook"
   ]
  },
  {
   "cell_type": "code",
   "execution_count": 102,
   "metadata": {},
   "outputs": [],
   "source": [
    "from tensorflow import keras\n",
    "from keras import optimizers\n",
    "from keras.models import Sequential, Model\n",
    "from keras.layers import Dense, LSTM, RepeatVector, TimeDistributed, Flatten"
   ]
  },
  {
   "cell_type": "code",
   "execution_count": 103,
   "metadata": {},
   "outputs": [],
   "source": [
    "epochs = 40\n",
    "batch = 256\n",
    "lr = 0.0003\n",
    "adam = keras.optimizers.Adam(lr)"
   ]
  },
  {
   "cell_type": "code",
   "execution_count": 104,
   "metadata": {},
   "outputs": [],
   "source": [
    "model_mlp = Sequential()\n",
    "model_mlp.add(Dense(100, activation='relu', input_dim=X_train.shape[1]))\n",
    "model_mlp.add(Dense(1))\n",
    "model_mlp.compile(loss='mse', optimizer=adam)\n"
   ]
  },
  {
   "cell_type": "code",
   "execution_count": 105,
   "metadata": {
    "scrolled": true
   },
   "outputs": [
    {
     "name": "stdout",
     "output_type": "stream",
     "text": [
      "Epoch 1/40\n",
      "83/83 - 0s - loss: 23883.1816 - val_loss: 11921.5205 - 491ms/epoch - 6ms/step\n",
      "Epoch 2/40\n",
      "83/83 - 0s - loss: 18356.9570 - val_loss: 10595.3799 - 88ms/epoch - 1ms/step\n",
      "Epoch 3/40\n",
      "83/83 - 0s - loss: 8098.4966 - val_loss: 15715.3242 - 85ms/epoch - 1ms/step\n",
      "Epoch 4/40\n",
      "83/83 - 0s - loss: 6755.8545 - val_loss: 9804.0342 - 94ms/epoch - 1ms/step\n",
      "Epoch 5/40\n",
      "83/83 - 0s - loss: 2666.5977 - val_loss: 2443.7703 - 89ms/epoch - 1ms/step\n",
      "Epoch 6/40\n",
      "83/83 - 0s - loss: 2341.1602 - val_loss: 3302.3113 - 85ms/epoch - 1ms/step\n",
      "Epoch 7/40\n",
      "83/83 - 0s - loss: 1105.3965 - val_loss: 1573.7826 - 89ms/epoch - 1ms/step\n",
      "Epoch 8/40\n",
      "83/83 - 0s - loss: 924.6469 - val_loss: 334.0730 - 91ms/epoch - 1ms/step\n",
      "Epoch 9/40\n",
      "83/83 - 0s - loss: 432.5383 - val_loss: 984.6047 - 95ms/epoch - 1ms/step\n",
      "Epoch 10/40\n",
      "83/83 - 0s - loss: 263.7358 - val_loss: 226.3902 - 96ms/epoch - 1ms/step\n",
      "Epoch 11/40\n",
      "83/83 - 0s - loss: 173.8795 - val_loss: 301.1675 - 94ms/epoch - 1ms/step\n",
      "Epoch 12/40\n",
      "83/83 - 0s - loss: 159.5247 - val_loss: 117.8353 - 83ms/epoch - 998us/step\n",
      "Epoch 13/40\n",
      "83/83 - 0s - loss: 223.2499 - val_loss: 1604.4016 - 89ms/epoch - 1ms/step\n",
      "Epoch 14/40\n",
      "83/83 - 0s - loss: 2497.8540 - val_loss: 1089.4772 - 79ms/epoch - 956us/step\n",
      "Epoch 15/40\n",
      "83/83 - 0s - loss: 1042.6785 - val_loss: 487.5727 - 84ms/epoch - 1ms/step\n",
      "Epoch 16/40\n",
      "83/83 - 0s - loss: 616.0213 - val_loss: 439.7846 - 91ms/epoch - 1ms/step\n",
      "Epoch 17/40\n",
      "83/83 - 0s - loss: 1736.5110 - val_loss: 5106.5166 - 97ms/epoch - 1ms/step\n",
      "Epoch 18/40\n",
      "83/83 - 0s - loss: 1116.0994 - val_loss: 899.1299 - 86ms/epoch - 1ms/step\n",
      "Epoch 19/40\n",
      "83/83 - 0s - loss: 592.9253 - val_loss: 46.1272 - 99ms/epoch - 1ms/step\n",
      "Epoch 20/40\n",
      "83/83 - 0s - loss: 249.4781 - val_loss: 679.3331 - 87ms/epoch - 1ms/step\n",
      "Epoch 21/40\n",
      "83/83 - 0s - loss: 227.8424 - val_loss: 112.2010 - 86ms/epoch - 1ms/step\n",
      "Epoch 22/40\n",
      "83/83 - 0s - loss: 306.7657 - val_loss: 502.1205 - 87ms/epoch - 1ms/step\n",
      "Epoch 23/40\n",
      "83/83 - 0s - loss: 147.1725 - val_loss: 52.7578 - 79ms/epoch - 947us/step\n",
      "Epoch 24/40\n",
      "83/83 - 0s - loss: 92.2218 - val_loss: 47.4651 - 78ms/epoch - 943us/step\n",
      "Epoch 25/40\n",
      "83/83 - 0s - loss: 1473.2644 - val_loss: 3415.5774 - 79ms/epoch - 949us/step\n",
      "Epoch 26/40\n",
      "83/83 - 0s - loss: 6936.3354 - val_loss: 20367.7617 - 78ms/epoch - 943us/step\n",
      "Epoch 27/40\n",
      "83/83 - 0s - loss: 35088.5859 - val_loss: 2903.7375 - 81ms/epoch - 971us/step\n",
      "Epoch 28/40\n",
      "83/83 - 0s - loss: 10626.5088 - val_loss: 1984.5544 - 77ms/epoch - 932us/step\n",
      "Epoch 29/40\n",
      "83/83 - 0s - loss: 6006.1094 - val_loss: 4048.0657 - 94ms/epoch - 1ms/step\n",
      "Epoch 30/40\n",
      "83/83 - 0s - loss: 2728.6414 - val_loss: 430.8321 - 96ms/epoch - 1ms/step\n",
      "Epoch 31/40\n",
      "83/83 - 0s - loss: 2157.6553 - val_loss: 119.1392 - 85ms/epoch - 1ms/step\n",
      "Epoch 32/40\n",
      "83/83 - 0s - loss: 118.3285 - val_loss: 181.3046 - 87ms/epoch - 1ms/step\n",
      "Epoch 33/40\n",
      "83/83 - 0s - loss: 154.8839 - val_loss: 98.0400 - 88ms/epoch - 1ms/step\n",
      "Epoch 34/40\n",
      "83/83 - 0s - loss: 187.7503 - val_loss: 115.4668 - 93ms/epoch - 1ms/step\n",
      "Epoch 35/40\n",
      "83/83 - 0s - loss: 149.4202 - val_loss: 84.6375 - 95ms/epoch - 1ms/step\n",
      "Epoch 36/40\n",
      "83/83 - 0s - loss: 79.1179 - val_loss: 22.2579 - 81ms/epoch - 974us/step\n",
      "Epoch 37/40\n",
      "83/83 - 0s - loss: 31.7501 - val_loss: 86.8934 - 80ms/epoch - 964us/step\n",
      "Epoch 38/40\n",
      "83/83 - 0s - loss: 44.7202 - val_loss: 33.0770 - 77ms/epoch - 933us/step\n",
      "Epoch 39/40\n",
      "83/83 - 0s - loss: 67.3137 - val_loss: 32.4743 - 79ms/epoch - 950us/step\n",
      "Epoch 40/40\n",
      "83/83 - 0s - loss: 44.0132 - val_loss: 12.5670 - 79ms/epoch - 956us/step\n"
     ]
    }
   ],
   "source": [
    "mlp = model_mlp.fit(X_train.values, y_train, validation_data=(X_test.values, y_test), epochs=epochs, verbose=2)"
   ]
  },
  {
   "cell_type": "code",
   "execution_count": 106,
   "metadata": {},
   "outputs": [
    {
     "name": "stdout",
     "output_type": "stream",
     "text": [
      "Train rmse: 8.505474096928408\n",
      "Validation rmse: 3.5450031825831694\n"
     ]
    }
   ],
   "source": [
    "mlp_train_pred = model_mlp.predict(X_train.values)\n",
    "mlp_valid_pred = model_mlp.predict(X_test.values)\n",
    "print('Train rmse:', np.sqrt(mean_squared_error(y_train, mlp_train_pred)))\n",
    "print('Validation rmse:', np.sqrt(mean_squared_error(y_test, mlp_valid_pred)))"
   ]
  },
  {
   "cell_type": "markdown",
   "metadata": {},
   "source": [
    "## CNN\n",
    "Source: https://www.kaggle.com/code/dimitreoliveira/deep-learning-for-time-series-forecasting/notebook"
   ]
  },
  {
   "cell_type": "code",
   "execution_count": 107,
   "metadata": {},
   "outputs": [],
   "source": [
    "from keras.layers.convolutional import Conv1D, MaxPooling1D"
   ]
  },
  {
   "cell_type": "code",
   "execution_count": 108,
   "metadata": {},
   "outputs": [],
   "source": [
    "X_train_series = X_train.values.reshape((X_train.shape[0], X_train.shape[1], 1))\n",
    "X_test_series = X_test.values.reshape((X_test.shape[0], X_test.shape[1], 1))"
   ]
  },
  {
   "cell_type": "code",
   "execution_count": 109,
   "metadata": {},
   "outputs": [],
   "source": [
    "model_cnn = Sequential()\n",
    "model_cnn.add(Conv1D(filters=64, kernel_size=2, activation='relu', input_shape=(X_train_series.shape[1], X_train_series.shape[2])))\n",
    "model_cnn.add(MaxPooling1D(pool_size=2))\n",
    "model_cnn.add(Flatten())\n",
    "model_cnn.add(Dense(50, activation='relu'))\n",
    "model_cnn.add(Dense(1))\n",
    "model_cnn.compile(loss='mse', optimizer=adam)\n"
   ]
  },
  {
   "cell_type": "code",
   "execution_count": 110,
   "metadata": {},
   "outputs": [
    {
     "name": "stdout",
     "output_type": "stream",
     "text": [
      "Epoch 1/40\n",
      "83/83 - 0s - loss: 66092.9609 - val_loss: 2564.5659 - 493ms/epoch - 6ms/step\n",
      "Epoch 2/40\n",
      "83/83 - 0s - loss: 31762.4922 - val_loss: 15021.7148 - 124ms/epoch - 1ms/step\n",
      "Epoch 3/40\n",
      "83/83 - 0s - loss: 19622.7480 - val_loss: 5482.6777 - 107ms/epoch - 1ms/step\n",
      "Epoch 4/40\n",
      "83/83 - 0s - loss: 11702.3330 - val_loss: 1317.8990 - 124ms/epoch - 1ms/step\n",
      "Epoch 5/40\n",
      "83/83 - 0s - loss: 5075.2915 - val_loss: 481.1804 - 103ms/epoch - 1ms/step\n",
      "Epoch 6/40\n",
      "83/83 - 0s - loss: 3212.7029 - val_loss: 1155.7855 - 93ms/epoch - 1ms/step\n",
      "Epoch 7/40\n",
      "83/83 - 0s - loss: 807.8300 - val_loss: 79.1602 - 100ms/epoch - 1ms/step\n",
      "Epoch 8/40\n",
      "83/83 - 0s - loss: 427.8583 - val_loss: 543.7784 - 102ms/epoch - 1ms/step\n",
      "Epoch 9/40\n",
      "83/83 - 0s - loss: 300.8108 - val_loss: 124.0077 - 86ms/epoch - 1ms/step\n",
      "Epoch 10/40\n",
      "83/83 - 0s - loss: 520.7219 - val_loss: 171.2926 - 93ms/epoch - 1ms/step\n",
      "Epoch 11/40\n",
      "83/83 - 0s - loss: 313.7310 - val_loss: 184.0774 - 99ms/epoch - 1ms/step\n",
      "Epoch 12/40\n",
      "83/83 - 0s - loss: 264.2671 - val_loss: 167.6103 - 99ms/epoch - 1ms/step\n",
      "Epoch 13/40\n",
      "83/83 - 0s - loss: 2933.7852 - val_loss: 2684.4517 - 99ms/epoch - 1ms/step\n",
      "Epoch 14/40\n",
      "83/83 - 0s - loss: 1359.9224 - val_loss: 9190.5117 - 112ms/epoch - 1ms/step\n",
      "Epoch 15/40\n",
      "83/83 - 0s - loss: 912.8116 - val_loss: 812.2720 - 104ms/epoch - 1ms/step\n",
      "Epoch 16/40\n",
      "83/83 - 0s - loss: 6898.7173 - val_loss: 8390.3828 - 101ms/epoch - 1ms/step\n",
      "Epoch 17/40\n",
      "83/83 - 0s - loss: 27754.6445 - val_loss: 21143.1426 - 107ms/epoch - 1ms/step\n",
      "Epoch 18/40\n",
      "83/83 - 0s - loss: 3078.7224 - val_loss: 843.9981 - 93ms/epoch - 1ms/step\n",
      "Epoch 19/40\n",
      "83/83 - 0s - loss: 6818.6616 - val_loss: 2891.2229 - 126ms/epoch - 2ms/step\n",
      "Epoch 20/40\n",
      "83/83 - 0s - loss: 23831.1895 - val_loss: 45542.2500 - 121ms/epoch - 1ms/step\n",
      "Epoch 21/40\n",
      "83/83 - 0s - loss: 7525.3418 - val_loss: 13522.5000 - 121ms/epoch - 1ms/step\n",
      "Epoch 22/40\n",
      "83/83 - 0s - loss: 11662.1133 - val_loss: 4437.3823 - 88ms/epoch - 1ms/step\n",
      "Epoch 23/40\n",
      "83/83 - 0s - loss: 2488.2874 - val_loss: 190.8954 - 90ms/epoch - 1ms/step\n",
      "Epoch 24/40\n",
      "83/83 - 0s - loss: 1792.3784 - val_loss: 315.5290 - 94ms/epoch - 1ms/step\n",
      "Epoch 25/40\n",
      "83/83 - 0s - loss: 541.6229 - val_loss: 647.3265 - 98ms/epoch - 1ms/step\n",
      "Epoch 26/40\n",
      "83/83 - 0s - loss: 341.4269 - val_loss: 189.9291 - 103ms/epoch - 1ms/step\n",
      "Epoch 27/40\n",
      "83/83 - 0s - loss: 772.1412 - val_loss: 306.7469 - 96ms/epoch - 1ms/step\n",
      "Epoch 28/40\n",
      "83/83 - 0s - loss: 2418.5137 - val_loss: 849.4512 - 99ms/epoch - 1ms/step\n",
      "Epoch 29/40\n",
      "83/83 - 0s - loss: 1760.6595 - val_loss: 1078.2255 - 106ms/epoch - 1ms/step\n",
      "Epoch 30/40\n",
      "83/83 - 0s - loss: 2017.5118 - val_loss: 474.4917 - 100ms/epoch - 1ms/step\n",
      "Epoch 31/40\n",
      "83/83 - 0s - loss: 145.9457 - val_loss: 697.4904 - 86ms/epoch - 1ms/step\n",
      "Epoch 32/40\n",
      "83/83 - 0s - loss: 292.2848 - val_loss: 344.8562 - 92ms/epoch - 1ms/step\n",
      "Epoch 33/40\n",
      "83/83 - 0s - loss: 98.3505 - val_loss: 548.8842 - 94ms/epoch - 1ms/step\n",
      "Epoch 34/40\n",
      "83/83 - 0s - loss: 100.1642 - val_loss: 949.5117 - 92ms/epoch - 1ms/step\n",
      "Epoch 35/40\n",
      "83/83 - 0s - loss: 1616.9935 - val_loss: 352.0016 - 101ms/epoch - 1ms/step\n",
      "Epoch 36/40\n",
      "83/83 - 0s - loss: 653.2847 - val_loss: 571.6579 - 95ms/epoch - 1ms/step\n",
      "Epoch 37/40\n",
      "83/83 - 0s - loss: 998.3251 - val_loss: 372.2530 - 89ms/epoch - 1ms/step\n",
      "Epoch 38/40\n",
      "83/83 - 0s - loss: 313.3032 - val_loss: 127.7123 - 94ms/epoch - 1ms/step\n",
      "Epoch 39/40\n",
      "83/83 - 0s - loss: 168.8878 - val_loss: 536.9525 - 92ms/epoch - 1ms/step\n",
      "Epoch 40/40\n",
      "83/83 - 0s - loss: 109.8198 - val_loss: 209.5498 - 91ms/epoch - 1ms/step\n"
     ]
    }
   ],
   "source": [
    "cnn = model_cnn.fit(X_train_series, y_train, validation_data=(X_test_series, y_test), epochs=epochs, verbose=2)"
   ]
  },
  {
   "cell_type": "code",
   "execution_count": 111,
   "metadata": {},
   "outputs": [
    {
     "name": "stdout",
     "output_type": "stream",
     "text": [
      "Train rmse: 9.459319117446688\n",
      "Validation rmse: 14.475840602574959\n"
     ]
    }
   ],
   "source": [
    "cnn_train_pred = model_cnn.predict(X_train_series)\n",
    "cnn_valid_pred = model_cnn.predict(X_test_series)\n",
    "print('Train rmse:', np.sqrt(mean_squared_error(y_train, cnn_train_pred)))\n",
    "print('Validation rmse:', np.sqrt(mean_squared_error(y_test, cnn_valid_pred)))"
   ]
  },
  {
   "cell_type": "markdown",
   "metadata": {},
   "source": [
    "## LSTM\n",
    "Source: https://www.kaggle.com/code/dimitreoliveira/deep-learning-for-time-series-forecasting/notebook"
   ]
  },
  {
   "cell_type": "code",
   "execution_count": 112,
   "metadata": {},
   "outputs": [],
   "source": [
    "model_lstm = Sequential()\n",
    "model_lstm.add(LSTM(50, activation='relu', input_shape=(X_train_series.shape[1], X_train_series.shape[2])))\n",
    "model_lstm.add(Dense(1))\n",
    "model_lstm.compile(loss='mse', optimizer=adam)"
   ]
  },
  {
   "cell_type": "code",
   "execution_count": 113,
   "metadata": {},
   "outputs": [
    {
     "name": "stdout",
     "output_type": "stream",
     "text": [
      "Epoch 1/40\n",
      "83/83 - 1s - loss: 136.9458 - val_loss: 127.4596 - 1s/epoch - 13ms/step\n",
      "Epoch 2/40\n",
      "83/83 - 0s - loss: 210.6624 - val_loss: 61.0262 - 195ms/epoch - 2ms/step\n",
      "Epoch 3/40\n",
      "83/83 - 0s - loss: 44.3952 - val_loss: 1.9265 - 212ms/epoch - 3ms/step\n",
      "Epoch 4/40\n",
      "83/83 - 0s - loss: 20.4160 - val_loss: 1.8463 - 207ms/epoch - 2ms/step\n",
      "Epoch 5/40\n",
      "83/83 - 0s - loss: 7.6580 - val_loss: 3.3583 - 202ms/epoch - 2ms/step\n",
      "Epoch 6/40\n",
      "83/83 - 0s - loss: 4.6767 - val_loss: 6.2066 - 205ms/epoch - 2ms/step\n",
      "Epoch 7/40\n",
      "83/83 - 0s - loss: 5.5398 - val_loss: 1.4531 - 188ms/epoch - 2ms/step\n",
      "Epoch 8/40\n",
      "83/83 - 0s - loss: 2.5185 - val_loss: 1.3414 - 185ms/epoch - 2ms/step\n",
      "Epoch 9/40\n",
      "83/83 - 0s - loss: 4.1619 - val_loss: 1.6455 - 184ms/epoch - 2ms/step\n",
      "Epoch 10/40\n",
      "83/83 - 0s - loss: 7.0781 - val_loss: 3.3981 - 203ms/epoch - 2ms/step\n",
      "Epoch 11/40\n",
      "83/83 - 0s - loss: 3.3352 - val_loss: 9.3072 - 183ms/epoch - 2ms/step\n",
      "Epoch 12/40\n",
      "83/83 - 0s - loss: 4.1967 - val_loss: 9.0772 - 184ms/epoch - 2ms/step\n",
      "Epoch 13/40\n",
      "83/83 - 0s - loss: 5.8297 - val_loss: 2.6534 - 184ms/epoch - 2ms/step\n",
      "Epoch 14/40\n",
      "83/83 - 0s - loss: 30.0319 - val_loss: 3.8311 - 186ms/epoch - 2ms/step\n",
      "Epoch 15/40\n",
      "83/83 - 0s - loss: 268.6054 - val_loss: 9.0392 - 183ms/epoch - 2ms/step\n",
      "Epoch 16/40\n",
      "83/83 - 0s - loss: 66.2331 - val_loss: 16.9568 - 188ms/epoch - 2ms/step\n",
      "Epoch 17/40\n",
      "83/83 - 0s - loss: 38.9051 - val_loss: 40.9959 - 182ms/epoch - 2ms/step\n",
      "Epoch 18/40\n",
      "83/83 - 0s - loss: 45.2668 - val_loss: 4.8634 - 188ms/epoch - 2ms/step\n",
      "Epoch 19/40\n",
      "83/83 - 0s - loss: 4.6155 - val_loss: 5.7453 - 183ms/epoch - 2ms/step\n",
      "Epoch 20/40\n",
      "83/83 - 0s - loss: 4.0097 - val_loss: 2.5242 - 185ms/epoch - 2ms/step\n",
      "Epoch 21/40\n",
      "83/83 - 0s - loss: 3.9659 - val_loss: 4.0589 - 203ms/epoch - 2ms/step\n",
      "Epoch 22/40\n",
      "83/83 - 0s - loss: 4.9126 - val_loss: 2.1583 - 186ms/epoch - 2ms/step\n",
      "Epoch 23/40\n",
      "83/83 - 0s - loss: 2.9868 - val_loss: 2.6463 - 184ms/epoch - 2ms/step\n",
      "Epoch 24/40\n",
      "83/83 - 0s - loss: 2.5371 - val_loss: 0.9892 - 189ms/epoch - 2ms/step\n",
      "Epoch 25/40\n",
      "83/83 - 0s - loss: 3.2507 - val_loss: 1.0253 - 186ms/epoch - 2ms/step\n",
      "Epoch 26/40\n",
      "83/83 - 0s - loss: 2.9776 - val_loss: 0.9990 - 184ms/epoch - 2ms/step\n",
      "Epoch 27/40\n",
      "83/83 - 0s - loss: 2.7777 - val_loss: 0.9605 - 199ms/epoch - 2ms/step\n",
      "Epoch 28/40\n",
      "83/83 - 0s - loss: 2.7654 - val_loss: 1.0263 - 188ms/epoch - 2ms/step\n",
      "Epoch 29/40\n",
      "83/83 - 0s - loss: 2.5168 - val_loss: 1.4668 - 187ms/epoch - 2ms/step\n",
      "Epoch 30/40\n",
      "83/83 - 0s - loss: 2.7041 - val_loss: 1.3708 - 187ms/epoch - 2ms/step\n",
      "Epoch 31/40\n",
      "83/83 - 0s - loss: 2.2965 - val_loss: 1.0808 - 189ms/epoch - 2ms/step\n",
      "Epoch 32/40\n",
      "83/83 - 0s - loss: 4.7916 - val_loss: 7.9578 - 186ms/epoch - 2ms/step\n",
      "Epoch 33/40\n",
      "83/83 - 0s - loss: 6.1344 - val_loss: 2.8062 - 183ms/epoch - 2ms/step\n",
      "Epoch 34/40\n",
      "83/83 - 0s - loss: 18.5465 - val_loss: 6.5627 - 184ms/epoch - 2ms/step\n",
      "Epoch 35/40\n",
      "83/83 - 0s - loss: 14.8448 - val_loss: 11.9124 - 186ms/epoch - 2ms/step\n",
      "Epoch 36/40\n",
      "83/83 - 0s - loss: 3.9464 - val_loss: 2.2525 - 206ms/epoch - 2ms/step\n",
      "Epoch 37/40\n",
      "83/83 - 0s - loss: 1.9953 - val_loss: 1.1351 - 189ms/epoch - 2ms/step\n",
      "Epoch 38/40\n",
      "83/83 - 0s - loss: 22.2167 - val_loss: 2.6040 - 186ms/epoch - 2ms/step\n",
      "Epoch 39/40\n",
      "83/83 - 0s - loss: 14.7509 - val_loss: 8.6951 - 187ms/epoch - 2ms/step\n",
      "Epoch 40/40\n",
      "83/83 - 0s - loss: 4.7977 - val_loss: 1.3250 - 188ms/epoch - 2ms/step\n"
     ]
    }
   ],
   "source": [
    "lstm = model_lstm.fit(X_train_series, y_train, validation_data=(X_test_series, y_test), epochs=epochs, verbose=2)"
   ]
  },
  {
   "cell_type": "code",
   "execution_count": 114,
   "metadata": {},
   "outputs": [
    {
     "name": "stdout",
     "output_type": "stream",
     "text": [
      "Train rmse: 2.206989385436559\n",
      "Validation rmse: 14.475840602574959\n"
     ]
    }
   ],
   "source": [
    "lstm_train_pred = model_lstm.predict(X_train_series)\n",
    "lstm_valid_pred = model_cnn.predict(X_test_series)\n",
    "print('Train rmse:', np.sqrt(mean_squared_error(y_train, lstm_train_pred)))\n",
    "print('Validation rmse:', np.sqrt(mean_squared_error(y_test, lstm_valid_pred)))"
   ]
  },
  {
   "cell_type": "markdown",
   "metadata": {},
   "source": [
    "## Model Evaluation and Comparison"
   ]
  },
  {
   "cell_type": "code",
   "execution_count": 115,
   "metadata": {},
   "outputs": [],
   "source": [
    "from sklearn import metrics"
   ]
  },
  {
   "cell_type": "markdown",
   "metadata": {},
   "source": [
    "List of models:\n",
    "- ARMAmodel, \n",
    "- lin_model, \n",
    "- svm_model, \n",
    "- rf_model,\n",
    "- sgdr_model, \n",
    "- knn_model"
   ]
  },
  {
   "cell_type": "code",
   "execution_count": 117,
   "metadata": {},
   "outputs": [],
   "source": [
    "from sklearn.model_selection import cross_val_score"
   ]
  },
  {
   "cell_type": "code",
   "execution_count": 118,
   "metadata": {},
   "outputs": [
    {
     "name": "stdout",
     "output_type": "stream",
     "text": [
      "--- ARMA --- \n",
      "Mean Absolute Error (MAE): 0.5141339208462421\n",
      "Root MSE (rMSE): 0.8486916351080254\n",
      "\n",
      "\n",
      "--- Linear Regression --- \n",
      "Mean Absolute Error (MAE): 0.614936606367717\n",
      "Root MSE (rMSE): 0.8945936416802847\n",
      "CV mean score: -8.171041809642452\n",
      "\n",
      "\n",
      "--- SVM ---\n",
      "Mean Absolute Error (MAE): 4.032239667944651\n",
      "Root MSE (rMSE): 37.07385744874349\n",
      "CV mean score: -10.092216108104422\n",
      "\n",
      "\n",
      "--- Random Forest Regression --- \n",
      "Mean Absolute Error (MAE): 0.4875850944002407\n",
      "Root MSE (rMSE): 0.904233303381116\n",
      "CV mean score: -20.477054980495456\n",
      "\n",
      "\n",
      "--- SGD Regression --- \n",
      "Mean Absolute Error (MAE): 6406539557707983.0\n",
      "Root MSE (rMSE): 6.753042412131973e+16\n",
      "CV mean score: -3.4720908880625263e+25\n",
      "\n",
      "\n",
      "--- KNN --- \n",
      "Mean Absolute Error (MAE): 0.4938876898946186\n",
      "Root MSE (rMSE): 0.9090719555549138\n",
      "CV mean score: -4.432019013621221\n",
      "\n",
      "\n",
      "--- XGBoost ---\n",
      "Mean Absolute Error (MAE): 0.5029119636430238\n",
      "Root MSE (rMSE): 0.9439323348627213\n",
      "CV mean score: -10.146298794911134\n",
      "\n",
      "\n",
      "--- MLP ---\n",
      "Train rmse: 8.505474096928408\n",
      "Test rmse: 3.5450031825831694\n",
      "\n",
      "\n",
      "--- CNN ---\n",
      "Train rmse: 9.459319117446688\n",
      "Test rmse: 14.475840602574959\n",
      "\n",
      "\n",
      "-- LSTM -- \n",
      "Train rmse: 2.206989385436559\n",
      "Test rmse: 14.475840602574959\n"
     ]
    }
   ],
   "source": [
    "# Outputting all the results\n",
    "print('--- ARMA --- ')\n",
    "print('Mean Absolute Error (MAE): ' + str(metrics.mean_absolute_error(y_test, arima_preds)))\n",
    "# print('Mean Squared Error (MSE): ' + str(metrics.mean_squared_error(y_test, y_pred_out)))\n",
    "print('Root MSE (rMSE): ' + str(np.sqrt(metrics.mean_squared_error(y_test, arima_preds))))\n",
    "print('\\n')\n",
    "\n",
    "print('--- Linear Regression --- ')\n",
    "print('Mean Absolute Error (MAE): ' + str(metrics.mean_absolute_error(y_test, y_test_pred_lin)))\n",
    "# print('Mean Squared Error (MSE): ' + str(metrics.mean_squared_error(y_test, y_test_pred_lin)))\n",
    "print('Root MSE (rMSE): ' + str(np.sqrt(metrics.mean_squared_error(y_test, y_test_pred_lin))))\n",
    "print('CV mean score:', cross_val_score(lin_model, X, y, cv=10).mean())\n",
    "print('\\n')\n",
    "\n",
    "print('--- SVM ---')\n",
    "print('Mean Absolute Error (MAE): ' + str(metrics.mean_absolute_error(y_test, y_test_pred_svm)))\n",
    "# print('Mean Squared Error (MSE): ' + str(metrics.mean_squared_error(y_test, y_test_pred_svm)))\n",
    "print('Root MSE (rMSE): ' + str(np.sqrt(metrics.mean_squared_error(y_test, y_test_pred_svm))))\n",
    "print('CV mean score:', cross_val_score(svm_model, X, y, cv=10).mean())\n",
    "print('\\n')\n",
    "\n",
    "print('--- Random Forest Regression --- ')\n",
    "print('Mean Absolute Error (MAE): ' + str(metrics.mean_absolute_error(y_test, y_test_pred_rf)))\n",
    "# print('Mean Squared Error (MSE): ' + str(metrics.mean_squared_error(y_test, y_test_pred_rf)))\n",
    "print('Root MSE (rMSE): ' + str(np.sqrt(metrics.mean_squared_error(y_test, y_test_pred_rf))))\n",
    "print('CV mean score:', cross_val_score(rf_model, X, y, cv=10).mean())\n",
    "print('\\n')\n",
    "\n",
    "print('--- SGD Regression --- ')\n",
    "print('Mean Absolute Error (MAE): ' + str(metrics.mean_absolute_error(y_test, y_test_pred_sgdr)))\n",
    "# print('Mean Squared Error (MSE): ' + str(metrics.mean_squared_error(y_test, y_test_pred_sgdr)))\n",
    "print('Root MSE (rMSE): ' + str(np.sqrt(metrics.mean_squared_error(y_test, y_test_pred_sgdr))))\n",
    "print('CV mean score:', cross_val_score(sgdr_model, X, y, cv=10).mean())\n",
    "print('\\n')\n",
    "\n",
    "print('--- KNN --- ')\n",
    "print('Mean Absolute Error (MAE): ' + str(metrics.mean_absolute_error(y_test, knn_y_pred)))\n",
    "# print('Mean Squared Error (MSE): ' + str(metrics.mean_squared_error(y_test, knn_y_pred)))\n",
    "print('Root MSE (rMSE): ' + str(np.sqrt(metrics.mean_squared_error(y_test, knn_y_pred))))\n",
    "print('CV mean score:', cross_val_score(knn_model, X, y, cv=10).mean())\n",
    "print('\\n')\n",
    "\n",
    "print('--- XGBoost ---')\n",
    "print('Mean Absolute Error (MAE): ' + str(metrics.mean_absolute_error(y_test, xgb_preds)))\n",
    "# print('Mean Squared Error (MSE): ' + str(metrics.mean_squared_error(y_test, xgb_preds)))\n",
    "print('Root MSE (rMSE): ' + str(np.sqrt(metrics.mean_squared_error(y_test, xgb_preds))))\n",
    "print('CV mean score:', cross_val_score(xgb_model, X, y, cv=10).mean())\n",
    "print('\\n')\n",
    "\n",
    "print('--- MLP ---')\n",
    "print('Train rmse:', np.sqrt(mean_squared_error(y_train, mlp_train_pred)))\n",
    "print('Test rmse:', np.sqrt(mean_squared_error(y_test, mlp_valid_pred)))\n",
    "print('\\n')\n",
    "\n",
    "print('--- CNN ---')\n",
    "print('Train rmse:', np.sqrt(mean_squared_error(y_train, cnn_train_pred)))\n",
    "print('Test rmse:', np.sqrt(mean_squared_error(y_test, cnn_valid_pred)))\n",
    "print('\\n')\n",
    "\n",
    "print('-- LSTM -- ')\n",
    "print('Train rmse:', np.sqrt(mean_squared_error(y_train, lstm_train_pred)))\n",
    "print('Test rmse:', np.sqrt(mean_squared_error(y_test, lstm_valid_pred)))"
   ]
  },
  {
   "cell_type": "markdown",
   "metadata": {},
   "source": [
    "Interpretation: "
   ]
  },
  {
   "cell_type": "markdown",
   "metadata": {},
   "source": [
    "### Visualizing errors - X model"
   ]
  },
  {
   "cell_type": "code",
   "execution_count": null,
   "metadata": {},
   "outputs": [],
   "source": [
    "arima_preds\n",
    "y_test_pred_lin\n",
    "y_test_pred_svm\n",
    "y_test_pred_rf\n",
    "y_test_pred_sgdr\n",
    "knn_y_pred\n",
    "xgb_preds\n",
    "mlp_valid_pred\n",
    "cnn_valid_pred\n",
    "lstm_valid_pred"
   ]
  },
  {
   "cell_type": "code",
   "execution_count": 119,
   "metadata": {},
   "outputs": [],
   "source": [
    "from statsmodels.graphics.gofplots import qqplot"
   ]
  },
  {
   "cell_type": "code",
   "execution_count": 120,
   "metadata": {},
   "outputs": [
    {
     "data": {
      "image/png": "[encoded data removed]",
      "text/plain": [
       "<Figure size 864x576 with 9 Axes>"
      ]
     },
     "metadata": {
      "needs_background": "light"
     },
     "output_type": "display_data"
    }
   ],
   "source": [
    "fig, axs = plt.subplots(nrows=3, ncols=3, figsize=(12, 8))\n",
    "axs[0, 0].scatter(y_test, arima_preds)\n",
    "axs[0,0].title.set_text('Arma')\n",
    "\n",
    "axs[0, 1].scatter(y_test, y_test_pred_lin)\n",
    "axs[0,1].title.set_text('LinReg')\n",
    "\n",
    "axs[0, 2].scatter(y_test, y_test_pred_svm)\n",
    "axs[0,2].title.set_text('SVM')\n",
    "\n",
    "axs[1, 0].scatter(y_test, y_test_pred_rf)\n",
    "axs[1,0].title.set_text('RandomForest')\n",
    "\n",
    "axs[1, 1].scatter(y_test, y_test_pred_sgdr)\n",
    "axs[1,1].title.set_text('SGDR')\n",
    "\n",
    "axs[1, 2].scatter(y_test, knn_y_pred)\n",
    "axs[1,2].title.set_text('KNN')\n",
    "\n",
    "axs[2, 0].scatter(y_test, xgb_preds)\n",
    "axs[2,0].title.set_text('XGBoost')\n",
    "\n",
    "axs[2, 1].scatter(y_test, mlp_valid_pred)\n",
    "axs[2,1].title.set_text('MLP')\n",
    "\n",
    "axs[2, 2].scatter(y_test, cnn_valid_pred)\n",
    "axs[2,2].title.set_text('CNN')\n",
    "\n",
    "fig.tight_layout()\n",
    "fig.savefig('scatter-resids.png')"
   ]
  },
  {
   "cell_type": "code",
   "execution_count": 121,
   "metadata": {},
   "outputs": [
    {
     "data": {
      "image/png": "[encoded data removed]",
      "text/plain": [
       "<Figure size 864x576 with 9 Axes>"
      ]
     },
     "metadata": {
      "needs_background": "light"
     },
     "output_type": "display_data"
    }
   ],
   "source": [
    "# QQPlots\n",
    "fig, axs = plt.subplots(nrows=3, ncols=3, figsize=(12, 8))\n",
    "arima_resids = np.array([y_test[i]-arima_preds[i] for i in range(len(arima_preds))])\n",
    "qqplot(arima_resids, ax=axs[0,0])\n",
    "axs[0,0].title.set_text('ARMA')\n",
    "\n",
    "lin_resids = np.array([y_test[i]-y_test_pred_lin[i] for i in range(len(y_test_pred_lin))])\n",
    "qqplot(lin_resids, ax=axs[0,1])\n",
    "axs[0,1].title.set_text('LinReg')\n",
    "\n",
    "svm_resids = np.array([y_test[i]-y_test_pred_svm[i] for i in range(len(y_test_pred_svm))])\n",
    "qqplot(y_test_pred_svm, ax=axs[0,2])\n",
    "axs[0,2].title.set_text('SVM')\n",
    "\n",
    "rf_resids = np.array([y_test[i]-y_test_pred_rf[i] for i in range(len(y_test_pred_rf))])\n",
    "qqplot(rf_resids, ax=axs[1,0])\n",
    "axs[1,0].title.set_text('RandomForest')\n",
    "\n",
    "sgdr_resids = np.array([y_test[i]-y_test_pred_sgdr[i] for i in range(len(y_test_pred_sgdr))])\n",
    "qqplot(sgdr_resids, ax=axs[1,1])\n",
    "axs[1,1].title.set_text('SGDR')\n",
    "\n",
    "knn_resids = np.array([y_test[i]-knn_y_pred[i] for i in range(len(knn_y_pred))])\n",
    "qqplot(knn_resids, ax=axs[1,2])\n",
    "axs[1,2].title.set_text('KNN')\n",
    "\n",
    "xgb_resids = np.array([y_test[i]-xgb_preds[i] for i in range(len(xgb_preds))])\n",
    "qqplot(xgb_resids, ax=axs[2,0])\n",
    "axs[2,0].title.set_text('XGBoost')\n",
    "\n",
    "mlp_resids = np.array([y_test[i]-mlp_valid_pred[i] for i in range(len(mlp_valid_pred))])\n",
    "qqplot(mlp_resids, ax=axs[2,1])\n",
    "axs[2,1].title.set_text('MLP')\n",
    "\n",
    "cnn_resids = np.array([y_test[i]-cnn_valid_pred[i] for i in range(len(cnn_valid_pred))])\n",
    "qqplot(cnn_resids, ax=axs[2,2])\n",
    "axs[2,2].title.set_text('CNN')\n",
    "\n",
    "fig.tight_layout()\n",
    "fig.savefig('qq-resids.png')"
   ]
  }
 ],
 "metadata": {
  "kernelspec": {
   "display_name": "Python 3",
   "language": "python",
   "name": "python3"
  },
  "language_info": {
   "codemirror_mode": {
    "name": "ipython",
    "version": 3
   },
   "file_extension": ".py",
   "mimetype": "text/x-python",
   "name": "python",
   "nbconvert_exporter": "python",
   "pygments_lexer": "ipython3",
   "version": "3.8.5"
  }
 },
 "nbformat": 4,
 "nbformat_minor": 4
}
